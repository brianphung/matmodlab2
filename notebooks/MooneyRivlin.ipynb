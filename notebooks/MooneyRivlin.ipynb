{
 "cells": [
  {
   "cell_type": "markdown",
   "metadata": {
    "slideshow": {
     "slide_type": "slide"
    }
   },
   "source": [
    "# Mooney-Rivlin Hyperelasticity"
   ]
  },
  {
   "cell_type": "markdown",
   "metadata": {},
   "source": [
    "## Overview\n",
    "\n",
    "A Mooney-Rivlin hyperelastic material is one for which the derivatives of the free energy with respect to the invariants of stretch are constant.  The Mooney-Rivlin model\n",
    "\n",
    "- a special case of the more general [polynomial hyperelastic model](PolynomialHyperelastic.ipynb)\n",
    "- has 2 elastic constants, typically fit to uniaxial extension/compression, equibiaxial extension/compression, or shear experimental data\n",
    "- usually valid for strains less than 100%\n",
    "\n",
    "## See Also\n",
    "\n",
    "- [User Defined Materials](UserMaterial.ipynb)\n",
    "- [Linear Elastic Material](LinearElastic.ipynb)\n",
    "- [Polynomial Hyperelastic Material](PolynomialHyperelastic.ipynb)\n",
    "\n",
    "## Contents\n",
    "\n",
    "1. <a href='#basic'>Fundamental Equations</a>\n",
    "2. <a href='#implement'>Model Implementation</a>\n",
    "3. <a href='#verify'>Model Verification</a>"
   ]
  },
  {
   "cell_type": "code",
   "execution_count": 1,
   "metadata": {
    "collapsed": false,
    "slideshow": {
     "slide_type": "skip"
    }
   },
   "outputs": [
    {
     "name": "stdout",
     "output_type": "stream",
     "text": [
      "Setting up the Matmodlab notebook environment\n"
     ]
    },
    {
     "data": {
      "text/html": [
       "\n",
       "    <div class=\"bk-root\">\n",
       "        <a href=\"http://bokeh.pydata.org\" target=\"_blank\" class=\"bk-logo bk-logo-small bk-logo-notebook\"></a>\n",
       "        <span id=\"75135d6b-fa66-484c-ab9a-71cce095e938\">Loading BokehJS ...</span>\n",
       "    </div>"
      ]
     },
     "metadata": {},
     "output_type": "display_data"
    },
    {
     "data": {
      "application/javascript": [
       "\n",
       "(function(global) {\n",
       "  function now() {\n",
       "    return new Date();\n",
       "  }\n",
       "\n",
       "  var force = \"1\";\n",
       "\n",
       "  if (typeof (window._bokeh_onload_callbacks) === \"undefined\" || force !== \"\") {\n",
       "    window._bokeh_onload_callbacks = [];\n",
       "    window._bokeh_is_loading = undefined;\n",
       "  }\n",
       "\n",
       "\n",
       "  \n",
       "  if (typeof (window._bokeh_timeout) === \"undefined\" || force !== \"\") {\n",
       "    window._bokeh_timeout = Date.now() + 5000;\n",
       "    window._bokeh_failed_load = false;\n",
       "  }\n",
       "\n",
       "  var NB_LOAD_WARNING = {'data': {'text/html':\n",
       "     \"<div style='background-color: #fdd'>\\n\"+\n",
       "     \"<p>\\n\"+\n",
       "     \"BokehJS does not appear to have successfully loaded. If loading BokehJS from CDN, this \\n\"+\n",
       "     \"may be due to a slow or bad network connection. Possible fixes:\\n\"+\n",
       "     \"</p>\\n\"+\n",
       "     \"<ul>\\n\"+\n",
       "     \"<li>re-rerun `output_notebook()` to attempt to load from CDN again, or</li>\\n\"+\n",
       "     \"<li>use INLINE resources instead, as so:</li>\\n\"+\n",
       "     \"</ul>\\n\"+\n",
       "     \"<code>\\n\"+\n",
       "     \"from bokeh.resources import INLINE\\n\"+\n",
       "     \"output_notebook(resources=INLINE)\\n\"+\n",
       "     \"</code>\\n\"+\n",
       "     \"</div>\"}};\n",
       "\n",
       "  function display_loaded() {\n",
       "    if (window.Bokeh !== undefined) {\n",
       "      Bokeh.$(\"#75135d6b-fa66-484c-ab9a-71cce095e938\").text(\"BokehJS successfully loaded.\");\n",
       "    } else if (Date.now() < window._bokeh_timeout) {\n",
       "      setTimeout(display_loaded, 100)\n",
       "    }\n",
       "  }\n",
       "\n",
       "  function run_callbacks() {\n",
       "    window._bokeh_onload_callbacks.forEach(function(callback) { callback() });\n",
       "    delete window._bokeh_onload_callbacks\n",
       "    console.info(\"Bokeh: all callbacks have finished\");\n",
       "  }\n",
       "\n",
       "  function load_libs(js_urls, callback) {\n",
       "    window._bokeh_onload_callbacks.push(callback);\n",
       "    if (window._bokeh_is_loading > 0) {\n",
       "      console.log(\"Bokeh: BokehJS is being loaded, scheduling callback at\", now());\n",
       "      return null;\n",
       "    }\n",
       "    if (js_urls == null || js_urls.length === 0) {\n",
       "      run_callbacks();\n",
       "      return null;\n",
       "    }\n",
       "    console.log(\"Bokeh: BokehJS not loaded, scheduling load and callback at\", now());\n",
       "    window._bokeh_is_loading = js_urls.length;\n",
       "    for (var i = 0; i < js_urls.length; i++) {\n",
       "      var url = js_urls[i];\n",
       "      var s = document.createElement('script');\n",
       "      s.src = url;\n",
       "      s.async = false;\n",
       "      s.onreadystatechange = s.onload = function() {\n",
       "        window._bokeh_is_loading--;\n",
       "        if (window._bokeh_is_loading === 0) {\n",
       "          console.log(\"Bokeh: all BokehJS libraries loaded\");\n",
       "          run_callbacks()\n",
       "        }\n",
       "      };\n",
       "      s.onerror = function() {\n",
       "        console.warn(\"failed to load library \" + url);\n",
       "      };\n",
       "      console.log(\"Bokeh: injecting script tag for BokehJS library: \", url);\n",
       "      document.getElementsByTagName(\"head\")[0].appendChild(s);\n",
       "    }\n",
       "  };var element = document.getElementById(\"75135d6b-fa66-484c-ab9a-71cce095e938\");\n",
       "  if (element == null) {\n",
       "    console.log(\"Bokeh: ERROR: autoload.js configured with elementid '75135d6b-fa66-484c-ab9a-71cce095e938' but no matching script tag was found. \")\n",
       "    return false;\n",
       "  }\n",
       "\n",
       "  var js_urls = ['https://cdn.pydata.org/bokeh/release/bokeh-0.12.2.min.js', 'https://cdn.pydata.org/bokeh/release/bokeh-widgets-0.12.2.min.js', 'https://cdn.pydata.org/bokeh/release/bokeh-compiler-0.12.2.min.js'];\n",
       "\n",
       "  var inline_js = [\n",
       "    function(Bokeh) {\n",
       "      Bokeh.set_log_level(\"info\");\n",
       "    },\n",
       "    \n",
       "    function(Bokeh) {\n",
       "      \n",
       "      Bokeh.$(\"#75135d6b-fa66-484c-ab9a-71cce095e938\").text(\"BokehJS is loading...\");\n",
       "    },\n",
       "    function(Bokeh) {\n",
       "      console.log(\"Bokeh: injecting CSS: https://cdn.pydata.org/bokeh/release/bokeh-0.12.2.min.css\");\n",
       "      Bokeh.embed.inject_css(\"https://cdn.pydata.org/bokeh/release/bokeh-0.12.2.min.css\");\n",
       "      console.log(\"Bokeh: injecting CSS: https://cdn.pydata.org/bokeh/release/bokeh-widgets-0.12.2.min.css\");\n",
       "      Bokeh.embed.inject_css(\"https://cdn.pydata.org/bokeh/release/bokeh-widgets-0.12.2.min.css\");\n",
       "    }\n",
       "  ];\n",
       "\n",
       "  function run_inline_js() {\n",
       "    \n",
       "    if ((window.Bokeh !== undefined) || (force === \"1\")) {\n",
       "      for (var i = 0; i < inline_js.length; i++) {\n",
       "        inline_js[i](window.Bokeh);\n",
       "      }if (force === \"1\") {\n",
       "        display_loaded();\n",
       "      }} else if (Date.now() < window._bokeh_timeout) {\n",
       "      setTimeout(run_inline_js, 100);\n",
       "    } else if (!window._bokeh_failed_load) {\n",
       "      console.log(\"Bokeh: BokehJS failed to load within specified timeout.\");\n",
       "      window._bokeh_failed_load = true;\n",
       "    } else if (!force) {\n",
       "      var cell = $(\"#75135d6b-fa66-484c-ab9a-71cce095e938\").parents('.cell').data().cell;\n",
       "      cell.output_area.append_execute_result(NB_LOAD_WARNING)\n",
       "    }\n",
       "\n",
       "  }\n",
       "\n",
       "  if (window._bokeh_is_loading === 0) {\n",
       "    console.log(\"Bokeh: BokehJS loaded, going straight to plotting\");\n",
       "    run_inline_js();\n",
       "  } else {\n",
       "    load_libs(js_urls, function() {\n",
       "      console.log(\"Bokeh: BokehJS plotting callback run at\", now());\n",
       "      run_inline_js();\n",
       "    });\n",
       "  }\n",
       "}(this));"
      ]
     },
     "metadata": {},
     "output_type": "display_data"
    }
   ],
   "source": [
    "from bokeh.io import output_notebook\n",
    "from bokeh.plotting import *\n",
    "from matmodlab2 import *\n",
    "from numpy import *\n",
    "import numpy as np\n",
    "from plotting_helpers import create_figure\n",
    "output_notebook()"
   ]
  },
  {
   "cell_type": "markdown",
   "metadata": {
    "slideshow": {
     "slide_type": "slide"
    }
   },
   "source": [
    "<a name='basic'></a>\n",
    "## Fundamental Equations\n",
    "\n",
    "The Mooney-Rivlin material is a special case of the more general polynomial hyperelastic model defined by the following free energy potential\n",
    "\n",
    "$$\n",
    "a = c_{10}\\left(\\overline{I}_1 - 3\\right) +  c_{01}\\left(\\overline{I}_2 - 3\\right) \n",
    "  + \\frac{1}{D_1}\\left(J-1\\right)^2\n",
    "$$\n",
    "\n",
    "where $c_{10}$, $c_{01}$, and $D_1$ are material parameters, the $\\overline{I}_i$ are the isochoric invariants of the right Cauchy deformation tensor $C_{IJ} = F_{kI}F_{kJ}$, $F_{iJ}$ are the components of the deformation gradient tensor, and $J$ is the determinant of the deformation gradient."
   ]
  },
  {
   "cell_type": "markdown",
   "metadata": {
    "slideshow": {
     "slide_type": "slide"
    }
   },
   "source": [
    "### Second Piola-Kirchhoff Stress\n",
    "\n",
    "The components of the second Piola-Kirchhoff stress $S_{IJ}$ are given by\n",
    "\n",
    "$$\n",
    "\\frac{1}{2\\rho_0} S_{IJ} = \\frac{\\partial a}{\\partial C_{IJ}}\n",
    "$$\n",
    "\n",
    "For an isotropic material, the free energy $a$ is a function of $C_{IJ}$ through only its invariants, giving for $S_{IJ}$\n",
    "\n",
    "$$\n",
    "\\frac{1}{2\\rho_0}S_{IJ} \n",
    "       = \\frac{\\partial a}{\\partial\\overline{I}_1}\\frac{\\partial\\overline{I}_1}{\\partial C_{IJ}}\n",
    "       + \\frac{\\partial a}{\\partial\\overline{I}_2}\\frac{\\partial\\overline{I}_2}{\\partial C_{IJ}}\n",
    "       + \\frac{\\partial a}{\\partial J}\\frac{\\partial J}{\\partial C_{IJ}}\n",
    "$$"
   ]
  },
  {
   "cell_type": "markdown",
   "metadata": {
    "slideshow": {
     "slide_type": "subslide"
    }
   },
   "source": [
    "The partial derivatives of the energy with respect to the invariants are\n",
    "\n",
    "$$\n",
    "\\frac{\\partial a}{\\partial\\overline{I}_1} = c_{10}, \\quad\n",
    "\\frac{\\partial a}{\\partial\\overline{I}_2} = c_{01}, \\quad\n",
    "\\frac{\\partial a}{\\partial J} = \\frac{2}{D_1}\\left(J-1\\right)\n",
    "$$"
   ]
  },
  {
   "cell_type": "markdown",
   "metadata": {
    "slideshow": {
     "slide_type": "subslide"
    }
   },
   "source": [
    "and the partials of the invariants with respect to $C_{IJ}$ are\n",
    "\n",
    "$$\n",
    "\\begin{align}\n",
    "\\frac{\\partial\\overline{I}_1}{\\partial C_{IJ}}\n",
    " &= \\frac{\\partial\\left( J^{-2/3} C_{KK}\\right)}{\\partial C_{IJ}} \\\\\n",
    " %&= \\frac{\\partial J^{-2/3}}{\\partial C_{IJ}} I_1 + J^{-2/3} \\frac{\\partial C_{KK}}{\\partial C_{IJ}} \\\\\n",
    " %&= -\\frac{2}{3}J^{-5/3}\\frac{\\partial J}{\\partial C_{IJ}} I_1 + J^{-2/3} \\delta_{IJ} \\\\\n",
    " %&= -\\frac{2}{3}J^{-5/3}\\frac{1}{2}J C_{IJ}^{-1} I_1 + J^{-2/3} \\delta_{IJ} \\\\\n",
    " &= J^{-2/3}\\left(\\delta_{IJ} - \\frac{1}{3}I_1 C_{IJ}^{-1}\\right) \\\\\n",
    "\\end{align}\n",
    "$$\n",
    "\n",
    "$$\n",
    "\\begin{align}\n",
    "\\frac{\\partial\\overline{I}_2}{\\partial C_{IJ}}\n",
    " &= \\frac{\\partial\\left( J^{-4/3}\\left(C_{KK}^2 - C_{MN}C_{MN}\\right)\\right)}{\\partial C_{IJ}} \\\\\n",
    " %&= \\frac{\\partial J^{-4/3}}{\\partial C_{IJ}} \\left(C_{KK}^2 - C_{MN}C_{MN}\\right) + J^{-4/3} \\frac{\\partial \\left(C_{KK}^2 - C_{MN}C_{MN}\\right)}{\\partial C_{IJ}} \\\\\n",
    " &= J^{-4/3}\\left(I_1\\delta_{IJ} - C_{IJ} - \\frac{2}{3} I_2 C_{IJ}^{-1}\\right) \\\\\n",
    "\\end{align}\n",
    "$$\n",
    "\n",
    "$$\n",
    "\\begin{align}\n",
    "\\frac{\\partial J}{\\partial C_{IJ}} &= \\frac{\\partial \\sqrt{\\det C_{KL}}}{\\partial C_{IJ}} \\\\\n",
    "%&= \\frac{1}{2 \\sqrt{\\det C_{KL}}} \\frac{\\partial\\det C_{KL}}{\\partial C_{IJ}} \\\\\n",
    "%&= \\frac{1}{2 J} \\frac{\\partial\\det C_{KL}}{\\partial C_{IJ}} \\\\\n",
    "&= \\frac{1}{2} J C_{IJ}^{-1} \\\\\n",
    "\\end{align}\n",
    "$$"
   ]
  },
  {
   "cell_type": "markdown",
   "metadata": {
    "slideshow": {
     "slide_type": "subslide"
    }
   },
   "source": [
    "Combining the above results, we arrive at the following expression for the components $S_{IJ}$:\n",
    "\n",
    "$$\n",
    "\\frac{1}{2\\rho_0}S_{IJ} \n",
    "   = c_{10}J^{-2/3}\\left(\\delta_{IJ} - \\frac{1}{3}I_1 C_{IJ}^{-1}\\right)\n",
    "   + c_{01}J^{-4/3}\\left(I_1\\delta_{IJ} - C_{IJ} - \\frac{2}{3} I_2 C_{IJ}^{-1}\\right)\n",
    "   + \\frac{J}{D_1}\\left(J-1\\right) C_{IJ}^{-1}\n",
    "$$"
   ]
  },
  {
   "cell_type": "markdown",
   "metadata": {
    "slideshow": {
     "slide_type": "slide"
    }
   },
   "source": [
    "### Cauchy Stress\n",
    "\n",
    "The components of the Cauchy stress tensor $\\sigma_{ij}$ are given by the push-forward $S_{IJ}$:\n",
    "\n",
    "$$\n",
    "J \\sigma_{ij} = F_{iM}S_{MN}F_{jN}\n",
    "$$\n",
    "\n",
    "$$\n",
    "\\begin{align}\n",
    "\\frac{J}{2\\rho_0}\\sigma_{ij} &= F_{iM}\\left[\n",
    "     c_{10}J^{-2/3}\\left(\\delta_{MN} - \\frac{1}{3}I_1 C_{MN}^{-1}\\right)\n",
    "   + c_{01}J^{-4/3}\\left(I_1\\delta_{MN} - C_{MN} - \\frac{2}{3} I_2 C_{MN}^{-1}\\right)\n",
    "   + \\frac{J}{D_1}\\left(J-1\\right) C_{MN}^{-1}\\right] F_{jN} \\\\\n",
    "  &= c_{10}J^{-2/3}\\left(F_{iN}F_{jN} - \\frac{1}{3}I_1 F_{iM}C_{MN}^{-1}F_{jN}\\right)\n",
    "   + c_{01}J^{-4/3}\\left(I_1F_{iN}F_{jN} - F_{iM}C_{MN}F_{jN} - \\frac{2}{3} I_2 F_{iM}C_{MN}^{-1}F_{jN}\\right) \\\\\n",
    "   &\\qquad + \\frac{J}{D_1}\\left(J-1\\right) F_{iM}C_{MN}^{-1}F_{jN} \\\\\n",
    "\\end{align}\n",
    "$$"
   ]
  },
  {
   "cell_type": "markdown",
   "metadata": {
    "slideshow": {
     "slide_type": "subslide"
    }
   },
   "source": [
    "Recognizing that\n",
    "\n",
    "$$\n",
    "C_{MN} = F_{kM}F_{kN} \\Rightarrow C_{MN}^{-1} = F_{kN}^{-1}F_{kM}^{-1}\n",
    "$$\n",
    "\n",
    "the components of the Cauchy stress can be written as\n",
    "\n",
    "$$\n",
    "\\begin{align}\n",
    "\\frac{J}{2\\rho_0}\\sigma_{ij} \n",
    "  &= c_{10}J^{-2/3}\\left(F_{iN}F_{jN} - \\frac{1}{3}I_1 F_{iM}F_{kN}^{-1}F_{kM}^{-1}F_{jN}\\right)\n",
    "   + c_{01}J^{-4/3}\\left(I_1F_{iN}F_{jN} - F_{iM}F_{kM}F_{kN}F_{jN} - \\frac{2}{3} I_2 F_{iM}F_{kN}^{-1}F_{kM}^{-1}F_{jN}\\right) \\\\\n",
    "   &\\qquad + \\frac{J}{D_1}\\left(J-1\\right) F_{iM}F_{kN}^{-1}F_{kM}^{-1}F_{jN} \\\\\n",
    "  &= c_{10}J^{-2/3}\\left(B_{ij} - \\frac{1}{3}I_1 \\delta_{ij} \\right)\n",
    "   + c_{01}J^{-4/3}\\left(I_1B_{ij} - B_{ik}B_{kj} - \\frac{2}{3} I_2 \\delta_{ij}\\right)\n",
    "   + \\frac{J}{D_1}\\left(J-1\\right) \\delta_{ij} \\\\\n",
    "  &= J^{-2/3} \\left(c_{10} + c_{01}\\overline{I}_1 \\right)B_{ij}\n",
    "   - c_{01}J^{-4/3}B_{ik}B_{kj}\n",
    "  + \\left(\n",
    "      \\frac{J}{D_1}\\left(J-1\\right)  - \\frac{1}{3}\\left(c_{10}\\overline{I}_1 + c_{01}2\\overline{I}_2\\right)\n",
    "    \\right)\\delta_{ij}\n",
    "\\end{align}\n",
    "$$"
   ]
  },
  {
   "cell_type": "markdown",
   "metadata": {
    "slideshow": {
     "slide_type": "subslide"
    }
   },
   "source": [
    "where $B_{ij} = F_{iN}F_{jN}$ is the left Cauchy deformation tensor.  Finally, the components of the Cauchy stress are given by\n",
    "\n",
    "$$\n",
    "\\begin{align}\n",
    "\\sigma_{ij} &= \\frac{2\\rho_0}{J} \\left(\n",
    "  J^{-2/3} \\left(c_{10} + c_{01}\\overline{I}_1 \\right)B_{ij}\n",
    "   - c_{01}J^{-4/3}B_{ik}B_{kj}\\right)\n",
    "  + \\left(\n",
    "      \\frac{2\\rho_0}{D_1}\\left(J-1\\right)  - \\frac{2\\rho_0}{3J}\\left(c_{10}\\overline{I}_1 + c_{01}2\\overline{I}_2\\right)\n",
    "    \\right)\\delta_{ij} \\\\\n",
    "&= \\frac{2\\rho_0}{J} \\left(\n",
    "  \\left(c_{10} + c_{01}\\overline{I}_1 \\right)\\overline{B}_{ij}\n",
    "   - c_{01}\\overline{B}_{ik}\\overline{B}_{kj}\\right)\n",
    "  + \\left(\n",
    "      \\frac{2\\rho_0}{D_1}\\left(J-1\\right)  - \\frac{2\\rho_0}{3J}\\left(c_{10}\\overline{I}_1 + c_{01}2\\overline{I}_2\\right)\n",
    "    \\right)\\delta_{ij} \\\\\n",
    "\\end{align}\n",
    "$$\n",
    "\n",
    "where $\\overline{B}_{ij} = J^{-2/3}B_{ij}$"
   ]
  },
  {
   "cell_type": "markdown",
   "metadata": {
    "slideshow": {
     "slide_type": "slide"
    }
   },
   "source": [
    "<a name='implement'></a>\n",
    "\n",
    "## Matmodlab Implementation\n",
    "\n",
    "The Mooney-Rivlin material is implemented as the `MooneyRivlinMaterial` class in `matmodlab/materials/mooney_rivlin.py`.  The file can be viewed by executing the following cell."
   ]
  },
  {
   "cell_type": "code",
   "execution_count": 1,
   "metadata": {
    "collapsed": true
   },
   "outputs": [],
   "source": [
    "%pycat ../matmodlab/materials/mooney_rivlin.py"
   ]
  },
  {
   "cell_type": "markdown",
   "metadata": {
    "slideshow": {
     "slide_type": "slide"
    }
   },
   "source": [
    "<a name='verify'></a>\n",
    "## Verification"
   ]
  },
  {
   "cell_type": "markdown",
   "metadata": {
    "slideshow": {
     "slide_type": "subslide"
    }
   },
   "source": [
    "### Uniaxial Stress\n",
    "\n",
    "For an incompressible isotropic material, uniaxial stress is produced by the following deformation state\n",
    "\n",
    "$$\n",
    "[F] = \\begin{bmatrix}\\lambda && \\\\ & \\frac{1}{\\sqrt{\\lambda}} & \\\\ & & \\frac{1}{\\sqrt{\\lambda}} \\end{bmatrix}\n",
    "$$\n",
    "\n",
    "The stress difference $\\sigma_{\\text{axial}} - \\sigma_{\\text{lateral}}$ is given by"
   ]
  },
  {
   "cell_type": "code",
   "execution_count": 2,
   "metadata": {
    "collapsed": false,
    "slideshow": {
     "slide_type": "fragment"
    }
   },
   "outputs": [
    {
     "data": {
      "text/plain": [
       "2*C01*lambda - 2*C01/lambda**2 + 2*C10*lambda**2 - 2*C10/lambda"
      ]
     },
     "execution_count": 2,
     "metadata": {},
     "output_type": "execute_result"
    }
   ],
   "source": [
    "from sympy import Symbol, Matrix, Rational, symbols, sqrt\n",
    "lam = Symbol('lambda')\n",
    "F = Matrix(3, 3, [lam, 0, 0, 0, 1/sqrt(lam), 0, 0, 0, 1/sqrt(lam)])\n",
    "B = Matrix(3, 3, F.dot(F.T))\n",
    "Bsq = Matrix(3, 3, B.dot(B))\n",
    "I = Matrix(3, 3, lambda i,j: 1 if i==j else 0)\n",
    "I1 = B.trace()\n",
    "I2 = ((B.trace()) ** 2 - Bsq.trace()) / 2\n",
    "J = F.det()\n",
    "X = J ** Rational(1, 3)\n",
    "C1, C2, D1 = symbols('C10 C01 D1')\n",
    "I1B = I1 / X ** 2\n",
    "I2B = I2 / X ** 4\n",
    "\n",
    "S = 2 / J * (1 / X ** 2 * (C1 + I1B * C2) * B - 1 / X ** 4 * C2 * Bsq) \\\n",
    "    + (2 / D1 * (J - 1) - 2 * (C1 * I1B + 2 * C2 * I2B) / 3) * I\n",
    "(S[0,0] - S[1,1]).simplify()"
   ]
  },
  {
   "cell_type": "markdown",
   "metadata": {
    "slideshow": {
     "slide_type": "subslide"
    }
   },
   "source": [
    "We now exercise the Mooney-Rivlin material model using Matmodlab"
   ]
  },
  {
   "cell_type": "code",
   "execution_count": 4,
   "metadata": {
    "collapsed": false,
    "scrolled": false
   },
   "outputs": [
    {
     "data": {
      "text/html": [
       "\n",
       "\n",
       "    <div class=\"bk-root\">\n",
       "        <div class=\"plotdiv\" id=\"6784a137-f4cf-4242-8902-170ac409194b\"></div>\n",
       "    </div>\n",
       "<script type=\"text/javascript\">\n",
       "  \n",
       "  (function(global) {\n",
       "    function now() {\n",
       "      return new Date();\n",
       "    }\n",
       "  \n",
       "    var force = \"\";\n",
       "  \n",
       "    if (typeof (window._bokeh_onload_callbacks) === \"undefined\" || force !== \"\") {\n",
       "      window._bokeh_onload_callbacks = [];\n",
       "      window._bokeh_is_loading = undefined;\n",
       "    }\n",
       "  \n",
       "  \n",
       "    \n",
       "    if (typeof (window._bokeh_timeout) === \"undefined\" || force !== \"\") {\n",
       "      window._bokeh_timeout = Date.now() + 0;\n",
       "      window._bokeh_failed_load = false;\n",
       "    }\n",
       "  \n",
       "    var NB_LOAD_WARNING = {'data': {'text/html':\n",
       "       \"<div style='background-color: #fdd'>\\n\"+\n",
       "       \"<p>\\n\"+\n",
       "       \"BokehJS does not appear to have successfully loaded. If loading BokehJS from CDN, this \\n\"+\n",
       "       \"may be due to a slow or bad network connection. Possible fixes:\\n\"+\n",
       "       \"</p>\\n\"+\n",
       "       \"<ul>\\n\"+\n",
       "       \"<li>re-rerun `output_notebook()` to attempt to load from CDN again, or</li>\\n\"+\n",
       "       \"<li>use INLINE resources instead, as so:</li>\\n\"+\n",
       "       \"</ul>\\n\"+\n",
       "       \"<code>\\n\"+\n",
       "       \"from bokeh.resources import INLINE\\n\"+\n",
       "       \"output_notebook(resources=INLINE)\\n\"+\n",
       "       \"</code>\\n\"+\n",
       "       \"</div>\"}};\n",
       "  \n",
       "    function display_loaded() {\n",
       "      if (window.Bokeh !== undefined) {\n",
       "        Bokeh.$(\"#6784a137-f4cf-4242-8902-170ac409194b\").text(\"BokehJS successfully loaded.\");\n",
       "      } else if (Date.now() < window._bokeh_timeout) {\n",
       "        setTimeout(display_loaded, 100)\n",
       "      }\n",
       "    }\n",
       "  \n",
       "    function run_callbacks() {\n",
       "      window._bokeh_onload_callbacks.forEach(function(callback) { callback() });\n",
       "      delete window._bokeh_onload_callbacks\n",
       "      console.info(\"Bokeh: all callbacks have finished\");\n",
       "    }\n",
       "  \n",
       "    function load_libs(js_urls, callback) {\n",
       "      window._bokeh_onload_callbacks.push(callback);\n",
       "      if (window._bokeh_is_loading > 0) {\n",
       "        console.log(\"Bokeh: BokehJS is being loaded, scheduling callback at\", now());\n",
       "        return null;\n",
       "      }\n",
       "      if (js_urls == null || js_urls.length === 0) {\n",
       "        run_callbacks();\n",
       "        return null;\n",
       "      }\n",
       "      console.log(\"Bokeh: BokehJS not loaded, scheduling load and callback at\", now());\n",
       "      window._bokeh_is_loading = js_urls.length;\n",
       "      for (var i = 0; i < js_urls.length; i++) {\n",
       "        var url = js_urls[i];\n",
       "        var s = document.createElement('script');\n",
       "        s.src = url;\n",
       "        s.async = false;\n",
       "        s.onreadystatechange = s.onload = function() {\n",
       "          window._bokeh_is_loading--;\n",
       "          if (window._bokeh_is_loading === 0) {\n",
       "            console.log(\"Bokeh: all BokehJS libraries loaded\");\n",
       "            run_callbacks()\n",
       "          }\n",
       "        };\n",
       "        s.onerror = function() {\n",
       "          console.warn(\"failed to load library \" + url);\n",
       "        };\n",
       "        console.log(\"Bokeh: injecting script tag for BokehJS library: \", url);\n",
       "        document.getElementsByTagName(\"head\")[0].appendChild(s);\n",
       "      }\n",
       "    };var element = document.getElementById(\"6784a137-f4cf-4242-8902-170ac409194b\");\n",
       "    if (element == null) {\n",
       "      console.log(\"Bokeh: ERROR: autoload.js configured with elementid '6784a137-f4cf-4242-8902-170ac409194b' but no matching script tag was found. \")\n",
       "      return false;\n",
       "    }\n",
       "  \n",
       "    var js_urls = [];\n",
       "  \n",
       "    var inline_js = [\n",
       "      function(Bokeh) {\n",
       "        Bokeh.$(function() {\n",
       "            var docs_json = {\"5841db74-faab-445a-98ae-8444728b154e\":{\"roots\":{\"references\":[{\"attributes\":{},\"id\":\"00892f3b-fe15-4509-8089-3aad400dbb77\",\"type\":\"BasicTicker\"},{\"attributes\":{\"line_alpha\":{\"value\":0.1},\"line_color\":{\"value\":\"#1f77b4\"},\"line_width\":{\"value\":2},\"x\":{\"field\":\"x\"},\"y\":{\"field\":\"y\"}},\"id\":\"25e37ff0-8a6c-415b-a681-40fd3cd06e1b\",\"type\":\"Line\"},{\"attributes\":{\"data_source\":{\"id\":\"17821166-b3e2-41ff-b4ed-5c47ecbd8857\",\"type\":\"ColumnDataSource\"},\"glyph\":{\"id\":\"2ee00660-4580-49ec-ad05-650abe1cfd3b\",\"type\":\"Line\"},\"hover_glyph\":null,\"nonselection_glyph\":{\"id\":\"25e37ff0-8a6c-415b-a681-40fd3cd06e1b\",\"type\":\"Line\"},\"selection_glyph\":null},\"id\":\"358fd946-45a0-45a8-bb2a-3e9a638f29a0\",\"type\":\"GlyphRenderer\"},{\"attributes\":{\"plot\":{\"id\":\"7ec84e2a-3084-4179-a4ea-a4ffcc2b9cac\",\"subtype\":\"Figure\",\"type\":\"Plot\"}},\"id\":\"5542c75e-5bd9-48cd-87d5-047fe457688f\",\"type\":\"ResizeTool\"},{\"attributes\":{\"axis_label\":\"Stretch\",\"formatter\":{\"id\":\"bb62925c-f1db-462e-b910-f0bf44640576\",\"type\":\"BasicTickFormatter\"},\"plot\":{\"id\":\"7ec84e2a-3084-4179-a4ea-a4ffcc2b9cac\",\"subtype\":\"Figure\",\"type\":\"Plot\"},\"ticker\":{\"id\":\"148eb9fc-c1e3-4eaf-b21b-cda38443ba9d\",\"type\":\"BasicTicker\"}},\"id\":\"f347ea7c-a4b8-43a2-98a7-4fc68c054b04\",\"type\":\"LinearAxis\"},{\"attributes\":{\"callback\":null,\"column_names\":[\"y\",\"x\"],\"data\":{\"x\":[0.5,0.5510204081632653,0.6020408163265306,0.653061224489796,0.7040816326530612,0.7551020408163265,0.8061224489795918,0.8571428571428572,0.9081632653061225,0.9591836734693877,1.010204081632653,1.0612244897959184,1.1122448979591837,1.163265306122449,1.2142857142857144,1.2653061224489797,1.316326530612245,1.3673469387755102,1.4183673469387754,1.469387755102041,1.5204081632653061,1.5714285714285714,1.6224489795918369,1.6734693877551021,1.7244897959183674,1.7755102040816326,1.8265306122448979,1.8775510204081634,1.9285714285714286,1.9795918367346939,2.0306122448979593,2.0816326530612246,2.13265306122449,2.183673469387755,2.2346938775510203,2.2857142857142856,2.336734693877551,2.387755102040816,2.438775510204082,2.489795918367347,2.5408163265306123,2.5918367346938775,2.642857142857143,2.693877551020408,2.7448979591836737,2.795918367346939,2.8469387755102042,2.8979591836734695,2.9489795918367347,3.0],\"y\":[-8400000.0,-6480502.4951605415,-5030414.591401004,-3901403.1857860317,-2999291.6293847384,-2261994.998382352,-1647259.1169361891,-1125529.1005290996,-675636.3783951018,-282100.7574311621,66607.73679882435,379218.1534653006,662436.2820588324,921481.8253037069,1160466.4010933097,1382664.0390639824,1590707.7212148285,1786734.188360528,1972491.9997351582,2149423.122515468,2318725.206020592,2481399.592143394,2638288.6752085104,2790105.226954612,2937455.6015566145,3080858.2372999587,3220758.5131766545,3357540.758248726,3491538.0204817792,3623040.0601489544,3752299.9270818406,3879539.401304543,4004953.516030699,4128714.3356750477,4250974.125839529,4371868.024553571,4491516.302445422,4610026.282560016,4727493.9771456,4844005.488097583,4959638.209261283,5074461.861988163,5188539.389854218,5301927.73400787,5414678.5070032505,5526838.580025888,5638450.5960001135,5749553.419077676,5860182.529363335,5970370.370370369]}},\"id\":\"17821166-b3e2-41ff-b4ed-5c47ecbd8857\",\"type\":\"ColumnDataSource\"},{\"attributes\":{\"below\":[{\"id\":\"f347ea7c-a4b8-43a2-98a7-4fc68c054b04\",\"type\":\"LinearAxis\"}],\"left\":[{\"id\":\"d0d5f194-6e79-430b-a38f-a2461e1c9ff7\",\"type\":\"LinearAxis\"}],\"renderers\":[{\"id\":\"f347ea7c-a4b8-43a2-98a7-4fc68c054b04\",\"type\":\"LinearAxis\"},{\"id\":\"f2a997e9-35ac-464a-8f4f-986075f3f55a\",\"type\":\"Grid\"},{\"id\":\"d0d5f194-6e79-430b-a38f-a2461e1c9ff7\",\"type\":\"LinearAxis\"},{\"id\":\"d1ec5fd8-d0bd-4df3-8d7f-8198b0499b4c\",\"type\":\"Grid\"},{\"id\":\"ac27c3a3-1129-4f71-b05a-757890f5539e\",\"type\":\"BoxAnnotation\"},{\"id\":\"c7696dc6-638f-4678-bca5-fb0186f80c07\",\"type\":\"Legend\"},{\"id\":\"138dc2b2-78d6-402e-a715-8b8c89e7bfe3\",\"type\":\"GlyphRenderer\"},{\"id\":\"358fd946-45a0-45a8-bb2a-3e9a638f29a0\",\"type\":\"GlyphRenderer\"},{\"id\":\"796bf89b-f785-491a-9618-24dd79383b0a\",\"type\":\"GlyphRenderer\"},{\"id\":\"8dffd8df-9df2-4e34-87a7-9e36b8ba0dd9\",\"type\":\"GlyphRenderer\"}],\"title\":{\"id\":\"06dee444-6a0d-421c-9fcf-630f646fa4ee\",\"type\":\"Title\"},\"tool_events\":{\"id\":\"2eef2244-e3f0-45dc-97dc-241cb0a44c77\",\"type\":\"ToolEvents\"},\"toolbar\":{\"id\":\"769d69cd-1aa5-4c25-911d-c08862feb4f9\",\"type\":\"Toolbar\"},\"x_range\":{\"id\":\"88138efb-d9f2-481b-ac44-9ec56d41fc2f\",\"type\":\"DataRange1d\"},\"y_range\":{\"id\":\"92b56170-e541-484f-a519-7d0b1cb94d79\",\"type\":\"DataRange1d\"}},\"id\":\"7ec84e2a-3084-4179-a4ea-a4ffcc2b9cac\",\"subtype\":\"Figure\",\"type\":\"Plot\"},{\"attributes\":{\"fill_color\":{\"value\":\"orange\"},\"line_color\":{\"value\":\"orange\"},\"x\":{\"field\":\"x\"},\"y\":{\"field\":\"y\"}},\"id\":\"8d61b6a4-f4e3-4520-88c0-23a6f5030e95\",\"type\":\"Circle\"},{\"attributes\":{\"line_alpha\":{\"value\":0.1},\"line_color\":{\"value\":\"#1f77b4\"},\"line_width\":{\"value\":2},\"x\":{\"field\":\"x\"},\"y\":{\"field\":\"y\"}},\"id\":\"18dcf896-3496-4ce2-8eb6-b0f72ab38c22\",\"type\":\"Line\"},{\"attributes\":{\"active_drag\":\"auto\",\"active_scroll\":\"auto\",\"active_tap\":\"auto\",\"tools\":[{\"id\":\"5542c75e-5bd9-48cd-87d5-047fe457688f\",\"type\":\"ResizeTool\"},{\"id\":\"b65c738d-8320-4641-beac-10c78eef3680\",\"type\":\"PanTool\"},{\"id\":\"6b533c63-f1e4-449c-931a-fab0b94ce061\",\"type\":\"WheelZoomTool\"},{\"id\":\"a8926fb7-acf0-41c2-9f9a-8ee0e69ecd66\",\"type\":\"BoxZoomTool\"},{\"id\":\"c484f266-8867-44ee-ab6c-aaeecd3fff3d\",\"type\":\"ResetTool\"},{\"id\":\"ea7507f8-a819-447c-a910-29e6bdbe7c35\",\"type\":\"SaveTool\"}]},\"id\":\"769d69cd-1aa5-4c25-911d-c08862feb4f9\",\"type\":\"Toolbar\"},{\"attributes\":{},\"id\":\"bb62925c-f1db-462e-b910-f0bf44640576\",\"type\":\"BasicTickFormatter\"},{\"attributes\":{\"callback\":null},\"id\":\"92b56170-e541-484f-a519-7d0b1cb94d79\",\"type\":\"DataRange1d\"},{\"attributes\":{\"legends\":[[\"True\",[{\"id\":\"138dc2b2-78d6-402e-a715-8b8c89e7bfe3\",\"type\":\"GlyphRenderer\"}]],[\"Engineering\",[{\"id\":\"358fd946-45a0-45a8-bb2a-3e9a638f29a0\",\"type\":\"GlyphRenderer\"}]],[\"Simulation, True\",[{\"id\":\"796bf89b-f785-491a-9618-24dd79383b0a\",\"type\":\"GlyphRenderer\"}]],[\"Simulation, Engineering\",[{\"id\":\"8dffd8df-9df2-4e34-87a7-9e36b8ba0dd9\",\"type\":\"GlyphRenderer\"}]]],\"location\":\"top_left\",\"plot\":{\"id\":\"7ec84e2a-3084-4179-a4ea-a4ffcc2b9cac\",\"subtype\":\"Figure\",\"type\":\"Plot\"}},\"id\":\"c7696dc6-638f-4678-bca5-fb0186f80c07\",\"type\":\"Legend\"},{\"attributes\":{},\"id\":\"2eef2244-e3f0-45dc-97dc-241cb0a44c77\",\"type\":\"ToolEvents\"},{\"attributes\":{},\"id\":\"148eb9fc-c1e3-4eaf-b21b-cda38443ba9d\",\"type\":\"BasicTicker\"},{\"attributes\":{\"data_source\":{\"id\":\"c3064fd4-83fd-4ba7-b016-829473e5f1a7\",\"type\":\"ColumnDataSource\"},\"glyph\":{\"id\":\"de5c2cff-8996-4ff3-b801-35f8f8f4b8d6\",\"type\":\"Circle\"},\"hover_glyph\":null,\"nonselection_glyph\":{\"id\":\"f4e63e99-2892-4a15-9b01-5d76917798e9\",\"type\":\"Circle\"},\"selection_glyph\":null},\"id\":\"8dffd8df-9df2-4e34-87a7-9e36b8ba0dd9\",\"type\":\"GlyphRenderer\"},{\"attributes\":{\"callback\":null},\"id\":\"88138efb-d9f2-481b-ac44-9ec56d41fc2f\",\"type\":\"DataRange1d\"},{\"attributes\":{\"fill_alpha\":{\"value\":0.1},\"fill_color\":{\"value\":\"#1f77b4\"},\"line_alpha\":{\"value\":0.1},\"line_color\":{\"value\":\"#1f77b4\"},\"x\":{\"field\":\"x\"},\"y\":{\"field\":\"y\"}},\"id\":\"f4e63e99-2892-4a15-9b01-5d76917798e9\",\"type\":\"Circle\"},{\"attributes\":{\"plot\":{\"id\":\"7ec84e2a-3084-4179-a4ea-a4ffcc2b9cac\",\"subtype\":\"Figure\",\"type\":\"Plot\"}},\"id\":\"c484f266-8867-44ee-ab6c-aaeecd3fff3d\",\"type\":\"ResetTool\"},{\"attributes\":{\"data_source\":{\"id\":\"2dff9bcd-3183-44ca-a8ee-de2136548eb4\",\"type\":\"ColumnDataSource\"},\"glyph\":{\"id\":\"c3c545c7-5aa1-4776-9e3b-4bfeddd4f51c\",\"type\":\"Line\"},\"hover_glyph\":null,\"nonselection_glyph\":{\"id\":\"18dcf896-3496-4ce2-8eb6-b0f72ab38c22\",\"type\":\"Line\"},\"selection_glyph\":null},\"id\":\"138dc2b2-78d6-402e-a715-8b8c89e7bfe3\",\"type\":\"GlyphRenderer\"},{\"attributes\":{\"line_color\":{\"value\":\"green\"},\"line_width\":{\"value\":2},\"x\":{\"field\":\"x\"},\"y\":{\"field\":\"y\"}},\"id\":\"2ee00660-4580-49ec-ad05-650abe1cfd3b\",\"type\":\"Line\"},{\"attributes\":{\"line_color\":{\"value\":\"blue\"},\"line_width\":{\"value\":2},\"x\":{\"field\":\"x\"},\"y\":{\"field\":\"y\"}},\"id\":\"c3c545c7-5aa1-4776-9e3b-4bfeddd4f51c\",\"type\":\"Line\"},{\"attributes\":{\"dimension\":1,\"plot\":{\"id\":\"7ec84e2a-3084-4179-a4ea-a4ffcc2b9cac\",\"subtype\":\"Figure\",\"type\":\"Plot\"},\"ticker\":{\"id\":\"00892f3b-fe15-4509-8089-3aad400dbb77\",\"type\":\"BasicTicker\"}},\"id\":\"d1ec5fd8-d0bd-4df3-8d7f-8198b0499b4c\",\"type\":\"Grid\"},{\"attributes\":{\"overlay\":{\"id\":\"ac27c3a3-1129-4f71-b05a-757890f5539e\",\"type\":\"BoxAnnotation\"},\"plot\":{\"id\":\"7ec84e2a-3084-4179-a4ea-a4ffcc2b9cac\",\"subtype\":\"Figure\",\"type\":\"Plot\"}},\"id\":\"a8926fb7-acf0-41c2-9f9a-8ee0e69ecd66\",\"type\":\"BoxZoomTool\"},{\"attributes\":{\"plot\":null,\"text\":null},\"id\":\"06dee444-6a0d-421c-9fcf-630f646fa4ee\",\"type\":\"Title\"},{\"attributes\":{\"axis_label\":\"Stress\",\"formatter\":{\"id\":\"e6af8961-7258-4d85-b89c-8b55db06e3ad\",\"type\":\"BasicTickFormatter\"},\"plot\":{\"id\":\"7ec84e2a-3084-4179-a4ea-a4ffcc2b9cac\",\"subtype\":\"Figure\",\"type\":\"Plot\"},\"ticker\":{\"id\":\"00892f3b-fe15-4509-8089-3aad400dbb77\",\"type\":\"BasicTicker\"}},\"id\":\"d0d5f194-6e79-430b-a38f-a2461e1c9ff7\",\"type\":\"LinearAxis\"},{\"attributes\":{\"callback\":null,\"column_names\":[\"y\",\"x\"],\"data\":{\"x\":[1.0,0.9330329915368074,0.8705505632961241,0.8122523963562355,0.7578582832551991,0.7071067811865476,0.6597539553864471,0.6155722066724582,0.5743491774985175,0.5358867312681466,0.5,1.0,1.056467308549538,1.1161231740339044,1.1791476456813665,1.2457309396155174,1.3160740129524926,1.3903891703159093,1.4689007046000737,1.5518455739153598,1.6394741167588731,1.7320508075688774,1.8298550549433454,1.9331820449317627,2.0423436319453514,2.157669279974593,2.2795070569547775,2.4082246852806923,2.544210651641051,2.687875379522287,2.8396524679204775,3.0000000000000004],\"y\":[0.0,-445578.87117238296,-871471.6129790249,-1283473.749947769,-1686966.03521616,-2087005.7685088764,-2488411.1206461918,-2895840.025144403,-3313865.0889024967,-3747045.8930319725,-4199999.999999987,6.51925802230835e-09,371246.4725292511,762221.2820042493,1176622.8166757554,1618475.4092379124,2092174.9925871426,2602539.3656826196,3154863.668217902,3754981.72608224,4409334.000831851,5125042.9564678455,5909996.746696783,6772942.226618517,7723588.405662799,8772721.584944632,9932333.56355655,11215764.456371546,12637861.842603354,14215158.161796719,15966068.494483974,17911111.111111037]}},\"id\":\"5478c3f5-529a-42fd-a934-9eb812ac7902\",\"type\":\"ColumnDataSource\"},{\"attributes\":{\"plot\":{\"id\":\"7ec84e2a-3084-4179-a4ea-a4ffcc2b9cac\",\"subtype\":\"Figure\",\"type\":\"Plot\"}},\"id\":\"6b533c63-f1e4-449c-931a-fab0b94ce061\",\"type\":\"WheelZoomTool\"},{\"attributes\":{\"callback\":null,\"column_names\":[\"y\",\"x\"],\"data\":{\"x\":[0.5,0.5510204081632653,0.6020408163265306,0.653061224489796,0.7040816326530612,0.7551020408163265,0.8061224489795918,0.8571428571428572,0.9081632653061225,0.9591836734693877,1.010204081632653,1.0612244897959184,1.1122448979591837,1.163265306122449,1.2142857142857144,1.2653061224489797,1.316326530612245,1.3673469387755102,1.4183673469387754,1.469387755102041,1.5204081632653061,1.5714285714285714,1.6224489795918369,1.6734693877551021,1.7244897959183674,1.7755102040816326,1.8265306122448979,1.8775510204081634,1.9285714285714286,1.9795918367346939,2.0306122448979593,2.0816326530612246,2.13265306122449,2.183673469387755,2.2346938775510203,2.2857142857142856,2.336734693877551,2.387755102040816,2.438775510204082,2.489795918367347,2.5408163265306123,2.5918367346938775,2.642857142857143,2.693877551020408,2.7448979591836737,2.795918367346939,2.8469387755102042,2.8979591836734695,2.9489795918367347,3.0],\"y\":[-4200000.0,-3570889.1299864203,-3028514.9070679517,-2547855.141737817,-2111746.147219867,-1708037.039594837,-1327892.5534485606,-964739.2290249425,-613588.1395628985,-270586.44080131873,67287.40758248582,402435.59143256396,736791.374942987,1071927.8375981897,1409137.772756162,1749493.2739176922,2093890.7758848255,2443085.5228603138,2797718.244522316,3158336.016757422,3525408.7316027367,3899342.2162253335,4280488.768960747,4669155.685924045,5065612.210847631,5470095.237655029,5882814.018965522,6303954.076711894,6733680.468072003,7172140.527233644,7619466.178462106,8075775.896593131,8541176.376024654,9015763.957494492,9499625.852641394,9992841.19897959,10495481.972040832,11007613.776724935,11529296.536099985,12060585.092814391,12601529.735776117,13152176.662704013,13712568.387471862,14282744.099776302,14862739.983508924,15452589.499256056,16052323.635551345,16661971.132837348,17281558.68353065,17911111.11111111]}},\"id\":\"2dff9bcd-3183-44ca-a8ee-de2136548eb4\",\"type\":\"ColumnDataSource\"},{\"attributes\":{},\"id\":\"e6af8961-7258-4d85-b89c-8b55db06e3ad\",\"type\":\"BasicTickFormatter\"},{\"attributes\":{\"fill_color\":{\"value\":\"red\"},\"line_color\":{\"value\":\"red\"},\"x\":{\"field\":\"x\"},\"y\":{\"field\":\"y\"}},\"id\":\"de5c2cff-8996-4ff3-b801-35f8f8f4b8d6\",\"type\":\"Circle\"},{\"attributes\":{\"plot\":{\"id\":\"7ec84e2a-3084-4179-a4ea-a4ffcc2b9cac\",\"subtype\":\"Figure\",\"type\":\"Plot\"},\"ticker\":{\"id\":\"148eb9fc-c1e3-4eaf-b21b-cda38443ba9d\",\"type\":\"BasicTicker\"}},\"id\":\"f2a997e9-35ac-464a-8f4f-986075f3f55a\",\"type\":\"Grid\"},{\"attributes\":{\"data_source\":{\"id\":\"5478c3f5-529a-42fd-a934-9eb812ac7902\",\"type\":\"ColumnDataSource\"},\"glyph\":{\"id\":\"8d61b6a4-f4e3-4520-88c0-23a6f5030e95\",\"type\":\"Circle\"},\"hover_glyph\":null,\"nonselection_glyph\":{\"id\":\"4f7c9ca8-dab3-432b-8446-3e1d6615189a\",\"type\":\"Circle\"},\"selection_glyph\":null},\"id\":\"796bf89b-f785-491a-9618-24dd79383b0a\",\"type\":\"GlyphRenderer\"},{\"attributes\":{\"plot\":{\"id\":\"7ec84e2a-3084-4179-a4ea-a4ffcc2b9cac\",\"subtype\":\"Figure\",\"type\":\"Plot\"}},\"id\":\"ea7507f8-a819-447c-a910-29e6bdbe7c35\",\"type\":\"SaveTool\"},{\"attributes\":{\"plot\":{\"id\":\"7ec84e2a-3084-4179-a4ea-a4ffcc2b9cac\",\"subtype\":\"Figure\",\"type\":\"Plot\"}},\"id\":\"b65c738d-8320-4641-beac-10c78eef3680\",\"type\":\"PanTool\"},{\"attributes\":{\"bottom_units\":\"screen\",\"fill_alpha\":{\"value\":0.5},\"fill_color\":{\"value\":\"lightgrey\"},\"left_units\":\"screen\",\"level\":\"overlay\",\"line_alpha\":{\"value\":1.0},\"line_color\":{\"value\":\"black\"},\"line_dash\":[4,4],\"line_width\":{\"value\":2},\"plot\":null,\"render_mode\":\"css\",\"right_units\":\"screen\",\"top_units\":\"screen\"},\"id\":\"ac27c3a3-1129-4f71-b05a-757890f5539e\",\"type\":\"BoxAnnotation\"},{\"attributes\":{\"fill_alpha\":{\"value\":0.1},\"fill_color\":{\"value\":\"#1f77b4\"},\"line_alpha\":{\"value\":0.1},\"line_color\":{\"value\":\"#1f77b4\"},\"x\":{\"field\":\"x\"},\"y\":{\"field\":\"y\"}},\"id\":\"4f7c9ca8-dab3-432b-8446-3e1d6615189a\",\"type\":\"Circle\"},{\"attributes\":{\"callback\":null,\"column_names\":[\"y\",\"x\"],\"data\":{\"x\":[1.0,0.9330329915368074,0.8705505632961241,0.8122523963562355,0.7578582832551991,0.7071067811865476,0.6597539553864471,0.6155722066724582,0.5743491774985175,0.5358867312681466,0.5,1.0,1.056467308549538,1.1161231740339044,1.1791476456813665,1.2457309396155174,1.3160740129524926,1.3903891703159093,1.4689007046000737,1.5518455739153598,1.6394741167588731,1.7320508075688774,1.8298550549433454,1.9331820449317627,2.0423436319453514,2.157669279974593,2.2795070569547775,2.4082246852806923,2.544210651641051,2.687875379522287,2.8396524679204775,3.0000000000000004],\"y\":[0.0,-477559.6095894378,-1001058.0082556186,-1580141.536923046,-2225965.0286729075,-2951471.862576137,-3771725.959852138,-4704305.999775685,-5769774.239662858,-6992234.8780026585,-8399999.999999974,6.51925802230835e-09,351403.6539748199,682918.6058823785,997858.767716784,1299217.4776821702,1589709.2199955669,1871806.413085984,2147771.9074801947,2419687.750636355,2689480.7034519087,2958944.930525106,3229762.2321128403,3503520.1389207956,3781728.150373015,4065832.3619678784,4357228.696990866,4657274.931580682,4967301.67938404,5288622.482312838,5622543.136828353,5970370.370370345]}},\"id\":\"c3064fd4-83fd-4ba7-b016-829473e5f1a7\",\"type\":\"ColumnDataSource\"}],\"root_ids\":[\"7ec84e2a-3084-4179-a4ea-a4ffcc2b9cac\"]},\"title\":\"Bokeh Application\",\"version\":\"0.12.2\"}};\n",
       "            var render_items = [{\"docid\":\"5841db74-faab-445a-98ae-8444728b154e\",\"elementid\":\"6784a137-f4cf-4242-8902-170ac409194b\",\"modelid\":\"7ec84e2a-3084-4179-a4ea-a4ffcc2b9cac\"}];\n",
       "            \n",
       "            Bokeh.embed.embed_items(docs_json, render_items);\n",
       "        });\n",
       "      },\n",
       "      function(Bokeh) {\n",
       "      }\n",
       "    ];\n",
       "  \n",
       "    function run_inline_js() {\n",
       "      \n",
       "      if ((window.Bokeh !== undefined) || (force === \"1\")) {\n",
       "        for (var i = 0; i < inline_js.length; i++) {\n",
       "          inline_js[i](window.Bokeh);\n",
       "        }if (force === \"1\") {\n",
       "          display_loaded();\n",
       "        }} else if (Date.now() < window._bokeh_timeout) {\n",
       "        setTimeout(run_inline_js, 100);\n",
       "      } else if (!window._bokeh_failed_load) {\n",
       "        console.log(\"Bokeh: BokehJS failed to load within specified timeout.\");\n",
       "        window._bokeh_failed_load = true;\n",
       "      } else if (!force) {\n",
       "        var cell = $(\"#6784a137-f4cf-4242-8902-170ac409194b\").parents('.cell').data().cell;\n",
       "        cell.output_area.append_execute_result(NB_LOAD_WARNING)\n",
       "      }\n",
       "  \n",
       "    }\n",
       "  \n",
       "    if (window._bokeh_is_loading === 0) {\n",
       "      console.log(\"Bokeh: BokehJS loaded, going straight to plotting\");\n",
       "      run_inline_js();\n",
       "    } else {\n",
       "      load_libs(js_urls, function() {\n",
       "        console.log(\"Bokeh: BokehJS plotting callback run at\", now());\n",
       "        run_inline_js();\n",
       "      });\n",
       "    }\n",
       "  }(this));\n",
       "</script>"
      ]
     },
     "metadata": {},
     "output_type": "display_data"
    }
   ],
   "source": [
    "# Hyperelastic parameters, D1 set to a large number to force incompressibility\n",
    "parameters = {'D1': 1.e12, 'C10': 1e6, 'C01': .1e6}\n",
    "\n",
    "# stretch to 300%\n",
    "lam = linspace(.5, 3, 50)\n",
    "\n",
    "# Set up the simulator\n",
    "mps = MaterialPointSimulator('test1')\n",
    "mps.material = MooneyRivlinMaterial(**parameters)\n",
    "\n",
    "# Drive the *incompressible* material through a path of uniaxial stress by\n",
    "# prescribing the deformation gradient.\n",
    "Fij = lambda x: (x, 0, 0, 0, 1/sqrt(x), 0, 0, 0, 1/sqrt(x))\n",
    "mps.add_step('F', Fij(lam[0]), frames=10)\n",
    "mps.add_step('F', Fij(1), frames=1)\n",
    "mps.add_step('F', Fij(lam[-1]), frames=20)\n",
    "\n",
    "# plot the analytic solution and the simulation\n",
    "p = create_figure(bokeh=True, x_axis_label='Stretch', y_axis_label='Stress')\n",
    "C10, C01 = parameters['C10'], parameters['C01']\n",
    "\n",
    "# analytic solution for true and engineering stress\n",
    "s = 2*C01*lam - 2*C01/lam**2 + 2*C10*lam**2 - 2*C10/lam\n",
    "\n",
    "# plot the analytic solutions\n",
    "p.line(lam, s, color='blue', legend='True', line_width=2)\n",
    "p.line(lam, s/lam, color='green', legend='Engineering', line_width=2)\n",
    "\n",
    "lam_ = np.exp(mps.get('E.XX'))\n",
    "ss = mps.get('S.XX') - mps.get('S.ZZ')\n",
    "p.circle(lam_, ss, color='orange', legend='Simulation, True')\n",
    "p.circle(lam_, ss/lam_, color='red', legend='Simulation, Engineering')\n",
    "p.legend.location = 'top_left'\n",
    "\n",
    "show(p)\n",
    "\n",
    "# check the actual solutions\n",
    "assert abs(amax(ss) - amax(s)) / amax(s) < 1e-6\n",
    "assert abs(amin(ss) - amin(s)) < 1e-6"
   ]
  }
 ],
 "metadata": {
  "anaconda-cloud": {},
  "kernelspec": {
   "display_name": "Python [default]",
   "language": "python",
   "name": "python3"
  },
  "language_info": {
   "codemirror_mode": {
    "name": "ipython",
    "version": 3
   },
   "file_extension": ".py",
   "mimetype": "text/x-python",
   "name": "python",
   "nbconvert_exporter": "python",
   "pygments_lexer": "ipython3",
   "version": "3.5.2"
  }
 },
 "nbformat": 4,
 "nbformat_minor": 0
}
