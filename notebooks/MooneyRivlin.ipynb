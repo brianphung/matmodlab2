{
 "cells": [
  {
   "cell_type": "markdown",
   "metadata": {
    "slideshow": {
     "slide_type": "slide"
    }
   },
   "source": [
    "# Mooney-Rivlin Hyperelasticity"
   ]
  },
  {
   "cell_type": "markdown",
   "metadata": {},
   "source": [
    "## Overview\n",
    "\n",
    "A Mooney-Rivlin hyperelastic material is one for which the derivatives of the free energy with respect to the invariants of stretch are constant.  The Mooney-Rivlin model\n",
    "\n",
    "- a special case of the more general [polynomial hyperelastic model](PolynomialHyperelastic.ipynb)\n",
    "- has 2 elastic constants, typically fit to uniaxial extension/compression, equibiaxial extension/compression, or shear experimental data\n",
    "- usually valid for strains less than 100%\n",
    "\n",
    "## See Also\n",
    "\n",
    "- [User Defined Materials](UserMaterial.ipynb)\n",
    "- [Linear Elastic Material](LinearElastic.ipynb)\n",
    "- [Polynomial Hyperelastic Material](PolynomialHyperelastic.ipynb)\n",
    "\n",
    "## Contents\n",
    "\n",
    "1. <a href='#basic'>Fundamental Equations</a>\n",
    "2. <a href='#implement'>Model Implementation</a>\n",
    "3. <a href='#verify'>Model Verification</a>"
   ]
  },
  {
   "cell_type": "code",
   "execution_count": 1,
   "metadata": {
    "collapsed": false,
    "slideshow": {
     "slide_type": "skip"
    }
   },
   "outputs": [
    {
     "name": "stdout",
     "output_type": "stream",
     "text": [
      "Setting up the Matmodlab notebook environment\n"
     ]
    },
    {
     "data": {
      "text/html": [
       "\n",
       "    <div class=\"bk-root\">\n",
       "        <a href=\"http://bokeh.pydata.org\" target=\"_blank\" class=\"bk-logo bk-logo-small bk-logo-notebook\"></a>\n",
       "        <span id=\"230d2fbb-98dc-4488-916a-4731ba0f8403\">Loading BokehJS ...</span>\n",
       "    </div>"
      ]
     },
     "metadata": {},
     "output_type": "display_data"
    },
    {
     "data": {
      "application/javascript": [
       "\n",
       "(function(global) {\n",
       "  function now() {\n",
       "    return new Date();\n",
       "  }\n",
       "\n",
       "  var force = true;\n",
       "\n",
       "  if (typeof (window._bokeh_onload_callbacks) === \"undefined\" || force === true) {\n",
       "    window._bokeh_onload_callbacks = [];\n",
       "    window._bokeh_is_loading = undefined;\n",
       "  }\n",
       "\n",
       "\n",
       "  \n",
       "  if (typeof (window._bokeh_timeout) === \"undefined\" || force === true) {\n",
       "    window._bokeh_timeout = Date.now() + 5000;\n",
       "    window._bokeh_failed_load = false;\n",
       "  }\n",
       "\n",
       "  var NB_LOAD_WARNING = {'data': {'text/html':\n",
       "     \"<div style='background-color: #fdd'>\\n\"+\n",
       "     \"<p>\\n\"+\n",
       "     \"BokehJS does not appear to have successfully loaded. If loading BokehJS from CDN, this \\n\"+\n",
       "     \"may be due to a slow or bad network connection. Possible fixes:\\n\"+\n",
       "     \"</p>\\n\"+\n",
       "     \"<ul>\\n\"+\n",
       "     \"<li>re-rerun `output_notebook()` to attempt to load from CDN again, or</li>\\n\"+\n",
       "     \"<li>use INLINE resources instead, as so:</li>\\n\"+\n",
       "     \"</ul>\\n\"+\n",
       "     \"<code>\\n\"+\n",
       "     \"from bokeh.resources import INLINE\\n\"+\n",
       "     \"output_notebook(resources=INLINE)\\n\"+\n",
       "     \"</code>\\n\"+\n",
       "     \"</div>\"}};\n",
       "\n",
       "  function display_loaded() {\n",
       "    if (window.Bokeh !== undefined) {\n",
       "      document.getElementById(\"230d2fbb-98dc-4488-916a-4731ba0f8403\").textContent = \"BokehJS successfully loaded.\";\n",
       "    } else if (Date.now() < window._bokeh_timeout) {\n",
       "      setTimeout(display_loaded, 100)\n",
       "    }\n",
       "  }\n",
       "\n",
       "  function run_callbacks() {\n",
       "    window._bokeh_onload_callbacks.forEach(function(callback) { callback() });\n",
       "    delete window._bokeh_onload_callbacks\n",
       "    console.info(\"Bokeh: all callbacks have finished\");\n",
       "  }\n",
       "\n",
       "  function load_libs(js_urls, callback) {\n",
       "    window._bokeh_onload_callbacks.push(callback);\n",
       "    if (window._bokeh_is_loading > 0) {\n",
       "      console.log(\"Bokeh: BokehJS is being loaded, scheduling callback at\", now());\n",
       "      return null;\n",
       "    }\n",
       "    if (js_urls == null || js_urls.length === 0) {\n",
       "      run_callbacks();\n",
       "      return null;\n",
       "    }\n",
       "    console.log(\"Bokeh: BokehJS not loaded, scheduling load and callback at\", now());\n",
       "    window._bokeh_is_loading = js_urls.length;\n",
       "    for (var i = 0; i < js_urls.length; i++) {\n",
       "      var url = js_urls[i];\n",
       "      var s = document.createElement('script');\n",
       "      s.src = url;\n",
       "      s.async = false;\n",
       "      s.onreadystatechange = s.onload = function() {\n",
       "        window._bokeh_is_loading--;\n",
       "        if (window._bokeh_is_loading === 0) {\n",
       "          console.log(\"Bokeh: all BokehJS libraries loaded\");\n",
       "          run_callbacks()\n",
       "        }\n",
       "      };\n",
       "      s.onerror = function() {\n",
       "        console.warn(\"failed to load library \" + url);\n",
       "      };\n",
       "      console.log(\"Bokeh: injecting script tag for BokehJS library: \", url);\n",
       "      document.getElementsByTagName(\"head\")[0].appendChild(s);\n",
       "    }\n",
       "  };var element = document.getElementById(\"230d2fbb-98dc-4488-916a-4731ba0f8403\");\n",
       "  if (element == null) {\n",
       "    console.log(\"Bokeh: ERROR: autoload.js configured with elementid '230d2fbb-98dc-4488-916a-4731ba0f8403' but no matching script tag was found. \")\n",
       "    return false;\n",
       "  }\n",
       "\n",
       "  var js_urls = [\"https://cdn.pydata.org/bokeh/release/bokeh-0.12.4.min.js\", \"https://cdn.pydata.org/bokeh/release/bokeh-widgets-0.12.4.min.js\"];\n",
       "\n",
       "  var inline_js = [\n",
       "    function(Bokeh) {\n",
       "      Bokeh.set_log_level(\"info\");\n",
       "    },\n",
       "    \n",
       "    function(Bokeh) {\n",
       "      \n",
       "      document.getElementById(\"230d2fbb-98dc-4488-916a-4731ba0f8403\").textContent = \"BokehJS is loading...\";\n",
       "    },\n",
       "    function(Bokeh) {\n",
       "      console.log(\"Bokeh: injecting CSS: https://cdn.pydata.org/bokeh/release/bokeh-0.12.4.min.css\");\n",
       "      Bokeh.embed.inject_css(\"https://cdn.pydata.org/bokeh/release/bokeh-0.12.4.min.css\");\n",
       "      console.log(\"Bokeh: injecting CSS: https://cdn.pydata.org/bokeh/release/bokeh-widgets-0.12.4.min.css\");\n",
       "      Bokeh.embed.inject_css(\"https://cdn.pydata.org/bokeh/release/bokeh-widgets-0.12.4.min.css\");\n",
       "    }\n",
       "  ];\n",
       "\n",
       "  function run_inline_js() {\n",
       "    \n",
       "    if ((window.Bokeh !== undefined) || (force === true)) {\n",
       "      for (var i = 0; i < inline_js.length; i++) {\n",
       "        inline_js[i](window.Bokeh);\n",
       "      }if (force === true) {\n",
       "        display_loaded();\n",
       "      }} else if (Date.now() < window._bokeh_timeout) {\n",
       "      setTimeout(run_inline_js, 100);\n",
       "    } else if (!window._bokeh_failed_load) {\n",
       "      console.log(\"Bokeh: BokehJS failed to load within specified timeout.\");\n",
       "      window._bokeh_failed_load = true;\n",
       "    } else if (force !== true) {\n",
       "      var cell = $(document.getElementById(\"230d2fbb-98dc-4488-916a-4731ba0f8403\")).parents('.cell').data().cell;\n",
       "      cell.output_area.append_execute_result(NB_LOAD_WARNING)\n",
       "    }\n",
       "\n",
       "  }\n",
       "\n",
       "  if (window._bokeh_is_loading === 0) {\n",
       "    console.log(\"Bokeh: BokehJS loaded, going straight to plotting\");\n",
       "    run_inline_js();\n",
       "  } else {\n",
       "    load_libs(js_urls, function() {\n",
       "      console.log(\"Bokeh: BokehJS plotting callback run at\", now());\n",
       "      run_inline_js();\n",
       "    });\n",
       "  }\n",
       "}(this));"
      ]
     },
     "metadata": {},
     "output_type": "display_data"
    }
   ],
   "source": [
    "from bokeh.io import output_notebook\n",
    "from bokeh.plotting import *\n",
    "from matmodlab2 import *\n",
    "from numpy import *\n",
    "import numpy as np\n",
    "from plotting_helpers import create_figure\n",
    "output_notebook()"
   ]
  },
  {
   "cell_type": "markdown",
   "metadata": {
    "slideshow": {
     "slide_type": "slide"
    }
   },
   "source": [
    "<a name='basic'></a>\n",
    "## Fundamental Equations\n",
    "\n",
    "The Mooney-Rivlin material is a special case of the more general polynomial hyperelastic model defined by the following free energy potential\n",
    "\n",
    "$$\n",
    "a = c_{10}\\left(\\overline{I}_1 - 3\\right) +  c_{01}\\left(\\overline{I}_2 - 3\\right) \n",
    "  + \\frac{1}{D_1}\\left(J-1\\right)^2\n",
    "$$\n",
    "\n",
    "where $c_{10}$, $c_{01}$, and $D_1$ are material parameters, the $\\overline{I}_i$ are the isochoric invariants of the right Cauchy deformation tensor $C_{IJ} = F_{kI}F_{kJ}$, $F_{iJ}$ are the components of the deformation gradient tensor, and $J$ is the determinant of the deformation gradient."
   ]
  },
  {
   "cell_type": "markdown",
   "metadata": {
    "slideshow": {
     "slide_type": "slide"
    }
   },
   "source": [
    "### Second Piola-Kirchhoff Stress\n",
    "\n",
    "The components of the second Piola-Kirchhoff stress $S_{IJ}$ are given by\n",
    "\n",
    "$$\n",
    "\\frac{1}{2\\rho_0} S_{IJ} = \\frac{\\partial a}{\\partial C_{IJ}}\n",
    "$$\n",
    "\n",
    "For an isotropic material, the free energy $a$ is a function of $C_{IJ}$ through only its invariants, giving for $S_{IJ}$\n",
    "\n",
    "$$\n",
    "\\frac{1}{2\\rho_0}S_{IJ} \n",
    "       = \\frac{\\partial a}{\\partial\\overline{I}_1}\\frac{\\partial\\overline{I}_1}{\\partial C_{IJ}}\n",
    "       + \\frac{\\partial a}{\\partial\\overline{I}_2}\\frac{\\partial\\overline{I}_2}{\\partial C_{IJ}}\n",
    "       + \\frac{\\partial a}{\\partial J}\\frac{\\partial J}{\\partial C_{IJ}}\n",
    "$$"
   ]
  },
  {
   "cell_type": "markdown",
   "metadata": {
    "slideshow": {
     "slide_type": "subslide"
    }
   },
   "source": [
    "The partial derivatives of the energy with respect to the invariants are\n",
    "\n",
    "$$\n",
    "\\frac{\\partial a}{\\partial\\overline{I}_1} = c_{10}, \\quad\n",
    "\\frac{\\partial a}{\\partial\\overline{I}_2} = c_{01}, \\quad\n",
    "\\frac{\\partial a}{\\partial J} = \\frac{2}{D_1}\\left(J-1\\right)\n",
    "$$"
   ]
  },
  {
   "cell_type": "markdown",
   "metadata": {
    "slideshow": {
     "slide_type": "subslide"
    }
   },
   "source": [
    "and the partials of the invariants with respect to $C_{IJ}$ are\n",
    "\n",
    "$$\n",
    "\\begin{align}\n",
    "\\frac{\\partial\\overline{I}_1}{\\partial C_{IJ}}\n",
    " &= \\frac{\\partial\\left( J^{-2/3} C_{KK}\\right)}{\\partial C_{IJ}} \\\\\n",
    " %&= \\frac{\\partial J^{-2/3}}{\\partial C_{IJ}} I_1 + J^{-2/3} \\frac{\\partial C_{KK}}{\\partial C_{IJ}} \\\\\n",
    " %&= -\\frac{2}{3}J^{-5/3}\\frac{\\partial J}{\\partial C_{IJ}} I_1 + J^{-2/3} \\delta_{IJ} \\\\\n",
    " %&= -\\frac{2}{3}J^{-5/3}\\frac{1}{2}J C_{IJ}^{-1} I_1 + J^{-2/3} \\delta_{IJ} \\\\\n",
    " &= J^{-2/3}\\left(\\delta_{IJ} - \\frac{1}{3}I_1 C_{IJ}^{-1}\\right) \\\\\n",
    "\\end{align}\n",
    "$$\n",
    "\n",
    "$$\n",
    "\\begin{align}\n",
    "\\frac{\\partial\\overline{I}_2}{\\partial C_{IJ}}\n",
    " &= \\frac{\\partial\\left( J^{-4/3}\\left(C_{KK}^2 - C_{MN}C_{MN}\\right)\\right)}{\\partial C_{IJ}} \\\\\n",
    " %&= \\frac{\\partial J^{-4/3}}{\\partial C_{IJ}} \\left(C_{KK}^2 - C_{MN}C_{MN}\\right) + J^{-4/3} \\frac{\\partial \\left(C_{KK}^2 - C_{MN}C_{MN}\\right)}{\\partial C_{IJ}} \\\\\n",
    " &= J^{-4/3}\\left(I_1\\delta_{IJ} - C_{IJ} - \\frac{2}{3} I_2 C_{IJ}^{-1}\\right) \\\\\n",
    "\\end{align}\n",
    "$$\n",
    "\n",
    "$$\n",
    "\\begin{align}\n",
    "\\frac{\\partial J}{\\partial C_{IJ}} &= \\frac{\\partial \\sqrt{\\det C_{KL}}}{\\partial C_{IJ}} \\\\\n",
    "%&= \\frac{1}{2 \\sqrt{\\det C_{KL}}} \\frac{\\partial\\det C_{KL}}{\\partial C_{IJ}} \\\\\n",
    "%&= \\frac{1}{2 J} \\frac{\\partial\\det C_{KL}}{\\partial C_{IJ}} \\\\\n",
    "&= \\frac{1}{2} J C_{IJ}^{-1} \\\\\n",
    "\\end{align}\n",
    "$$"
   ]
  },
  {
   "cell_type": "markdown",
   "metadata": {
    "slideshow": {
     "slide_type": "subslide"
    }
   },
   "source": [
    "Combining the above results, we arrive at the following expression for the components $S_{IJ}$:\n",
    "\n",
    "$$\n",
    "\\frac{1}{2\\rho_0}S_{IJ} \n",
    "   = c_{10}J^{-2/3}\\left(\\delta_{IJ} - \\frac{1}{3}I_1 C_{IJ}^{-1}\\right)\n",
    "   + c_{01}J^{-4/3}\\left(I_1\\delta_{IJ} - C_{IJ} - \\frac{2}{3} I_2 C_{IJ}^{-1}\\right)\n",
    "   + \\frac{J}{D_1}\\left(J-1\\right) C_{IJ}^{-1}\n",
    "$$"
   ]
  },
  {
   "cell_type": "markdown",
   "metadata": {
    "slideshow": {
     "slide_type": "slide"
    }
   },
   "source": [
    "### Cauchy Stress\n",
    "\n",
    "The components of the Cauchy stress tensor $\\sigma_{ij}$ are given by the push-forward $S_{IJ}$:\n",
    "\n",
    "$$\n",
    "J \\sigma_{ij} = F_{iM}S_{MN}F_{jN}\n",
    "$$\n",
    "\n",
    "$$\n",
    "\\begin{align}\n",
    "\\frac{J}{2\\rho_0}\\sigma_{ij} &= F_{iM}\\left[\n",
    "     c_{10}J^{-2/3}\\left(\\delta_{MN} - \\frac{1}{3}I_1 C_{MN}^{-1}\\right)\n",
    "   + c_{01}J^{-4/3}\\left(I_1\\delta_{MN} - C_{MN} - \\frac{2}{3} I_2 C_{MN}^{-1}\\right)\n",
    "   + \\frac{J}{D_1}\\left(J-1\\right) C_{MN}^{-1}\\right] F_{jN} \\\\\n",
    "  &= c_{10}J^{-2/3}\\left(F_{iN}F_{jN} - \\frac{1}{3}I_1 F_{iM}C_{MN}^{-1}F_{jN}\\right)\n",
    "   + c_{01}J^{-4/3}\\left(I_1F_{iN}F_{jN} - F_{iM}C_{MN}F_{jN} - \\frac{2}{3} I_2 F_{iM}C_{MN}^{-1}F_{jN}\\right) \\\\\n",
    "   &\\qquad + \\frac{J}{D_1}\\left(J-1\\right) F_{iM}C_{MN}^{-1}F_{jN} \\\\\n",
    "\\end{align}\n",
    "$$"
   ]
  },
  {
   "cell_type": "markdown",
   "metadata": {
    "slideshow": {
     "slide_type": "subslide"
    }
   },
   "source": [
    "Recognizing that\n",
    "\n",
    "$$\n",
    "C_{MN} = F_{kM}F_{kN} \\Rightarrow C_{MN}^{-1} = F_{kN}^{-1}F_{kM}^{-1}\n",
    "$$\n",
    "\n",
    "the components of the Cauchy stress can be written as\n",
    "\n",
    "$$\n",
    "\\begin{align}\n",
    "\\frac{J}{2\\rho_0}\\sigma_{ij} \n",
    "  &= c_{10}J^{-2/3}\\left(F_{iN}F_{jN} - \\frac{1}{3}I_1 F_{iM}F_{kN}^{-1}F_{kM}^{-1}F_{jN}\\right)\n",
    "   + c_{01}J^{-4/3}\\left(I_1F_{iN}F_{jN} - F_{iM}F_{kM}F_{kN}F_{jN} - \\frac{2}{3} I_2 F_{iM}F_{kN}^{-1}F_{kM}^{-1}F_{jN}\\right) \\\\\n",
    "   &\\qquad + \\frac{J}{D_1}\\left(J-1\\right) F_{iM}F_{kN}^{-1}F_{kM}^{-1}F_{jN} \\\\\n",
    "  &= c_{10}J^{-2/3}\\left(B_{ij} - \\frac{1}{3}I_1 \\delta_{ij} \\right)\n",
    "   + c_{01}J^{-4/3}\\left(I_1B_{ij} - B_{ik}B_{kj} - \\frac{2}{3} I_2 \\delta_{ij}\\right)\n",
    "   + \\frac{J}{D_1}\\left(J-1\\right) \\delta_{ij} \\\\\n",
    "  &= J^{-2/3} \\left(c_{10} + c_{01}\\overline{I}_1 \\right)B_{ij}\n",
    "   - c_{01}J^{-4/3}B_{ik}B_{kj}\n",
    "  + \\left(\n",
    "      \\frac{J}{D_1}\\left(J-1\\right)  - \\frac{1}{3}\\left(c_{10}\\overline{I}_1 + c_{01}2\\overline{I}_2\\right)\n",
    "    \\right)\\delta_{ij}\n",
    "\\end{align}\n",
    "$$"
   ]
  },
  {
   "cell_type": "markdown",
   "metadata": {
    "slideshow": {
     "slide_type": "subslide"
    }
   },
   "source": [
    "where $B_{ij} = F_{iN}F_{jN}$ is the left Cauchy deformation tensor.  Finally, the components of the Cauchy stress are given by\n",
    "\n",
    "$$\n",
    "\\begin{align}\n",
    "\\sigma_{ij} &= \\frac{2\\rho_0}{J} \\left(\n",
    "  J^{-2/3} \\left(c_{10} + c_{01}\\overline{I}_1 \\right)B_{ij}\n",
    "   - c_{01}J^{-4/3}B_{ik}B_{kj}\\right)\n",
    "  + \\left(\n",
    "      \\frac{2\\rho_0}{D_1}\\left(J-1\\right)  - \\frac{2\\rho_0}{3J}\\left(c_{10}\\overline{I}_1 + c_{01}2\\overline{I}_2\\right)\n",
    "    \\right)\\delta_{ij} \\\\\n",
    "&= \\frac{2\\rho_0}{J} \\left(\n",
    "  \\left(c_{10} + c_{01}\\overline{I}_1 \\right)\\overline{B}_{ij}\n",
    "   - c_{01}\\overline{B}_{ik}\\overline{B}_{kj}\\right)\n",
    "  + \\left(\n",
    "      \\frac{2\\rho_0}{D_1}\\left(J-1\\right)  - \\frac{2\\rho_0}{3J}\\left(c_{10}\\overline{I}_1 + c_{01}2\\overline{I}_2\\right)\n",
    "    \\right)\\delta_{ij} \\\\\n",
    "\\end{align}\n",
    "$$\n",
    "\n",
    "where $\\overline{B}_{ij} = J^{-2/3}B_{ij}$"
   ]
  },
  {
   "cell_type": "markdown",
   "metadata": {
    "slideshow": {
     "slide_type": "slide"
    }
   },
   "source": [
    "<a name='implement'></a>\n",
    "\n",
    "## Matmodlab Implementation\n",
    "\n",
    "The Mooney-Rivlin material is implemented as the `MooneyRivlinMaterial` class in `matmodlab2/materials/mooney_rivlin.py`.  The file can be viewed by executing the following cell."
   ]
  },
  {
   "cell_type": "code",
   "execution_count": 2,
   "metadata": {
    "collapsed": true
   },
   "outputs": [],
   "source": [
    "%pycat ../matmodlab2/materials/mooney_rivlin.py"
   ]
  },
  {
   "cell_type": "markdown",
   "metadata": {
    "slideshow": {
     "slide_type": "slide"
    }
   },
   "source": [
    "<a name='verify'></a>\n",
    "## Verification"
   ]
  },
  {
   "cell_type": "markdown",
   "metadata": {
    "slideshow": {
     "slide_type": "subslide"
    }
   },
   "source": [
    "### Uniaxial Stress\n",
    "\n",
    "For an incompressible isotropic material, uniaxial stress is produced by the following deformation state\n",
    "\n",
    "$$\n",
    "[F] = \\begin{bmatrix}\\lambda && \\\\ & \\frac{1}{\\sqrt{\\lambda}} & \\\\ & & \\frac{1}{\\sqrt{\\lambda}} \\end{bmatrix}\n",
    "$$\n",
    "\n",
    "The stress difference $\\sigma_{\\text{axial}} - \\sigma_{\\text{lateral}}$ is given by"
   ]
  },
  {
   "cell_type": "code",
   "execution_count": 3,
   "metadata": {
    "collapsed": false,
    "slideshow": {
     "slide_type": "fragment"
    }
   },
   "outputs": [
    {
     "data": {
      "text/plain": [
       "2*C01*lambda - 2*C01/lambda**2 + 2*C10*lambda**2 - 2*C10/lambda"
      ]
     },
     "execution_count": 3,
     "metadata": {},
     "output_type": "execute_result"
    }
   ],
   "source": [
    "from sympy import Symbol, Matrix, Rational, symbols, sqrt\n",
    "lam = Symbol('lambda')\n",
    "F = Matrix(3, 3, [lam, 0, 0, 0, 1/sqrt(lam), 0, 0, 0, 1/sqrt(lam)])\n",
    "B = Matrix(3, 3, F.dot(F.T))\n",
    "Bsq = Matrix(3, 3, B.dot(B))\n",
    "I = Matrix(3, 3, lambda i,j: 1 if i==j else 0)\n",
    "I1 = B.trace()\n",
    "I2 = ((B.trace()) ** 2 - Bsq.trace()) / 2\n",
    "J = F.det()\n",
    "X = J ** Rational(1, 3)\n",
    "C1, C2, D1 = symbols('C10 C01 D1')\n",
    "I1B = I1 / X ** 2\n",
    "I2B = I2 / X ** 4\n",
    "\n",
    "S = 2 / J * (1 / X ** 2 * (C1 + I1B * C2) * B - 1 / X ** 4 * C2 * Bsq) \\\n",
    "    + (2 / D1 * (J - 1) - 2 * (C1 * I1B + 2 * C2 * I2B) / 3) * I\n",
    "(S[0,0] - S[1,1]).simplify()"
   ]
  },
  {
   "cell_type": "markdown",
   "metadata": {
    "slideshow": {
     "slide_type": "subslide"
    }
   },
   "source": [
    "We now exercise the Mooney-Rivlin material model using Matmodlab"
   ]
  },
  {
   "cell_type": "code",
   "execution_count": 4,
   "metadata": {
    "collapsed": false,
    "scrolled": false
   },
   "outputs": [
    {
     "data": {
      "text/html": [
       "\n",
       "\n",
       "    <div class=\"bk-root\">\n",
       "        <div class=\"bk-plotdiv\" id=\"741c7293-7c3e-4d39-adf6-ec95e33c3556\"></div>\n",
       "    </div>\n",
       "<script type=\"text/javascript\">\n",
       "  \n",
       "  (function(global) {\n",
       "    function now() {\n",
       "      return new Date();\n",
       "    }\n",
       "  \n",
       "    var force = false;\n",
       "  \n",
       "    if (typeof (window._bokeh_onload_callbacks) === \"undefined\" || force === true) {\n",
       "      window._bokeh_onload_callbacks = [];\n",
       "      window._bokeh_is_loading = undefined;\n",
       "    }\n",
       "  \n",
       "  \n",
       "    \n",
       "    if (typeof (window._bokeh_timeout) === \"undefined\" || force === true) {\n",
       "      window._bokeh_timeout = Date.now() + 0;\n",
       "      window._bokeh_failed_load = false;\n",
       "    }\n",
       "  \n",
       "    var NB_LOAD_WARNING = {'data': {'text/html':\n",
       "       \"<div style='background-color: #fdd'>\\n\"+\n",
       "       \"<p>\\n\"+\n",
       "       \"BokehJS does not appear to have successfully loaded. If loading BokehJS from CDN, this \\n\"+\n",
       "       \"may be due to a slow or bad network connection. Possible fixes:\\n\"+\n",
       "       \"</p>\\n\"+\n",
       "       \"<ul>\\n\"+\n",
       "       \"<li>re-rerun `output_notebook()` to attempt to load from CDN again, or</li>\\n\"+\n",
       "       \"<li>use INLINE resources instead, as so:</li>\\n\"+\n",
       "       \"</ul>\\n\"+\n",
       "       \"<code>\\n\"+\n",
       "       \"from bokeh.resources import INLINE\\n\"+\n",
       "       \"output_notebook(resources=INLINE)\\n\"+\n",
       "       \"</code>\\n\"+\n",
       "       \"</div>\"}};\n",
       "  \n",
       "    function display_loaded() {\n",
       "      if (window.Bokeh !== undefined) {\n",
       "        document.getElementById(\"741c7293-7c3e-4d39-adf6-ec95e33c3556\").textContent = \"BokehJS successfully loaded.\";\n",
       "      } else if (Date.now() < window._bokeh_timeout) {\n",
       "        setTimeout(display_loaded, 100)\n",
       "      }\n",
       "    }\n",
       "  \n",
       "    function run_callbacks() {\n",
       "      window._bokeh_onload_callbacks.forEach(function(callback) { callback() });\n",
       "      delete window._bokeh_onload_callbacks\n",
       "      console.info(\"Bokeh: all callbacks have finished\");\n",
       "    }\n",
       "  \n",
       "    function load_libs(js_urls, callback) {\n",
       "      window._bokeh_onload_callbacks.push(callback);\n",
       "      if (window._bokeh_is_loading > 0) {\n",
       "        console.log(\"Bokeh: BokehJS is being loaded, scheduling callback at\", now());\n",
       "        return null;\n",
       "      }\n",
       "      if (js_urls == null || js_urls.length === 0) {\n",
       "        run_callbacks();\n",
       "        return null;\n",
       "      }\n",
       "      console.log(\"Bokeh: BokehJS not loaded, scheduling load and callback at\", now());\n",
       "      window._bokeh_is_loading = js_urls.length;\n",
       "      for (var i = 0; i < js_urls.length; i++) {\n",
       "        var url = js_urls[i];\n",
       "        var s = document.createElement('script');\n",
       "        s.src = url;\n",
       "        s.async = false;\n",
       "        s.onreadystatechange = s.onload = function() {\n",
       "          window._bokeh_is_loading--;\n",
       "          if (window._bokeh_is_loading === 0) {\n",
       "            console.log(\"Bokeh: all BokehJS libraries loaded\");\n",
       "            run_callbacks()\n",
       "          }\n",
       "        };\n",
       "        s.onerror = function() {\n",
       "          console.warn(\"failed to load library \" + url);\n",
       "        };\n",
       "        console.log(\"Bokeh: injecting script tag for BokehJS library: \", url);\n",
       "        document.getElementsByTagName(\"head\")[0].appendChild(s);\n",
       "      }\n",
       "    };var element = document.getElementById(\"741c7293-7c3e-4d39-adf6-ec95e33c3556\");\n",
       "    if (element == null) {\n",
       "      console.log(\"Bokeh: ERROR: autoload.js configured with elementid '741c7293-7c3e-4d39-adf6-ec95e33c3556' but no matching script tag was found. \")\n",
       "      return false;\n",
       "    }\n",
       "  \n",
       "    var js_urls = [];\n",
       "  \n",
       "    var inline_js = [\n",
       "      function(Bokeh) {\n",
       "        (function() {\n",
       "          var fn = function() {\n",
       "            var docs_json = {\"bff71c4e-eb24-4329-a474-14ca23ef97b5\":{\"roots\":{\"references\":[{\"attributes\":{\"plot\":{\"id\":\"5b46de6e-1ac8-4965-b126-a93992932a20\",\"subtype\":\"Figure\",\"type\":\"Plot\"}},\"id\":\"ac7952b2-c5be-40a8-a668-c13b643c01e0\",\"type\":\"SaveTool\"},{\"attributes\":{\"line_alpha\":{\"value\":0.1},\"line_color\":{\"value\":\"#1f77b4\"},\"line_width\":{\"value\":2},\"x\":{\"field\":\"x\"},\"y\":{\"field\":\"y\"}},\"id\":\"71573985-9ea5-4a67-b694-3a54877fb4d2\",\"type\":\"Line\"},{\"attributes\":{\"line_alpha\":{\"value\":0.1},\"line_color\":{\"value\":\"#1f77b4\"},\"line_width\":{\"value\":2},\"x\":{\"field\":\"x\"},\"y\":{\"field\":\"y\"}},\"id\":\"e3f5b5f6-7a62-4460-bc12-882dda6651db\",\"type\":\"Line\"},{\"attributes\":{\"line_color\":{\"value\":\"green\"},\"line_width\":{\"value\":2},\"x\":{\"field\":\"x\"},\"y\":{\"field\":\"y\"}},\"id\":\"974cb8a1-3d24-43fb-b9e6-08bf9348687e\",\"type\":\"Line\"},{\"attributes\":{\"label\":{\"value\":\"Engineering\"},\"renderers\":[{\"id\":\"34cd13b6-300c-4d88-acdd-6460c9569939\",\"type\":\"GlyphRenderer\"}]},\"id\":\"402115bf-7b55-4e2e-8445-11d5b597ce77\",\"type\":\"LegendItem\"},{\"attributes\":{\"data_source\":{\"id\":\"0d62af78-2f33-4d1d-ae3f-90b41b49df69\",\"type\":\"ColumnDataSource\"},\"glyph\":{\"id\":\"974cb8a1-3d24-43fb-b9e6-08bf9348687e\",\"type\":\"Line\"},\"hover_glyph\":null,\"nonselection_glyph\":{\"id\":\"e3f5b5f6-7a62-4460-bc12-882dda6651db\",\"type\":\"Line\"},\"selection_glyph\":null},\"id\":\"34cd13b6-300c-4d88-acdd-6460c9569939\",\"type\":\"GlyphRenderer\"},{\"attributes\":{\"callback\":null,\"column_names\":[\"x\",\"y\"],\"data\":{\"x\":{\"__ndarray__\":\"AAAAAAAA8D+OoxcBaNvtPxrT29qM2+s/nj/OvPj96T/zlbIDYEDoP1Mff2aeoOY/izO5U7Qc5T91YP97xLLjP3PBuoYRYeI/jN8k7vsl4T93r//////fPwAAAAAAAPA/6ja4Q0rn8D+LiCz5o9vxP7i19evJ3fI/VjnUkIPu8z9n8cufow71P66C87YIP/Y/P0J1Bp6A9z+IikYGXNT4P7LiITZJO/o/q0xY6Hq2+z9lbhYYFkf9PyQkw0tQ7v4/czETQrhWAEAUmYgc6EIBQND5JDJuPAJAjprFTQtEA0Aedzcdi1oEQKssls7EgAVACsuNtpu3BkABAAAAAAAIQA==\",\"dtype\":\"float64\",\"shape\":[32]},\"y\":{\"__ndarray__\":\"AAAAAAAAAAA4zRR8KzIbweKK2DlfmCrB9Kv8v5GVM8GZBgQJtr05wXMXvcRd2D/BsF9xjy38QsGV9TcD8BdGwSwrYYtkSEnBB91O8nKWTMHW+///jwVQwQAAAAAAABC+0LTe47moFkE83GKQ2kInQX6pEdEu9DFB1NDDaCuyOEHnMBr+juw/QS6wzq4V20NBGCqI1dcRSEFeQ/Dc8qVMQRWhDYD90VBB/sQ2veyMU0Fl4ckve4tWQRTrgI4z1llBQmH2GZF2XUHk3bcyjrtgQd2nCLLF8WJBppiajnJkZUF3m/a61BpoQYJwLcX+HGtBStDSj+5zbkGCHMdx1BRxQQ==\",\"dtype\":\"float64\",\"shape\":[32]}}},\"id\":\"d32ea9bd-2965-45a8-b1ab-42ac5d67dd10\",\"type\":\"ColumnDataSource\"},{\"attributes\":{\"plot\":{\"id\":\"5b46de6e-1ac8-4965-b126-a93992932a20\",\"subtype\":\"Figure\",\"type\":\"Plot\"}},\"id\":\"4d73d812-11a3-4baf-9275-f42162125bac\",\"type\":\"ResetTool\"},{\"attributes\":{\"callback\":null,\"column_names\":[\"x\",\"y\"],\"data\":{\"x\":{\"__ndarray__\":\"AAAAAAAA8D+OoxcBaNvtPxrT29qM2+s/nj/OvPj96T/zlbIDYEDoP1Mff2aeoOY/izO5U7Qc5T91YP97xLLjP3PBuoYRYeI/jN8k7vsl4T93r//////fPwAAAAAAAPA/6ja4Q0rn8D+LiCz5o9vxP7i19evJ3fI/VjnUkIPu8z9n8cufow71P66C87YIP/Y/P0J1Bp6A9z+IikYGXNT4P7LiITZJO/o/q0xY6Hq2+z9lbhYYFkf9PyQkw0tQ7v4/czETQrhWAEAUmYgc6EIBQND5JDJuPAJAjprFTQtEA0Aedzcdi1oEQKssls7EgAVACsuNtpu3BkABAAAAAAAIQA==\",\"dtype\":\"float64\",\"shape\":[32]},\"y\":{\"__ndarray__\":\"AAAAAAAAAAC6cThw3iUdwcdROgTEjC7B9/lziW0cOMGwr6uDlvtAwWoSae6XhEbBDarc+qbGTMF+ePx/DPJRwcvRVo+LAlbBgWwxuFqsWsEoJAAAkAVgwQAAAAAAABC+1pKrna5yFUHqNjY2TdckQYYsEonFcy5B7mBJehHTM0EnoVE4zUE4QdQAwGm+jzxBqE8o9N1iQEEv2hTg83VCQV62ClrkhERBcXIbdzCTRkG637UdIaRIQTooyBHQukpBbmw/EzDaTEHN9lQuFAVPQa9/mywbn1BBtASfux7EUUFRB3tr4fJSQdA23p6rLFRB38vByMNyVUECJrSXcMZWQQ==\",\"dtype\":\"float64\",\"shape\":[32]}}},\"id\":\"5b96d5d6-0fac-411f-bc25-64f6e2c873ff\",\"type\":\"ColumnDataSource\"},{\"attributes\":{\"fill_color\":{\"value\":\"orange\"},\"line_color\":{\"value\":\"orange\"},\"x\":{\"field\":\"x\"},\"y\":{\"field\":\"y\"}},\"id\":\"73c3b358-a3e0-4f34-a9c3-07b811898db7\",\"type\":\"Circle\"},{\"attributes\":{\"fill_alpha\":{\"value\":0.1},\"fill_color\":{\"value\":\"#1f77b4\"},\"line_alpha\":{\"value\":0.1},\"line_color\":{\"value\":\"#1f77b4\"},\"x\":{\"field\":\"x\"},\"y\":{\"field\":\"y\"}},\"id\":\"9a90f463-ed4b-4d67-82c6-f8599e2f7440\",\"type\":\"Circle\"},{\"attributes\":{\"data_source\":{\"id\":\"d32ea9bd-2965-45a8-b1ab-42ac5d67dd10\",\"type\":\"ColumnDataSource\"},\"glyph\":{\"id\":\"73c3b358-a3e0-4f34-a9c3-07b811898db7\",\"type\":\"Circle\"},\"hover_glyph\":null,\"nonselection_glyph\":{\"id\":\"9a90f463-ed4b-4d67-82c6-f8599e2f7440\",\"type\":\"Circle\"},\"selection_glyph\":null},\"id\":\"77ad3be6-464b-4288-a643-f9d8be833b20\",\"type\":\"GlyphRenderer\"},{\"attributes\":{\"label\":{\"value\":\"Simulation, True\"},\"renderers\":[{\"id\":\"77ad3be6-464b-4288-a643-f9d8be833b20\",\"type\":\"GlyphRenderer\"}]},\"id\":\"d7d84230-96c0-4faf-a181-2bbaeb2b1656\",\"type\":\"LegendItem\"},{\"attributes\":{\"callback\":null,\"column_names\":[\"x\",\"y\"],\"data\":{\"x\":{\"__ndarray__\":\"AAAAAAAA4D9orA+N9aHhP9FYHxrrQ+M/OgUvp+Dl5D+isT401ofmPwpeTsHLKeg/cwpeTsHL6T/ctm3btm3rP0RjfWisD+0/rA+N9aGx7j8KXk7ByynwPz801ofG+vA/cwpeTsHL8T+n4OUUvJzyP9y2bdu2bfM/EI31obE+9D9EY31orA/1P3g5BS+n4PU/rA+N9aGx9j/h5RS8nIL3PxW8nIKXU/g/SZIkSZIk+T9+aKwPjfX5P7I+NNaHxvo/5hS8nIKX+z8a60NjfWj8P07Byyl4Of0/g5dT8HIK/j+3bdu2bdv+P+tDY31orP8/EI31obE+AEAqeDkFL6cAQERjfWisDwFAXk7Byyl4AUB4OQUvp+ABQJIkSZIkSQJArA+N9aGxAkDG+tBYHxoDQOHlFLycggNA+9BYHxrrA0AVvJyCl1MEQC+n4OUUvARASZIkSZIkBUBjfWisD40FQH5orA+N9QVAmFPwcgpeBkCyPjTWh8YGQMwpeDkFLwdA5hS8nIKXB0AAAAAAAAAIQA==\",\"dtype\":\"float64\",\"shape\":[50]},\"y\":{\"__ndarray__\":\"AAAAAJAFYMHXtbCfnbhYwZmD2aWDMFPBMdbHl+3DTcHarY/Q/eFGwS/+yn/1QUHBtIfvHZsiOcFrRrwZmSwxwbYAvcFoniTB2QicB9M3EcFlkO3J+0LwQP0BJp1IJRdB6QNqkEg3JEEdNY6mEx8sQRgNrmYStTFB3xgACggZNUH2iKG4s0U4QURlODBuQztBsaTu/wsZPkE8lq6PF2ZAQfzhXprCsEFB0FrLy3vuQkGDO21W6CBEQUbZDJ1sSUVBoc7/zDdpRkFV2F8eTYFHQcrFr0GLkkhBVEsOYbKdSUGeJZ8CaaNKQQD2sgdApEtBJZ6q9rWgTEGA8l2zOZlNQUBLDcIsjk5BZGb3KuV/T0E9wQ2IVzdQQSRJkgFnrVBBC0RbEz8iUUGbdhWS+pVRQbONiX6xCFJBpf08X3l6UkFwiWSNZetSQWbQKneHW1NBG1/z2O7KU0El/PnuqTlUQcO9cqDFp1RB5yQfpU0VVUGp3SSmTIJVQSwr0lrM7lVBwRbhodVaVkHsJbSXcMZWQQ==\",\"dtype\":\"float64\",\"shape\":[50]}}},\"id\":\"0d62af78-2f33-4d1d-ae3f-90b41b49df69\",\"type\":\"ColumnDataSource\"},{\"attributes\":{\"below\":[{\"id\":\"f2b75f98-6581-4efc-88a0-597d6250b261\",\"type\":\"LinearAxis\"}],\"left\":[{\"id\":\"11439c67-8590-49b6-b3cf-4b40e10ddffc\",\"type\":\"LinearAxis\"}],\"renderers\":[{\"id\":\"f2b75f98-6581-4efc-88a0-597d6250b261\",\"type\":\"LinearAxis\"},{\"id\":\"36eed54c-92e2-470e-926e-ad8b55aadb50\",\"type\":\"Grid\"},{\"id\":\"11439c67-8590-49b6-b3cf-4b40e10ddffc\",\"type\":\"LinearAxis\"},{\"id\":\"7262ba14-7aa0-48c5-b411-934ac31a09e0\",\"type\":\"Grid\"},{\"id\":\"69795757-99eb-48f7-af12-93f3c728d68e\",\"type\":\"BoxAnnotation\"},{\"id\":\"a99aea44-b547-44de-b683-eb12f3150592\",\"type\":\"Legend\"},{\"id\":\"69e6e8ae-5fd3-4063-a7ab-bd79d2d51a3c\",\"type\":\"GlyphRenderer\"},{\"id\":\"34cd13b6-300c-4d88-acdd-6460c9569939\",\"type\":\"GlyphRenderer\"},{\"id\":\"77ad3be6-464b-4288-a643-f9d8be833b20\",\"type\":\"GlyphRenderer\"},{\"id\":\"0fe1ce1e-f872-4d3a-a5c8-7a57cfa5a101\",\"type\":\"GlyphRenderer\"}],\"title\":{\"id\":\"2f293c55-f287-4ed9-b2b4-6b1afd0fb37d\",\"type\":\"Title\"},\"tool_events\":{\"id\":\"a7423629-608d-4236-b457-fa6f73df42dd\",\"type\":\"ToolEvents\"},\"toolbar\":{\"id\":\"dc9c5511-74f9-4577-9722-dacb4d8c064b\",\"type\":\"Toolbar\"},\"x_range\":{\"id\":\"691a70d9-b96e-4fdf-ba4d-9c4e84bf725b\",\"type\":\"DataRange1d\"},\"y_range\":{\"id\":\"d8fce742-04a0-4bc7-87bd-28f4a103cb80\",\"type\":\"DataRange1d\"}},\"id\":\"5b46de6e-1ac8-4965-b126-a93992932a20\",\"subtype\":\"Figure\",\"type\":\"Plot\"},{\"attributes\":{\"fill_alpha\":{\"value\":0.1},\"fill_color\":{\"value\":\"#1f77b4\"},\"line_alpha\":{\"value\":0.1},\"line_color\":{\"value\":\"#1f77b4\"},\"x\":{\"field\":\"x\"},\"y\":{\"field\":\"y\"}},\"id\":\"871a1863-08a5-4afe-be02-fbadaf9e8a58\",\"type\":\"Circle\"},{\"attributes\":{\"fill_color\":{\"value\":\"red\"},\"line_color\":{\"value\":\"red\"},\"x\":{\"field\":\"x\"},\"y\":{\"field\":\"y\"}},\"id\":\"b74c6354-fac0-4446-a6a0-c64c287a9926\",\"type\":\"Circle\"},{\"attributes\":{\"label\":{\"value\":\"Simulation, Engineering\"},\"renderers\":[{\"id\":\"0fe1ce1e-f872-4d3a-a5c8-7a57cfa5a101\",\"type\":\"GlyphRenderer\"}]},\"id\":\"ad62b469-eee5-4d1c-85a3-337b13c8857b\",\"type\":\"LegendItem\"},{\"attributes\":{\"data_source\":{\"id\":\"5b96d5d6-0fac-411f-bc25-64f6e2c873ff\",\"type\":\"ColumnDataSource\"},\"glyph\":{\"id\":\"b74c6354-fac0-4446-a6a0-c64c287a9926\",\"type\":\"Circle\"},\"hover_glyph\":null,\"nonselection_glyph\":{\"id\":\"871a1863-08a5-4afe-be02-fbadaf9e8a58\",\"type\":\"Circle\"},\"selection_glyph\":null},\"id\":\"0fe1ce1e-f872-4d3a-a5c8-7a57cfa5a101\",\"type\":\"GlyphRenderer\"},{\"attributes\":{\"callback\":null},\"id\":\"691a70d9-b96e-4fdf-ba4d-9c4e84bf725b\",\"type\":\"DataRange1d\"},{\"attributes\":{},\"id\":\"1f83085f-696d-4359-963d-d35db4947ed0\",\"type\":\"BasicTickFormatter\"},{\"attributes\":{\"items\":[{\"id\":\"fd3f425e-964b-4eef-9b59-bff942727616\",\"type\":\"LegendItem\"},{\"id\":\"402115bf-7b55-4e2e-8445-11d5b597ce77\",\"type\":\"LegendItem\"},{\"id\":\"d7d84230-96c0-4faf-a181-2bbaeb2b1656\",\"type\":\"LegendItem\"},{\"id\":\"ad62b469-eee5-4d1c-85a3-337b13c8857b\",\"type\":\"LegendItem\"}],\"location\":\"top_left\",\"plot\":{\"id\":\"5b46de6e-1ac8-4965-b126-a93992932a20\",\"subtype\":\"Figure\",\"type\":\"Plot\"}},\"id\":\"a99aea44-b547-44de-b683-eb12f3150592\",\"type\":\"Legend\"},{\"attributes\":{\"plot\":null,\"text\":\"\"},\"id\":\"2f293c55-f287-4ed9-b2b4-6b1afd0fb37d\",\"type\":\"Title\"},{\"attributes\":{\"callback\":null,\"column_names\":[\"x\",\"y\"],\"data\":{\"x\":{\"__ndarray__\":\"AAAAAAAA4D9orA+N9aHhP9FYHxrrQ+M/OgUvp+Dl5D+isT401ofmPwpeTsHLKeg/cwpeTsHL6T/ctm3btm3rP0RjfWisD+0/rA+N9aGx7j8KXk7ByynwPz801ofG+vA/cwpeTsHL8T+n4OUUvJzyP9y2bdu2bfM/EI31obE+9D9EY31orA/1P3g5BS+n4PU/rA+N9aGx9j/h5RS8nIL3PxW8nIKXU/g/SZIkSZIk+T9+aKwPjfX5P7I+NNaHxvo/5hS8nIKX+z8a60NjfWj8P07Byyl4Of0/g5dT8HIK/j+3bdu2bdv+P+tDY31orP8/EI31obE+AEAqeDkFL6cAQERjfWisDwFAXk7Byyl4AUB4OQUvp+ABQJIkSZIkSQJArA+N9aGxAkDG+tBYHxoDQOHlFLycggNA+9BYHxrrA0AVvJyCl1MEQC+n4OUUvARASZIkSZIkBUBjfWisD40FQH5orA+N9QVAmFPwcgpeBkCyPjTWh8YGQMwpeDkFLwdA5hS8nIKXB0AAAAAAAAAIQA==\",\"dtype\":\"float64\",\"shape\":[50]},\"y\":{\"__ndarray__\":\"AAAAAJAFUMEgZaOQZD5LwXrNGnQRG0fB/HYkkkdwQ8HBGdgSgRxAwSLjIgoFEDrBDM6ujRRDNMHcwUJ1BnEtwcrJdEeouSLBwGthw+mDEMFwNnWFdm3wQIB/oF0OkBhB9ob4vy58JkHA1WzWN1swQQxZ08VxgDVBSngfRvWxOkFPY6DGQvM/QTYW7cKmo0JB24FMH0tYRUFyGyUCoBhIQZIopV2Q5UpBkEWtG+e/TUEjpzYxKlRQQfct5uu4z1FBEId+DeNSU0FwvTXP491UQSq7NoHvcFZBAdnohDQMWEFG5PQd3K9ZQS8yviELXFtBU+xri+IQXUEoyGH5f85eQdtkCAx/SmBBfcujfjoyYUGb1kg7fR5iQXIKXiZRD2NBYPUaP78EZEFA7tq4z/5kQSi7JxGK/WVB41X4IvUAZ0Fbeos3FwloQQzfNBX2FWlBZCtmDJcnakESXjED/z1rQbXneH8yWWxB1uf5rzV5bUHGb1Z0DJ5uQRw0QGS6x29B1r3vaiF7cEFxHMdx1BRxQQ==\",\"dtype\":\"float64\",\"shape\":[50]}}},\"id\":\"52510dc7-3381-4be8-90e0-5532b9426fb9\",\"type\":\"ColumnDataSource\"},{\"attributes\":{},\"id\":\"a7423629-608d-4236-b457-fa6f73df42dd\",\"type\":\"ToolEvents\"},{\"attributes\":{\"bottom_units\":\"screen\",\"fill_alpha\":{\"value\":0.5},\"fill_color\":{\"value\":\"lightgrey\"},\"left_units\":\"screen\",\"level\":\"overlay\",\"line_alpha\":{\"value\":1.0},\"line_color\":{\"value\":\"black\"},\"line_dash\":[4,4],\"line_width\":{\"value\":2},\"plot\":null,\"render_mode\":\"css\",\"right_units\":\"screen\",\"top_units\":\"screen\"},\"id\":\"69795757-99eb-48f7-af12-93f3c728d68e\",\"type\":\"BoxAnnotation\"},{\"attributes\":{\"active_drag\":\"auto\",\"active_scroll\":\"auto\",\"active_tap\":\"auto\",\"tools\":[{\"id\":\"21d220ef-f37d-4ee6-8497-252b56103cfc\",\"type\":\"ResizeTool\"},{\"id\":\"7c01fca2-74f7-4978-b8d4-bf772d73e865\",\"type\":\"PanTool\"},{\"id\":\"316c4649-d746-4130-8824-2f06afe5e746\",\"type\":\"WheelZoomTool\"},{\"id\":\"92098e0e-eb29-4a32-8b6b-d426355f4b13\",\"type\":\"BoxZoomTool\"},{\"id\":\"4d73d812-11a3-4baf-9275-f42162125bac\",\"type\":\"ResetTool\"},{\"id\":\"ac7952b2-c5be-40a8-a668-c13b643c01e0\",\"type\":\"SaveTool\"}]},\"id\":\"dc9c5511-74f9-4577-9722-dacb4d8c064b\",\"type\":\"Toolbar\"},{\"attributes\":{\"callback\":null},\"id\":\"d8fce742-04a0-4bc7-87bd-28f4a103cb80\",\"type\":\"DataRange1d\"},{\"attributes\":{\"axis_label\":\"Stretch\",\"formatter\":{\"id\":\"5c34bf67-e473-4b42-8904-db1ccadc4fca\",\"type\":\"BasicTickFormatter\"},\"plot\":{\"id\":\"5b46de6e-1ac8-4965-b126-a93992932a20\",\"subtype\":\"Figure\",\"type\":\"Plot\"},\"ticker\":{\"id\":\"fd220b0a-8a68-4c0d-bafd-230ef8aacfed\",\"type\":\"BasicTicker\"}},\"id\":\"f2b75f98-6581-4efc-88a0-597d6250b261\",\"type\":\"LinearAxis\"},{\"attributes\":{},\"id\":\"fd220b0a-8a68-4c0d-bafd-230ef8aacfed\",\"type\":\"BasicTicker\"},{\"attributes\":{},\"id\":\"5c34bf67-e473-4b42-8904-db1ccadc4fca\",\"type\":\"BasicTickFormatter\"},{\"attributes\":{\"plot\":{\"id\":\"5b46de6e-1ac8-4965-b126-a93992932a20\",\"subtype\":\"Figure\",\"type\":\"Plot\"},\"ticker\":{\"id\":\"fd220b0a-8a68-4c0d-bafd-230ef8aacfed\",\"type\":\"BasicTicker\"}},\"id\":\"36eed54c-92e2-470e-926e-ad8b55aadb50\",\"type\":\"Grid\"},{\"attributes\":{\"plot\":{\"id\":\"5b46de6e-1ac8-4965-b126-a93992932a20\",\"subtype\":\"Figure\",\"type\":\"Plot\"}},\"id\":\"316c4649-d746-4130-8824-2f06afe5e746\",\"type\":\"WheelZoomTool\"},{\"attributes\":{\"axis_label\":\"Stress\",\"formatter\":{\"id\":\"1f83085f-696d-4359-963d-d35db4947ed0\",\"type\":\"BasicTickFormatter\"},\"plot\":{\"id\":\"5b46de6e-1ac8-4965-b126-a93992932a20\",\"subtype\":\"Figure\",\"type\":\"Plot\"},\"ticker\":{\"id\":\"793f2f6e-e691-4907-9d1b-a48ca98bcd3b\",\"type\":\"BasicTicker\"}},\"id\":\"11439c67-8590-49b6-b3cf-4b40e10ddffc\",\"type\":\"LinearAxis\"},{\"attributes\":{},\"id\":\"793f2f6e-e691-4907-9d1b-a48ca98bcd3b\",\"type\":\"BasicTicker\"},{\"attributes\":{\"dimension\":1,\"plot\":{\"id\":\"5b46de6e-1ac8-4965-b126-a93992932a20\",\"subtype\":\"Figure\",\"type\":\"Plot\"},\"ticker\":{\"id\":\"793f2f6e-e691-4907-9d1b-a48ca98bcd3b\",\"type\":\"BasicTicker\"}},\"id\":\"7262ba14-7aa0-48c5-b411-934ac31a09e0\",\"type\":\"Grid\"},{\"attributes\":{\"label\":{\"value\":\"True\"},\"renderers\":[{\"id\":\"69e6e8ae-5fd3-4063-a7ab-bd79d2d51a3c\",\"type\":\"GlyphRenderer\"}]},\"id\":\"fd3f425e-964b-4eef-9b59-bff942727616\",\"type\":\"LegendItem\"},{\"attributes\":{\"data_source\":{\"id\":\"52510dc7-3381-4be8-90e0-5532b9426fb9\",\"type\":\"ColumnDataSource\"},\"glyph\":{\"id\":\"4b3625cb-e131-4928-beea-16093fa168ee\",\"type\":\"Line\"},\"hover_glyph\":null,\"nonselection_glyph\":{\"id\":\"71573985-9ea5-4a67-b694-3a54877fb4d2\",\"type\":\"Line\"},\"selection_glyph\":null},\"id\":\"69e6e8ae-5fd3-4063-a7ab-bd79d2d51a3c\",\"type\":\"GlyphRenderer\"},{\"attributes\":{\"plot\":{\"id\":\"5b46de6e-1ac8-4965-b126-a93992932a20\",\"subtype\":\"Figure\",\"type\":\"Plot\"}},\"id\":\"21d220ef-f37d-4ee6-8497-252b56103cfc\",\"type\":\"ResizeTool\"},{\"attributes\":{\"overlay\":{\"id\":\"69795757-99eb-48f7-af12-93f3c728d68e\",\"type\":\"BoxAnnotation\"},\"plot\":{\"id\":\"5b46de6e-1ac8-4965-b126-a93992932a20\",\"subtype\":\"Figure\",\"type\":\"Plot\"}},\"id\":\"92098e0e-eb29-4a32-8b6b-d426355f4b13\",\"type\":\"BoxZoomTool\"},{\"attributes\":{\"plot\":{\"id\":\"5b46de6e-1ac8-4965-b126-a93992932a20\",\"subtype\":\"Figure\",\"type\":\"Plot\"}},\"id\":\"7c01fca2-74f7-4978-b8d4-bf772d73e865\",\"type\":\"PanTool\"},{\"attributes\":{\"line_color\":{\"value\":\"blue\"},\"line_width\":{\"value\":2},\"x\":{\"field\":\"x\"},\"y\":{\"field\":\"y\"}},\"id\":\"4b3625cb-e131-4928-beea-16093fa168ee\",\"type\":\"Line\"}],\"root_ids\":[\"5b46de6e-1ac8-4965-b126-a93992932a20\"]},\"title\":\"Bokeh Application\",\"version\":\"0.12.4\"}};\n",
       "            var render_items = [{\"docid\":\"bff71c4e-eb24-4329-a474-14ca23ef97b5\",\"elementid\":\"741c7293-7c3e-4d39-adf6-ec95e33c3556\",\"modelid\":\"5b46de6e-1ac8-4965-b126-a93992932a20\"}];\n",
       "            \n",
       "            Bokeh.embed.embed_items(docs_json, render_items);\n",
       "          };\n",
       "          if (document.readyState != \"loading\") fn();\n",
       "          else document.addEventListener(\"DOMContentLoaded\", fn);\n",
       "        })();\n",
       "      },\n",
       "      function(Bokeh) {\n",
       "      }\n",
       "    ];\n",
       "  \n",
       "    function run_inline_js() {\n",
       "      \n",
       "      if ((window.Bokeh !== undefined) || (force === true)) {\n",
       "        for (var i = 0; i < inline_js.length; i++) {\n",
       "          inline_js[i](window.Bokeh);\n",
       "        }if (force === true) {\n",
       "          display_loaded();\n",
       "        }} else if (Date.now() < window._bokeh_timeout) {\n",
       "        setTimeout(run_inline_js, 100);\n",
       "      } else if (!window._bokeh_failed_load) {\n",
       "        console.log(\"Bokeh: BokehJS failed to load within specified timeout.\");\n",
       "        window._bokeh_failed_load = true;\n",
       "      } else if (force !== true) {\n",
       "        var cell = $(document.getElementById(\"741c7293-7c3e-4d39-adf6-ec95e33c3556\")).parents('.cell').data().cell;\n",
       "        cell.output_area.append_execute_result(NB_LOAD_WARNING)\n",
       "      }\n",
       "  \n",
       "    }\n",
       "  \n",
       "    if (window._bokeh_is_loading === 0) {\n",
       "      console.log(\"Bokeh: BokehJS loaded, going straight to plotting\");\n",
       "      run_inline_js();\n",
       "    } else {\n",
       "      load_libs(js_urls, function() {\n",
       "        console.log(\"Bokeh: BokehJS plotting callback run at\", now());\n",
       "        run_inline_js();\n",
       "      });\n",
       "    }\n",
       "  }(this));\n",
       "</script>"
      ]
     },
     "metadata": {},
     "output_type": "display_data"
    }
   ],
   "source": [
    "# Hyperelastic parameters, D1 set to a large number to force incompressibility\n",
    "parameters = {'D1': 1.e12, 'C10': 1e6, 'C01': .1e6}\n",
    "\n",
    "# stretch to 300%\n",
    "lam = linspace(.5, 3, 50)\n",
    "\n",
    "# Set up the simulator\n",
    "mps = MaterialPointSimulator('test1')\n",
    "mps.material = MooneyRivlinMaterial(**parameters)\n",
    "\n",
    "# Drive the *incompressible* material through a path of uniaxial stress by\n",
    "# prescribing the deformation gradient.\n",
    "Fij = lambda x: (x, 0, 0, 0, 1/sqrt(x), 0, 0, 0, 1/sqrt(x))\n",
    "mps.run_step('F', Fij(lam[0]), frames=10)\n",
    "mps.run_step('F', Fij(1), frames=1)\n",
    "mps.run_step('F', Fij(lam[-1]), frames=20)\n",
    "\n",
    "# plot the analytic solution and the simulation\n",
    "p = create_figure(bokeh=True, x_axis_label='Stretch', y_axis_label='Stress')\n",
    "C10, C01 = parameters['C10'], parameters['C01']\n",
    "\n",
    "# analytic solution for true and engineering stress\n",
    "s = 2*C01*lam - 2*C01/lam**2 + 2*C10*lam**2 - 2*C10/lam\n",
    "\n",
    "# plot the analytic solutions\n",
    "p.line(lam, s, color='blue', legend='True', line_width=2)\n",
    "p.line(lam, s/lam, color='green', legend='Engineering', line_width=2)\n",
    "\n",
    "lam_ = np.exp(mps.get('E.XX'))\n",
    "ss = mps.get('S.XX') - mps.get('S.ZZ')\n",
    "p.circle(lam_, ss, color='orange', legend='Simulation, True')\n",
    "p.circle(lam_, ss/lam_, color='red', legend='Simulation, Engineering')\n",
    "p.legend.location = 'top_left'\n",
    "\n",
    "show(p)\n",
    "\n",
    "# check the actual solutions\n",
    "assert abs(amax(ss) - amax(s)) / amax(s) < 1e-6\n",
    "assert abs(amin(ss) - amin(s)) < 1e-6"
   ]
  },
  {
   "cell_type": "code",
   "execution_count": null,
   "metadata": {
    "collapsed": true
   },
   "outputs": [],
   "source": []
  }
 ],
 "metadata": {
  "anaconda-cloud": {},
  "kernelspec": {
   "display_name": "Python 3",
   "language": "python",
   "name": "python3"
  },
  "language_info": {
   "codemirror_mode": {
    "name": "ipython",
    "version": 3
   },
   "file_extension": ".py",
   "mimetype": "text/x-python",
   "name": "python",
   "nbconvert_exporter": "python",
   "pygments_lexer": "ipython3",
   "version": "3.6.0"
  }
 },
 "nbformat": 4,
 "nbformat_minor": 0
}
