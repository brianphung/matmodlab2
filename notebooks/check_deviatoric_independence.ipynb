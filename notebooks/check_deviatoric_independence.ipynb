{
 "cells": [
  {
   "cell_type": "code",
   "execution_count": 1,
   "metadata": {},
   "outputs": [
    {
     "name": "stdout",
     "output_type": "stream",
     "text": [
      "Setting up the Matmodlab notebook environment\n"
     ]
    }
   ],
   "source": [
    "%matplotlib inline\n",
    "#from bokeh.io import output_notebook\n",
    "#rom bokeh.plotting import *\n",
    "from matmodlab2 import *\n",
    "from numpy import *\n",
    "#output_notebook()\n",
    "import numpy as np\n",
    "from numpy import array\n",
    "import pandas as pd\n",
    "import matplotlib.pyplot as plt\n",
    "from IPython.display import display\n"
   ]
  },
  {
   "cell_type": "code",
   "execution_count": 2,
   "metadata": {},
   "outputs": [],
   "source": [
    "\n",
    "\"\"\"\n",
    "def B(X_0):\n",
    "    X_0 = 0\n",
    "    x = array([-0.324190879399528  , -0.5910265708699819 , -0.18063603062696332,\n",
    "       -0.38121381734569654, -0.6175628700881645 , -0.23576228096254312,\n",
    "       -0.28240916917730036, -0.5473481732181913 , -0.16744427128767322,\n",
    "       -0.2630318047470945 , -0.4235775835834732 , -0.04148242995369289,\n",
    "        0.5943025397254625 ,  0.5770764819925227 ,  0.05778373947936392,\n",
    "       -0.4019021627391064 ,  0.6422532886726127 , -0.9725103257468183 ,\n",
    "        0.564662540091747  , -0.32419465         , -0.59102337         ,\n",
    "       -0.18063179         , -0.38121066         , -0.61755865         ,\n",
    "       -0.23576606         , -0.28240491         , -0.54735189         ,\n",
    "       -0.16744104         , -0.358838           , -0.42357774         ,\n",
    "       -0.04148228         ,  0.5943027          ,  0.57707663         ,\n",
    "        0.0577839          , -0.40190232         ,  0.64225345         ,\n",
    "       -0.97251048         ,  0.56466269         ])\n",
    "    eq = (array([[x[0], x[1], x[2]],\n",
    "            [x[3], x[4], x[5]],\n",
    "            [x[6], x[7], x[8]]])) * ((array(x[9]) + X_0 + array(x[9]) + X_0) * (X_0)) + array([[x[10], x[11], x[12] ],        \n",
    "            [ x[13],  x[14] , x[15]],\n",
    "            [ x[16], x[17],  x[18]]])\n",
    "    return eq\n",
    "\"\"\"\n",
    "\n",
    "\"\"\"\n",
    "def B(X_0):\n",
    "    eq = np.eye(3)\n",
    "    eq[0,0] += 1e-3\n",
    "    eq[1,1] -= 1e-3\n",
    "    return eq\n",
    "\"\"\"\n",
    "\n",
    "\"\"\" Using a rotation\n",
    "def B(eqps):\n",
    "    alpha = 10*np.pi/180\n",
    "    B_in = np.array([ [1,0,0], [0, cos(alpha), -sin(alpha)], [ 0, sin(alpha), cos(alpha) ] ])\n",
    "    #B_in = np.transpose(B_in) @ np.eye(3) @ B_in\n",
    "    #print(B_in)\n",
    "    return B_in\n",
    "\"\"\"\n",
    "\n",
    "\n",
    "\n",
    "\"\"\" Using a rotation with deviatoric independence\n",
    "def B(eqps):\n",
    "    alpha = 10*np.pi/180\n",
    "    B_in = np.array([ [1,0,0], [0, cos(alpha), -sin(alpha)], [ 0, sin(alpha), cos(alpha) ] ])\n",
    "\n",
    "    B_in = align_axes_with_pi_plane_rot().T @ B_in @ align_axes_with_pi_plane_rot()\n",
    "    B_in[:, 2] = 0\n",
    "    B_in[2, :] = 0\n",
    "    B_in[2, 2] = 1\n",
    "    B_in = align_axes_with_pi_plane_rot() @ B_in @ align_axes_with_pi_plane_rot().T\n",
    "    #B_in = np.transpose(B_in) @ np.eye(3) @ B_in\n",
    "    print('B_in', B_in)\n",
    "    return B_in\n",
    "\"\"\"\n",
    "\n",
    "#\"\"\" Force deviatoric independence on a BINGO solution\n",
    "def B(X_0):\n",
    "    X_0 = 0\n",
    "    x = array([-0.324190879399528  , -0.5910265708699819 , -0.18063603062696332,\n",
    "       -0.38121381734569654, -0.6175628700881645 , -0.23576228096254312,\n",
    "       -0.28240916917730036, -0.5473481732181913 , -0.16744427128767322,\n",
    "       -0.2630318047470945 , -0.4235775835834732 , -0.04148242995369289,\n",
    "        0.5943025397254625 ,  0.5770764819925227 ,  0.05778373947936392,\n",
    "       -0.4019021627391064 ,  0.6422532886726127 , -0.9725103257468183 ,\n",
    "        0.564662540091747  , -0.32419465         , -0.59102337         ,\n",
    "       -0.18063179         , -0.38121066         , -0.61755865         ,\n",
    "       -0.23576606         , -0.28240491         , -0.54735189         ,\n",
    "       -0.16744104         , -0.358838           , -0.42357774         ,\n",
    "       -0.04148228         ,  0.5943027          ,  0.57707663         ,\n",
    "        0.0577839          , -0.40190232         ,  0.64225345         ,\n",
    "       -0.97251048         ,  0.56466269         ])\n",
    "    B_in = (array([[x[0], x[1], x[2]],\n",
    "            [x[3], x[4], x[5]],\n",
    "            [x[6], x[7], x[8]]])) * ((array(x[9]) + X_0 + array(x[9]) + X_0) * (X_0)) + array([[x[10], x[11], x[12] ],        \n",
    "            [ x[13],  x[14] , x[15]],\n",
    "            [ x[16], x[17],  x[18]]])\n",
    "    B_in = align_axes_with_pi_plane_rot().T @ B_in @ align_axes_with_pi_plane_rot()\n",
    "    B_in[:, 2] = 0\n",
    "    B_in[2, :] = 0\n",
    "    B_in[2, 2] = 1\n",
    "    B_in = align_axes_with_pi_plane_rot() @ B_in @ align_axes_with_pi_plane_rot().T\n",
    "    return B_in\n",
    "#\"\"\"\n",
    "\n",
    "def align_pi_plane_with_axes_rot():\n",
    "    \"\"\"\n",
    "    Returns a matrix that rotates the pi plane's normal to be the z axis\n",
    "    i.e., a slice of pi plane becomes the xy plane after rotation\n",
    "    \"\"\"\n",
    "    pi_vector = np.array([1, 1, 1]) / np.sqrt(3.)\n",
    "    # wanted_vector = np.array([1, 0, 0])\n",
    "    wanted_vector = np.array([0, 0, 1])\n",
    "    wanted_vector = wanted_vector / np.linalg.norm(wanted_vector)\n",
    "    added = (pi_vector + wanted_vector).reshape([-1, 1])\n",
    "    # from Rodrigues' rotation formula, more info here: https://math.stackexchange.com/a/2672702\n",
    "    rot_mat = 2 * (added @ added.T) / (added.T @ added) - np.eye(3)\n",
    "    return rot_mat\n",
    "\n",
    "\n",
    "def align_axes_with_pi_plane_rot():\n",
    "    \"\"\"\n",
    "    Returns a matrix that undoes the align_pi_plane_with_axes_rot rotation\n",
    "    \"\"\"\n",
    "    return np.linalg.inv(align_pi_plane_with_axes_rot())\n",
    "\n",
    "full_sdv_column_names =  [\n",
    "            # ADDED\n",
    "            \"TIME\",\n",
    "            \"DTIME\",\n",
    "            \"REAL_SXX\",\n",
    "            \"REAL_SYY\",\n",
    "            \"REAL_SZZ\",\n",
    "            \"REAL_SXY\",\n",
    "            \"REAL_SYZ\",\n",
    "            \"REAL_SXZ\",\n",
    "            # BEGIN ACTUAL MAT SDVS\n",
    "            \"FICT_EP_XX\",  # 0\n",
    "            \"FICT_EP_YY\",  # 1\n",
    "            \"FICT_EP_ZZ\",  # 2\n",
    "            \"FICT_EP_XY\",  # 3\n",
    "            \"FICT_EP_YZ\",  # 4\n",
    "            \"FICT_EP_XZ\",  # 5\n",
    "            \"FICT_EQPS\",   # 6\n",
    "            \"REAL_EP_XX\",  # 7\n",
    "            \"REAL_EP_YY\",  # 8\n",
    "            \"REAL_EP_ZZ\",  # 9\n",
    "            \"REAL_EP_XY\",  # 10\n",
    "            \"REAL_EP_YZ\",  # 11\n",
    "            \"REAL_EP_XZ\",  # 12\n",
    "            \"REAL_EQPS\",   # 13\n",
    "            \"Y\",           # 14\n",
    "            \"S.VM\",        # 15\n",
    "            # SDVS ABOVE HERE ARE HARD CODED, do not modify SDVs above this line\n",
    "            \"FICT_SXX\",    \n",
    "            \"FICT_SYY\",\n",
    "            \"FICT_SZZ\",\n",
    "            \"FICT_SXY\",\n",
    "            \"FICT_SYZ\",\n",
    "            \"FICT_SXZ\", \n",
    "            \"TRIAL_STRESS_POST_TRANS_XX\",\n",
    "            \"TRIAL_STRESS_POST_TRANS_YY\",\n",
    "            \"TRIAL_STRESS_POST_TRANS_ZZ\",\n",
    "            \"TRIAL_STRESS_POST_TRANS_XY\",\n",
    "            \"TRIAL_STRESS_POST_TRANS_YZ\",\n",
    "            \"TRIAL_STRESS_POST_TRANS_XZ\",\n",
    "            \"MML_STRESS_GUESS_XX\",    \n",
    "            \"MML_STRESS_GUESS_YY\", \n",
    "            \"MML_STRESS_GUESS_ZZ\", \n",
    "            \"MML_STRESS_GUESS_XY\",    \n",
    "            \"MML_STRESS_GUESS_YZ\", \n",
    "            \"MML_STRESS_GUESS_XZ\", \n",
    "            \"TRIAL_STRESS_PRE_TRANS_XX\",   \n",
    "            \"TRIAL_STRESS_PRE_TRANS_YY\",   \n",
    "            \"TRIAL_STRESS_PRE_TRANS_ZZ\",   \n",
    "            \"TRIAL_STRESS_PRE_TRANS_XY\",   \n",
    "            \"TRIAL_STRESS_PRE_TRANS_YZ\",   \n",
    "            \"TRIAL_STRESS_PRE_TRANS_XZ\",   \n",
    "            \"CONV_STRESS_ISO_XX\", \n",
    "            \"CONV_STRESS_ISO_YY\", \n",
    "            \"CONV_STRESS_ISO_ZZ\", \n",
    "            \"CONV_STRESS_ISO_XY\", \n",
    "            \"CONV_STRESS_ISO_YZ\", \n",
    "            \"CONV_STRESS_ISO_XZ\", \n",
    "            \"FICT_EQPS_INPUT\", \n",
    "            \"DELTA_EXX\", \n",
    "            \"DELTA_EYY\", \n",
    "            \"DELTA_EZZ\", \n",
    "            \"DELTA_EXY\", \n",
    "            \"DELTA_EYZ\", \n",
    "            \"DELTA_EXZ\", \n",
    "            'DELTA_SXX',\n",
    "            'DELTA_SYY',\n",
    "            'DELTA_SZZ',\n",
    "            'DELTA_SXY',\n",
    "            'DELTA_SYZ',\n",
    "            'DELTA_SXZ',\n",
    "        ]\n",
    "column_reorder = [ 'TIME', 'DTIME',\n",
    "                    'MML_STRESS_GUESS_XX',\n",
    "                    'MML_STRESS_GUESS_YY',\n",
    "                    'MML_STRESS_GUESS_ZZ',\n",
    "                    \"MML_STRESS_GUESS_XY\",    \n",
    "                    \"MML_STRESS_GUESS_YZ\", \n",
    "                    \"MML_STRESS_GUESS_XZ\", \n",
    "                    'DELTA_EXX',\n",
    "                    'DELTA_EYY',\n",
    "                    'DELTA_EZZ',\n",
    "                    \"DELTA_EXY\", \n",
    "                    \"DELTA_EYZ\", \n",
    "                    \"DELTA_EXZ\", \n",
    "                    'TRIAL_STRESS_PRE_TRANS_XX',\n",
    "                    'TRIAL_STRESS_PRE_TRANS_YY',\n",
    "                    'TRIAL_STRESS_PRE_TRANS_ZZ',\n",
    "                    \"TRIAL_STRESS_PRE_TRANS_XY\",   \n",
    "                    \"TRIAL_STRESS_PRE_TRANS_YZ\",   \n",
    "                    \"TRIAL_STRESS_PRE_TRANS_XZ\",   \n",
    "                    'DELTA_SXX',\n",
    "                    'DELTA_SYY',\n",
    "                    'DELTA_SZZ',\n",
    "                    'DELTA_SXY',\n",
    "                    'DELTA_SYZ',\n",
    "                    'DELTA_SXZ',\n",
    "                    'TRIAL_STRESS_POST_TRANS_XX',\n",
    "                    'TRIAL_STRESS_POST_TRANS_YY',\n",
    "                    'TRIAL_STRESS_POST_TRANS_ZZ',\n",
    "                    \"TRIAL_STRESS_PRE_TRANS_XY\",   \n",
    "                    \"TRIAL_STRESS_PRE_TRANS_YZ\",   \n",
    "                    \"TRIAL_STRESS_PRE_TRANS_XZ\",   \n",
    "                    'CONV_STRESS_ISO_XX',\n",
    "                    'CONV_STRESS_ISO_YY',\n",
    "                    'CONV_STRESS_ISO_ZZ',\n",
    "                    \"CONV_STRESS_ISO_XY\", \n",
    "                    \"CONV_STRESS_ISO_YZ\", \n",
    "                    \"CONV_STRESS_ISO_XZ\", \n",
    "                    'FICT_SXX',\n",
    "                    'FICT_SYY',\n",
    "                    'FICT_SZZ',\n",
    "                    \"FICT_SXY\",\n",
    "                    \"FICT_SYZ\",\n",
    "                    \"FICT_SXZ\", \n",
    "                    \"FICT_EP_XX\",  # 0\n",
    "                    \"FICT_EP_YY\",  # 1\n",
    "                    \"FICT_EP_ZZ\",  # 2\n",
    "                    'REAL_EP_XX',\n",
    "                    'REAL_EP_YY',\n",
    "                    'REAL_EP_ZZ',\n",
    "                    \"REAL_SXX\",\n",
    "                    \"REAL_SYY\",\n",
    "                    \"REAL_SZZ\",\n",
    "                    \"REAL_SXY\",\n",
    "                    \"REAL_SYZ\",\n",
    "                    \"REAL_SXZ\",\n",
    "                    'S.VM',]\n",
    "def run_ST_GPSR_TTM(property_dict, loads='ESS', components=(0.02, 0, 0), frames=50):\n",
    "    mps1 = MaterialPointSimulator('ST_GPSR_TTM')\n",
    "    mps1.material = ST_GPSR_TTM(**property_dict)\n",
    "    mps1.run_step(loads,  components, frames=frames)\n",
    "    return mps1\n",
    "\n",
    "def run_CPA_alg(property_dict, loads='ESS', components=(0.02, 0, 0), frames=50):\n",
    "    mps1 = MaterialPointSimulator('CPAPlasticitiy')\n",
    "    mps1.material = ST_GPSR_TTM(**property_dict)\n",
    "    mps1.run_step(loads,  components, frames=frames)\n",
    "    return mps1\n",
    "\n",
    "def run_generic_mps(mps1, property_dict, loads='ESS', components=(0.02, 0, 0), frames=50):\n",
    "    mps1.run_step(loads,  components, frames=frames)\n",
    "    return mps1\n",
    "\n",
    "def draw_principal_axes(ax, length_of_axes=2.5, scale=100):\n",
    "    \"\"\"\n",
    "    Draws principal axes on graph, change length of axes and scale\n",
    "    \"\"\"\n",
    "    zero_pos = np.zeros(2)\n",
    "    straight_up_pos = np.array([0, 1]) * length_of_axes\n",
    "    bottom_right_pos = np.array([np.cos(-np.pi / 6.), np.sin(-np.pi / 6.)]) * length_of_axes\n",
    "    bottom_left_pos = np.array([np.cos(7 * np.pi / 6.), np.sin(7 * np.pi / 6.)]) * length_of_axes\n",
    "\n",
    "    ax.quiver(*zero_pos, *straight_up_pos, scale_units=\"xy\", scale=1)\n",
    "    ax.annotate(r\"$\\sigma_2$\", straight_up_pos + np.array([0.25, -0.3]) * scale)\n",
    "\n",
    "    ax.quiver(*zero_pos, *bottom_right_pos, scale_units=\"xy\", scale=1)\n",
    "    ax.annotate(r\"$\\sigma_1$\", bottom_right_pos + np.array([-0.18, 0.45]) * scale)\n",
    "\n",
    "    ax.quiver(*zero_pos, *bottom_left_pos, scale_units=\"xy\", scale=1)\n",
    "    # ax.annotate(r\"$\\sigma_3$\", bottom_left_pos + np.array([0.1, -0.45]) * scale)\n",
    "    ax.annotate(r\"$\\sigma_3$\", bottom_left_pos + np.array([0.28, -0.4]) * scale)\n",
    "    # ax.annotate(r\"$\\sigma_3$\", bottom_left_pos + np.array([-0.18, -0.4]) * scale)\n",
    "\n"
   ]
  },
  {
   "cell_type": "code",
   "execution_count": 3,
   "metadata": {},
   "outputs": [
    {
     "data": {
      "text/plain": [
       "array([1900, 2500, 2000])"
      ]
     },
     "execution_count": 3,
     "metadata": {},
     "output_type": "execute_result"
    }
   ],
   "source": [
    "stress_state = np.array([1900, 2500, 2000])\n",
    "stress_state"
   ]
  },
  {
   "cell_type": "code",
   "execution_count": 4,
   "metadata": {},
   "outputs": [
    {
     "data": {
      "text/plain": [
       "(array([1900, 2500, 2000]),\n",
       " array([2350.12660829, 2285.86554878, 1764.00784293]),\n",
       " array([1900., 2500., 2000.]),\n",
       " array([ 216.79327496,  152.53221545, -369.32549041]),\n",
       " 2133.333333333332)"
      ]
     },
     "execution_count": 4,
     "metadata": {},
     "output_type": "execute_result"
    }
   ],
   "source": [
    "new_state = B(0) @ stress_state\n",
    "back_state = np.linalg.inv(B(0)) @ new_state\n",
    "dev = new_state - 1/3*np.sum(new_state)\n",
    "hydro_basic = 1/3*np.sum(new_state)\n",
    "stress_state, new_state, back_state, dev, hydro_basic"
   ]
  },
  {
   "cell_type": "code",
   "execution_count": 5,
   "metadata": {},
   "outputs": [
    {
     "data": {
      "text/plain": [
       "(array([-233.33333333,  366.66666667, -133.33333333]),\n",
       " array([ 216.79327496,  152.53221545, -369.32549041]),\n",
       " array([-233.33333333,  366.66666667, -133.33333333]),\n",
       " array([ 216.79327496,  152.53221545, -369.32549041]),\n",
       " 9.094947017729282e-13)"
      ]
     },
     "execution_count": 5,
     "metadata": {},
     "output_type": "execute_result"
    }
   ],
   "source": [
    "dev_state = stress_state - 1/3.*np.sum(stress_state)\n",
    "hydro_dev = np.sum(dev_state)\n",
    "new_dev = B(0) @ dev_state\n",
    "back_dev = np.linalg.inv(B(0)) @ new_dev\n",
    "new_dev_dev = new_dev - 1/3*np.sum(new_dev)\n",
    "dev_state, new_dev, back_dev, new_dev_dev, hydro_dev"
   ]
  },
  {
   "cell_type": "code",
   "execution_count": 6,
   "metadata": {},
   "outputs": [
    {
     "name": "stdout",
     "output_type": "stream",
     "text": [
      "[ 184.52994616 -415.47005384 3695.04172281] [-351.97578671 -287.7147272  3695.04172281]\n"
     ]
    },
    {
     "data": {
      "text/plain": [
       "(array([[ 184.52994616, -415.47005384],\n",
       "        [-351.97578671, -287.7147272 ]]),\n",
       " array([[ 184.52994616, -415.47005384],\n",
       "        [-351.97578671, -287.7147272 ]]))"
      ]
     },
     "execution_count": 6,
     "metadata": {},
     "output_type": "execute_result"
    }
   ],
   "source": [
    "ref_state_1 = stress_state @ align_axes_with_pi_plane_rot()\n",
    "\n",
    "ref_state_2 = new_state @ align_axes_with_pi_plane_rot()\n",
    "print(ref_state_1, ref_state_2)\n",
    "dev_state_1 = dev_state @ align_axes_with_pi_plane_rot()\n",
    "dev_state_2 = new_dev @ align_axes_with_pi_plane_rot()\n",
    "ref_traj = np.vstack([ref_state_1[:2], ref_state_2[:2]])\n",
    "dev_traj = np.vstack([dev_state_1[:2], dev_state_2[:2]])\n",
    "ref_traj, dev_traj"
   ]
  },
  {
   "cell_type": "code",
   "execution_count": 7,
   "metadata": {},
   "outputs": [
    {
     "data": {
      "text/plain": [
       "(-600.0, 600.0)"
      ]
     },
     "execution_count": 7,
     "metadata": {},
     "output_type": "execute_result"
    },
    {
     "data": {
      "image/png": "[encoded data removed]",
      "text/plain": [
       "<Figure size 432x288 with 1 Axes>"
      ]
     },
     "metadata": {
      "needs_background": "light"
     },
     "output_type": "display_data"
    }
   ],
   "source": [
    "fig = plt.figure()\n",
    "ax = fig.add_subplot()\n",
    "#print(pi_plane_vir_stress_trajectory)\n",
    "plt.plot(*ref_traj.T, 'm-*', label=\"reference mapping trajectory\")\n",
    "plt.plot(*dev_traj.T, 'k--o', label=\"deviatoric mapping trajectory\")\n",
    "\n",
    "ax.legend()\n",
    "draw_principal_axes(ax, length_of_axes=5000, scale=15)\n",
    "\n",
    "ax.axis(\"equal\")\n",
    "ax.set_xlim([-600, 600])\n",
    "ax.set_ylim([-600, 600])"
   ]
  },
  {
   "cell_type": "code",
   "execution_count": null,
   "metadata": {},
   "outputs": [],
   "source": []
  }
 ],
 "metadata": {
  "kernelspec": {
   "display_name": "mml2",
   "language": "python",
   "name": "python3"
  },
  "language_info": {
   "codemirror_mode": {
    "name": "ipython",
    "version": 3
   },
   "file_extension": ".py",
   "mimetype": "text/x-python",
   "name": "python",
   "nbconvert_exporter": "python",
   "pygments_lexer": "ipython3",
   "version": "3.9.7"
  }
 },
 "nbformat": 4,
 "nbformat_minor": 2
}
