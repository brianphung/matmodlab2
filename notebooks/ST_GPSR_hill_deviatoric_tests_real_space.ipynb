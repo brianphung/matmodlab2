{
 "cells": [
  {
   "cell_type": "code",
   "execution_count": 1,
   "metadata": {},
   "outputs": [
    {
     "name": "stdout",
     "output_type": "stream",
     "text": [
      "Setting up the Matmodlab notebook environment\n"
     ]
    }
   ],
   "source": [
    "%matplotlib inline\n",
    "#from bokeh.io import output_notebook\n",
    "#rom bokeh.plotting import *\n",
    "from matmodlab2 import *\n",
    "from numpy import *\n",
    "#output_notebook()\n",
    "import numpy as np\n",
    "from numpy import array\n",
    "import pandas as pd\n",
    "import matplotlib.pyplot as plt\n",
    "from IPython.display import display\n",
    "import dill\n",
    "import sys"
   ]
  },
  {
   "cell_type": "code",
   "execution_count": 2,
   "metadata": {},
   "outputs": [],
   "source": [
    "def align_pi_plane_with_axes_rot():\n",
    "    \"\"\"\n",
    "    Returns a matrix that rotates the pi plane's normal to be the z axis\n",
    "    i.e., a slice of pi plane becomes the xy plane after rotation\n",
    "    \"\"\"\n",
    "    pi_vector = np.array([1, 1, 1]) / np.sqrt(3.)\n",
    "    # wanted_vector = np.array([1, 0, 0])\n",
    "    wanted_vector = np.array([0, 0, 1])\n",
    "    wanted_vector = wanted_vector / np.linalg.norm(wanted_vector)\n",
    "    added = (pi_vector + wanted_vector).reshape([-1, 1])\n",
    "    # from Rodrigues' rotation formula, more info here: https://math.stackexchange.com/a/2672702\n",
    "    rot_mat = 2 * (added @ added.T) / (added.T @ added) - np.eye(3)\n",
    "    return rot_mat\n",
    "\n",
    "\n",
    "def align_axes_with_pi_plane_rot():\n",
    "    \"\"\"\n",
    "    Returns a matrix that undoes the align_pi_plane_with_axes_rot rotation\n",
    "    \"\"\"\n",
    "    return np.linalg.inv(align_pi_plane_with_axes_rot())\n",
    "\n",
    "align_axes_with_pi_plane_rot = align_axes_with_pi_plane_rot()\n",
    "align_pi_plane_with_axes_rot = align_pi_plane_with_axes_rot()\n",
    "\n",
    "\n",
    "full_sdv_column_names =  [\n",
    "            # ADDED\n",
    "            \"TIME\",\n",
    "            \"DTIME\",\n",
    "            \"REAL_SXX\",\n",
    "            \"REAL_SYY\",\n",
    "            \"REAL_SZZ\",\n",
    "            \"REAL_SXY\",\n",
    "            \"REAL_SYZ\",\n",
    "            \"REAL_SXZ\",\n",
    "            # BEGIN ACTUAL MAT SDVS\n",
    "            \"FICT_EP_XX\",  # 0\n",
    "            \"FICT_EP_YY\",  # 1\n",
    "            \"FICT_EP_ZZ\",  # 2\n",
    "            \"FICT_EP_XY\",  # 3\n",
    "            \"FICT_EP_YZ\",  # 4\n",
    "            \"FICT_EP_XZ\",  # 5\n",
    "            \"FICT_EQPS\",   # 6\n",
    "            \"REAL_EP_XX\",  # 7\n",
    "            \"REAL_EP_YY\",  # 8\n",
    "            \"REAL_EP_ZZ\",  # 9\n",
    "            \"REAL_EP_XY\",  # 10\n",
    "            \"REAL_EP_YZ\",  # 11\n",
    "            \"REAL_EP_XZ\",  # 12\n",
    "            \"REAL_EQPS\",   # 13\n",
    "            \"Y\",           # 14\n",
    "            \"S.VM\",        # 15\n",
    "            # SDVS ABOVE HERE ARE HARD CODED, do not modify SDVs above this line\n",
    "            \"FICT_SXX\",    \n",
    "            \"FICT_SYY\",\n",
    "            \"FICT_SZZ\",\n",
    "            \"FICT_SXY\",\n",
    "            \"FICT_SYZ\",\n",
    "            \"FICT_SXZ\", \n",
    "            \"TRIAL_STRESS_POST_TRANS_XX\",\n",
    "            \"TRIAL_STRESS_POST_TRANS_YY\",\n",
    "            \"TRIAL_STRESS_POST_TRANS_ZZ\",\n",
    "            \"TRIAL_STRESS_POST_TRANS_XY\",\n",
    "            \"TRIAL_STRESS_POST_TRANS_YZ\",\n",
    "            \"TRIAL_STRESS_POST_TRANS_XZ\",\n",
    "            \"MML_STRESS_GUESS_XX\",    \n",
    "            \"MML_STRESS_GUESS_YY\", \n",
    "            \"MML_STRESS_GUESS_ZZ\", \n",
    "            \"MML_STRESS_GUESS_XY\",    \n",
    "            \"MML_STRESS_GUESS_YZ\", \n",
    "            \"MML_STRESS_GUESS_XZ\", \n",
    "            \"TRIAL_STRESS_PRE_TRANS_XX\",   \n",
    "            \"TRIAL_STRESS_PRE_TRANS_YY\",   \n",
    "            \"TRIAL_STRESS_PRE_TRANS_ZZ\",   \n",
    "            \"TRIAL_STRESS_PRE_TRANS_XY\",   \n",
    "            \"TRIAL_STRESS_PRE_TRANS_YZ\",   \n",
    "            \"TRIAL_STRESS_PRE_TRANS_XZ\",   \n",
    "            \"CONV_STRESS_ISO_XX\", \n",
    "            \"CONV_STRESS_ISO_YY\", \n",
    "            \"CONV_STRESS_ISO_ZZ\", \n",
    "            \"CONV_STRESS_ISO_XY\", \n",
    "            \"CONV_STRESS_ISO_YZ\", \n",
    "            \"CONV_STRESS_ISO_XZ\", \n",
    "            \"FICT_EQPS_INPUT\", \n",
    "            \"DELTA_EXX\", \n",
    "            \"DELTA_EYY\", \n",
    "            \"DELTA_EZZ\", \n",
    "            \"DELTA_EXY\", \n",
    "            \"DELTA_EYZ\", \n",
    "            \"DELTA_EXZ\", \n",
    "            'DELTA_SXX',\n",
    "            'DELTA_SYY',\n",
    "            'DELTA_SZZ',\n",
    "            'DELTA_SXY',\n",
    "            'DELTA_SYZ',\n",
    "            'DELTA_SXZ',\n",
    "        ]\n",
    "column_reorder = [ 'TIME', 'DTIME',\n",
    "                    'MML_STRESS_GUESS_XX',\n",
    "                    'MML_STRESS_GUESS_YY',\n",
    "                    'MML_STRESS_GUESS_ZZ',\n",
    "                    \"MML_STRESS_GUESS_XY\",    \n",
    "                    \"MML_STRESS_GUESS_YZ\", \n",
    "                    \"MML_STRESS_GUESS_XZ\", \n",
    "                    'DELTA_EXX',\n",
    "                    'DELTA_EYY',\n",
    "                    'DELTA_EZZ',\n",
    "                    \"DELTA_EXY\", \n",
    "                    \"DELTA_EYZ\", \n",
    "                    \"DELTA_EXZ\", \n",
    "                    'TRIAL_STRESS_PRE_TRANS_XX',\n",
    "                    'TRIAL_STRESS_PRE_TRANS_YY',\n",
    "                    'TRIAL_STRESS_PRE_TRANS_ZZ',\n",
    "                    \"TRIAL_STRESS_PRE_TRANS_XY\",   \n",
    "                    \"TRIAL_STRESS_PRE_TRANS_YZ\",   \n",
    "                    \"TRIAL_STRESS_PRE_TRANS_XZ\",   \n",
    "                    'DELTA_SXX',\n",
    "                    'DELTA_SYY',\n",
    "                    'DELTA_SZZ',\n",
    "                    'DELTA_SXY',\n",
    "                    'DELTA_SYZ',\n",
    "                    'DELTA_SXZ',\n",
    "                    'TRIAL_STRESS_POST_TRANS_XX',\n",
    "                    'TRIAL_STRESS_POST_TRANS_YY',\n",
    "                    'TRIAL_STRESS_POST_TRANS_ZZ',\n",
    "                    \"TRIAL_STRESS_PRE_TRANS_XY\",   \n",
    "                    \"TRIAL_STRESS_PRE_TRANS_YZ\",   \n",
    "                    \"TRIAL_STRESS_PRE_TRANS_XZ\",   \n",
    "                    'CONV_STRESS_ISO_XX',\n",
    "                    'CONV_STRESS_ISO_YY',\n",
    "                    'CONV_STRESS_ISO_ZZ',\n",
    "                    \"CONV_STRESS_ISO_XY\", \n",
    "                    \"CONV_STRESS_ISO_YZ\", \n",
    "                    \"CONV_STRESS_ISO_XZ\", \n",
    "                    'FICT_SXX',\n",
    "                    'FICT_SYY',\n",
    "                    'FICT_SZZ',\n",
    "                    \"FICT_SXY\",\n",
    "                    \"FICT_SYZ\",\n",
    "                    \"FICT_SXZ\", \n",
    "                    \"FICT_EP_XX\",  # 0\n",
    "                    \"FICT_EP_YY\",  # 1\n",
    "                    \"FICT_EP_ZZ\",  # 2\n",
    "                    'REAL_EP_XX',\n",
    "                    'REAL_EP_YY',\n",
    "                    'REAL_EP_ZZ',\n",
    "                    \"REAL_SXX\",\n",
    "                    \"REAL_SYY\",\n",
    "                    \"REAL_SZZ\",\n",
    "                    \"REAL_SXY\",\n",
    "                    \"REAL_SYZ\",\n",
    "                    \"REAL_SXZ\",\n",
    "                    'S.VM',]\n",
    "def run_ST_GPSR_TTM(property_dict, loads='ESS', components=(0.02, 0, 0), frames=50):\n",
    "    mps1 = MaterialPointSimulator('ST_GPSR_TTM')\n",
    "    mps1.material = ST_GPSR_TTM(**property_dict)\n",
    "    mps1.run_step(loads,  components, frames=frames)\n",
    "    return mps1\n",
    "\n",
    "def run_CPA_alg(property_dict, loads='ESS', components=(0.02, 0, 0), frames=50):\n",
    "    mps1 = MaterialPointSimulator('CPAPlasticitiy')\n",
    "    mps1.material = ST_GPSR_TTM(**property_dict)\n",
    "    mps1.run_step(loads,  components, frames=frames)\n",
    "    return mps1\n",
    "\n",
    "def run_generic_mps(mps1, property_dict, loads='ESS', components=(0.02, 0, 0), frames=50):\n",
    "    mps1.run_step(loads,  components, frames=frames)\n",
    "    return mps1\n",
    "\n",
    "def draw_principal_axes(ax, length_of_axes=2.5, scale=100):\n",
    "    \"\"\"\n",
    "    Draws principal axes on graph, change length of axes and scale\n",
    "    \"\"\"\n",
    "    zero_pos = np.zeros(2)\n",
    "    straight_up_pos = np.array([0, 1]) * length_of_axes\n",
    "    bottom_right_pos = np.array([np.cos(-np.pi / 6.), np.sin(-np.pi / 6.)]) * length_of_axes\n",
    "    bottom_left_pos = np.array([np.cos(7 * np.pi / 6.), np.sin(7 * np.pi / 6.)]) * length_of_axes\n",
    "\n",
    "    ax.quiver(*zero_pos, *straight_up_pos, scale_units=\"xy\", scale=1)\n",
    "    ax.annotate(r\"$\\sigma_2$\", straight_up_pos + np.array([0.25, -0.3]) * scale)\n",
    "\n",
    "    ax.quiver(*zero_pos, *bottom_right_pos, scale_units=\"xy\", scale=1)\n",
    "    ax.annotate(r\"$\\sigma_1$\", bottom_right_pos + np.array([-0.18, 0.45]) * scale)\n",
    "\n",
    "    ax.quiver(*zero_pos, *bottom_left_pos, scale_units=\"xy\", scale=1)\n",
    "    # ax.annotate(r\"$\\sigma_3$\", bottom_left_pos + np.array([0.1, -0.45]) * scale)\n",
    "    ax.annotate(r\"$\\sigma_3$\", bottom_left_pos + np.array([0.28, -0.4]) * scale)\n",
    "    # ax.annotate(r\"$\\sigma_3$\", bottom_left_pos + np.array([-0.18, -0.4]) * scale)\n"
   ]
  },
  {
   "cell_type": "code",
   "execution_count": 3,
   "metadata": {},
   "outputs": [
    {
     "name": "stdout",
     "output_type": "stream",
     "text": [
      "((array(0.19468542))/(X_0 + array(0.19468542)) ) * (array([[-0.78883927, -0.17774928,  0.05046644],\n",
      "       [-0.94038756, -0.01281956,  0.0229076 ],\n",
      "       [-0.80953323, -0.10425625, -0.02368224]]))\n"
     ]
    }
   ],
   "source": [
    "if 'darwin' in sys.platform:\n",
    "    individual_path = \"/Users/brian/Work/software/st-bingo/research/experiments/checkpoints/hill_constant/checkpoint_151.pkl\"\n",
    "else:\n",
    "    individual_path = \"D:/Work/software/st-bingo/research/experiments/checkpoints/hill_constant/checkpoint_151.pkl\"\n",
    "with open(individual_path, 'rb') as f:\n",
    "    pkl = dill.load(f)\n",
    "\n",
    "print(pkl.hall_of_fame[1])"
   ]
  },
  {
   "cell_type": "code",
   "execution_count": 4,
   "metadata": {},
   "outputs": [
    {
     "data": {
      "image/png": "[encoded data removed]",
      "text/plain": [
       "<Figure size 432x288 with 1 Axes>"
      ]
     },
     "metadata": {
      "needs_background": "light"
     },
     "output_type": "display_data"
    },
    {
     "data": {
      "image/png": "[encoded data removed]",
      "text/plain": [
       "<Figure size 432x288 with 1 Axes>"
      ]
     },
     "metadata": {
      "needs_background": "light"
     },
     "output_type": "display_data"
    }
   ],
   "source": [
    "#\"\"\" Force deviatoric independence on a BINGO solution\n",
    "def A_mapping(real_eqps):\n",
    "    B_in = ((np.array(0.19468542))/(real_eqps + np.array(0.19468542)) ) * (np.array([[-0.78883927, -0.17774928,  0.05046644],\n",
    "       [-0.94038756, -0.01281956,  0.0229076 ],\n",
    "       [-0.80953323, -0.10425625, -0.02368224]]))\n",
    "    B_in = align_axes_with_pi_plane_rot.T @ B_in @ align_axes_with_pi_plane_rot\n",
    "    B_in[:, 2] = 0\n",
    "    B_in[2, :] = 0\n",
    "    B_in[2, 2] = 1\n",
    "    B_in = align_axes_with_pi_plane_rot @ B_in @ align_axes_with_pi_plane_rot.T\n",
    "    new_B = np.zeros((6,6))\n",
    "    new_B[0:3, 0:3] = B_in\n",
    "    new_B[3:, 3:] = np.eye(3) # Like the stuffness matrix, the shear comps are multiplied by ROOT2\n",
    "\n",
    "    return new_B\n",
    "#\"\"\"\n",
    "\n",
    "# Shared params\n",
    "E = 10e2\n",
    "nu = .333\n",
    "# F_11 = 1.05\n",
    "# all_comps = (F_11, 0, 0, 0, 1/np.sqrt(F_11), 0, 0,0, 1/np.sqrt(F_11))\n",
    "# all_loads = 'FFFFFFFFF'\n",
    "#all_comps = (0.07*np.sin(165*np.pi/180), 0.07*np.cos(165*np.pi/180), 0)\n",
    "all_comps = (0.03, 0, 0)\n",
    "all_loads = 'EES'\n",
    "\n",
    "all_frames = 30\n",
    "\n",
    "# Run ST_GPSR_TTM model\n",
    "pGPSR = {'E': E, 'Nu': nu,  \"A_mapping\": A_mapping}\n",
    "mpsGPSR = run_ST_GPSR_TTM(pGPSR, frames=all_frames, components=all_comps, loads=all_loads)\n",
    "# Run the included von mises model\n",
    "pHill = {'E': E, 'Nu': nu,  \"F\": 1.0, \"G\": 0.3, \"H\": 7.0}\n",
    "mpsH = MaterialPointSimulator('Hill')\n",
    "mpsH.material = Hill(**pHill)\n",
    "mpsH = run_generic_mps(mpsH, pHill, frames=all_frames, components=all_comps, loads=all_loads)\n",
    "\n",
    "ax = mpsGPSR.plot('Time', 'S.XX', style='.r-')\n",
    "mpsGPSR.plot('Time', 'S.YY', ax=ax, style='.b-')\n",
    "mpsGPSR.plot('Time', 'S.ZZ', ax=ax, style='.k-')\n",
    "\n",
    "mpsH.plot('Time', 'S.XX', ax=ax, style='.m--')\n",
    "mpsH.plot('Time', 'S.YY', ax=ax, style='.c--')\n",
    "mpsH.plot('Time', 'S.ZZ', ax=ax, style='.y--')\n",
    "\n",
    "ax2 = mpsGPSR.plot('Time', 'REAL_EQPS', style='.r-', )\n",
    "ax2 = mpsGPSR.plot('Time', 'E.XX', style='.c-', ax=ax2)\n",
    "ax2 = mpsGPSR.plot('Time', 'E.YY', style='.b-', ax=ax2)\n",
    "ax2 = mpsGPSR.plot('Time', 'E.ZZ', style='.k-', ax=ax2 )\n",
    "# mpsVM.plot('E.XX', 'EP_Equiv', ax=ax2, style='k--')\n"
   ]
  },
  {
   "cell_type": "code",
   "execution_count": 9,
   "metadata": {},
   "outputs": [
    {
     "data": {
      "text/plain": [
       "[array([100.]),\n",
       " array([89.03745931]),\n",
       " array([78.07491861]),\n",
       " array([67.11237792]),\n",
       " array([56.14983723]),\n",
       " array([45.18729654]),\n",
       " array([34.22475584]),\n",
       " array([23.26221515]),\n",
       " array([12.29967446]),\n",
       " array([1.33713377]),\n",
       " array([0.16591387]),\n",
       " array([0.15631263]),\n",
       " array([0.14516566]),\n",
       " array([0.13253923]),\n",
       " array([0.11850704]),\n",
       " array([0.1031513]),\n",
       " array([0.08656424]),\n",
       " array([0.06884982]),\n",
       " array([0.05012602]),\n",
       " array([0.03052758]),\n",
       " array([0.01020928]),\n",
       " array([0.01065014]),\n",
       " array([0.03184368]),\n",
       " array([0.05313174]),\n",
       " array([0.07423863]),\n",
       " array([0.09485161]),\n",
       " array([0.11462534]),\n",
       " array([0.13319544]),\n",
       " array([0.15020502]),\n",
       " array([0.16534484]),\n",
       " array([0.17840085])]"
      ]
     },
     "execution_count": 9,
     "metadata": {},
     "output_type": "execute_result"
    }
   ],
   "source": [
    "# Plot error plot\n",
    "# For each results array, let' find the error between the predicted value and the analytical\n",
    "def hill_YS(stress_vector, eqps, F=1., G=0.3, H=7.):\n",
    "    analytical_Y = (13.6208515706149 + 69.9208533115855*eqps)\n",
    "    sigma_1 = stress_vector[0]\n",
    "    sigma_2 = stress_vector[1]\n",
    "    sigma_3 = stress_vector[2]\n",
    "    simulation_Y = np.sqrt(1./2.)*np.sqrt(F * (sigma_2 - sigma_3)**2 + G * (sigma_3 - sigma_1)**2 + H*(sigma_1 - sigma_2)**2 )\n",
    "\n",
    "    error = np.abs((simulation_Y - analytical_Y)/analytical_Y)*100\n",
    "    #print(simulation_Y, analytical_Y, eqps)\n",
    "    return error, analytical_Y, simulation_Y\n",
    "\n",
    "\n",
    "sv_all = mpsGPSR.df[['S.XX', 'S.YY', 'S.ZZ']].to_numpy()\n",
    "h_eqps = mpsGPSR.df[['REAL_EQPS']].to_numpy()\n",
    "error = []\n",
    "analy = []\n",
    "simul = []\n",
    "for sv, eq in zip(sv_all, h_eqps):\n",
    "    e, a, s = hill_YS(sv, eq)\n",
    "    error.append(e)\n",
    "    analy.append(a)\n",
    "    simul.append(s)\n",
    "error"
   ]
  },
  {
   "cell_type": "code",
   "execution_count": 6,
   "metadata": {},
   "outputs": [
    {
     "data": {
      "text/plain": [
       "[array([13.62085157]),\n",
       " array([13.62085157]),\n",
       " array([13.62085157]),\n",
       " array([13.62085157]),\n",
       " array([13.62085157]),\n",
       " array([13.62085157]),\n",
       " array([13.62085157]),\n",
       " array([13.62085157]),\n",
       " array([13.62085157]),\n",
       " array([13.62085157]),\n",
       " array([13.66080716]),\n",
       " array([13.70625995]),\n",
       " array([13.75252525]),\n",
       " array([13.79962676]),\n",
       " array([13.84759213]),\n",
       " array([13.89645305]),\n",
       " array([13.94624551]),\n",
       " array([13.99700983]),\n",
       " array([14.04879061]),\n",
       " array([14.1016364]),\n",
       " array([14.15559892]),\n",
       " array([14.21073152]),\n",
       " array([14.26708657]),\n",
       " array([14.32471113]),\n",
       " array([14.38364047]),\n",
       " array([14.44388869]),\n",
       " array([14.50543686]),\n",
       " array([14.56821986]),\n",
       " array([14.63211625]),\n",
       " array([14.69694767]),\n",
       " array([14.76249487])]"
      ]
     },
     "execution_count": 6,
     "metadata": {},
     "output_type": "execute_result"
    }
   ],
   "source": [
    "sv_all = mpsH.df[['S.XX', 'S.YY', 'S.ZZ']].to_numpy()\n",
    "h_eqps = mpsH.df[['REAL_EQPS']].to_numpy()\n",
    "error = []\n",
    "analy = []\n",
    "simul = []\n",
    "for sv, eq in zip(sv_all, h_eqps):\n",
    "    e, a, s = hill_YS(sv, eq)\n",
    "    error.append(e)\n",
    "    analy.append(a)\n",
    "    simul.append(s)\n",
    "error"
   ]
  },
  {
   "cell_type": "code",
   "execution_count": 7,
   "metadata": {},
   "outputs": [
    {
     "data": {
      "text/plain": [
       "[0.0,\n",
       " 1.4931913961111816,\n",
       " 2.986382792222363,\n",
       " 4.479574188333545,\n",
       " 5.972765584444726,\n",
       " 7.46595698055591,\n",
       " 8.959148376667093,\n",
       " 10.452339772778272,\n",
       " 11.945531168889453,\n",
       " 13.438722565000633,\n",
       " 13.638141989126256,\n",
       " 13.684835336140013,\n",
       " 13.732561300716943,\n",
       " 13.781336843701268,\n",
       " 13.831181755972823,\n",
       " 13.882118680041701,\n",
       " 13.934173052730126,\n",
       " 13.98737291640424,\n",
       " 14.041748510868237,\n",
       " 14.097331513793604,\n",
       " 14.154153734700047,\n",
       " 14.212244983302872,\n",
       " 14.271629732194722,\n",
       " 14.332322101758393,\n",
       " 14.394318684247768,\n",
       " 14.457588954420444,\n",
       " 14.52206376820034,\n",
       " 14.587624067909518,\n",
       " 14.654094421101044,\n",
       " 14.721248313307111,\n",
       " 14.78883128361465]"
      ]
     },
     "execution_count": 7,
     "metadata": {},
     "output_type": "execute_result"
    }
   ],
   "source": [
    "simul"
   ]
  },
  {
   "cell_type": "markdown",
   "metadata": {},
   "source": [
    "# Display subsections of the Full Shebang"
   ]
  },
  {
   "cell_type": "code",
   "execution_count": 8,
   "metadata": {},
   "outputs": [
    {
     "ename": "NameError",
     "evalue": "name 'df_full' is not defined",
     "output_type": "error",
     "traceback": [
      "\u001b[0;31m---------------------------------------------------------------------------\u001b[0m",
      "\u001b[0;31mNameError\u001b[0m                                 Traceback (most recent call last)",
      "Input \u001b[0;32mIn [8]\u001b[0m, in \u001b[0;36m<module>\u001b[0;34m\u001b[0m\n\u001b[0;32m----> 1\u001b[0m time_zero \u001b[38;5;241m=\u001b[39m \u001b[43mdf_full\u001b[49m[df_full[\u001b[38;5;124m'\u001b[39m\u001b[38;5;124mTIME\u001b[39m\u001b[38;5;124m'\u001b[39m] \u001b[38;5;241m==\u001b[39m \u001b[38;5;241m0.75\u001b[39m]\n\u001b[1;32m      2\u001b[0m dtime \u001b[38;5;241m=\u001b[39m time_zero \u001b[38;5;66;03m#[time_zero['DTIME'] == 0.05]\u001b[39;00m\n\u001b[1;32m      3\u001b[0m display(dtime[[\u001b[38;5;124m'\u001b[39m\u001b[38;5;124mDELTA_EXX\u001b[39m\u001b[38;5;124m'\u001b[39m, \u001b[38;5;124m'\u001b[39m\u001b[38;5;124mDELTA_EYY\u001b[39m\u001b[38;5;124m'\u001b[39m, \u001b[38;5;124m'\u001b[39m\u001b[38;5;124mDELTA_EZZ\u001b[39m\u001b[38;5;124m'\u001b[39m]])\n",
      "\u001b[0;31mNameError\u001b[0m: name 'df_full' is not defined"
     ]
    }
   ],
   "source": [
    "time_zero = df_full[df_full['TIME'] == 0.75]\n",
    "dtime = time_zero #[time_zero['DTIME'] == 0.05]\n",
    "display(dtime[['DELTA_EXX', 'DELTA_EYY', 'DELTA_EZZ']])"
   ]
  },
  {
   "cell_type": "markdown",
   "metadata": {},
   "source": [
    "# Investigate CPA inner workings"
   ]
  },
  {
   "cell_type": "code",
   "execution_count": null,
   "metadata": {},
   "outputs": [],
   "source": [
    "# Pull out the CPA history for a certain row of interest. This block extracts the trial_Sigma history\n",
    "ROW_OF_INTEREST = 12\n",
    "# np.hstack([trial_Sigma_f, [yield_F], dGdSigma, dGdSigma @ C @ dGdSigma, [dGamma], delta_e_p, e_p_iso, [trial_iso_eqps] ])\n",
    "r6 = range(6)\n",
    "CPA_HISTORY_COLUMNS = [ [f'trial_Sigma_f_{i}' for i in r6 ], ['yield_F'], [ 'dGdSigma_{i}' for i in r6], ['v_C_v'], ['dGamma'],\n",
    "                       [ 'delta_e_p_{i}' for i in r6], [ 'e_p_iso_{i}' for i in r6 ], ['trial_iso_eqps'] ]\n",
    "CPA_HISTORY_COLUMNS = [x for xs in CPA_HISTORY_COLUMNS for x in xs]\n",
    "cpa_history = mpsGPSR.material.cutting_plane_history[ROW_OF_INTEREST]\n",
    "cpa_history = pd.DataFrame(cpa_history, columns=CPA_HISTORY_COLUMNS)\n",
    "\n",
    "trial_stress_trajectory = np.array(cpa_history[[f'trial_Sigma_f_{i}' for i in range(3) ]])\n",
    "trial_stress_trajectory"
   ]
  },
  {
   "cell_type": "code",
   "execution_count": null,
   "metadata": {},
   "outputs": [],
   "source": [
    "# Get the data outside of the CPA algorithm\n",
    "w = df_full.iloc[12]\n",
    "#print(w)\n",
    "# What is the start and end point of real stresses?\n",
    "delta_real_stress = [ w[['TRIAL_STRESS_PRE_TRANS_XX', 'TRIAL_STRESS_PRE_TRANS_YY', 'TRIAL_STRESS_PRE_TRANS_ZZ']],\n",
    "                 w[['REAL_SXX', 'REAL_SYY', 'REAL_SZZ']] ]\n",
    "delta_real_stress = np.array(delta_real_stress)\n",
    "delta_real_stress"
   ]
  },
  {
   "cell_type": "code",
   "execution_count": null,
   "metadata": {},
   "outputs": [],
   "source": [
    "# Now, if I inputted that stress into an unrotated CPA algorithm, what would happen?\n",
    "B_new = lambda X_0: np.eye(3)\n",
    "vir_GPSR = {'E': E, 'Nu': nu, 'Y0': Y0, 'H': H, \"B\": B_new}\n",
    "mps_vir_GPSR = run_ST_GPSR_TTM(vir_GPSR, frames=1, loads='ESS', components=w[['DELTA_EXX', 'DELTA_EYY', 'DELTA_EYY']])\n",
    "#mps_vir_GPSR.plot('E.XX', 'S.XX')\n",
    "vir_df = pd.DataFrame(mps_vir_GPSR.material.full_sdv_storage, columns=full_sdv_column_names)\n",
    "vir_df = vir_df[column_reorder]\n",
    "vir_df.to_csv('vir_shabang_0.csv')\n",
    "\n",
    "VIR_ROI = 12\n",
    "vir_cpa_history = mps_vir_GPSR.material.cutting_plane_history[VIR_ROI]\n",
    "vir_cpa_history = pd.DataFrame(vir_cpa_history, columns=CPA_HISTORY_COLUMNS)\n",
    "\n",
    "vir_stress_trajectory = np.array(vir_cpa_history[[f'trial_Sigma_f_{i}' for i in range(3) ]])\n",
    "vir_stress_trajectory"
   ]
  },
  {
   "cell_type": "code",
   "execution_count": null,
   "metadata": {},
   "outputs": [],
   "source": [
    "pi_plane_trial_stress_trajectory = (align_pi_plane_with_axes_rot() @ trial_stress_trajectory.T).T[:,:2]\n",
    "pi_plane_delta_real_trajectory = (align_pi_plane_with_axes_rot() @ delta_real_stress.T).T[:,:2]\n",
    "pi_plane_vir_stress_trajectory = (align_pi_plane_with_axes_rot() @ vir_stress_trajectory.T).T[:,:2]\n",
    "\n",
    "\n",
    "fig = plt.figure()\n",
    "ax = fig.add_subplot()\n",
    "#print(pi_plane_vir_stress_trajectory)\n",
    "ax.plot(*pi_plane_vir_stress_trajectory.T, marker='*', c='m', label=\"direct trajectory (CPA Identity B)\")\n",
    "ax.plot(*pi_plane_delta_real_trajectory.T, marker='o', c='k', label=\"mapped trajectory\")\n",
    "ax.plot(*pi_plane_trial_stress_trajectory.T, marker='.',  c='r', label=\"fictitious trajectory\")\n",
    "ax.legend()\n",
    "draw_principal_axes(ax, length_of_axes=5000, scale=15)\n",
    "\n",
    "ax.axis(\"equal\")\n",
    "ax.set_xlim([-8000, 8000])\n",
    "ax.set_ylim([-8000, 8000])\n",
    "\n",
    "plt.show()\n",
    "\n",
    "fig = plt.figure()\n",
    "ax = fig.add_subplot()\n",
    "#print(pi_plane_vir_stress_trajectory)\n",
    "ax.plot(*pi_plane_vir_stress_trajectory.T, marker='*', c='m', label=\"direct trajectory (CPA Identity B)\")\n",
    "ax.plot(*pi_plane_delta_real_trajectory.T, marker='o', c='k', label=\"mapped trajectory\")\n",
    "ax.plot(*pi_plane_trial_stress_trajectory.T, marker='.',  c='r', label=\"fictitious trajectory\")\n",
    "ax.legend()\n",
    "draw_principal_axes(ax, length_of_axes=5000, scale=15)\n",
    "\n",
    "ax.axis(\"equal\")\n",
    "ax.set_xlim([-50, 0])\n",
    "ax.set_ylim([-25, 25])\n",
    "\n",
    "plt.show()\n",
    "\n",
    "\n",
    "fig = plt.figure()\n",
    "ax = fig.add_subplot()\n",
    "#print(pi_plane_vir_stress_trajectory)\n",
    "ax.plot(*pi_plane_vir_stress_trajectory.T, marker='*', c='m', label=\"direct trajectory (CPA Identity B)\")\n",
    "ax.plot(*pi_plane_delta_real_trajectory.T, marker='o', c='k', label=\"mapped trajectory\")\n",
    "ax.plot(*pi_plane_trial_stress_trajectory.T, marker='.',  c='r', label=\"fictitious trajectory\")\n",
    "ax.legend()\n",
    "draw_principal_axes(ax, length_of_axes=5000, scale=15)\n",
    "\n",
    "ax.axis(\"equal\")\n",
    "ax.set_xlim([-550, 550])\n",
    "ax.set_ylim([-550, 550])\n",
    "\n",
    "plt.show()"
   ]
  },
  {
   "cell_type": "code",
   "execution_count": null,
   "metadata": {},
   "outputs": [],
   "source": [
    "# You're telling me rotating the stress puts it out in the middle of no where?\n",
    "# Next two cells: just verify that, and the VM value\n",
    "B_inv = np.linalg.inv(B(0))\n",
    "B_inv\n",
    "\n",
    "real_stress = B_inv @ trial_stress_trajectory[1,:]\n",
    "real_stress"
   ]
  },
  {
   "cell_type": "code",
   "execution_count": null,
   "metadata": {},
   "outputs": [],
   "source": [
    "def equivalent_stress( mandel_stress_vec):\n",
    "    ROOT2 = np.sqrt(2)\n",
    "    # MML stress comes in the following order: 11, 22, 33, 12, 23, 13\n",
    "    sigma_11, sigma_22, sigma_33, sigma_12, sigma_23, sigma_13 = mandel_stress_vec\n",
    "    sigma_12 = sigma_12/ROOT2\n",
    "    sigma_23 = sigma_23/ROOT2\n",
    "    sigma_13 = sigma_13/ROOT2\n",
    "    internal = (sigma_11 - sigma_22)**2 + (sigma_22 - sigma_33)**2 + (sigma_33 - sigma_11)**2 + 3*(sigma_23**2 + sigma_13**2 + sigma_12**2)\n",
    "    vm = np.sqrt(0.5*internal)\n",
    "    return vm\n",
    "equivalent_stress(np.hstack([real_stress, 0,0,0]))"
   ]
  },
  {
   "cell_type": "code",
   "execution_count": null,
   "metadata": {},
   "outputs": [],
   "source": [
    "# Okay ,apparently it's broken. Let's convert the real answer to fictious stress space / COnclision: nope, it doesnt match up\n",
    "right_stress = vir_stress_trajectory[1,:]\n",
    "B(0) @ right_stress, equivalent_stress(np.hstack([B(0) @ right_stress, 0,0,0]))"
   ]
  },
  {
   "cell_type": "code",
   "execution_count": null,
   "metadata": {},
   "outputs": [],
   "source": [
    "# BINGO found this equation for hydrostat = 0\n",
    "# how about we remove the hydrostat, and do the calculation\n",
    "right_stress = vir_stress_trajectory[1,:]\n",
    "dev_right_stress = right_stress - 1/3.*np.sum(right_stress)\n",
    "# Conclusio: it's the right iso yield surface!\n",
    "B(0) @ dev_right_stress, equivalent_stress(np.hstack([B(0) @ dev_right_stress, 0,0,0]))\n"
   ]
  },
  {
   "cell_type": "code",
   "execution_count": null,
   "metadata": {},
   "outputs": [],
   "source": [
    "# Okay, let's try that with real_Stress\n",
    "trial_stress_dev = trial_stress_trajectory[1,:] - 1./3.*np.sum(trial_stress_trajectory[1,:])\n",
    "dev_real_stress = B_inv @ trial_stress_dev\n",
    "dev_real_stress"
   ]
  },
  {
   "cell_type": "code",
   "execution_count": null,
   "metadata": {},
   "outputs": [],
   "source": [
    "equivalent_stress(np.hstack([dev_real_stress, 0,0,0]))"
   ]
  },
  {
   "cell_type": "code",
   "execution_count": null,
   "metadata": {},
   "outputs": [],
   "source": [
    "dev_plus_iso_real_stress = dev_real_stress + 1./3.*np.sum(trial_stress_trajectory[1,:])\n",
    "dev_plus_iso_real_stress"
   ]
  },
  {
   "cell_type": "code",
   "execution_count": null,
   "metadata": {},
   "outputs": [],
   "source": []
  }
 ],
 "metadata": {
  "kernelspec": {
   "display_name": "mml2",
   "language": "python",
   "name": "python3"
  },
  "language_info": {
   "codemirror_mode": {
    "name": "ipython",
    "version": 3
   },
   "file_extension": ".py",
   "mimetype": "text/x-python",
   "name": "python",
   "nbconvert_exporter": "python",
   "pygments_lexer": "ipython3",
   "version": "3.9.7"
  }
 },
 "nbformat": 4,
 "nbformat_minor": 2
}
