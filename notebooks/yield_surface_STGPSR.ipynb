{
 "cells": [
  {
   "cell_type": "code",
   "execution_count": 1,
   "metadata": {},
   "outputs": [
    {
     "name": "stdout",
     "output_type": "stream",
     "text": [
      "Setting up the Matmodlab notebook environment\n"
     ]
    },
    {
     "data": {
      "text/html": [
       "    <style>\n",
       "        .bk-notebook-logo {\n",
       "            display: block;\n",
       "            width: 20px;\n",
       "            height: 20px;\n",
       "            background-image: url(data:image/png;base64,iVBORw0KGgoAAAANSUhEUgAAABQAAAAUCAYAAACNiR0NAAAABHNCSVQICAgIfAhkiAAAAAlwSFlzAAALEgAACxIB0t1+/AAAABx0RVh0U29mdHdhcmUAQWRvYmUgRmlyZXdvcmtzIENTNui8sowAAAOkSURBVDiNjZRtaJVlGMd/1/08zzln5zjP1LWcU9N0NkN8m2CYjpgQYQXqSs0I84OLIC0hkEKoPtiH3gmKoiJDU7QpLgoLjLIQCpEsNJ1vqUOdO7ppbuec5+V+rj4ctwzd8IIbbi6u+8f1539dt3A78eXC7QizUF7gyV1fD1Yqg4JWz84yffhm0qkFqBogB9rM8tZdtwVsPUhWhGcFJngGeWrPzHm5oaMmkfEg1usvLFyc8jLRqDOMru7AyC8saQr7GG7f5fvDeH7Ej8CM66nIF+8yngt6HWaKh7k49Soy9nXurCi1o3qUbS3zWfrYeQDTB/Qj6kX6Ybhw4B+bOYoLKCC9H3Nu/leUTZ1JdRWkkn2ldcCamzrcf47KKXdAJllSlxAOkRgyHsGC/zRday5Qld9DyoM4/q/rUoy/CXh3jzOu3bHUVZeU+DEn8FInkPBFlu3+nW3Nw0mk6vCDiWg8CeJaxEwuHS3+z5RgY+YBR6V1Z1nxSOfoaPa4LASWxxdNp+VWTk7+4vzaou8v8PN+xo+KY2xsw6une2frhw05CTYOmQvsEhjhWjn0bmXPjpE1+kplmmkP3suftwTubK9Vq22qKmrBhpY4jvd5afdRA3wGjFAgcnTK2s4hY0/GPNIb0nErGMCRxWOOX64Z8RAC4oCXdklmEvcL8o0BfkNK4lUg9HTl+oPlQxdNo3Mg4Nv175e/1LDGzZen30MEjRUtmXSfiTVu1kK8W4txyV6BMKlbgk3lMwYCiusNy9fVfvvwMxv8Ynl6vxoByANLTWplvuj/nF9m2+PDtt1eiHPBr1oIfhCChQMBw6Aw0UulqTKZdfVvfG7VcfIqLG9bcldL/+pdWTLxLUy8Qq38heUIjh4XlzZxzQm19lLFlr8vdQ97rjZVOLf8nclzckbcD4wxXMidpX30sFd37Fv/GtwwhzhxGVAprjbg0gCAEeIgwCZyTV2Z1REEW8O4py0wsjeloKoMr6iCY6dP92H6Vw/oTyICIthibxjm/DfN9lVz8IqtqKYLUXfoKVMVQVVJOElGjrnnUt9T9wbgp8AyYKaGlqingHZU/uG2NTZSVqwHQTWkx9hxjkpWDaCg6Ckj5qebgBVbT3V3NNXMSiWSDdGV3hrtzla7J+duwPOToIg42ChPQOQjspnSlp1V+Gjdged7+8UN5CRAV7a5EdFNwCjEaBR27b3W890TE7g24NAP/mMDXRWrGoFPQI9ls/MWO2dWFAar/xcOIImbbpA3zgAAAABJRU5ErkJggg==);\n",
       "        }\n",
       "    </style>\n",
       "    <div>\n",
       "        <a href=\"https://bokeh.org\" target=\"_blank\" class=\"bk-notebook-logo\"></a>\n",
       "        <span id=\"f28205d6-b575-4896-b192-aa6d586a4229\">Loading BokehJS ...</span>\n",
       "    </div>\n"
      ]
     },
     "metadata": {},
     "output_type": "display_data"
    },
    {
     "data": {
      "application/javascript": "'use strict';\n(function(root) {\n  function now() {\n    return new Date();\n  }\n\n  const force = true;\n\n  if (typeof root._bokeh_onload_callbacks === \"undefined\" || force === true) {\n    root._bokeh_onload_callbacks = [];\n    root._bokeh_is_loading = undefined;\n  }\n\nconst JS_MIME_TYPE = 'application/javascript';\n  const HTML_MIME_TYPE = 'text/html';\n  const EXEC_MIME_TYPE = 'application/vnd.bokehjs_exec.v0+json';\n  const CLASS_NAME = 'output_bokeh rendered_html';\n\n  /**\n   * Render data to the DOM node\n   */\n  function render(props, node) {\n    const script = document.createElement(\"script\");\n    node.appendChild(script);\n  }\n\n  /**\n   * Handle when an output is cleared or removed\n   */\n  function handleClearOutput(event, handle) {\n    function drop(id) {\n      const view = Bokeh.index.get_by_id(id)\n      if (view != null) {\n        view.model.document.clear()\n        Bokeh.index.delete(view)\n      }\n    }\n\n    const cell = handle.cell;\n\n    const id = cell.output_area._bokeh_element_id;\n    const server_id = cell.output_area._bokeh_server_id;\n\n    // Clean up Bokeh references\n    if (id != null) {\n      drop(id)\n    }\n\n    if (server_id !== undefined) {\n      // Clean up Bokeh references\n      const cmd_clean = \"from bokeh.io.state import curstate; print(curstate().uuid_to_server['\" + server_id + \"'].get_sessions()[0].document.roots[0]._id)\";\n      cell.notebook.kernel.execute(cmd_clean, {\n        iopub: {\n          output: function(msg) {\n            const id = msg.content.text.trim()\n            drop(id)\n          }\n        }\n      });\n      // Destroy server and session\n      const cmd_destroy = \"import bokeh.io.notebook as ion; ion.destroy_server('\" + server_id + \"')\";\n      cell.notebook.kernel.execute(cmd_destroy);\n    }\n  }\n\n  /**\n   * Handle when a new output is added\n   */\n  function handleAddOutput(event, handle) {\n    const output_area = handle.output_area;\n    const output = handle.output;\n\n    // limit handleAddOutput to display_data with EXEC_MIME_TYPE content only\n    if ((output.output_type != \"display_data\") || (!Object.prototype.hasOwnProperty.call(output.data, EXEC_MIME_TYPE))) {\n      return\n    }\n\n    const toinsert = output_area.element.find(\".\" + CLASS_NAME.split(' ')[0]);\n\n    if (output.metadata[EXEC_MIME_TYPE][\"id\"] !== undefined) {\n      toinsert[toinsert.length - 1].firstChild.textContent = output.data[JS_MIME_TYPE];\n      // store reference to embed id on output_area\n      output_area._bokeh_element_id = output.metadata[EXEC_MIME_TYPE][\"id\"];\n    }\n    if (output.metadata[EXEC_MIME_TYPE][\"server_id\"] !== undefined) {\n      const bk_div = document.createElement(\"div\");\n      bk_div.innerHTML = output.data[HTML_MIME_TYPE];\n      const script_attrs = bk_div.children[0].attributes;\n      for (let i = 0; i < script_attrs.length; i++) {\n        toinsert[toinsert.length - 1].firstChild.setAttribute(script_attrs[i].name, script_attrs[i].value);\n        toinsert[toinsert.length - 1].firstChild.textContent = bk_div.children[0].textContent\n      }\n      // store reference to server id on output_area\n      output_area._bokeh_server_id = output.metadata[EXEC_MIME_TYPE][\"server_id\"];\n    }\n  }\n\n  function register_renderer(events, OutputArea) {\n\n    function append_mime(data, metadata, element) {\n      // create a DOM node to render to\n      const toinsert = this.create_output_subarea(\n        metadata,\n        CLASS_NAME,\n        EXEC_MIME_TYPE\n      );\n      this.keyboard_manager.register_events(toinsert);\n      // Render to node\n      const props = {data: data, metadata: metadata[EXEC_MIME_TYPE]};\n      render(props, toinsert[toinsert.length - 1]);\n      element.append(toinsert);\n      return toinsert\n    }\n\n    /* Handle when an output is cleared or removed */\n    events.on('clear_output.CodeCell', handleClearOutput);\n    events.on('delete.Cell', handleClearOutput);\n\n    /* Handle when a new output is added */\n    events.on('output_added.OutputArea', handleAddOutput);\n\n    /**\n     * Register the mime type and append_mime function with output_area\n     */\n    OutputArea.prototype.register_mime_type(EXEC_MIME_TYPE, append_mime, {\n      /* Is output safe? */\n      safe: true,\n      /* Index of renderer in `output_area.display_order` */\n      index: 0\n    });\n  }\n\n  // register the mime type if in Jupyter Notebook environment and previously unregistered\n  if (root.Jupyter !== undefined) {\n    const events = require('base/js/events');\n    const OutputArea = require('notebook/js/outputarea').OutputArea;\n\n    if (OutputArea.prototype.mime_types().indexOf(EXEC_MIME_TYPE) == -1) {\n      register_renderer(events, OutputArea);\n    }\n  }\n  if (typeof (root._bokeh_timeout) === \"undefined\" || force === true) {\n    root._bokeh_timeout = Date.now() + 5000;\n    root._bokeh_failed_load = false;\n  }\n\n  const NB_LOAD_WARNING = {'data': {'text/html':\n     \"<div style='background-color: #fdd'>\\n\"+\n     \"<p>\\n\"+\n     \"BokehJS does not appear to have successfully loaded. If loading BokehJS from CDN, this \\n\"+\n     \"may be due to a slow or bad network connection. Possible fixes:\\n\"+\n     \"</p>\\n\"+\n     \"<ul>\\n\"+\n     \"<li>re-rerun `output_notebook()` to attempt to load from CDN again, or</li>\\n\"+\n     \"<li>use INLINE resources instead, as so:</li>\\n\"+\n     \"</ul>\\n\"+\n     \"<code>\\n\"+\n     \"from bokeh.resources import INLINE\\n\"+\n     \"output_notebook(resources=INLINE)\\n\"+\n     \"</code>\\n\"+\n     \"</div>\"}};\n\n  function display_loaded(error = null) {\n    const el = document.getElementById(\"f28205d6-b575-4896-b192-aa6d586a4229\");\n    if (el != null) {\n      const html = (() => {\n        if (typeof root.Bokeh === \"undefined\") {\n          if (error == null) {\n            return \"BokehJS is loading ...\";\n          } else {\n            return \"BokehJS failed to load.\";\n          }\n        } else {\n          const prefix = `BokehJS ${root.Bokeh.version}`;\n          if (error == null) {\n            return `${prefix} successfully loaded.`;\n          } else {\n            return `${prefix} <b>encountered errors</b> while loading and may not function as expected.`;\n          }\n        }\n      })();\n      el.innerHTML = html;\n\n      if (error != null) {\n        const wrapper = document.createElement(\"div\");\n        wrapper.style.overflow = \"auto\";\n        wrapper.style.height = \"5em\";\n        wrapper.style.resize = \"vertical\";\n        const content = document.createElement(\"div\");\n        content.style.fontFamily = \"monospace\";\n        content.style.whiteSpace = \"pre-wrap\";\n        content.style.backgroundColor = \"rgb(255, 221, 221)\";\n        content.textContent = error.stack ?? error.toString();\n        wrapper.append(content);\n        el.append(wrapper);\n      }\n    } else if (Date.now() < root._bokeh_timeout) {\n      setTimeout(() => display_loaded(error), 100);\n    }\n  }\n\n  function run_callbacks() {\n    try {\n      root._bokeh_onload_callbacks.forEach(function(callback) {\n        if (callback != null)\n          callback();\n      });\n    } finally {\n      delete root._bokeh_onload_callbacks\n    }\n    console.debug(\"Bokeh: all callbacks have finished\");\n  }\n\n  function load_libs(css_urls, js_urls, callback) {\n    if (css_urls == null) css_urls = [];\n    if (js_urls == null) js_urls = [];\n\n    root._bokeh_onload_callbacks.push(callback);\n    if (root._bokeh_is_loading > 0) {\n      console.debug(\"Bokeh: BokehJS is being loaded, scheduling callback at\", now());\n      return null;\n    }\n    if (js_urls == null || js_urls.length === 0) {\n      run_callbacks();\n      return null;\n    }\n    console.debug(\"Bokeh: BokehJS not loaded, scheduling load and callback at\", now());\n    root._bokeh_is_loading = css_urls.length + js_urls.length;\n\n    function on_load() {\n      root._bokeh_is_loading--;\n      if (root._bokeh_is_loading === 0) {\n        console.debug(\"Bokeh: all BokehJS libraries/stylesheets loaded\");\n        run_callbacks()\n      }\n    }\n\n    function on_error(url) {\n      console.error(\"failed to load \" + url);\n    }\n\n    for (let i = 0; i < css_urls.length; i++) {\n      const url = css_urls[i];\n      const element = document.createElement(\"link\");\n      element.onload = on_load;\n      element.onerror = on_error.bind(null, url);\n      element.rel = \"stylesheet\";\n      element.type = \"text/css\";\n      element.href = url;\n      console.debug(\"Bokeh: injecting link tag for BokehJS stylesheet: \", url);\n      document.body.appendChild(element);\n    }\n\n    for (let i = 0; i < js_urls.length; i++) {\n      const url = js_urls[i];\n      const element = document.createElement('script');\n      element.onload = on_load;\n      element.onerror = on_error.bind(null, url);\n      element.async = false;\n      element.src = url;\n      console.debug(\"Bokeh: injecting script tag for BokehJS library: \", url);\n      document.head.appendChild(element);\n    }\n  };\n\n  function inject_raw_css(css) {\n    const element = document.createElement(\"style\");\n    element.appendChild(document.createTextNode(css));\n    document.body.appendChild(element);\n  }\n\n  const js_urls = [\"https://cdn.bokeh.org/bokeh/release/bokeh-3.4.0.min.js\", \"https://cdn.bokeh.org/bokeh/release/bokeh-gl-3.4.0.min.js\", \"https://cdn.bokeh.org/bokeh/release/bokeh-widgets-3.4.0.min.js\", \"https://cdn.bokeh.org/bokeh/release/bokeh-tables-3.4.0.min.js\", \"https://cdn.bokeh.org/bokeh/release/bokeh-mathjax-3.4.0.min.js\"];\n  const css_urls = [];\n\n  const inline_js = [    function(Bokeh) {\n      Bokeh.set_log_level(\"info\");\n    },\nfunction(Bokeh) {\n    }\n  ];\n\n  function run_inline_js() {\n    if (root.Bokeh !== undefined || force === true) {\n      try {\n            for (let i = 0; i < inline_js.length; i++) {\n      inline_js[i].call(root, root.Bokeh);\n    }\n\n      } catch (error) {display_loaded(error);throw error;\n      }if (force === true) {\n        display_loaded();\n      }} else if (Date.now() < root._bokeh_timeout) {\n      setTimeout(run_inline_js, 100);\n    } else if (!root._bokeh_failed_load) {\n      console.log(\"Bokeh: BokehJS failed to load within specified timeout.\");\n      root._bokeh_failed_load = true;\n    } else if (force !== true) {\n      const cell = $(document.getElementById(\"f28205d6-b575-4896-b192-aa6d586a4229\")).parents('.cell').data().cell;\n      cell.output_area.append_execute_result(NB_LOAD_WARNING)\n    }\n  }\n\n  if (root._bokeh_is_loading === 0) {\n    console.debug(\"Bokeh: BokehJS loaded, going straight to plotting\");\n    run_inline_js();\n  } else {\n    load_libs(css_urls, js_urls, function() {\n      console.debug(\"Bokeh: BokehJS plotting callback run at\", now());\n      run_inline_js();\n    });\n  }\n}(window));",
      "application/vnd.bokehjs_load.v0+json": ""
     },
     "metadata": {},
     "output_type": "display_data"
    }
   ],
   "source": [
    "%matplotlib inline\n",
    "from bokeh.io import output_notebook\n",
    "from bokeh.plotting import *\n",
    "from matmodlab2 import *\n",
    "from numpy import *\n",
    "import numpy as np\n",
    "output_notebook()\n",
    "import pandas as pd\n",
    "import matplotlib.pyplot as plt"
   ]
  },
  {
   "cell_type": "code",
   "execution_count": 2,
   "metadata": {},
   "outputs": [
    {
     "name": "stdout",
     "output_type": "stream",
     "text": [
      "[array([1396.37470211,  458.65987434,    0.        ]), array([ 1.45282883e+03,  7.52697548e+02, -3.97903932e-13]), array([1473.31747732, 1024.05899825,    0.        ]), array([1.45773908e+03, 1.27614083e+03, 1.36424205e-12]), array([1398.42352991, 1516.27415277,    0.        ]), array([1286.25165915, 1724.5075471 ,    0.        ]), array([1.11582404e+03, 1.87893231e+03, 9.09494702e-13]), array([ 7.94090110e+02,  1.96601219e+03, -9.09494702e-13]), array([ 352.8719931, 1867.2372443,    0.       ]), array([ -82.29171785, 1604.5194926 ,    0.        ]), array([-458.16158971, 1258.01730755,    0.        ]), array([-824.12154382,  796.19129748,    0.        ]), array([-1049.89454528,   424.02467528,     0.        ]), array([-1239.13108071,    22.42471773,     0.        ]), array([-1353.96486156,  -303.19214783,     0.        ]), array([-1.42921856e+03, -6.08564984e+02,  5.68434189e-14]), array([-1.46748078e+03, -8.91097013e+02, -9.09494702e-13]), array([-1.47024022e+03, -1.15213736e+03, -2.27373675e-13]), array([-1434.60813625, -1397.11545767,     0.        ]), array([-1352.60612616, -1619.67115803,     0.        ]), array([-1.19327066e+03, -1.82318755e+03, -9.09494702e-13]), array([ -975.20467217, -1940.02768271,     0.        ]), array([ -580.25127012, -1942.36126428,     0.        ]), array([ -129.10603216, -1750.62059893,     0.        ]), array([ 2.78272148e+02, -1.43817264e+03, -9.09494702e-13]), array([ 6.91229339e+02, -9.80661712e+02,  9.09494702e-13]), array([ 943.58905575, -610.02748962,    0.        ]), array([ 1.16614832e+03, -1.91047936e+02,  9.09494702e-13]), array([1301.65218195,  142.60874946,    0.        ]), array([1396.37470211,  458.65987434,    0.        ])]\n"
     ]
    }
   ],
   "source": [
    "def run_model(B_in, load_dir, load_mags, frames=100):\n",
    "    #B = array([ [ 1, 0, 0], [0, 1, 0 ], [ 0, 0, 1 ] ])\n",
    "    mps1 = MaterialPointSimulator('uplastic-std')\n",
    "    p = {'E': 10e6, 'Nu': .333, 'Y0': 1e3, \"B\": B_in}\n",
    "    mps1.material = ST_GPSR_TTM(**p)\n",
    "    mps1.run_step(load_dir, load_mags, frames=50)\n",
    "\n",
    "    return  mps1.df[['S.XX', 'S.YY', 'S.ZZ', 'S.YZ', 'S.XZ', 'S.XY', 'EP_XX', 'EP_YY', 'EP_ZZ', 'EP_XY', 'EP_YZ', 'EP_XZ', 'EQPS']], mps1\n",
    "\n",
    "def run_vm(B_in, load_dir, load_mags, frames=100):\n",
    "    #B = array([ [ 1, 0, 0], [0, 1, 0 ], [ 0, 0, 1 ] ])\n",
    "    mps1 = MaterialPointSimulator('uplastic-std')\n",
    "    p = {'E': 10e6, 'Nu': .333, 'Y0': 1e3, \"Y1\": 0, \"m\": 0}\n",
    "    mps1.material = HardeningPlasticMaterial(**p)\n",
    "    mps1.run_step(load_dir, load_mags, frames=100)\n",
    "\n",
    "    return  mps1.df[['S.XX', 'S.YY', 'S.ZZ', 'S.YZ', 'S.XZ', 'S.XY']], mps1\n",
    "\n",
    "def get_yield_point_princ(df):\n",
    "    y = df[df.EQPS > 1e-6].iloc[0]\n",
    "    # Build a stress tensor\n",
    "    s11 = y['S.XX']\n",
    "    s22 = y['S.YY']\n",
    "    s33 = y['S.ZZ']\n",
    "    s13 = y['S.XZ']\n",
    "    s23 = y['S.YZ']\n",
    "    s12 = y['S.XY']\n",
    "    stress_yield = np.array( [ [ s11, s12, s13], [ s12, s22, s23 ], [ s13, s23, s33 ] ] )\n",
    "    # stress_dev = stress_yield - 1./3.*np.trace(stress_yield)*np.eye(3)\n",
    "    # I1 = np.trace(stress_yield)\n",
    "    # J2 = 1/2*np.tensordot(stress_dev, stress_dev)\n",
    "    # J3 = np.einsum('ij,jk,ki', stress_dev, stress_dev, stress_dev)/3.\n",
    "    # r = np.sqrt(2.*J2)\n",
    "    # theta_s = np.arcsin( J3/2. * (3./J2)**(3./2.) )/3.\n",
    "    # z = I1/np.sqrt(3)\n",
    "    # eigval = np.linalg.eigvals(stress_yield)\n",
    "    \n",
    "    #print('dev', 'yield', stress_dev, stress_yield)\n",
    "    return np.array([s11, s22, s33])\n",
    "\n",
    "def draw_principal_axes(ax, length_of_axes=2.5, scale=100):\n",
    "    \"\"\"\n",
    "    Draws principal axes on graph, change length of axes and scale\n",
    "    \"\"\"\n",
    "    zero_pos = np.zeros(2)\n",
    "    straight_up_pos = np.array([0, 1]) * length_of_axes\n",
    "    bottom_right_pos = np.array([np.cos(-np.pi / 6.), np.sin(-np.pi / 6.)]) * length_of_axes\n",
    "    bottom_left_pos = np.array([np.cos(7 * np.pi / 6.), np.sin(7 * np.pi / 6.)]) * length_of_axes\n",
    "\n",
    "    ax.quiver(*zero_pos, *straight_up_pos, scale_units=\"xy\", scale=1)\n",
    "    ax.annotate(r\"$\\sigma_2$\", straight_up_pos + np.array([0.25, -0.3]) * scale)\n",
    "\n",
    "    ax.quiver(*zero_pos, *bottom_right_pos, scale_units=\"xy\", scale=1)\n",
    "    ax.annotate(r\"$\\sigma_1$\", bottom_right_pos + np.array([-0.18, 0.45]) * scale)\n",
    "\n",
    "    ax.quiver(*zero_pos, *bottom_left_pos, scale_units=\"xy\", scale=1)\n",
    "    # ax.annotate(r\"$\\sigma_3$\", bottom_left_pos + np.array([0.1, -0.45]) * scale)\n",
    "    ax.annotate(r\"$\\sigma_3$\", bottom_left_pos + np.array([0.28, -0.4]) * scale)\n",
    "    # ax.annotate(r\"$\\sigma_3$\", bottom_left_pos + np.array([-0.18, -0.4]) * scale)\n",
    "\n",
    "def align_pi_plane_with_axes_rot():\n",
    "    \"\"\"\n",
    "    Returns a matrix that rotates the pi plane's normal to be the z axis\n",
    "    i.e., a slice of pi plane becomes the xy plane after rotation\n",
    "    \"\"\"\n",
    "    pi_vector = np.array([1, 1, 1]) / np.sqrt(3.)\n",
    "    # wanted_vector = np.array([1, 0, 0])\n",
    "    wanted_vector = np.array([0, 0, 1])\n",
    "    wanted_vector = wanted_vector / np.linalg.norm(wanted_vector)\n",
    "    added = (pi_vector + wanted_vector).reshape([-1, 1])\n",
    "\n",
    "    # from Rodrigues' rotation formula, more info here: https://math.stackexchange.com/a/2672702\n",
    "    rot_mat = 2 * (added @ added.T) / (added.T @ added) - np.eye(3)\n",
    "    return rot_mat\n",
    "\n",
    "\n",
    "def align_axes_with_pi_plane_rot():\n",
    "    \"\"\"\n",
    "    Returns a matrix that undoes the align_pi_plane_with_axes_rot rotation\n",
    "    \"\"\"\n",
    "    return np.linalg.inv(align_pi_plane_with_axes_rot())\n",
    "\n",
    "\n",
    "angle_pairs = []\n",
    "for deg in np.linspace(0,2*np.pi,30):\n",
    "    N = 1E-3\n",
    "    SH = 1E-3 #np.sqrt(3)*1e3\n",
    "    x = N*np.cos(deg)\n",
    "    y = SH*np.sin(deg)\n",
    "    angle_pairs.append([x,y])\n",
    "#print(angle_pairs)\n",
    "pstress = []\n",
    "for angs in angle_pairs:\n",
    "    #B = array([ [ 1, 0, 0], [0, 1, 0 ], [ 0, 0, 1 ] ])\n",
    "    B = array( [ [ -0.225, 0.39, 0.23], [-0.093, 0.41, 0.075], [ -0.258, 0.512, 0.139] ])*5.298\n",
    "    stress, mps = run_model(B, 'EESSSS', (angs[0], angs[1], 0, 0 ,0,0))\n",
    "    #print(stress)\n",
    "    #mps.plot('E.XX', 'S.XX')\n",
    "    prin_stress = get_yield_point_princ(stress)\n",
    "    pstress.append(prin_stress)\n",
    "# for angs in angle_pairs:\n",
    "#     B = array([ [ 1, 0, 0], [0, 1, 0 ], [ 0, 0, 1 ] ])\n",
    "#     stress, mps = run_model(B, 'SSSSSS', (0, angs[0], 0, 0,angs[1],0))\n",
    "#     #print(stress)\n",
    "#     #mps.plot('E.XX', 'S.XX')\n",
    "#     prin_stress = get_yield_point_princ(stress)\n",
    "#     pstress.append(prin_stress)\n",
    "# for angs in angle_pairs:\n",
    "#     B = array([ [ 1, 0, 0], [0, 1, 0 ], [ 0, 0, 1 ] ])\n",
    "#     stress, mps = run_model(B, 'SSSSSS', (0,0, angs[0], 0,0,angs[1]))\n",
    "#     #print(stress)\n",
    "#     #mps.plot('E.XX', 'S.XX')\n",
    "#     prin_stress = get_yield_point_princ(stress)\n",
    "#     pstress.append(prin_stress)\n",
    "\n",
    "print(pstress)\n"
   ]
  },
  {
   "cell_type": "code",
   "execution_count": 3,
   "metadata": {},
   "outputs": [],
   "source": [
    "rot = np.array([[-0.78867513,  0.21132487,  0.57735027],\n",
    "       [ 0.21132487, -0.78867513,  0.57735027],\n",
    "       [ 0.57735027,  0.57735027,  0.57735027]])\n",
    "#print(rot)\n",
    "s1 = []\n",
    "s2 = []\n",
    "for eh in pstress:\n",
    "    vec = eh @ rot\n",
    "    s1.append(vec[0])\n",
    "    s2.append(vec[1])"
   ]
  },
  {
   "cell_type": "code",
   "execution_count": 4,
   "metadata": {},
   "outputs": [
    {
     "name": "stdout",
     "output_type": "stream",
     "text": [
      "[[ 1.39637470e+03  4.58659874e+02  0.00000000e+00]\n",
      " [ 1.45282883e+03  7.52697548e+02 -3.97903932e-13]\n",
      " [ 1.47331748e+03  1.02405900e+03  0.00000000e+00]\n",
      " [ 1.45773908e+03  1.27614083e+03  1.36424205e-12]\n",
      " [ 1.39842353e+03  1.51627415e+03  0.00000000e+00]\n",
      " [ 1.28625166e+03  1.72450755e+03  0.00000000e+00]\n",
      " [ 1.11582404e+03  1.87893231e+03  9.09494702e-13]\n",
      " [ 7.94090110e+02  1.96601219e+03 -9.09494702e-13]\n",
      " [ 3.52871993e+02  1.86723724e+03  0.00000000e+00]\n",
      " [-8.22917178e+01  1.60451949e+03  0.00000000e+00]\n",
      " [-4.58161590e+02  1.25801731e+03  0.00000000e+00]\n",
      " [-8.24121544e+02  7.96191297e+02  0.00000000e+00]\n",
      " [-1.04989455e+03  4.24024675e+02  0.00000000e+00]\n",
      " [-1.23913108e+03  2.24247177e+01  0.00000000e+00]\n",
      " [-1.35396486e+03 -3.03192148e+02  0.00000000e+00]\n",
      " [-1.42921856e+03 -6.08564984e+02  5.68434189e-14]\n",
      " [-1.46748078e+03 -8.91097013e+02 -9.09494702e-13]\n",
      " [-1.47024022e+03 -1.15213736e+03 -2.27373675e-13]\n",
      " [-1.43460814e+03 -1.39711546e+03  0.00000000e+00]\n",
      " [-1.35260613e+03 -1.61967116e+03  0.00000000e+00]\n",
      " [-1.19327066e+03 -1.82318755e+03 -9.09494702e-13]\n",
      " [-9.75204672e+02 -1.94002768e+03  0.00000000e+00]\n",
      " [-5.80251270e+02 -1.94236126e+03  0.00000000e+00]\n",
      " [-1.29106032e+02 -1.75062060e+03  0.00000000e+00]\n",
      " [ 2.78272148e+02 -1.43817264e+03 -9.09494702e-13]\n",
      " [ 6.91229339e+02 -9.80661712e+02  9.09494702e-13]\n",
      " [ 9.43589056e+02 -6.10027490e+02  0.00000000e+00]\n",
      " [ 1.16614832e+03 -1.91047936e+02  9.09494702e-13]\n",
      " [ 1.30165218e+03  1.42608749e+02  0.00000000e+00]\n",
      " [ 1.39637470e+03  4.58659874e+02  0.00000000e+00]]\n"
     ]
    },
    {
     "name": "stderr",
     "output_type": "stream",
     "text": [
      "<>:4: SyntaxWarning: invalid escape sequence '\\s'\n",
      "<>:5: SyntaxWarning: invalid escape sequence '\\s'\n",
      "<>:4: SyntaxWarning: invalid escape sequence '\\s'\n",
      "<>:5: SyntaxWarning: invalid escape sequence '\\s'\n",
      "C:\\Users\\brian\\AppData\\Local\\Temp\\ipykernel_1924\\2582416723.py:4: SyntaxWarning: invalid escape sequence '\\s'\n",
      "  plt.xlabel('$\\sigma_{11}/Y_0$')\n",
      "C:\\Users\\brian\\AppData\\Local\\Temp\\ipykernel_1924\\2582416723.py:5: SyntaxWarning: invalid escape sequence '\\s'\n",
      "  plt.ylabel('$\\sigma_{22}/Y_0$')\n"
     ]
    },
    {
     "data": {
      "image/png": "[encoded data removed]",
      "text/plain": [
       "<Figure size 640x480 with 1 Axes>"
      ]
     },
     "metadata": {},
     "output_type": "display_data"
    }
   ],
   "source": [
    "pstress = np.array(pstress)\n",
    "print(pstress)\n",
    "plt.plot(pstress[:,0]/1e3, pstress[:,1]/1e3, '.')\n",
    "plt.xlabel('$\\sigma_{11}/Y_0$')\n",
    "plt.ylabel('$\\sigma_{22}/Y_0$')\n",
    "plt.grid()\n",
    "ax = plt.gca()\n",
    "ax.set_aspect('equal', adjustable='box')"
   ]
  },
  {
   "cell_type": "code",
   "execution_count": null,
   "metadata": {},
   "outputs": [],
   "source": []
  }
 ],
 "metadata": {
  "kernelspec": {
   "display_name": "mml2",
   "language": "python",
   "name": "python3"
  },
  "language_info": {
   "codemirror_mode": {
    "name": "ipython",
    "version": 3
   },
   "file_extension": ".py",
   "mimetype": "text/x-python",
   "name": "python",
   "nbconvert_exporter": "python",
   "pygments_lexer": "ipython3",
   "version": "3.12.3"
  }
 },
 "nbformat": 4,
 "nbformat_minor": 2
}
