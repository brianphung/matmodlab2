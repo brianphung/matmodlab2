{
 "cells": [
  {
   "cell_type": "markdown",
   "metadata": {},
   "source": [
    "# Nonhardening Plasticity\n",
    "\n",
    "## Overview\n",
    "\n",
    "In contrast to elasticity, plasticity describes the deformation of bodies that undergo nonreversible changes of shape in response to applied load.  When a body transitions from elastic to plastic deformation it is said to \"yield\".  The yield transition point, also known as the **yield strength** is a property of the material and generally changes in response to continued loading.  When the yield strength increases with continued loading it is said to *harden* and the response is described by hardening theories of plasticity.  The simplified nonhardening theory of plasticity describes materials whose yield strength does not change in response to continued loading.  This notebook\n",
    "\n",
    "- presents an introduction to nonhardening plasticity,\n",
    "- implements a nonhardening \"$J_2$\" plasticity model in Matmodlab, and\n",
    "- verifies the $J_2$ model against analytic solutions."
   ]
  },
  {
   "cell_type": "markdown",
   "metadata": {},
   "source": [
    "## See Also\n",
    "\n",
    "- [User Defined Materials: Introduction](UserMaterials.ipynb)\n",
    "- [Linear Elastic Material](LinearElastic.ipynb)"
   ]
  },
  {
   "cell_type": "markdown",
   "metadata": {},
   "source": [
    "<a name='contents'></a>\n",
    "## Contents\n",
    "\n",
    "1. <a href='#plastic'>Fundamental Equations</a>\n",
    "2. <a href='#j2'>$J_2$ Plasticity</a>\n",
    "3. <a href='#umat.std'>Standard Model Implementation</a>\n",
    "4. <a href='#umat.ver'>Model Verification</a>"
   ]
  },
  {
   "cell_type": "markdown",
   "metadata": {},
   "source": [
    "<a name='plastic'></a>\n",
    "## Fundamental Equations\n",
    "\n",
    "The mechanical response of a nonhardening plastic material is predicated on the assumption that there exists an **elastic limit**, beyond which stress states are not achievable through normal processes.  The elastic limit is defined by a **yield surface** satisfying\n",
    "\n",
    "$$\n",
    "f\\left(\\pmb{\\sigma}\\right) = 0\n",
    "$$\n",
    "\n",
    "where $f$ is the **yield function** and $\\pmb{\\sigma}$ the mechanical stress, defined as\n",
    "\n",
    "$$\n",
    "\\dot{\\pmb{\\sigma}} = \\mathbb{C}{:}\\dot{\\pmb{\\epsilon}}^{\\rm e}\n",
    "$$\n",
    "\n",
    "where $\\mathbb{C}$ is the elastic stiffness and $\\dot{\\pmb{\\epsilon}}^{\\rm e}$ the rate of elastic strain.  The rate of strain is commonly regarded as the sum of elastic and plastic parts, giving for the mechanical response\n",
    "\n",
    "$$\n",
    "\\dot{\\pmb{\\sigma}} = \\mathbb{C}{:}\\left(\\dot{\\pmb{\\epsilon}} - \\dot{\\pmb{\\epsilon}}^{\\rm p}\\right)\n",
    "$$\n",
    "\n",
    "where $\\dot{\\pmb{\\epsilon}}^{\\rm p}$ is the rate of plastic strain.  Replacing $\\dot{\\pmb{\\epsilon}}^{\\rm p}$ with $\\dot{\\lambda}\\pmb{m}$, $\\dot{\\lambda}$ being the magnitude of $\\dot{\\pmb{\\epsilon}}^{\\rm p}$ and $\\pmb{m}$ its direction, the mechanical response of the material is\n",
    "\n",
    "$$\n",
    "\\dot{\\pmb{\\sigma}} = \\mathbb{C}{:}\\left(\\dot{\\pmb{\\epsilon}} - \\dot{\\lambda}\\pmb{m}\\right)\n",
    "$$\n",
    "\n",
    "The solution to the plasticity problem is reduced to determining $\\dot{\\lambda}$ such that $f\\left(\\pmb{\\sigma}(t)\\right)\\leq 0 \\ \\forall t>0$"
   ]
  },
  {
   "cell_type": "markdown",
   "metadata": {},
   "source": [
    "### Solution Process\n",
    "\n",
    "Given the current state of stress $\\pmb{\\sigma}_n$, the solution to the plasticity problem begins with the hypothesis that the entire strain increment is elastic:\n",
    "\n",
    "$$\n",
    "\\pmb{\\sigma}_{n+1} \\stackrel{?}{=} \\pmb{\\sigma}_{n} + \\mathbb{C}{:}\\dot{\\pmb{\\epsilon}}dt = \\pmb{\\sigma}^{\\rm test}\n",
    "$$\n",
    "\n",
    "where the descriptor \"test\" is used to signal the fact that at this point $\\pmb{\\sigma}^{\\rm test}$ is merely a hypothesized solution.  The hypothesis is validated if $\\pmb{\\sigma}^{\\rm test}$ satisfies the **yield condition** \n",
    "\n",
    "$$f\\left(\\pmb{\\sigma}^{\\rm test}\\right)\\leq 0$$\n",
    "\n",
    "so that $\\pmb{\\sigma}_{n+1}=\\pmb{\\sigma}^{\\rm test}$.  \n",
    "\n",
    "If instead the hypothesis is *falsefied*, i.e., the predicted test stress falls outside of the yield surface defined by $f=0$, the plasticity problem, \n",
    "\n",
    "$$\\begin{align}\n",
    "\\pmb{\\sigma}_{n+1} = \\pmb{\\sigma}_{n} + \\mathbb{C}{:}\\left(\\dot{\\pmb{\\epsilon}} - \\dot{\\lambda}\\pmb{m}\\right)dt &= \\pmb{\\sigma}^{\\rm trial} - \\dot{\\lambda}\\pmb{A}dt\\\\\n",
    "f\\left(\\pmb{\\sigma}^{\\rm trial} - \\dot{\\lambda}\\pmb{A}dt\\right) &= 0\n",
    "\\end{align}$$\n",
    "\n",
    "where $\\pmb{A}=\\mathbb{C}{:}\\pmb{m}$, is solved.  $\\dot{\\pmb{\\sigma}}^{\\rm trial}=\\mathbb{C}{:}\\dot{\\pmb{\\epsilon}}$ is distinguished from $\\dot{\\pmb{\\sigma}}^{\\rm test}$ in that for stress driven problems $\\dot{\\pmb{\\sigma}}^{\\rm trial}$ is not necessarily known because the strain rates $\\dot{\\epsilon}$ are not known.\n",
    "\n",
    "The unknown scalar $\\dot{\\lambda}$ is determined by noting the following observation: if $f\\left(\\pmb{\\sigma}_{n}\\right)=0$ and, after continued loading, $f\\left(\\pmb{\\sigma}_{n+1}\\right)=0$, the rate of change of $f$ itself must be zero.  Thus, by the chain rule,\n",
    "\n",
    "$$\\begin{align}\n",
    "\\dot{f}{\\left(\\pmb{\\sigma}\\right)}\n",
    "    &=\\frac{df}{d\\pmb{\\sigma}}{:}\\dot{\\pmb{\\sigma}}\\\\\n",
    "     &=\\frac{df}{d\\pmb{\\sigma}}{:}\\left(\\mathbb{C}{:}\\dot{\\epsilon}-\\dot{\\lambda}\\pmb{A}dt\\right)=0\n",
    "\\end{align}$$\n",
    "\n",
    "which is known as the **consistency condition** and $\\dot{\\lambda}$ the **consistency parameter**.  The consistency condition is equivalent to the statement that $\\dot{\\lambda}\\dot{f}=0$.  The consistency conditions can be shown to be equivalent to the Karush-Kuhn-Tucker conditions\n",
    "\n",
    "$$\n",
    "   \\dot{\\lambda} \\ge 0 ~,~~ f \\le 0~,~~ \\dot{\\lambda}\\,f = 0 \\,.\n",
    "$$"
   ]
  },
  {
   "cell_type": "markdown",
   "metadata": {},
   "source": [
    "Letting\n",
    "\n",
    "$$\n",
    "\\pmb{n} = \\frac{df}{d\\pmb{\\sigma}}\\Big/\\Big\\lVert\\frac{df}{d\\pmb{\\sigma}}\\Big\\rVert\n",
    "$$\n",
    "\n",
    "the preceding equation can be solved $\\dot{\\lambda}$, giving\n",
    "\n",
    "$$\n",
    "\\dot{\\lambda} \n",
    "   = \\frac{\\pmb{n}{:}\\mathbb{C}{:}\\dot{\\epsilon}}{\\pmb{n}{:}\\pmb{A}}\n",
    "$$\n",
    "\n",
    "Substituting $\\dot{\\lambda}$ in to the expression for stress rate gives\n",
    "\n",
    "$$\\begin{align}\n",
    "\\dot{\\pmb{\\sigma}} \n",
    "   &= \\mathbb{C}{:}\\dot{\\pmb{\\epsilon}} - \\frac{\\pmb{n}{:}\\mathbb{C}{:}\\dot{\\epsilon}}{\\pmb{n}{:}\\pmb{A}}\\pmb{A}\\\\\n",
    "   &= \\mathbb{C}{:}\\dot{\\pmb{\\epsilon}} - \\frac{1}{\\pmb{n}{:}\\pmb{A}}\\pmb{Q}\\pmb{A}{:}\\dot{\\pmb{\\epsilon}}\\\\\n",
    "   &= \\mathbb{D}{:}\\dot{\\pmb{\\epsilon}}\n",
    "\\end{align}$$\n",
    "\n",
    "where\n",
    "\n",
    "$$\n",
    "\\mathbb{D} = \\mathbb{C} - \\frac{1}{\\pmb{n}{:}\\pmb{A}}\\pmb{Q}\\pmb{A}\n",
    "$$\n",
    "\n",
    "The stress rate is then integrated through time to determine $\\pmb{\\sigma}$"
   ]
  },
  {
   "cell_type": "markdown",
   "metadata": {},
   "source": [
    "### Integration Procedure\n",
    "\n",
    "It can be shown that there exists a scalar $\\Gamma$ such that\n",
    "\n",
    "$$\\pmb{\\sigma}_{n+1} = \\pmb{\\sigma}^{\\rm trial} - \\Gamma\\pmb{A}$$\n",
    "\n",
    "$\\Gamma$ is determined by satisfying the yield condition.  In other words, $\\Gamma$ is the solution to\n",
    "\n",
    "$$f\\left(\\pmb{\\sigma}^{\\rm trial} - \\Gamma\\pmb{A}\\right)=0$$\n",
    "\n",
    "The unknown $\\Gamma$ is found such that $f\\left(\\pmb{\\sigma}(\\Gamma)\\right)=0$.  The solution can be found by solving the preceding equation iteratively by applying Newton's method so that\n",
    "\n",
    "$$\n",
    "\\Gamma^{i+1} = \\Gamma^i + \\frac{f\\left(\\pmb{\\sigma}(\\Gamma^{n})\\right)}{(df/d\\pmb{\\sigma})\\big|_{\\Gamma^i}{:}\\pmb{A}}\n",
    "$$\n",
    "\n",
    "When $\\Gamma^{i+1}-\\Gamma^i<\\epsilon$, where $\\epsilon$ is a small number, the iterations are complete and the updated stress can be determined.\n",
    "\n",
    "Note that the scalar $\\Gamma$ is also equal to $\\Gamma=\\dot{\\lambda}dt$, but since $\\dot{\\lambda}=0$ for elastic loading, $\\Gamma=\\dot{\\lambda}dt^p$, where $dt^p$ is the plastic part of the time step.  This gives $\\Gamma$ the following physical interpretation: it is the magnigute of the total plastic strain increment."
   ]
  },
  {
   "cell_type": "markdown",
   "metadata": {},
   "source": [
    "#### Alternative Iterative method\n",
    "\n",
    "Brannon argues that redefining $\\Gamma$ such that\n",
    "\n",
    "$$\\pmb{\\sigma}_{n+1} = \\pmb{\\sigma}^{\\rm trial} + \\Gamma\\pmb{A}$$\n",
    "\n",
    "can lead to fast convergence for yield surfaces with considerable curvature [2002, Radial Return document].  To update the stress, begin Newton iterations with $\\Gamma=0$ and compute the improved estimate as\n",
    "\n",
    "$$\n",
    "\\Gamma^{i+1} = -\\frac{f\\left(\\pmb{\\sigma}(\\Gamma^{i})\\right)}{(df/d\\pmb{\\sigma})\\big|_{\\Gamma^i}{:}\\pmb{A}}\n",
    "$$\n",
    "\n",
    "when $\\Gamma^{i+1}<\\epsilon$ the Newton procedure is complete."
   ]
  },
  {
   "cell_type": "markdown",
   "metadata": {},
   "source": [
    "## $J_2$ Plasticity\n",
    "\n",
    "The equations developed thus far are general in the sense that they apply to any material that can be modeled by nonhardening plasticity.  The equations are now specialized to the case of isotropic hypoelasticity and $J_2$ plasticity by defining\n",
    "\n",
    "$$\\begin{align}\n",
    "\\dot{\\pmb{\\sigma}} &= 3K\\,\\mathrm{iso}\\dot{\\pmb{\\epsilon}}^{\\rm e} + 2G\\,\\mathrm{dev}\\dot{\\pmb{\\epsilon}}^{\\rm e} \\\\\n",
    "f\\left(\\pmb{\\sigma}\\right) &= \\sqrt{J_2} - k\n",
    "\\end{align}\n",
    "$$\n",
    "\n",
    "where $K$ and $G$ are the bulk and shear moduli, respectively, and $J_2$ is the second invariant of the stress deviator, defined as\n",
    "\n",
    "$$J_2 = \\frac{1}{2}\\pmb{s}{:}\\pmb{s}, \\quad \\pmb{s} = \\pmb{\\sigma} - \\frac{1}{3}\\mathrm{tr}\\left(\\pmb{\\sigma}\\right)\\pmb{I}$$\n",
    "\n",
    "Additionally, we adopt the assumption of an **associative flow rule** wherein $\\pmb{m}=\\pmb{n}$.  Accordingly,\n",
    "\n",
    "$$\\begin{align}\n",
    "\\frac{df}{d\\pmb{\\sigma}}&=\\frac{1}{2\\sqrt{J_2}}\\pmb{s}, &\\pmb{n}=\\frac{1}{\\sqrt{2J_2}}\\pmb{s} \\\\\n",
    "\\pmb{A}&=\\frac{2G}{\\sqrt{2J_2}}\\pmb{s}, &\\pmb{Q}=\\frac{2G}{\\sqrt{2J_2}}\\pmb{s}\n",
    "\\end{align}$$\n",
    "\n",
    "### Required Parameters\n",
    "\n",
    "The model as described above requires at minimum 3 parameters: 2 independent elastic moduli and a yield strength measure.  Commonly, the yield strength in tension $Y$ is chosen in lieu of the yield strength in shear $k$.  The conversion from $Y$ to $k$, as required by the model development, is found from evaluating the yield criterion for the case of uniaxial tension, where the stress and its deviator are\n",
    "\n",
    "$$\n",
    "\\pmb{\\sigma} =  \\begin{bmatrix}\\sigma_{\\rm ax}&&\\\\& 0&\\\\&& 0\\end{bmatrix}, \\quad\n",
    "\\pmb{s} =  \\frac{1}{3}\\begin{bmatrix}2\\sigma_{\\rm ax}&&\\\\& -\\sigma_{\\rm ax}&\\\\&& -\\sigma_{\\rm ax}\\end{bmatrix}\n",
    "$$\n",
    "\n",
    "Accordingly, \n",
    "\n",
    "$$J_2 = \\frac{1}{2}\\pmb{s}{:}\\pmb{s} = \\frac{1}{3}\\sigma_{\\rm ax}^2$$\n",
    "\n",
    "evaluating the yield function leads to\n",
    "\n",
    "$$\\sqrt{J_2} = \\frac{1}{\\sqrt{3}}Y = k$$\n",
    "\n",
    "### Optional Solution Dependent Variables\n",
    "\n",
    "The simple $J_2$ plasticity model described does not require the storage and tracking of solution dependent variables.  However, the equivalent plastic strain is often stored for output purposes.  The equivalent plastic strain is defined so that the plastic work\n",
    "\n",
    "$$W^p = \\pmb{\\sigma}{:}\\dot{\\pmb{\\epsilon}}^p=\\sigma_{eq}\\dot{\\epsilon}^p_{eq}$$\n",
    "\n",
    "where $\\sigma_{eq}$ is the equivalent von Mises stress $\\sigma_{eq} = \\sqrt{\\frac{3}{2}\\pmb{s}{:}\\pmb{s}}$,  requiring that\n",
    "\n",
    "$$\\dot{\\epsilon}^p_{eq} = \\sqrt{\\frac{2}{3}}\\lVert{\\rm dev}\\left(\\dot{\\pmb{\\epsilon}}^p\\right)\\rVert$$"
   ]
  },
  {
   "cell_type": "markdown",
   "metadata": {},
   "source": [
    "<a name='umat.std'></a>\n",
    "## Model Implementation\n",
    "\n",
    "The plastic material described above is implemented as `NonhardeningPlasticMaterial` in `matmodlab2/materials/plastic2.py`.  `NonhardeningPlasticMaterial` is implemented as a subclass of the `matmodlab2.core.material.Material` class.  `NonhardeningPlasticMaterial` defines\n",
    "\n",
    "- `name`: *class attribute*\n",
    "\n",
    "   Used for referencing the material model in the `MaterialPointSimulator`.\n",
    "   \n",
    "- `eval`: *instance method*\n",
    "\n",
    "   Updates the material stress, stiffness (optional), and state dependent variables to the end of the time increment.\n",
    "   \n",
    "In the example below, in addition to some standard functions imported from `Numpy`, several helper functions are imported from various locations in Matmodlab:\n",
    "\n",
    "- `matmodlab.utils.tensor`\n",
    "\n",
    "   - `iso`, `dev`: computes the isotropic and deviatoric parts of a second-order tensor\n",
    "   - `mag`: computes the magnitude $\\left(\\lVert x_{ij} \\rVert=\\sqrt{x_{ij}x_{ij}}\\right)$ of a second-order tensors\n",
    "   - `ddot`, `dyad`: computes the double dot product and dyadic product of second-order tensors\n",
    "- `matmodlab.constants`\n",
    "   - `VOIGT`: mulitplier for converting tensor strain components to engineering strain components\n",
    "   - `ROOT3`: $\\sqrt{3}$\n",
    "   - `TOLER`: A small number, used as a tolerance\n",
    "   \n",
    "\n",
    "### A Note on Implementation\n",
    "\n",
    "For the simplistic $J_2$ plasticity model, it is a simple task to determine the analytic response and avoid Newton iterations.  In the model implemented, Newton iterations are used to verify the algorithm.  The source of the file can be viewed by executing the following cell."
   ]
  },
  {
   "cell_type": "code",
   "execution_count": 1,
   "metadata": {
    "collapsed": true
   },
   "outputs": [],
   "source": [
    "%pycat ../matmodlab2/materials/plastic2.py"
   ]
  },
  {
   "cell_type": "code",
   "execution_count": 2,
   "metadata": {
    "collapsed": false,
    "scrolled": true
   },
   "outputs": [
    {
     "name": "stdout",
     "output_type": "stream",
     "text": [
      "Populating the interactive namespace from numpy and matplotlib\n",
      "Setting up the Matmodlab notebook environment\n"
     ]
    }
   ],
   "source": [
    "%pylab inline\n",
    "from matmodlab2 import *"
   ]
  },
  {
   "cell_type": "markdown",
   "metadata": {},
   "source": [
    "<a name='umat.ver'></a>\n",
    "## Verification\n",
    "\n",
    "Exercising the elastic model through a path of uniaxial stress should result in the slope of axial stress vs. axial strain being equal to the input parameter `E` for the elastic portion.  The maximum stress should be equal to the input parameter `Y`."
   ]
  },
  {
   "cell_type": "code",
   "execution_count": 3,
   "metadata": {
    "collapsed": false
   },
   "outputs": [
    {
     "data": {
      "text/plain": [
       "<matplotlib.axes._subplots.AxesSubplot at 0x7f3eda5dae80>"
      ]
     },
     "execution_count": 3,
     "metadata": {},
     "output_type": "execute_result"
    },
    {
     "data": {
      "image/png": "[encoded data removed]",
      "text/plain": [
       "<matplotlib.figure.Figure at 0x7f3eda5da630>"
      ]
     },
     "metadata": {},
     "output_type": "display_data"
    }
   ],
   "source": [
    "mps1 = MaterialPointSimulator('uplastic')\n",
    "mps1.material = NonhardeningPlasticMaterial(E=10e6, Nu=.333, Y=40e3)\n",
    "mps1.run_step('ESS', (.02, 0, 0), frames=50)\n",
    "\n",
    "exx = mps1.get('E.XX')\n",
    "sxx = mps1.get('S.XX')\n",
    "i = where((exx > 0.) & (exx < .005))\n",
    "E = sxx.iloc[i] / exx.iloc[i]\n",
    "assert allclose(E.iloc[0], 10e6, atol=1e-3, rtol=1e-3)\n",
    "assert amax(sxx) - 40e3 < 1e-6\n",
    "mps1.df.plot('E.XX', 'S.XX')"
   ]
  }
 ],
 "metadata": {
  "anaconda-cloud": {},
  "kernelspec": {
   "display_name": "Python 3",
   "language": "python",
   "name": "python3"
  },
  "language_info": {
   "codemirror_mode": {
    "name": "ipython",
    "version": 3
   },
   "file_extension": ".py",
   "mimetype": "text/x-python",
   "name": "python",
   "nbconvert_exporter": "python",
   "pygments_lexer": "ipython3",
   "version": "3.6.0"
  }
 },
 "nbformat": 4,
 "nbformat_minor": 0
}
