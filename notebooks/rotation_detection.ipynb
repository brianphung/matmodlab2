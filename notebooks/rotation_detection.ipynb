{
 "cells": [
  {
   "cell_type": "code",
   "execution_count": 1,
   "metadata": {},
   "outputs": [
    {
     "name": "stdout",
     "output_type": "stream",
     "text": [
      "Setting up the Matmodlab notebook environment\n"
     ]
    }
   ],
   "source": [
    "import sympy as sp\n",
    "from numpy import array\n",
    "from sympy import init_printing\n",
    "init_printing(use_latex='mathjax')\n",
    "import matmodlab2.core.linalg as la\n",
    "import numpy as np\n"
   ]
  },
  {
   "cell_type": "markdown",
   "metadata": {},
   "source": [
    "# "
   ]
  },
  {
   "cell_type": "code",
   "execution_count": 2,
   "metadata": {},
   "outputs": [
    {
     "data": {
      "text/latex": [
       "$\\displaystyle \\left[\\begin{matrix}-42.3252331864167 & -99.813424159555 & 19.0483296999914\\\\-54.2826767179868 & -12.8443861528226 & -55.9632647751709\\\\-129.294271193149 & -24.8018296843927 & 31.0057732315615\\end{matrix}\\right]$"
      ],
      "text/plain": [
       "⎡-42.3252331864167  -99.813424159555   19.0483296999914 ⎤\n",
       "⎢                                                       ⎥\n",
       "⎢-54.2826767179868  -12.8443861528226  -55.9632647751709⎥\n",
       "⎢                                                       ⎥\n",
       "⎣-129.294271193149  -24.8018296843927  31.0057732315615 ⎦"
      ]
     },
     "execution_count": 2,
     "metadata": {},
     "output_type": "execute_result"
    }
   ],
   "source": [
    "X_0 = sp.Symbol('X_0')\n",
    "x = array([ -0.4232523318641672 ,  -0.9981342415955499 ,\n",
    "         0.19048329699991354,  -0.5428267671798684 ,\n",
    "        -0.12844386152822632,  -0.559632647751709  ,\n",
    "        -1.292942711931491  ,  -0.24801829684392745,\n",
    "         0.31005773231561473,  43.098189527447424  ,\n",
    "        43.098185255841244  , -25.50440303674416   ,\n",
    "        43.098186452733955  , -25.504401158923397  ,\n",
    "        43.09818833055472   ,  43.09818337802048   ,\n",
    "       -25.504399962030693  ,  22.22108227         ])\n",
    "B = array([[x[0], x[1], x[2]],\n",
    "            [x[3], x[4], x[5]],\n",
    "            [x[6], x[7], x[8]]]) + (X_0) * (array([[x[9], x[10], x[11]],\n",
    "            [x[12], x[12], x[13]],\n",
    "            [x[14], x[15], x[16]]]))#*(ISO_Y0 + X_0*ISO_H)\n",
    "factor = (100 + 10000*X_0) \n",
    "B_Extract = sp.Matrix(sp.simplify(B*factor).subs({X_0: 0.0000}))\n",
    "B_Extract_numpy = np.array(B_Extract, dtype=float)\n",
    "B_Extract"
   ]
  },
  {
   "cell_type": "code",
   "execution_count": 3,
   "metadata": {},
   "outputs": [
    {
     "data": {
      "text/latex": [
       "$\\displaystyle \\left( \\left[\\begin{matrix}-0.0206713535530325 - 0.576980093656288 i & -0.076221122164765 + 0.491936227083991 i & -0.0585590486985832 - 0.494349824311899 i\\\\-0.0206713535530325 - 0.576980093656288 i & -0.101849743956553 - 0.507735305843226 i & -0.119963312604978 + 0.503763153448692 i\\\\-0.0206713535530325 - 0.576980093656288 i & 0.776705509894444 - 0.0300945769152889 i & 0.775130013935824 + 0.0578843170120179 i\\end{matrix}\\right], \\  \\left[\\begin{matrix}-123.09032764598 - 4.43706635008973 \\cdot 10^{-63} i & 0 & 0\\\\0 & 49.4632407691512 - 64.961946393867 i & 0\\\\0 & 0 & 49.4632407691512 + 64.961946393867 i\\end{matrix}\\right]\\right)$"
      ],
      "text/plain": [
       "⎛⎡-0.0206713535530325 - 0.576980093656288⋅ⅈ  -0.076221122164765 + 0.4919362270\n",
       "⎜⎢                                                                            \n",
       "⎜⎢-0.0206713535530325 - 0.576980093656288⋅ⅈ  -0.101849743956553 - 0.5077353058\n",
       "⎜⎢                                                                            \n",
       "⎝⎣-0.0206713535530325 - 0.576980093656288⋅ⅈ  0.776705509894444 - 0.03009457691\n",
       "\n",
       "83991⋅ⅈ  -0.0585590486985832 - 0.494349824311899⋅ⅈ⎤  ⎡-123.09032764598 - 4.437\n",
       "                                                  ⎥  ⎢                        \n",
       "43226⋅ⅈ  -0.119963312604978 + 0.503763153448692⋅ⅈ ⎥, ⎢                    0   \n",
       "                                                  ⎥  ⎢                        \n",
       "52889⋅ⅈ  0.775130013935824 + 0.0578843170120179⋅ⅈ ⎦  ⎣                    0   \n",
       "\n",
       "06635008973e-63⋅ⅈ                   0                                     0   \n",
       "                                                                              \n",
       "                   49.4632407691512 - 64.961946393867⋅ⅈ                   0   \n",
       "                                                                              \n",
       "                                    0                    49.4632407691512 + 64\n",
       "\n",
       "               ⎤⎞\n",
       "               ⎥⎟\n",
       "               ⎥⎟\n",
       "               ⎥⎟\n",
       ".961946393867⋅ⅈ⎦⎠"
      ]
     },
     "execution_count": 3,
     "metadata": {},
     "output_type": "execute_result"
    }
   ],
   "source": [
    "[T, D] = B_Extract.diagonalize()\n",
    "T,D"
   ]
  },
  {
   "cell_type": "code",
   "execution_count": 37,
   "metadata": {},
   "outputs": [
    {
     "data": {
      "text/plain": [
       "(array([[ 0.99741876,  0.03942153,  0.06001461],\n",
       "        [-0.04033764,  0.99908619,  0.01412997],\n",
       "        [-0.05940275, -0.01651434,  0.99809749]]),\n",
       " array([[0.82378613, 0.23997725, 0.21752993],\n",
       "        [0.23997725, 0.88203784, 0.24261883],\n",
       "        [0.21752993, 0.24261883, 0.84188363]]))"
      ]
     },
     "execution_count": 37,
     "metadata": {},
     "output_type": "execute_result"
    }
   ],
   "source": [
    "R, U = la.polar_decomp(B_Extract_numpy)\n",
    "R, U"
   ]
  },
  {
   "cell_type": "code",
   "execution_count": null,
   "metadata": {},
   "outputs": [],
   "source": []
  }
 ],
 "metadata": {
  "kernelspec": {
   "display_name": "stbingo",
   "language": "python",
   "name": "python3"
  },
  "language_info": {
   "codemirror_mode": {
    "name": "ipython",
    "version": 3
   },
   "file_extension": ".py",
   "mimetype": "text/x-python",
   "name": "python",
   "nbconvert_exporter": "python",
   "pygments_lexer": "ipython3",
   "version": "3.12.3"
  }
 },
 "nbformat": 4,
 "nbformat_minor": 2
}
