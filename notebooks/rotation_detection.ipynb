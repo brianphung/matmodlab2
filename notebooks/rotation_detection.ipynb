{
 "cells": [
  {
   "cell_type": "code",
   "execution_count": 2,
   "metadata": {},
   "outputs": [
    {
     "name": "stdout",
     "output_type": "stream",
     "text": [
      "Setting up the Matmodlab notebook environment\n"
     ]
    }
   ],
   "source": [
    "import sympy as sp\n",
    "from numpy import array\n",
    "from sympy import init_printing\n",
    "init_printing(use_latex='mathjax')\n",
    "import matmodlab2.core.linalg as la\n",
    "import numpy as np\n"
   ]
  },
  {
   "cell_type": "markdown",
   "metadata": {},
   "source": [
    "# "
   ]
  },
  {
   "cell_type": "code",
   "execution_count": 13,
   "metadata": {},
   "outputs": [
    {
     "data": {
      "text/latex": [
       "$\\displaystyle \\left[\\begin{matrix}-0.502390260501616 & -0.410333321023191 & 0.356233316915312\\\\-0.410333321023191 & 0.356233316907837 & -0.502390260520311\\\\0.356233316915312 & -0.502390260520311 & -0.410333321040258\\end{matrix}\\right]$"
      ],
      "text/plain": [
       "⎡-0.502390260501616  -0.410333321023191  0.356233316915312 ⎤\n",
       "⎢                                                          ⎥\n",
       "⎢-0.410333321023191  0.356233316907837   -0.502390260520311⎥\n",
       "⎢                                                          ⎥\n",
       "⎣0.356233316915312   -0.502390260520311  -0.410333321040258⎦"
      ]
     },
     "execution_count": 13,
     "metadata": {},
     "output_type": "execute_result"
    }
   ],
   "source": [
    "X_0 = sp.Symbol('X_0')\n",
    "x = array([ 1.0446262665530744e-01, -1.2562966205230240e-09,\n",
    "       -4.8092822915447089e+00, -3.9280394736498159e+00,\n",
    "        3.4101508675515704e+00, -4.8092822917236706e+00,\n",
    "        3.4101508674800085e+00, -3.9280394738131941e+00])\n",
    "B =  (x[1]*X_0 + x[0])  * (array([[x[2], x[3], x[4] ],  \n",
    "        [x[3] , x[6], x[5]],\n",
    "        [x[4], x[5], x[7]]]))\n",
    "factor = 1#(100 + 10000*X_0) \n",
    "B_Extract = sp.Matrix(sp.simplify(B*factor).subs({X_0: 0.0000}))\n",
    "B_Extract_numpy = np.array(B_Extract, dtype=float)\n",
    "B_Extract"
   ]
  },
  {
   "cell_type": "code",
   "execution_count": 14,
   "metadata": {},
   "outputs": [
    {
     "data": {
      "text/latex": [
       "$\\displaystyle \\left( \\left[\\begin{matrix}-0.373197649760883 & -0.577350269230022 & 0.726216345748962\\\\0.815520628968943 & -0.577350269189253 & -0.0399095275992768\\\\-0.442322979212084 & -0.577350269149603 & -0.686306818248098\\end{matrix}\\right], \\  \\left[\\begin{matrix}0.816496582423841 & 0 & 0\\\\0 & -0.556490264630139 & 0\\\\0 & 0 & -0.81649658242774\\end{matrix}\\right]\\right)$"
      ],
      "text/plain": [
       "⎛⎡-0.373197649760883  -0.577350269230022   0.726216345748962 ⎤  ⎡0.81649658242\n",
       "⎜⎢                                                           ⎥  ⎢             \n",
       "⎜⎢0.815520628968943   -0.577350269189253  -0.0399095275992768⎥, ⎢        0    \n",
       "⎜⎢                                                           ⎥  ⎢             \n",
       "⎝⎣-0.442322979212084  -0.577350269149603  -0.686306818248098 ⎦  ⎣        0    \n",
       "\n",
       "3841          0                   0        ⎤⎞\n",
       "                                           ⎥⎟\n",
       "      -0.556490264630139          0        ⎥⎟\n",
       "                                           ⎥⎟\n",
       "              0           -0.81649658242774⎦⎠"
      ]
     },
     "execution_count": 14,
     "metadata": {},
     "output_type": "execute_result"
    }
   ],
   "source": [
    "[T, D] = B_Extract.diagonalize()\n",
    "T,D"
   ]
  },
  {
   "cell_type": "code",
   "execution_count": 37,
   "metadata": {},
   "outputs": [
    {
     "data": {
      "text/plain": [
       "(array([[ 0.99741876,  0.03942153,  0.06001461],\n",
       "        [-0.04033764,  0.99908619,  0.01412997],\n",
       "        [-0.05940275, -0.01651434,  0.99809749]]),\n",
       " array([[0.82378613, 0.23997725, 0.21752993],\n",
       "        [0.23997725, 0.88203784, 0.24261883],\n",
       "        [0.21752993, 0.24261883, 0.84188363]]))"
      ]
     },
     "execution_count": 37,
     "metadata": {},
     "output_type": "execute_result"
    }
   ],
   "source": [
    "R, U = la.polar_decomp(B_Extract_numpy)\n",
    "R, U"
   ]
  },
  {
   "cell_type": "code",
   "execution_count": null,
   "metadata": {},
   "outputs": [],
   "source": []
  }
 ],
 "metadata": {
  "kernelspec": {
   "display_name": "stbingo",
   "language": "python",
   "name": "python3"
  },
  "language_info": {
   "codemirror_mode": {
    "name": "ipython",
    "version": 3
   },
   "file_extension": ".py",
   "mimetype": "text/x-python",
   "name": "python",
   "nbconvert_exporter": "python",
   "pygments_lexer": "ipython3",
   "version": "3.9.7"
  }
 },
 "nbformat": 4,
 "nbformat_minor": 2
}
