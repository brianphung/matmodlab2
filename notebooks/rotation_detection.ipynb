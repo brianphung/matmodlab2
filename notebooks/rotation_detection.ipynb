{
 "cells": [
  {
   "cell_type": "code",
   "execution_count": 4,
   "metadata": {},
   "outputs": [],
   "source": [
    "import sympy as sp\n",
    "from numpy import array\n",
    "from sympy import init_printing\n",
    "init_printing(use_latex='mathjax')\n",
    "import matmodlab2.core.linalg as la\n",
    "import numpy as np\n",
    "from numpy import cos, sin\n"
   ]
  },
  {
   "cell_type": "markdown",
   "metadata": {},
   "source": [
    "# "
   ]
  },
  {
   "cell_type": "code",
   "execution_count": 5,
   "metadata": {},
   "outputs": [
    {
     "data": {
      "text/latex": [
       "$\\displaystyle \\left[\\begin{matrix}1.0 & 0 & 0\\\\0 & 0.5 & -0.866025403784439\\\\0 & 0.866025403784439 & 0.5\\end{matrix}\\right]$"
      ],
      "text/plain": [
       "⎡1.0          0                  0         ⎤\n",
       "⎢                                          ⎥\n",
       "⎢ 0          0.5         -0.866025403784439⎥\n",
       "⎢                                          ⎥\n",
       "⎣ 0   0.866025403784439         0.5        ⎦"
      ]
     },
     "execution_count": 5,
     "metadata": {},
     "output_type": "execute_result"
    }
   ],
   "source": [
    "X_0 = sp.Symbol('X_0')\n",
    "x = array([ 1.0446262665530744e-01, -1.2562966205230240e-09,\n",
    "       -4.8092822915447089e+00, -3.9280394736498159e+00,\n",
    "        3.4101508675515704e+00, -4.8092822917236706e+00,\n",
    "        3.4101508674800085e+00, -3.9280394738131941e+00])\n",
    "alpha = 60*np.pi/180\n",
    "B =  np.array([ [1,0,0], [0, cos(alpha), -sin(alpha)], [ 0, sin(alpha), cos(alpha) ] ])\n",
    "factor = 1#(100 + 10000*X_0) \n",
    "B_Extract = sp.Matrix(sp.simplify(B*factor).subs({X_0: 0.0000}))\n",
    "B_Extract_numpy = np.array(B_Extract, dtype=float)\n",
    "B_Extract"
   ]
  },
  {
   "cell_type": "code",
   "execution_count": 6,
   "metadata": {},
   "outputs": [
    {
     "data": {
      "text/latex": [
       "$\\displaystyle \\left( \\left[\\begin{matrix}1.0 & 0 & 0\\\\0 & 0.707106781186548 + 1.24049577574088 \\cdot 10^{-64} i & -9.30371831805657 \\cdot 10^{-65} - 0.707106781186548 i\\\\0 & 1.08811696519778 \\cdot 10^{-128} + 0.707106781186548 i & -0.707106781186548 + 3.10123943935219 \\cdot 10^{-65} i\\end{matrix}\\right], \\  \\left[\\begin{matrix}1.0 & 0 & 0\\\\0 & 0.5 - 0.866025403784439 i & 0\\\\0 & 0 & 0.5 + 0.866025403784439 i\\end{matrix}\\right]\\right)$"
      ],
      "text/plain": [
       "⎛⎡1.0                       0                                            0    \n",
       "⎜⎢                                                                            \n",
       "⎜⎢ 0   0.707106781186548 + 1.24049577574088e-64⋅ⅈ   -9.30371831805657e-65 - 0.\n",
       "⎜⎢                                                                            \n",
       "⎝⎣ 0   1.08811696519778e-128 + 0.707106781186548⋅ⅈ  -0.707106781186548 + 3.101\n",
       "\n",
       "                 ⎤  ⎡1.0              0                          0            \n",
       "                 ⎥  ⎢                                                         \n",
       "707106781186548⋅ⅈ⎥, ⎢ 0   0.5 - 0.866025403784439⋅ⅈ              0            \n",
       "                 ⎥  ⎢                                                         \n",
       "23943935219e-65⋅ⅈ⎦  ⎣ 0               0              0.5 + 0.866025403784439⋅ⅈ\n",
       "\n",
       "⎤⎞\n",
       "⎥⎟\n",
       "⎥⎟\n",
       "⎥⎟\n",
       "⎦⎠"
      ]
     },
     "execution_count": 6,
     "metadata": {},
     "output_type": "execute_result"
    }
   ],
   "source": [
    "[T, D] = B_Extract.diagonalize()\n",
    "T,D"
   ]
  },
  {
   "cell_type": "code",
   "execution_count": 7,
   "metadata": {},
   "outputs": [
    {
     "data": {
      "text/plain": [
       "(array([[ 1.       ,  0.       ,  0.       ],\n",
       "        [ 0.       ,  0.5      , -0.8660254],\n",
       "        [ 0.       ,  0.8660254,  0.5      ]]),\n",
       " array([[ 1.00000000e+00,  0.00000000e+00,  0.00000000e+00],\n",
       "        [ 0.00000000e+00,  1.00000000e+00, -1.48741681e-17],\n",
       "        [ 0.00000000e+00, -1.48741681e-17,  1.00000000e+00]]))"
      ]
     },
     "execution_count": 7,
     "metadata": {},
     "output_type": "execute_result"
    }
   ],
   "source": [
    "R, U = la.polar_decomp(B_Extract_numpy)\n",
    "R, U"
   ]
  },
  {
   "cell_type": "code",
   "execution_count": null,
   "metadata": {},
   "outputs": [],
   "source": []
  }
 ],
 "metadata": {
  "kernelspec": {
   "display_name": "stbingo",
   "language": "python",
   "name": "python3"
  },
  "language_info": {
   "codemirror_mode": {
    "name": "ipython",
    "version": 3
   },
   "file_extension": ".py",
   "mimetype": "text/x-python",
   "name": "python",
   "nbconvert_exporter": "python",
   "pygments_lexer": "ipython3",
   "version": "3.9.7"
  }
 },
 "nbformat": 4,
 "nbformat_minor": 2
}
