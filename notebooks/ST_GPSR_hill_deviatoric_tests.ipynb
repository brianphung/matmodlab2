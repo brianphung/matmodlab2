{
 "cells": [
  {
   "cell_type": "code",
   "execution_count": 1,
   "metadata": {},
   "outputs": [
    {
     "name": "stdout",
     "output_type": "stream",
     "text": [
      "Setting up the Matmodlab notebook environment\n"
     ]
    }
   ],
   "source": [
    "%matplotlib inline\n",
    "#from bokeh.io import output_notebook\n",
    "#rom bokeh.plotting import *\n",
    "from matmodlab2 import *\n",
    "from numpy import *\n",
    "#output_notebook()\n",
    "import numpy as np\n",
    "from numpy import array\n",
    "import pandas as pd\n",
    "import matplotlib.pyplot as plt\n",
    "from IPython.display import display\n",
    "import dill\n",
    "import sys"
   ]
  },
  {
   "cell_type": "code",
   "execution_count": 2,
   "metadata": {},
   "outputs": [],
   "source": [
    "def align_pi_plane_with_axes_rot():\n",
    "    \"\"\"\n",
    "    Returns a matrix that rotates the pi plane's normal to be the z axis\n",
    "    i.e., a slice of pi plane becomes the xy plane after rotation\n",
    "    \"\"\"\n",
    "    pi_vector = np.array([1, 1, 1]) / np.sqrt(3.)\n",
    "    # wanted_vector = np.array([1, 0, 0])\n",
    "    wanted_vector = np.array([0, 0, 1])\n",
    "    wanted_vector = wanted_vector / np.linalg.norm(wanted_vector)\n",
    "    added = (pi_vector + wanted_vector).reshape([-1, 1])\n",
    "    # from Rodrigues' rotation formula, more info here: https://math.stackexchange.com/a/2672702\n",
    "    rot_mat = 2 * (added @ added.T) / (added.T @ added) - np.eye(3)\n",
    "    return rot_mat\n",
    "\n",
    "\n",
    "def align_axes_with_pi_plane_rot():\n",
    "    \"\"\"\n",
    "    Returns a matrix that undoes the align_pi_plane_with_axes_rot rotation\n",
    "    \"\"\"\n",
    "    return np.linalg.inv(align_pi_plane_with_axes_rot())\n",
    "\n",
    "full_sdv_column_names =  [\n",
    "            # ADDED\n",
    "            \"TIME\",\n",
    "            \"DTIME\",\n",
    "            \"REAL_SXX\",\n",
    "            \"REAL_SYY\",\n",
    "            \"REAL_SZZ\",\n",
    "            \"REAL_SXY\",\n",
    "            \"REAL_SYZ\",\n",
    "            \"REAL_SXZ\",\n",
    "            # BEGIN ACTUAL MAT SDVS\n",
    "            \"FICT_EP_XX\",  # 0\n",
    "            \"FICT_EP_YY\",  # 1\n",
    "            \"FICT_EP_ZZ\",  # 2\n",
    "            \"FICT_EP_XY\",  # 3\n",
    "            \"FICT_EP_YZ\",  # 4\n",
    "            \"FICT_EP_XZ\",  # 5\n",
    "            \"FICT_EQPS\",   # 6\n",
    "            \"REAL_EP_XX\",  # 7\n",
    "            \"REAL_EP_YY\",  # 8\n",
    "            \"REAL_EP_ZZ\",  # 9\n",
    "            \"REAL_EP_XY\",  # 10\n",
    "            \"REAL_EP_YZ\",  # 11\n",
    "            \"REAL_EP_XZ\",  # 12\n",
    "            \"REAL_EQPS\",   # 13\n",
    "            \"Y\",           # 14\n",
    "            \"S.VM\",        # 15\n",
    "            # SDVS ABOVE HERE ARE HARD CODED, do not modify SDVs above this line\n",
    "            \"FICT_SXX\",    \n",
    "            \"FICT_SYY\",\n",
    "            \"FICT_SZZ\",\n",
    "            \"FICT_SXY\",\n",
    "            \"FICT_SYZ\",\n",
    "            \"FICT_SXZ\", \n",
    "            \"TRIAL_STRESS_POST_TRANS_XX\",\n",
    "            \"TRIAL_STRESS_POST_TRANS_YY\",\n",
    "            \"TRIAL_STRESS_POST_TRANS_ZZ\",\n",
    "            \"TRIAL_STRESS_POST_TRANS_XY\",\n",
    "            \"TRIAL_STRESS_POST_TRANS_YZ\",\n",
    "            \"TRIAL_STRESS_POST_TRANS_XZ\",\n",
    "            \"MML_STRESS_GUESS_XX\",    \n",
    "            \"MML_STRESS_GUESS_YY\", \n",
    "            \"MML_STRESS_GUESS_ZZ\", \n",
    "            \"MML_STRESS_GUESS_XY\",    \n",
    "            \"MML_STRESS_GUESS_YZ\", \n",
    "            \"MML_STRESS_GUESS_XZ\", \n",
    "            \"TRIAL_STRESS_PRE_TRANS_XX\",   \n",
    "            \"TRIAL_STRESS_PRE_TRANS_YY\",   \n",
    "            \"TRIAL_STRESS_PRE_TRANS_ZZ\",   \n",
    "            \"TRIAL_STRESS_PRE_TRANS_XY\",   \n",
    "            \"TRIAL_STRESS_PRE_TRANS_YZ\",   \n",
    "            \"TRIAL_STRESS_PRE_TRANS_XZ\",   \n",
    "            \"CONV_STRESS_ISO_XX\", \n",
    "            \"CONV_STRESS_ISO_YY\", \n",
    "            \"CONV_STRESS_ISO_ZZ\", \n",
    "            \"CONV_STRESS_ISO_XY\", \n",
    "            \"CONV_STRESS_ISO_YZ\", \n",
    "            \"CONV_STRESS_ISO_XZ\", \n",
    "            \"FICT_EQPS_INPUT\", \n",
    "            \"DELTA_EXX\", \n",
    "            \"DELTA_EYY\", \n",
    "            \"DELTA_EZZ\", \n",
    "            \"DELTA_EXY\", \n",
    "            \"DELTA_EYZ\", \n",
    "            \"DELTA_EXZ\", \n",
    "            'DELTA_SXX',\n",
    "            'DELTA_SYY',\n",
    "            'DELTA_SZZ',\n",
    "            'DELTA_SXY',\n",
    "            'DELTA_SYZ',\n",
    "            'DELTA_SXZ',\n",
    "        ]\n",
    "column_reorder = [ 'TIME', 'DTIME',\n",
    "                    'MML_STRESS_GUESS_XX',\n",
    "                    'MML_STRESS_GUESS_YY',\n",
    "                    'MML_STRESS_GUESS_ZZ',\n",
    "                    \"MML_STRESS_GUESS_XY\",    \n",
    "                    \"MML_STRESS_GUESS_YZ\", \n",
    "                    \"MML_STRESS_GUESS_XZ\", \n",
    "                    'DELTA_EXX',\n",
    "                    'DELTA_EYY',\n",
    "                    'DELTA_EZZ',\n",
    "                    \"DELTA_EXY\", \n",
    "                    \"DELTA_EYZ\", \n",
    "                    \"DELTA_EXZ\", \n",
    "                    'TRIAL_STRESS_PRE_TRANS_XX',\n",
    "                    'TRIAL_STRESS_PRE_TRANS_YY',\n",
    "                    'TRIAL_STRESS_PRE_TRANS_ZZ',\n",
    "                    \"TRIAL_STRESS_PRE_TRANS_XY\",   \n",
    "                    \"TRIAL_STRESS_PRE_TRANS_YZ\",   \n",
    "                    \"TRIAL_STRESS_PRE_TRANS_XZ\",   \n",
    "                    'DELTA_SXX',\n",
    "                    'DELTA_SYY',\n",
    "                    'DELTA_SZZ',\n",
    "                    'DELTA_SXY',\n",
    "                    'DELTA_SYZ',\n",
    "                    'DELTA_SXZ',\n",
    "                    'TRIAL_STRESS_POST_TRANS_XX',\n",
    "                    'TRIAL_STRESS_POST_TRANS_YY',\n",
    "                    'TRIAL_STRESS_POST_TRANS_ZZ',\n",
    "                    \"TRIAL_STRESS_PRE_TRANS_XY\",   \n",
    "                    \"TRIAL_STRESS_PRE_TRANS_YZ\",   \n",
    "                    \"TRIAL_STRESS_PRE_TRANS_XZ\",   \n",
    "                    'CONV_STRESS_ISO_XX',\n",
    "                    'CONV_STRESS_ISO_YY',\n",
    "                    'CONV_STRESS_ISO_ZZ',\n",
    "                    \"CONV_STRESS_ISO_XY\", \n",
    "                    \"CONV_STRESS_ISO_YZ\", \n",
    "                    \"CONV_STRESS_ISO_XZ\", \n",
    "                    'FICT_SXX',\n",
    "                    'FICT_SYY',\n",
    "                    'FICT_SZZ',\n",
    "                    \"FICT_SXY\",\n",
    "                    \"FICT_SYZ\",\n",
    "                    \"FICT_SXZ\", \n",
    "                    \"FICT_EP_XX\",  # 0\n",
    "                    \"FICT_EP_YY\",  # 1\n",
    "                    \"FICT_EP_ZZ\",  # 2\n",
    "                    'REAL_EP_XX',\n",
    "                    'REAL_EP_YY',\n",
    "                    'REAL_EP_ZZ',\n",
    "                    \"REAL_SXX\",\n",
    "                    \"REAL_SYY\",\n",
    "                    \"REAL_SZZ\",\n",
    "                    \"REAL_SXY\",\n",
    "                    \"REAL_SYZ\",\n",
    "                    \"REAL_SXZ\",\n",
    "                    'S.VM',]\n",
    "def run_ST_GPSR_TTM(property_dict, loads='ESS', components=(0.02, 0, 0), frames=50):\n",
    "    mps1 = MaterialPointSimulator('ST_GPSR_TTM')\n",
    "    mps1.material = ST_GPSR_TTM(**property_dict)\n",
    "    mps1.run_step(loads,  components, frames=frames)\n",
    "    return mps1\n",
    "\n",
    "def run_CPA_alg(property_dict, loads='ESS', components=(0.02, 0, 0), frames=50):\n",
    "    mps1 = MaterialPointSimulator('CPAPlasticitiy')\n",
    "    mps1.material = ST_GPSR_TTM(**property_dict)\n",
    "    mps1.run_step(loads,  components, frames=frames)\n",
    "    return mps1\n",
    "\n",
    "def run_generic_mps(mps1, property_dict, loads='ESS', components=(0.02, 0, 0), frames=50):\n",
    "    mps1.run_step(loads,  components, frames=frames)\n",
    "    return mps1\n",
    "\n",
    "def draw_principal_axes(ax, length_of_axes=2.5, scale=100):\n",
    "    \"\"\"\n",
    "    Draws principal axes on graph, change length of axes and scale\n",
    "    \"\"\"\n",
    "    zero_pos = np.zeros(2)\n",
    "    straight_up_pos = np.array([0, 1]) * length_of_axes\n",
    "    bottom_right_pos = np.array([np.cos(-np.pi / 6.), np.sin(-np.pi / 6.)]) * length_of_axes\n",
    "    bottom_left_pos = np.array([np.cos(7 * np.pi / 6.), np.sin(7 * np.pi / 6.)]) * length_of_axes\n",
    "\n",
    "    ax.quiver(*zero_pos, *straight_up_pos, scale_units=\"xy\", scale=1)\n",
    "    ax.annotate(r\"$\\sigma_2$\", straight_up_pos + np.array([0.25, -0.3]) * scale)\n",
    "\n",
    "    ax.quiver(*zero_pos, *bottom_right_pos, scale_units=\"xy\", scale=1)\n",
    "    ax.annotate(r\"$\\sigma_1$\", bottom_right_pos + np.array([-0.18, 0.45]) * scale)\n",
    "\n",
    "    ax.quiver(*zero_pos, *bottom_left_pos, scale_units=\"xy\", scale=1)\n",
    "    # ax.annotate(r\"$\\sigma_3$\", bottom_left_pos + np.array([0.1, -0.45]) * scale)\n",
    "    ax.annotate(r\"$\\sigma_3$\", bottom_left_pos + np.array([0.28, -0.4]) * scale)\n",
    "    # ax.annotate(r\"$\\sigma_3$\", bottom_left_pos + np.array([-0.18, -0.4]) * scale)"
   ]
  },
  {
   "cell_type": "code",
   "execution_count": 6,
   "metadata": {},
   "outputs": [
    {
     "data": {
      "image/png": "[encoded data removed]",
      "text/plain": [
       "<Figure size 432x288 with 1 Axes>"
      ]
     },
     "metadata": {
      "needs_background": "light"
     },
     "output_type": "display_data"
    },
    {
     "data": {
      "image/png": "[encoded data removed]",
      "text/plain": [
       "<Figure size 432x288 with 1 Axes>"
      ]
     },
     "metadata": {
      "needs_background": "light"
     },
     "output_type": "display_data"
    }
   ],
   "source": [
    "\"\"\" Using a rotation\n",
    "def B(eqps):\n",
    "    alpha = 90*np.pi/180\n",
    "    B_in = np.array([ [1,0,0], [0, cos(alpha), -sin(alpha)], [ 0, sin(alpha), cos(alpha) ] ])\n",
    "    #B_in = np.transpose(B_in) @ np.eye(3) @ B_in\n",
    "    #print(B_in)\n",
    "    return B_in\n",
    "\"\"\"\n",
    "\n",
    "\"\"\"\n",
    "def B(X_0):\n",
    "    X_0 = 0\n",
    "    x = array([-0.324190879399528  , -0.5910265708699819 , -0.18063603062696332,\n",
    "       -0.38121381734569654, -0.6175628700881645 , -0.23576228096254312,\n",
    "       -0.28240916917730036, -0.5473481732181913 , -0.16744427128767322,\n",
    "       -0.2630318047470945 , -0.4235775835834732 , -0.04148242995369289,\n",
    "        0.5943025397254625 ,  0.5770764819925227 ,  0.05778373947936392,\n",
    "       -0.4019021627391064 ,  0.6422532886726127 , -0.9725103257468183 ,\n",
    "        0.564662540091747  , -0.32419465         , -0.59102337         ,\n",
    "       -0.18063179         , -0.38121066         , -0.61755865         ,\n",
    "       -0.23576606         , -0.28240491         , -0.54735189         ,\n",
    "       -0.16744104         , -0.358838           , -0.42357774         ,\n",
    "       -0.04148228         ,  0.5943027          ,  0.57707663         ,\n",
    "        0.0577839          , -0.40190232         ,  0.64225345         ,\n",
    "       -0.97251048         ,  0.56466269         ])\n",
    "    eq = (array([[x[0], x[1], x[2]],\n",
    "            [x[3], x[4], x[5]],\n",
    "            [x[6], x[7], x[8]]])) * ((array(x[9]) + X_0 + array(x[9]) + X_0) * (X_0)) + array([[x[10], x[11], x[12] ],        \n",
    "            [ x[13],  x[14] , x[15]],\n",
    "            [ x[16], x[17],  x[18]]])\n",
    "    return eq\n",
    "\"\"\"\n",
    "\n",
    "\"\"\"\n",
    "def B(X):\n",
    "    eq = np.eye(3)\n",
    "    eq[0,0] += 1e-3\n",
    "    eq[1,1] -= 1e-3\n",
    "    return eq\n",
    "\"\"\"\n",
    "\n",
    "\"\"\"\n",
    "def B(eqps):\n",
    "    alpha = 10*np.pi/180\n",
    "    B_in = np.array([ [1,0,0], [0, cos(alpha), -sin(alpha)], [ 0, sin(alpha), cos(alpha) ] ])\n",
    "\n",
    "    B_in = align_axes_with_pi_plane_rot().T @ B_in @ align_axes_with_pi_plane_rot()\n",
    "    B_in[:, 2] = 0\n",
    "    B_in[2, :] = 0\n",
    "    B_in[2, 2] = 1\n",
    "    B_in = align_axes_with_pi_plane_rot() @ B_in @ align_axes_with_pi_plane_rot().T\n",
    "    #B_in = np.transpose(B_in) @ np.eye(3) @ B_in\n",
    "    #print('B_in', B_in)\n",
    "    return B_in\n",
    "\"\"\"\n",
    "\n",
    "if 'darwin' in sys.platform:\n",
    "    individual_path = \"/Users/brian/Work/software/st-bingo/research/experiments/checkpoints/hill_constant/checkpoint_151.pkl\"\n",
    "else:\n",
    "    individual_path = \"D:/Work/software/st-bingo/research/experiments/checkpoints/hill_constant/checkpoint_151.pkl\"\n",
    "with open(individual_path, 'rb') as f:\n",
    "    pkl = dill.load(f)\n",
    "#\"\"\" Force deviatoric independence on a BINGO solution\n",
    "def B(X_0):\n",
    "    ISO_Y_0 = 1000\n",
    "    ISO_H = 990\n",
    "    B_in = pkl.hall_of_fame[0].evaluate_equation_at(np.array([[X_0]]))[0]\n",
    "    B_in *= (ISO_Y_0 + ISO_H*X_0)\n",
    "    B_in = align_axes_with_pi_plane_rot().T @ B_in @ align_axes_with_pi_plane_rot()\n",
    "    B_in[:, 2] = 0\n",
    "    B_in[2, :] = 0\n",
    "    B_in[2, 2] = 1\n",
    "    B_in = align_axes_with_pi_plane_rot() @ B_in @ align_axes_with_pi_plane_rot().T\n",
    "    return B_in\n",
    "#\"\"\"\n",
    "\n",
    "# Shared params\n",
    "E = 10e3\n",
    "nu = .333\n",
    "Y0 = 1000\n",
    "H = 990\n",
    "\n",
    "\n",
    "F_11 = 1.01\n",
    "# all_comps = (F_11, 0, 0, 0, 1/np.sqrt(F_11), 0, 0,0, 1/np.sqrt(F_11))\n",
    "# all_loads = 'FFFFFFFFF'\n",
    "all_comps = (0.01, 0, 0)\n",
    "all_loads = 'ESS'\n",
    "\n",
    "all_frames = 100\n",
    "\n",
    "# Run ST_GPSR_TTM model\n",
    "pGPSR = {'E': E, 'Nu': nu, 'Y0': Y0, 'H': H, \"B\": B}\n",
    "mpsGPSR = run_ST_GPSR_TTM(pGPSR, frames=all_frames, components=all_comps, loads=all_loads)\n",
    "# Run the included von mises model\n",
    "pVM = {'E': E, 'Nu': nu, 'Y0': Y0, 'Y1': H, 'm': 1.0}\n",
    "# mpsVM = MaterialPointSimulator('VM_Plastic')\n",
    "# mpsVM.material = HardeningPlasticMaterial(**pVM)\n",
    "# mpsVM = run_generic_mps(mpsVM, pVM, frames=all_frames, components=all_comps, loads=all_loads)\n",
    "\n",
    "ax = mpsGPSR.plot('E.XX', 'S.XX', style='.r-')\n",
    "mpsGPSR.plot('E.XX', 'S.YY', ax=ax, style='.b-')\n",
    "mpsGPSR.plot('E.XX', 'S.ZZ', ax=ax, style='.k-')\n",
    "#mpsVM.plot('E.XX', 'S.XX', ax=ax, style='k--')\n",
    "\n",
    "ax2 = mpsGPSR.plot('E.XX', 'FICT_EQPS', style='.r-')\n",
    "# mpsVM.plot('E.XX', 'EP_Equiv', ax=ax2, style='k--')\n",
    "\n",
    "# print(mpsGPSR.df[['FICT_EQPS', 'Y']])\n",
    "# print(mpsVM.df[['EP_Equiv', 'S.XX']])\n",
    "# with pd.option_context('display.max_rows', None, 'display.max_columns', None):\n",
    "#     df = mpsGPSR.df[['E.XX', 'MML_STRESS_GUESS',  'TRIAL_STRESS_PRE_TRANS', 'FICT_EQPS_INPUT', 'TRIAL_STRESS_POST_TRANS', 'CONV_STRESS_ISO', 'CONV_STRESS_REAL', 'FICT_EQPS', 'S.XX', 'DELTA_EXX', 'DELTA_EYY', 'DELTA_EZZ']]\n",
    "#     df.to_csv('output1.csv')\n",
    "#     print(df)\n",
    "df_full = pd.DataFrame(mpsGPSR.material.full_sdv_storage, columns=full_sdv_column_names)\n",
    "df_full = df_full[column_reorder]\n",
    "df_full.to_csv('full_shabang_0.csv')\n",
    "\n",
    "\n",
    "with pd.option_context('display.max_rows', None, 'display.max_columns', None):\n",
    "    df_vm_reference = mpsGPSR.df[['E.XX', \n",
    "                    'MML_STRESS_GUESS_XX',\n",
    "                    'MML_STRESS_GUESS_YY',\n",
    "                    'MML_STRESS_GUESS_ZZ',\n",
    "                    \"MML_STRESS_GUESS_XY\",    \n",
    "                    \"MML_STRESS_GUESS_YZ\", \n",
    "                    \"MML_STRESS_GUESS_XZ\", \n",
    "                    'DELTA_EXX',\n",
    "                    'DELTA_EYY',\n",
    "                    'DELTA_EZZ',\n",
    "                    \"DELTA_EXY\", \n",
    "                    \"DELTA_EYZ\", \n",
    "                    \"DELTA_EXZ\", \n",
    "                    'TRIAL_STRESS_PRE_TRANS_XX',\n",
    "                    'TRIAL_STRESS_PRE_TRANS_YY',\n",
    "                    'TRIAL_STRESS_PRE_TRANS_ZZ',\n",
    "                    \"TRIAL_STRESS_PRE_TRANS_XY\",   \n",
    "                    \"TRIAL_STRESS_PRE_TRANS_YZ\",   \n",
    "                    \"TRIAL_STRESS_PRE_TRANS_XZ\",   \n",
    "                    'DELTA_SXX',\n",
    "                    'DELTA_SYY',\n",
    "                    'DELTA_SZZ',\n",
    "                    'DELTA_SXY',\n",
    "                    'DELTA_SYZ',\n",
    "                    'DELTA_SXZ',\n",
    "                    'TRIAL_STRESS_POST_TRANS_XX',\n",
    "                    'TRIAL_STRESS_POST_TRANS_YY',\n",
    "                    'TRIAL_STRESS_POST_TRANS_ZZ',\n",
    "                    \"TRIAL_STRESS_PRE_TRANS_XY\",   \n",
    "                    \"TRIAL_STRESS_PRE_TRANS_YZ\",   \n",
    "                    \"TRIAL_STRESS_PRE_TRANS_XZ\",   \n",
    "                    'CONV_STRESS_ISO_XX',\n",
    "                    'CONV_STRESS_ISO_YY',\n",
    "                    'CONV_STRESS_ISO_ZZ',\n",
    "                    \"CONV_STRESS_ISO_XY\", \n",
    "                    \"CONV_STRESS_ISO_YZ\", \n",
    "                    \"CONV_STRESS_ISO_XZ\", \n",
    "                    'FICT_SXX',\n",
    "                    'FICT_SYY',\n",
    "                    'FICT_SZZ',\n",
    "                    \"FICT_SXY\",\n",
    "                    \"FICT_SYZ\",\n",
    "                    \"FICT_SXZ\", \n",
    "                    \"FICT_EP_XX\",  # 0\n",
    "                    \"FICT_EP_YY\",  # 1\n",
    "                    \"FICT_EP_ZZ\",  # 2\n",
    "                    'REAL_EP_XX',\n",
    "                    'REAL_EP_YY',\n",
    "                    'REAL_EP_ZZ',\n",
    "                    'S.XX',\n",
    "                    'S.YY',\n",
    "                    'S.ZZ',\n",
    "                    'S.YZ',\n",
    "                    'S.XZ', \n",
    "                    'S.XY',\n",
    "                    'S.VM']]\n",
    "    df_vm_reference.to_csv('output0.csv')\n"
   ]
  },
  {
   "cell_type": "markdown",
   "metadata": {},
   "source": [
    "# Display subsections of the Full Shebang"
   ]
  },
  {
   "cell_type": "code",
   "execution_count": 4,
   "metadata": {},
   "outputs": [
    {
     "data": {
      "text/html": [
       "<div>\n",
       "<style scoped>\n",
       "    .dataframe tbody tr th:only-of-type {\n",
       "        vertical-align: middle;\n",
       "    }\n",
       "\n",
       "    .dataframe tbody tr th {\n",
       "        vertical-align: top;\n",
       "    }\n",
       "\n",
       "    .dataframe thead th {\n",
       "        text-align: right;\n",
       "    }\n",
       "</style>\n",
       "<table border=\"1\" class=\"dataframe\">\n",
       "  <thead>\n",
       "    <tr style=\"text-align: right;\">\n",
       "      <th></th>\n",
       "      <th>DELTA_EXX</th>\n",
       "      <th>DELTA_EYY</th>\n",
       "      <th>DELTA_EZZ</th>\n",
       "    </tr>\n",
       "  </thead>\n",
       "  <tbody>\n",
       "    <tr>\n",
       "      <th>1920</th>\n",
       "      <td>0.0005</td>\n",
       "      <td>0.000000e+00</td>\n",
       "      <td>0.000000e+00</td>\n",
       "    </tr>\n",
       "    <tr>\n",
       "      <th>1921</th>\n",
       "      <td>0.0005</td>\n",
       "      <td>0.000000e+00</td>\n",
       "      <td>0.000000e+00</td>\n",
       "    </tr>\n",
       "    <tr>\n",
       "      <th>1922</th>\n",
       "      <td>0.0005</td>\n",
       "      <td>7.450581e-09</td>\n",
       "      <td>0.000000e+00</td>\n",
       "    </tr>\n",
       "    <tr>\n",
       "      <th>1923</th>\n",
       "      <td>0.0005</td>\n",
       "      <td>-7.450581e-09</td>\n",
       "      <td>0.000000e+00</td>\n",
       "    </tr>\n",
       "    <tr>\n",
       "      <th>1924</th>\n",
       "      <td>0.0005</td>\n",
       "      <td>0.000000e+00</td>\n",
       "      <td>7.450581e-09</td>\n",
       "    </tr>\n",
       "    <tr>\n",
       "      <th>...</th>\n",
       "      <td>...</td>\n",
       "      <td>...</td>\n",
       "      <td>...</td>\n",
       "    </tr>\n",
       "    <tr>\n",
       "      <th>2049</th>\n",
       "      <td>0.0005</td>\n",
       "      <td>-2.374223e-04</td>\n",
       "      <td>-2.380651e-04</td>\n",
       "    </tr>\n",
       "    <tr>\n",
       "      <th>2050</th>\n",
       "      <td>0.0005</td>\n",
       "      <td>-2.374148e-04</td>\n",
       "      <td>-2.380577e-04</td>\n",
       "    </tr>\n",
       "    <tr>\n",
       "      <th>2051</th>\n",
       "      <td>0.0005</td>\n",
       "      <td>-2.374148e-04</td>\n",
       "      <td>-2.380726e-04</td>\n",
       "    </tr>\n",
       "    <tr>\n",
       "      <th>2052</th>\n",
       "      <td>0.0005</td>\n",
       "      <td>-2.374148e-04</td>\n",
       "      <td>-2.380651e-04</td>\n",
       "    </tr>\n",
       "    <tr>\n",
       "      <th>2053</th>\n",
       "      <td>0.0005</td>\n",
       "      <td>-2.374148e-04</td>\n",
       "      <td>-2.380651e-04</td>\n",
       "    </tr>\n",
       "  </tbody>\n",
       "</table>\n",
       "<p>134 rows × 3 columns</p>\n",
       "</div>"
      ],
      "text/plain": [
       "      DELTA_EXX     DELTA_EYY     DELTA_EZZ\n",
       "1920     0.0005  0.000000e+00  0.000000e+00\n",
       "1921     0.0005  0.000000e+00  0.000000e+00\n",
       "1922     0.0005  7.450581e-09  0.000000e+00\n",
       "1923     0.0005 -7.450581e-09  0.000000e+00\n",
       "1924     0.0005  0.000000e+00  7.450581e-09\n",
       "...         ...           ...           ...\n",
       "2049     0.0005 -2.374223e-04 -2.380651e-04\n",
       "2050     0.0005 -2.374148e-04 -2.380577e-04\n",
       "2051     0.0005 -2.374148e-04 -2.380726e-04\n",
       "2052     0.0005 -2.374148e-04 -2.380651e-04\n",
       "2053     0.0005 -2.374148e-04 -2.380651e-04\n",
       "\n",
       "[134 rows x 3 columns]"
      ]
     },
     "metadata": {},
     "output_type": "display_data"
    }
   ],
   "source": [
    "time_zero = df_full[df_full['TIME'] == 0.75]\n",
    "dtime = time_zero #[time_zero['DTIME'] == 0.05]\n",
    "display(dtime[['DELTA_EXX', 'DELTA_EYY', 'DELTA_EZZ']])"
   ]
  },
  {
   "cell_type": "markdown",
   "metadata": {},
   "source": [
    "# Investigate CPA inner workings"
   ]
  },
  {
   "cell_type": "code",
   "execution_count": 5,
   "metadata": {},
   "outputs": [
    {
     "ename": "ValueError",
     "evalue": "Empty data passed with indices specified.",
     "output_type": "error",
     "traceback": [
      "\u001b[0;31m---------------------------------------------------------------------------\u001b[0m",
      "\u001b[0;31mValueError\u001b[0m                                Traceback (most recent call last)",
      "Input \u001b[0;32mIn [5]\u001b[0m, in \u001b[0;36m<module>\u001b[0;34m\u001b[0m\n\u001b[1;32m      7\u001b[0m CPA_HISTORY_COLUMNS \u001b[38;5;241m=\u001b[39m [x \u001b[38;5;28;01mfor\u001b[39;00m xs \u001b[38;5;129;01min\u001b[39;00m CPA_HISTORY_COLUMNS \u001b[38;5;28;01mfor\u001b[39;00m x \u001b[38;5;129;01min\u001b[39;00m xs]\n\u001b[1;32m      8\u001b[0m cpa_history \u001b[38;5;241m=\u001b[39m mpsGPSR\u001b[38;5;241m.\u001b[39mmaterial\u001b[38;5;241m.\u001b[39mcutting_plane_history[ROW_OF_INTEREST]\n\u001b[0;32m----> 9\u001b[0m cpa_history \u001b[38;5;241m=\u001b[39m \u001b[43mpd\u001b[49m\u001b[38;5;241;43m.\u001b[39;49m\u001b[43mDataFrame\u001b[49m\u001b[43m(\u001b[49m\u001b[43mcpa_history\u001b[49m\u001b[43m,\u001b[49m\u001b[43m \u001b[49m\u001b[43mcolumns\u001b[49m\u001b[38;5;241;43m=\u001b[39;49m\u001b[43mCPA_HISTORY_COLUMNS\u001b[49m\u001b[43m)\u001b[49m\n\u001b[1;32m     11\u001b[0m trial_stress_trajectory \u001b[38;5;241m=\u001b[39m np\u001b[38;5;241m.\u001b[39marray(cpa_history[[\u001b[38;5;124mf\u001b[39m\u001b[38;5;124m'\u001b[39m\u001b[38;5;124mtrial_Sigma_f_\u001b[39m\u001b[38;5;132;01m{\u001b[39;00mi\u001b[38;5;132;01m}\u001b[39;00m\u001b[38;5;124m'\u001b[39m \u001b[38;5;28;01mfor\u001b[39;00m i \u001b[38;5;129;01min\u001b[39;00m \u001b[38;5;28mrange\u001b[39m(\u001b[38;5;241m3\u001b[39m) ]])\n\u001b[1;32m     12\u001b[0m trial_stress_trajectory\n",
      "File \u001b[0;32m~/opt/miniforge3/envs/mml2/lib/python3.9/site-packages/pandas/core/frame.py:694\u001b[0m, in \u001b[0;36mDataFrame.__init__\u001b[0;34m(self, data, index, columns, dtype, copy)\u001b[0m\n\u001b[1;32m    684\u001b[0m         mgr \u001b[38;5;241m=\u001b[39m dict_to_mgr(\n\u001b[1;32m    685\u001b[0m             \u001b[38;5;66;03m# error: Item \"ndarray\" of \"Union[ndarray, Series, Index]\" has no\u001b[39;00m\n\u001b[1;32m    686\u001b[0m             \u001b[38;5;66;03m# attribute \"name\"\u001b[39;00m\n\u001b[0;32m   (...)\u001b[0m\n\u001b[1;32m    691\u001b[0m             typ\u001b[38;5;241m=\u001b[39mmanager,\n\u001b[1;32m    692\u001b[0m         )\n\u001b[1;32m    693\u001b[0m     \u001b[38;5;28;01melse\u001b[39;00m:\n\u001b[0;32m--> 694\u001b[0m         mgr \u001b[38;5;241m=\u001b[39m \u001b[43mndarray_to_mgr\u001b[49m\u001b[43m(\u001b[49m\n\u001b[1;32m    695\u001b[0m \u001b[43m            \u001b[49m\u001b[43mdata\u001b[49m\u001b[43m,\u001b[49m\n\u001b[1;32m    696\u001b[0m \u001b[43m            \u001b[49m\u001b[43mindex\u001b[49m\u001b[43m,\u001b[49m\n\u001b[1;32m    697\u001b[0m \u001b[43m            \u001b[49m\u001b[43mcolumns\u001b[49m\u001b[43m,\u001b[49m\n\u001b[1;32m    698\u001b[0m \u001b[43m            \u001b[49m\u001b[43mdtype\u001b[49m\u001b[38;5;241;43m=\u001b[39;49m\u001b[43mdtype\u001b[49m\u001b[43m,\u001b[49m\n\u001b[1;32m    699\u001b[0m \u001b[43m            \u001b[49m\u001b[43mcopy\u001b[49m\u001b[38;5;241;43m=\u001b[39;49m\u001b[43mcopy\u001b[49m\u001b[43m,\u001b[49m\n\u001b[1;32m    700\u001b[0m \u001b[43m            \u001b[49m\u001b[43mtyp\u001b[49m\u001b[38;5;241;43m=\u001b[39;49m\u001b[43mmanager\u001b[49m\u001b[43m,\u001b[49m\n\u001b[1;32m    701\u001b[0m \u001b[43m        \u001b[49m\u001b[43m)\u001b[49m\n\u001b[1;32m    703\u001b[0m \u001b[38;5;66;03m# For data is list-like, or Iterable (will consume into list)\u001b[39;00m\n\u001b[1;32m    704\u001b[0m \u001b[38;5;28;01melif\u001b[39;00m is_list_like(data):\n",
      "File \u001b[0;32m~/opt/miniforge3/envs/mml2/lib/python3.9/site-packages/pandas/core/internals/construction.py:351\u001b[0m, in \u001b[0;36mndarray_to_mgr\u001b[0;34m(values, index, columns, dtype, copy, typ)\u001b[0m\n\u001b[1;32m    346\u001b[0m \u001b[38;5;66;03m# _prep_ndarray ensures that values.ndim == 2 at this point\u001b[39;00m\n\u001b[1;32m    347\u001b[0m index, columns \u001b[38;5;241m=\u001b[39m _get_axes(\n\u001b[1;32m    348\u001b[0m     values\u001b[38;5;241m.\u001b[39mshape[\u001b[38;5;241m0\u001b[39m], values\u001b[38;5;241m.\u001b[39mshape[\u001b[38;5;241m1\u001b[39m], index\u001b[38;5;241m=\u001b[39mindex, columns\u001b[38;5;241m=\u001b[39mcolumns\n\u001b[1;32m    349\u001b[0m )\n\u001b[0;32m--> 351\u001b[0m \u001b[43m_check_values_indices_shape_match\u001b[49m\u001b[43m(\u001b[49m\u001b[43mvalues\u001b[49m\u001b[43m,\u001b[49m\u001b[43m \u001b[49m\u001b[43mindex\u001b[49m\u001b[43m,\u001b[49m\u001b[43m \u001b[49m\u001b[43mcolumns\u001b[49m\u001b[43m)\u001b[49m\n\u001b[1;32m    353\u001b[0m \u001b[38;5;28;01mif\u001b[39;00m typ \u001b[38;5;241m==\u001b[39m \u001b[38;5;124m\"\u001b[39m\u001b[38;5;124marray\u001b[39m\u001b[38;5;124m\"\u001b[39m:\n\u001b[1;32m    355\u001b[0m     \u001b[38;5;28;01mif\u001b[39;00m \u001b[38;5;28missubclass\u001b[39m(values\u001b[38;5;241m.\u001b[39mdtype\u001b[38;5;241m.\u001b[39mtype, \u001b[38;5;28mstr\u001b[39m):\n",
      "File \u001b[0;32m~/opt/miniforge3/envs/mml2/lib/python3.9/site-packages/pandas/core/internals/construction.py:418\u001b[0m, in \u001b[0;36m_check_values_indices_shape_match\u001b[0;34m(values, index, columns)\u001b[0m\n\u001b[1;32m    414\u001b[0m \u001b[38;5;28;01mif\u001b[39;00m values\u001b[38;5;241m.\u001b[39mshape[\u001b[38;5;241m1\u001b[39m] \u001b[38;5;241m!=\u001b[39m \u001b[38;5;28mlen\u001b[39m(columns) \u001b[38;5;129;01mor\u001b[39;00m values\u001b[38;5;241m.\u001b[39mshape[\u001b[38;5;241m0\u001b[39m] \u001b[38;5;241m!=\u001b[39m \u001b[38;5;28mlen\u001b[39m(index):\n\u001b[1;32m    415\u001b[0m     \u001b[38;5;66;03m# Could let this raise in Block constructor, but we get a more\u001b[39;00m\n\u001b[1;32m    416\u001b[0m     \u001b[38;5;66;03m#  helpful exception message this way.\u001b[39;00m\n\u001b[1;32m    417\u001b[0m     \u001b[38;5;28;01mif\u001b[39;00m values\u001b[38;5;241m.\u001b[39mshape[\u001b[38;5;241m0\u001b[39m] \u001b[38;5;241m==\u001b[39m \u001b[38;5;241m0\u001b[39m:\n\u001b[0;32m--> 418\u001b[0m         \u001b[38;5;28;01mraise\u001b[39;00m \u001b[38;5;167;01mValueError\u001b[39;00m(\u001b[38;5;124m\"\u001b[39m\u001b[38;5;124mEmpty data passed with indices specified.\u001b[39m\u001b[38;5;124m\"\u001b[39m)\n\u001b[1;32m    420\u001b[0m     passed \u001b[38;5;241m=\u001b[39m values\u001b[38;5;241m.\u001b[39mshape\n\u001b[1;32m    421\u001b[0m     implied \u001b[38;5;241m=\u001b[39m (\u001b[38;5;28mlen\u001b[39m(index), \u001b[38;5;28mlen\u001b[39m(columns))\n",
      "\u001b[0;31mValueError\u001b[0m: Empty data passed with indices specified."
     ]
    }
   ],
   "source": [
    "# Pull out the CPA history for a certain row of interest. This block extracts the trial_Sigma history\n",
    "ROW_OF_INTEREST = 12\n",
    "# np.hstack([trial_Sigma_f, [yield_F], dGdSigma, dGdSigma @ C @ dGdSigma, [dGamma], delta_e_p, e_p_iso, [trial_iso_eqps] ])\n",
    "r6 = range(6)\n",
    "CPA_HISTORY_COLUMNS = [ [f'trial_Sigma_f_{i}' for i in r6 ], ['yield_F'], [ 'dGdSigma_{i}' for i in r6], ['v_C_v'], ['dGamma'],\n",
    "                       [ 'delta_e_p_{i}' for i in r6], [ 'e_p_iso_{i}' for i in r6 ], ['trial_iso_eqps'] ]\n",
    "CPA_HISTORY_COLUMNS = [x for xs in CPA_HISTORY_COLUMNS for x in xs]\n",
    "cpa_history = mpsGPSR.material.cutting_plane_history[ROW_OF_INTEREST]\n",
    "cpa_history = pd.DataFrame(cpa_history, columns=CPA_HISTORY_COLUMNS)\n",
    "\n",
    "trial_stress_trajectory = np.array(cpa_history[[f'trial_Sigma_f_{i}' for i in range(3) ]])\n",
    "trial_stress_trajectory"
   ]
  },
  {
   "cell_type": "code",
   "execution_count": null,
   "metadata": {},
   "outputs": [
    {
     "data": {
      "text/plain": [
       "array([[ 37.51031166, -18.75291042, -18.75291042],\n",
       "       [  4.76146545,  -2.37819912,  -2.37821415]])"
      ]
     },
     "execution_count": 6,
     "metadata": {},
     "output_type": "execute_result"
    }
   ],
   "source": [
    "# Get the data outside of the CPA algorithm\n",
    "w = df_full.iloc[12]\n",
    "#print(w)\n",
    "# What is the start and end point of real stresses?\n",
    "delta_real_stress = [ w[['TRIAL_STRESS_PRE_TRANS_XX', 'TRIAL_STRESS_PRE_TRANS_YY', 'TRIAL_STRESS_PRE_TRANS_ZZ']],\n",
    "                 w[['REAL_SXX', 'REAL_SYY', 'REAL_SZZ']] ]\n",
    "delta_real_stress = np.array(delta_real_stress)\n",
    "delta_real_stress"
   ]
  },
  {
   "cell_type": "code",
   "execution_count": null,
   "metadata": {},
   "outputs": [
    {
     "ename": "ValueError",
     "evalue": "Empty data passed with indices specified.",
     "output_type": "error",
     "traceback": [
      "\u001b[0;31m---------------------------------------------------------------------------\u001b[0m",
      "\u001b[0;31mValueError\u001b[0m                                Traceback (most recent call last)",
      "Input \u001b[0;32mIn [7]\u001b[0m, in \u001b[0;36m<module>\u001b[0;34m\u001b[0m\n\u001b[1;32m     10\u001b[0m VIR_ROI \u001b[38;5;241m=\u001b[39m \u001b[38;5;241m12\u001b[39m\n\u001b[1;32m     11\u001b[0m vir_cpa_history \u001b[38;5;241m=\u001b[39m mps_vir_GPSR\u001b[38;5;241m.\u001b[39mmaterial\u001b[38;5;241m.\u001b[39mcutting_plane_history[VIR_ROI]\n\u001b[0;32m---> 12\u001b[0m vir_cpa_history \u001b[38;5;241m=\u001b[39m \u001b[43mpd\u001b[49m\u001b[38;5;241;43m.\u001b[39;49m\u001b[43mDataFrame\u001b[49m\u001b[43m(\u001b[49m\u001b[43mvir_cpa_history\u001b[49m\u001b[43m,\u001b[49m\u001b[43m \u001b[49m\u001b[43mcolumns\u001b[49m\u001b[38;5;241;43m=\u001b[39;49m\u001b[43mCPA_HISTORY_COLUMNS\u001b[49m\u001b[43m)\u001b[49m\n\u001b[1;32m     14\u001b[0m vir_stress_trajectory \u001b[38;5;241m=\u001b[39m np\u001b[38;5;241m.\u001b[39marray(vir_cpa_history[[\u001b[38;5;124mf\u001b[39m\u001b[38;5;124m'\u001b[39m\u001b[38;5;124mtrial_Sigma_f_\u001b[39m\u001b[38;5;132;01m{\u001b[39;00mi\u001b[38;5;132;01m}\u001b[39;00m\u001b[38;5;124m'\u001b[39m \u001b[38;5;28;01mfor\u001b[39;00m i \u001b[38;5;129;01min\u001b[39;00m \u001b[38;5;28mrange\u001b[39m(\u001b[38;5;241m3\u001b[39m) ]])\n\u001b[1;32m     15\u001b[0m vir_stress_trajectory\n",
      "File \u001b[0;32m~/opt/miniforge3/envs/mml2/lib/python3.9/site-packages/pandas/core/frame.py:694\u001b[0m, in \u001b[0;36mDataFrame.__init__\u001b[0;34m(self, data, index, columns, dtype, copy)\u001b[0m\n\u001b[1;32m    684\u001b[0m         mgr \u001b[38;5;241m=\u001b[39m dict_to_mgr(\n\u001b[1;32m    685\u001b[0m             \u001b[38;5;66;03m# error: Item \"ndarray\" of \"Union[ndarray, Series, Index]\" has no\u001b[39;00m\n\u001b[1;32m    686\u001b[0m             \u001b[38;5;66;03m# attribute \"name\"\u001b[39;00m\n\u001b[0;32m   (...)\u001b[0m\n\u001b[1;32m    691\u001b[0m             typ\u001b[38;5;241m=\u001b[39mmanager,\n\u001b[1;32m    692\u001b[0m         )\n\u001b[1;32m    693\u001b[0m     \u001b[38;5;28;01melse\u001b[39;00m:\n\u001b[0;32m--> 694\u001b[0m         mgr \u001b[38;5;241m=\u001b[39m \u001b[43mndarray_to_mgr\u001b[49m\u001b[43m(\u001b[49m\n\u001b[1;32m    695\u001b[0m \u001b[43m            \u001b[49m\u001b[43mdata\u001b[49m\u001b[43m,\u001b[49m\n\u001b[1;32m    696\u001b[0m \u001b[43m            \u001b[49m\u001b[43mindex\u001b[49m\u001b[43m,\u001b[49m\n\u001b[1;32m    697\u001b[0m \u001b[43m            \u001b[49m\u001b[43mcolumns\u001b[49m\u001b[43m,\u001b[49m\n\u001b[1;32m    698\u001b[0m \u001b[43m            \u001b[49m\u001b[43mdtype\u001b[49m\u001b[38;5;241;43m=\u001b[39;49m\u001b[43mdtype\u001b[49m\u001b[43m,\u001b[49m\n\u001b[1;32m    699\u001b[0m \u001b[43m            \u001b[49m\u001b[43mcopy\u001b[49m\u001b[38;5;241;43m=\u001b[39;49m\u001b[43mcopy\u001b[49m\u001b[43m,\u001b[49m\n\u001b[1;32m    700\u001b[0m \u001b[43m            \u001b[49m\u001b[43mtyp\u001b[49m\u001b[38;5;241;43m=\u001b[39;49m\u001b[43mmanager\u001b[49m\u001b[43m,\u001b[49m\n\u001b[1;32m    701\u001b[0m \u001b[43m        \u001b[49m\u001b[43m)\u001b[49m\n\u001b[1;32m    703\u001b[0m \u001b[38;5;66;03m# For data is list-like, or Iterable (will consume into list)\u001b[39;00m\n\u001b[1;32m    704\u001b[0m \u001b[38;5;28;01melif\u001b[39;00m is_list_like(data):\n",
      "File \u001b[0;32m~/opt/miniforge3/envs/mml2/lib/python3.9/site-packages/pandas/core/internals/construction.py:351\u001b[0m, in \u001b[0;36mndarray_to_mgr\u001b[0;34m(values, index, columns, dtype, copy, typ)\u001b[0m\n\u001b[1;32m    346\u001b[0m \u001b[38;5;66;03m# _prep_ndarray ensures that values.ndim == 2 at this point\u001b[39;00m\n\u001b[1;32m    347\u001b[0m index, columns \u001b[38;5;241m=\u001b[39m _get_axes(\n\u001b[1;32m    348\u001b[0m     values\u001b[38;5;241m.\u001b[39mshape[\u001b[38;5;241m0\u001b[39m], values\u001b[38;5;241m.\u001b[39mshape[\u001b[38;5;241m1\u001b[39m], index\u001b[38;5;241m=\u001b[39mindex, columns\u001b[38;5;241m=\u001b[39mcolumns\n\u001b[1;32m    349\u001b[0m )\n\u001b[0;32m--> 351\u001b[0m \u001b[43m_check_values_indices_shape_match\u001b[49m\u001b[43m(\u001b[49m\u001b[43mvalues\u001b[49m\u001b[43m,\u001b[49m\u001b[43m \u001b[49m\u001b[43mindex\u001b[49m\u001b[43m,\u001b[49m\u001b[43m \u001b[49m\u001b[43mcolumns\u001b[49m\u001b[43m)\u001b[49m\n\u001b[1;32m    353\u001b[0m \u001b[38;5;28;01mif\u001b[39;00m typ \u001b[38;5;241m==\u001b[39m \u001b[38;5;124m\"\u001b[39m\u001b[38;5;124marray\u001b[39m\u001b[38;5;124m\"\u001b[39m:\n\u001b[1;32m    355\u001b[0m     \u001b[38;5;28;01mif\u001b[39;00m \u001b[38;5;28missubclass\u001b[39m(values\u001b[38;5;241m.\u001b[39mdtype\u001b[38;5;241m.\u001b[39mtype, \u001b[38;5;28mstr\u001b[39m):\n",
      "File \u001b[0;32m~/opt/miniforge3/envs/mml2/lib/python3.9/site-packages/pandas/core/internals/construction.py:418\u001b[0m, in \u001b[0;36m_check_values_indices_shape_match\u001b[0;34m(values, index, columns)\u001b[0m\n\u001b[1;32m    414\u001b[0m \u001b[38;5;28;01mif\u001b[39;00m values\u001b[38;5;241m.\u001b[39mshape[\u001b[38;5;241m1\u001b[39m] \u001b[38;5;241m!=\u001b[39m \u001b[38;5;28mlen\u001b[39m(columns) \u001b[38;5;129;01mor\u001b[39;00m values\u001b[38;5;241m.\u001b[39mshape[\u001b[38;5;241m0\u001b[39m] \u001b[38;5;241m!=\u001b[39m \u001b[38;5;28mlen\u001b[39m(index):\n\u001b[1;32m    415\u001b[0m     \u001b[38;5;66;03m# Could let this raise in Block constructor, but we get a more\u001b[39;00m\n\u001b[1;32m    416\u001b[0m     \u001b[38;5;66;03m#  helpful exception message this way.\u001b[39;00m\n\u001b[1;32m    417\u001b[0m     \u001b[38;5;28;01mif\u001b[39;00m values\u001b[38;5;241m.\u001b[39mshape[\u001b[38;5;241m0\u001b[39m] \u001b[38;5;241m==\u001b[39m \u001b[38;5;241m0\u001b[39m:\n\u001b[0;32m--> 418\u001b[0m         \u001b[38;5;28;01mraise\u001b[39;00m \u001b[38;5;167;01mValueError\u001b[39;00m(\u001b[38;5;124m\"\u001b[39m\u001b[38;5;124mEmpty data passed with indices specified.\u001b[39m\u001b[38;5;124m\"\u001b[39m)\n\u001b[1;32m    420\u001b[0m     passed \u001b[38;5;241m=\u001b[39m values\u001b[38;5;241m.\u001b[39mshape\n\u001b[1;32m    421\u001b[0m     implied \u001b[38;5;241m=\u001b[39m (\u001b[38;5;28mlen\u001b[39m(index), \u001b[38;5;28mlen\u001b[39m(columns))\n",
      "\u001b[0;31mValueError\u001b[0m: Empty data passed with indices specified."
     ]
    }
   ],
   "source": [
    "# Now, if I inputted that stress into an unrotated CPA algorithm, what would happen?\n",
    "B_new = lambda X_0: np.eye(3)\n",
    "vir_GPSR = {'E': E, 'Nu': nu, 'Y0': Y0, 'H': H, \"B\": B_new}\n",
    "mps_vir_GPSR = run_ST_GPSR_TTM(vir_GPSR, frames=1, loads='ESS', components=w[['DELTA_EXX', 'DELTA_EYY', 'DELTA_EYY']])\n",
    "#mps_vir_GPSR.plot('E.XX', 'S.XX')\n",
    "vir_df = pd.DataFrame(mps_vir_GPSR.material.full_sdv_storage, columns=full_sdv_column_names)\n",
    "vir_df = vir_df[column_reorder]\n",
    "vir_df.to_csv('vir_shabang_0.csv')\n",
    "\n",
    "VIR_ROI = 12\n",
    "vir_cpa_history = mps_vir_GPSR.material.cutting_plane_history[VIR_ROI]\n",
    "vir_cpa_history = pd.DataFrame(vir_cpa_history, columns=CPA_HISTORY_COLUMNS)\n",
    "\n",
    "vir_stress_trajectory = np.array(vir_cpa_history[[f'trial_Sigma_f_{i}' for i in range(3) ]])\n",
    "vir_stress_trajectory"
   ]
  },
  {
   "cell_type": "code",
   "execution_count": null,
   "metadata": {},
   "outputs": [
    {
     "data": {
      "image/png": "[encoded data removed]",
      "text/plain": [
       "<Figure size 432x288 with 1 Axes>"
      ]
     },
     "metadata": {
      "needs_background": "light"
     },
     "output_type": "display_data"
    },
    {
     "data": {
      "image/png": "[encoded data removed]",
      "text/plain": [
       "<Figure size 432x288 with 1 Axes>"
      ]
     },
     "metadata": {
      "needs_background": "light"
     },
     "output_type": "display_data"
    },
    {
     "data": {
      "image/png": "[encoded data removed]",
      "text/plain": [
       "<Figure size 432x288 with 1 Axes>"
      ]
     },
     "metadata": {
      "needs_background": "light"
     },
     "output_type": "display_data"
    }
   ],
   "source": [
    "pi_plane_trial_stress_trajectory = (align_pi_plane_with_axes_rot() @ trial_stress_trajectory.T).T[:,:2]\n",
    "pi_plane_delta_real_trajectory = (align_pi_plane_with_axes_rot() @ delta_real_stress.T).T[:,:2]\n",
    "pi_plane_vir_stress_trajectory = (align_pi_plane_with_axes_rot() @ vir_stress_trajectory.T).T[:,:2]\n",
    "\n",
    "\n",
    "fig = plt.figure()\n",
    "ax = fig.add_subplot()\n",
    "#print(pi_plane_vir_stress_trajectory)\n",
    "ax.plot(*pi_plane_vir_stress_trajectory.T, marker='*', c='m', label=\"direct trajectory (CPA Identity B)\")\n",
    "ax.plot(*pi_plane_delta_real_trajectory.T, marker='o', c='k', label=\"mapped trajectory\")\n",
    "ax.plot(*pi_plane_trial_stress_trajectory.T, marker='.',  c='r', label=\"fictitious trajectory\")\n",
    "ax.legend()\n",
    "draw_principal_axes(ax, length_of_axes=5000, scale=15)\n",
    "\n",
    "ax.axis(\"equal\")\n",
    "ax.set_xlim([-8000, 8000])\n",
    "ax.set_ylim([-8000, 8000])\n",
    "\n",
    "plt.show()\n",
    "\n",
    "fig = plt.figure()\n",
    "ax = fig.add_subplot()\n",
    "#print(pi_plane_vir_stress_trajectory)\n",
    "ax.plot(*pi_plane_vir_stress_trajectory.T, marker='*', c='m', label=\"direct trajectory (CPA Identity B)\")\n",
    "ax.plot(*pi_plane_delta_real_trajectory.T, marker='o', c='k', label=\"mapped trajectory\")\n",
    "ax.plot(*pi_plane_trial_stress_trajectory.T, marker='.',  c='r', label=\"fictitious trajectory\")\n",
    "ax.legend()\n",
    "draw_principal_axes(ax, length_of_axes=5000, scale=15)\n",
    "\n",
    "ax.axis(\"equal\")\n",
    "ax.set_xlim([-50, 0])\n",
    "ax.set_ylim([-25, 25])\n",
    "\n",
    "plt.show()\n",
    "\n",
    "\n",
    "fig = plt.figure()\n",
    "ax = fig.add_subplot()\n",
    "#print(pi_plane_vir_stress_trajectory)\n",
    "ax.plot(*pi_plane_vir_stress_trajectory.T, marker='*', c='m', label=\"direct trajectory (CPA Identity B)\")\n",
    "ax.plot(*pi_plane_delta_real_trajectory.T, marker='o', c='k', label=\"mapped trajectory\")\n",
    "ax.plot(*pi_plane_trial_stress_trajectory.T, marker='.',  c='r', label=\"fictitious trajectory\")\n",
    "ax.legend()\n",
    "draw_principal_axes(ax, length_of_axes=5000, scale=15)\n",
    "\n",
    "ax.axis(\"equal\")\n",
    "ax.set_xlim([-550, 550])\n",
    "ax.set_ylim([-550, 550])\n",
    "\n",
    "plt.show()"
   ]
  },
  {
   "cell_type": "code",
   "execution_count": null,
   "metadata": {},
   "outputs": [
    {
     "data": {
      "text/plain": [
       "array([5992.76877807, 5985.65153911, 5985.65153911])"
      ]
     },
     "execution_count": 9,
     "metadata": {},
     "output_type": "execute_result"
    }
   ],
   "source": [
    "# You're telling me rotating the stress puts it out in the middle of no where?\n",
    "# Next two cells: just verify that, and the VM value\n",
    "B_inv = np.linalg.inv(B(0))\n",
    "B_inv\n",
    "\n",
    "real_stress = B_inv @ trial_stress_trajectory[1,:]\n",
    "real_stress"
   ]
  },
  {
   "cell_type": "code",
   "execution_count": null,
   "metadata": {},
   "outputs": [
    {
     "data": {
      "text/plain": [
       "7.117238965917295"
      ]
     },
     "execution_count": 10,
     "metadata": {},
     "output_type": "execute_result"
    }
   ],
   "source": [
    "def equivalent_stress( mandel_stress_vec):\n",
    "    ROOT2 = np.sqrt(2)\n",
    "    # MML stress comes in the following order: 11, 22, 33, 12, 23, 13\n",
    "    sigma_11, sigma_22, sigma_33, sigma_12, sigma_23, sigma_13 = mandel_stress_vec\n",
    "    sigma_12 = sigma_12/ROOT2\n",
    "    sigma_23 = sigma_23/ROOT2\n",
    "    sigma_13 = sigma_13/ROOT2\n",
    "    internal = (sigma_11 - sigma_22)**2 + (sigma_22 - sigma_33)**2 + (sigma_33 - sigma_11)**2 + 3*(sigma_23**2 + sigma_13**2 + sigma_12**2)\n",
    "    vm = np.sqrt(0.5*internal)\n",
    "    return vm\n",
    "equivalent_stress(np.hstack([real_stress, 0,0,0]))"
   ]
  },
  {
   "cell_type": "code",
   "execution_count": null,
   "metadata": {},
   "outputs": [
    {
     "data": {
      "text/plain": [
       "(array([6244.38739324, 5079.61571022, 6640.06875283]), 1405.0392361259803)"
      ]
     },
     "execution_count": 11,
     "metadata": {},
     "output_type": "execute_result"
    }
   ],
   "source": [
    "# Okay ,apparently it's broken. Let's convert the real answer to fictious stress space / COnclision: nope, it doesnt match up\n",
    "right_stress = vir_stress_trajectory[1,:]\n",
    "B(0) @ right_stress, equivalent_stress(np.hstack([B(0) @ right_stress, 0,0,0]))"
   ]
  },
  {
   "cell_type": "code",
   "execution_count": null,
   "metadata": {},
   "outputs": [
    {
     "data": {
      "text/plain": [
       "(array([ 256.36344115, -908.40824188,  652.04480073]), 1405.0392361259742)"
      ]
     },
     "execution_count": 12,
     "metadata": {},
     "output_type": "execute_result"
    }
   ],
   "source": [
    "# BINGO found this equation for hydrostat = 0\n",
    "# how about we remove the hydrostat, and do the calculation\n",
    "right_stress = vir_stress_trajectory[1,:]\n",
    "dev_right_stress = right_stress - 1/3.*np.sum(right_stress)\n",
    "# Conclusio: it's the right iso yield surface!\n",
    "B(0) @ dev_right_stress, equivalent_stress(np.hstack([B(0) @ dev_right_stress, 0,0,0]))\n"
   ]
  },
  {
   "cell_type": "code",
   "execution_count": null,
   "metadata": {},
   "outputs": [
    {
     "data": {
      "text/plain": [
       "array([ 4.74482598, -2.37241299, -2.37241299])"
      ]
     },
     "execution_count": 13,
     "metadata": {},
     "output_type": "execute_result"
    }
   ],
   "source": [
    "# Okay, let's try that with real_Stress\n",
    "trial_stress_dev = trial_stress_trajectory[1,:] - 1./3.*np.sum(trial_stress_trajectory[1,:])\n",
    "dev_real_stress = B_inv @ trial_stress_dev\n",
    "dev_real_stress"
   ]
  },
  {
   "cell_type": "code",
   "execution_count": null,
   "metadata": {},
   "outputs": [
    {
     "data": {
      "text/plain": [
       "7.117238965919623"
      ]
     },
     "execution_count": 14,
     "metadata": {},
     "output_type": "execute_result"
    }
   ],
   "source": [
    "equivalent_stress(np.hstack([dev_real_stress, 0,0,0]))"
   ]
  },
  {
   "cell_type": "code",
   "execution_count": null,
   "metadata": {},
   "outputs": [
    {
     "data": {
      "text/plain": [
       "array([5992.76877807, 5985.65153911, 5985.65153911])"
      ]
     },
     "execution_count": 15,
     "metadata": {},
     "output_type": "execute_result"
    }
   ],
   "source": [
    "dev_plus_iso_real_stress = dev_real_stress + 1./3.*np.sum(trial_stress_trajectory[1,:])\n",
    "dev_plus_iso_real_stress"
   ]
  },
  {
   "cell_type": "code",
   "execution_count": null,
   "metadata": {},
   "outputs": [],
   "source": []
  }
 ],
 "metadata": {
  "kernelspec": {
   "display_name": "mml2",
   "language": "python",
   "name": "python3"
  },
  "language_info": {
   "codemirror_mode": {
    "name": "ipython",
    "version": 3
   },
   "file_extension": ".py",
   "mimetype": "text/x-python",
   "name": "python",
   "nbconvert_exporter": "python",
   "pygments_lexer": "ipython3",
   "version": "3.9.7"
  }
 },
 "nbformat": 4,
 "nbformat_minor": 2
}
