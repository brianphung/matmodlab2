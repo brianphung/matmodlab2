{
 "cells": [
  {
   "cell_type": "code",
   "execution_count": 1,
   "metadata": {},
   "outputs": [],
   "source": [
    "import auto_diff\n",
    "import numpy as np"
   ]
  },
  {
   "cell_type": "code",
   "execution_count": 2,
   "metadata": {},
   "outputs": [],
   "source": [
    "def align_pi_plane_with_axes_rot():\n",
    "    \"\"\"\n",
    "    Returns a matrix that rotates the pi plane's normal to be the z axis\n",
    "    i.e., a slice of pi plane becomes the xy plane after rotation\n",
    "    \"\"\"\n",
    "    pi_vector = np.array([1, 1, 1]) / np.sqrt(3.)\n",
    "    # wanted_vector = np.array([1, 0, 0])\n",
    "    wanted_vector = np.array([0, 0, 1])\n",
    "    wanted_vector = wanted_vector / np.linalg.norm(wanted_vector)\n",
    "    added = (pi_vector + wanted_vector).reshape([-1, 1])\n",
    "    # from Rodrigues' rotation formula, more info here: https://math.stackexchange.com/a/2672702\n",
    "    rot_mat = 2 * (added @ added.T) / (added.T @ added) - np.eye(3)\n",
    "    return rot_mat\n",
    "\n",
    "\n",
    "def align_axes_with_pi_plane_rot():\n",
    "    \"\"\"\n",
    "    Returns a matrix that undoes the align_pi_plane_with_axes_rot rotation\n",
    "    \"\"\"\n",
    "    return np.linalg.inv(align_pi_plane_with_axes_rot())\n",
    "\n",
    "align_axes_with_pi_plane_rot = align_axes_with_pi_plane_rot()\n",
    "align_pi_plane_with_axes_rot = align_pi_plane_with_axes_rot()\n",
    "\n",
    "def A_mapping(real_eqps):\n",
    "\n",
    "    # real_eqps = 0\n",
    "    # fict_eqps = 0\n",
    "    B_in = ((np.array(0.19468542))/(real_eqps + np.array(0.19468542)) ) * (np.array([[-0.78883927, -0.17774928,  0.05046644],\n",
    "       [-0.94038756, -0.01281956,  0.0229076 ],\n",
    "       [-0.80953323, -0.10425625, -0.02368224]]))\n",
    "    B_in = align_axes_with_pi_plane_rot.T @ B_in @ align_axes_with_pi_plane_rot\n",
    "    B_in[:, 2] = 0\n",
    "    B_in[2, :] = 0\n",
    "    B_in[2, 2] = 1\n",
    "    B_in = align_axes_with_pi_plane_rot @ B_in @ align_axes_with_pi_plane_rot.T\n",
    "    new_B = np.zeros((6,6))\n",
    "    new_B[0:3, 0:3] = B_in\n",
    "    new_B[3:, 3:] = np.eye(3) # Like the stuffness matrix, the shear comps are multiplied by ROOT2\n",
    "\n",
    "    return new_B\n",
    "\n",
    "P_vm = np.array([[1, -0.5, -0.5, 0, 0, 0],\n",
    "                [-0.5, 1, -0.5, 0, 0, 0],\n",
    "                [-0.5, -0.5, 1, 0, 0, 0],\n",
    "                [0, 0, 0, 3, 0, 0],\n",
    "                [0, 0, 0, 0, 3, 0],\n",
    "                [0, 0, 0, 0, 0, 3]])\n",
    "\n",
    "def yield_function_mandell(mandel_stress_vec, eqps ):\n",
    "    A = A_mapping(eqps[0][0]) \n",
    "    G = np.transpose(mandel_stress_vec) @ ( np.transpose(A) @ P_vm @ A ) @ mandel_stress_vec\n",
    "\n",
    "    return G - 1\n"
   ]
  },
  {
   "cell_type": "code",
   "execution_count": 4,
   "metadata": {},
   "outputs": [
    {
     "name": "stdout",
     "output_type": "stream",
     "text": [
      "(1, 1)\n",
      "(6, 1)\n",
      "[[ -81.37552979 -267.02300223  348.39853202    0.            0.\n",
      "     0.        ]] [[-89474143.36216609]]\n"
     ]
    }
   ],
   "source": [
    "x = np.array([[ 1, 2, 50000, 0, 0, 0 ]]).T\n",
    "y = np.array([[ 0 ]]).T\n",
    "print(y.shape)\n",
    "print(x.shape)\n",
    "with auto_diff.AutoDiff(x,y) as (x,y):\n",
    "    f_eval = yield_function_mandell(x, y)\n",
    "    Y, (Jx, Jy) = auto_diff.get_value_and_jacobians(f_eval)\n",
    "print(Jx, Jy)"
   ]
  },
  {
   "cell_type": "code",
   "execution_count": null,
   "metadata": {},
   "outputs": [],
   "source": []
  }
 ],
 "metadata": {
  "kernelspec": {
   "display_name": "mml2",
   "language": "python",
   "name": "python3"
  },
  "language_info": {
   "codemirror_mode": {
    "name": "ipython",
    "version": 3
   },
   "file_extension": ".py",
   "mimetype": "text/x-python",
   "name": "python",
   "nbconvert_exporter": "python",
   "pygments_lexer": "ipython3",
   "version": "3.12.3"
  }
 },
 "nbformat": 4,
 "nbformat_minor": 2
}
