{
 "cells": [
  {
   "cell_type": "code",
   "execution_count": 1,
   "metadata": {},
   "outputs": [],
   "source": [
    "import sympy as sp\n",
    "from numpy import array\n",
    "from sympy import init_printing\n",
    "init_printing(use_latex='mathjax')\n"
   ]
  },
  {
   "cell_type": "markdown",
   "metadata": {},
   "source": [
    "# Starman (!!!) Paper Derivation"
   ]
  },
  {
   "cell_type": "code",
   "execution_count": 11,
   "metadata": {},
   "outputs": [
    {
     "data": {
      "text/latex": [
       "$\\displaystyle \\left( \\epsilon_{eq}, \\  H, \\  H \\epsilon_{eq} + \\sigma_{Y0}\\right)$"
      ],
      "text/plain": [
       "(ε_eq, H, H⋅ε_eq + σ_Y0)"
      ]
     },
     "execution_count": 11,
     "metadata": {},
     "output_type": "execute_result"
    }
   ],
   "source": [
    "# General Constants\n",
    "sigma = sp.symbols('sigma_1:7')\n",
    "sigma_11 = sigma[0]\n",
    "sigma_22 = sigma[1]\n",
    "sigma_33 = sigma[2]\n",
    "sigma_12 = sigma[3]\n",
    "sigma_23 = sigma[4]\n",
    "sigma_13 = sigma[5]\n",
    "eqps = sp.Symbol('epsilon_eq')\n",
    "H = sp.Symbol('H')\n",
    "s_Y_0 = sp.symbols('sigma_Y0')\n",
    "sigma_Y = s_Y_0 + H*eqps\n",
    "eqps, H, sigma_Y"
   ]
  },
  {
   "cell_type": "code",
   "execution_count": 7,
   "metadata": {},
   "outputs": [
    {
     "data": {
      "text/latex": [
       "$\\displaystyle \\sqrt{3 \\sigma_{4}^{2} + 3 \\sigma_{5}^{2} + 3 \\sigma_{6}^{2} + \\frac{\\left(- \\sigma_{1} + \\sigma_{3}\\right)^{2}}{2} + \\frac{\\left(\\sigma_{1} - \\sigma_{2}\\right)^{2}}{2} + \\frac{\\left(\\sigma_{2} - \\sigma_{3}\\right)^{2}}{2}}$"
      ],
      "text/plain": [
       "     _______________________________________________________________\n",
       "    ╱                                   2            2            2 \n",
       "   ╱      2       2       2   (-σ₁ + σ₃)    (σ₁ - σ₂)    (σ₂ - σ₃)  \n",
       "  ╱   3⋅σ₄  + 3⋅σ₅  + 3⋅σ₆  + ─────────── + ────────── + ────────── \n",
       "╲╱                                 2            2            2      "
      ]
     },
     "execution_count": 7,
     "metadata": {},
     "output_type": "execute_result"
    }
   ],
   "source": [
    "# Von Mises Stress in terms of Voigt Components\n",
    "vm_stress = sp.sqrt(   ( ( sigma_11 - sigma_22)**2 + (sigma_22 - sigma_33)**2  + (sigma_33 - sigma_11)**2 + 6*(sigma_23**2 + sigma_13**2 + sigma_12**2) )/2 )\n",
    "vm_stress"
   ]
  },
  {
   "cell_type": "code",
   "execution_count": 8,
   "metadata": {},
   "outputs": [
    {
     "data": {
      "text/latex": [
       "$\\displaystyle - H \\epsilon_{eq} - \\sigma_{Y0} + \\sqrt{3 \\sigma_{4}^{2} + 3 \\sigma_{5}^{2} + 3 \\sigma_{6}^{2} + \\frac{\\left(- \\sigma_{1} + \\sigma_{3}\\right)^{2}}{2} + \\frac{\\left(\\sigma_{1} - \\sigma_{2}\\right)^{2}}{2} + \\frac{\\left(\\sigma_{2} - \\sigma_{3}\\right)^{2}}{2}}$"
      ],
      "text/plain": [
       "                      ________________________________________________________\n",
       "                     ╱                                   2            2       \n",
       "                    ╱      2       2       2   (-σ₁ + σ₃)    (σ₁ - σ₂)    (σ₂ \n",
       "-H⋅ε_eq - σ_Y0 +   ╱   3⋅σ₄  + 3⋅σ₅  + 3⋅σ₆  + ─────────── + ────────── + ────\n",
       "                 ╲╱                                 2            2            \n",
       "\n",
       "_______\n",
       "     2 \n",
       "- σ₃)  \n",
       "────── \n",
       "2      "
      ]
     },
     "execution_count": 8,
     "metadata": {},
     "output_type": "execute_result"
    }
   ],
   "source": [
    "yield_function = vm_stress - sigma_Y\n",
    "yield_function"
   ]
  },
  {
   "cell_type": "code",
   "execution_count": 13,
   "metadata": {},
   "outputs": [
    {
     "data": {
      "text/latex": [
       "$\\displaystyle - Y_{0F} + \\sqrt{3 \\sigma_{4}^{2} + 3 \\sigma_{5}^{2} + 3 \\sigma_{6}^{2} + \\frac{\\left(- \\sigma_{1} + \\sigma_{3}\\right)^{2}}{2} + \\frac{\\left(\\sigma_{1} - \\sigma_{2}\\right)^{2}}{2} + \\frac{\\left(\\sigma_{2} - \\sigma_{3}\\right)^{2}}{2}}$"
      ],
      "text/plain": [
       "             _______________________________________________________________\n",
       "            ╱                                   2            2            2 \n",
       "           ╱      2       2       2   (-σ₁ + σ₃)    (σ₁ - σ₂)    (σ₂ - σ₃)  \n",
       "-Y_0F +   ╱   3⋅σ₄  + 3⋅σ₅  + 3⋅σ₆  + ─────────── + ────────── + ────────── \n",
       "        ╲╱                                 2            2            2      "
      ]
     },
     "execution_count": 13,
     "metadata": {},
     "output_type": "execute_result"
    }
   ],
   "source": [
    "yield_function_syfunc = vm_stress - sp.Symbol('Y_0F')\n",
    "yield_function_syfunc"
   ]
  },
  {
   "cell_type": "code",
   "execution_count": 14,
   "metadata": {},
   "outputs": [
    {
     "data": {
      "text/latex": [
       "$\\displaystyle -1$"
      ],
      "text/plain": [
       "-1"
      ]
     },
     "execution_count": 14,
     "metadata": {},
     "output_type": "execute_result"
    }
   ],
   "source": [
    "yield_function_syfunc.diff(sp.Symbol('Y_0F'))"
   ]
  },
  {
   "cell_type": "code",
   "execution_count": 48,
   "metadata": {},
   "outputs": [
    {
     "data": {
      "text/latex": [
       "$\\displaystyle \\frac{- 2 Y_{0F}^{2} + 6 \\sigma_{4}^{2} + 6 \\sigma_{5}^{2} + 6 \\sigma_{6}^{2} + \\left(\\sigma_{1} - \\sigma_{2}\\right)^{2} + \\left(\\sigma_{1} - \\sigma_{3}\\right)^{2} + \\left(\\sigma_{2} - \\sigma_{3}\\right)^{2}}{2 Y_{0F}^{2}}$"
      ],
      "text/plain": [
       "        2       2       2       2            2            2            2\n",
       "- 2⋅Y_0F  + 6⋅σ₄  + 6⋅σ₅  + 6⋅σ₆  + (σ₁ - σ₂)  + (σ₁ - σ₃)  + (σ₂ - σ₃) \n",
       "────────────────────────────────────────────────────────────────────────\n",
       "                                      2                                 \n",
       "                                2⋅Y_0F                                  "
      ]
     },
     "execution_count": 48,
     "metadata": {},
     "output_type": "execute_result"
    }
   ],
   "source": [
    "starman_yf = sp.simplify(vm_stress**2/sp.Symbol('Y_0F')**2 - 1)\n",
    "starman_yf\n"
   ]
  },
  {
   "cell_type": "code",
   "execution_count": 17,
   "metadata": {},
   "outputs": [
    {
     "data": {
      "text/latex": [
       "$\\displaystyle - H \\epsilon_{eq} - \\sigma_{Y0} + \\sqrt{\\sigma_{1}^{2} - \\sigma_{1} \\sigma_{2} - \\sigma_{1} \\sigma_{3} + \\sigma_{2}^{2} - \\sigma_{2} \\sigma_{3} + \\sigma_{3}^{2} + 3 \\sigma_{4}^{2} + 3 \\sigma_{5}^{2} + 3 \\sigma_{6}^{2}}$"
      ],
      "text/plain": [
       "                    __________________________________________________________\n",
       "                   ╱   2                     2             2       2       2  \n",
       "-H⋅ε_eq - σ_Y0 + ╲╱  σ₁  - σ₁⋅σ₂ - σ₁⋅σ₃ + σ₂  - σ₂⋅σ₃ + σ₃  + 3⋅σ₄  + 3⋅σ₅  +\n",
       "\n",
       "_______\n",
       "     2 \n",
       " 3⋅σ₆  "
      ]
     },
     "execution_count": 17,
     "metadata": {},
     "output_type": "execute_result"
    }
   ],
   "source": [
    "sp.simplify(yield_function)"
   ]
  },
  {
   "cell_type": "code",
   "execution_count": 49,
   "metadata": {},
   "outputs": [
    {
     "data": {
      "text/latex": [
       "$\\displaystyle \\frac{2 \\sigma_{1} - \\sigma_{2} - \\sigma_{3}}{Y_{0F}^{2}}$"
      ],
      "text/plain": [
       "2⋅σ₁ - σ₂ - σ₃\n",
       "──────────────\n",
       "        2     \n",
       "    Y_0F      "
      ]
     },
     "metadata": {},
     "output_type": "display_data"
    },
    {
     "name": "stdout",
     "output_type": "stream",
     "text": [
      "sigma_1 = Symbol('sigma_1')\n",
      "sigma_2 = Symbol('sigma_2')\n",
      "sigma_3 = Symbol('sigma_3')\n",
      "Y_0F = Symbol('Y_0F')\n",
      "e = (2*sigma_1 - sigma_2 - sigma_3)/Y_0F**2\n"
     ]
    },
    {
     "data": {
      "text/latex": [
       "$\\displaystyle \\frac{- \\sigma_{1} + 2 \\sigma_{2} - \\sigma_{3}}{Y_{0F}^{2}}$"
      ],
      "text/plain": [
       "-σ₁ + 2⋅σ₂ - σ₃\n",
       "───────────────\n",
       "         2     \n",
       "     Y_0F      "
      ]
     },
     "metadata": {},
     "output_type": "display_data"
    },
    {
     "name": "stdout",
     "output_type": "stream",
     "text": [
      "sigma_1 = Symbol('sigma_1')\n",
      "sigma_2 = Symbol('sigma_2')\n",
      "sigma_3 = Symbol('sigma_3')\n",
      "Y_0F = Symbol('Y_0F')\n",
      "e = (-sigma_1 + 2*sigma_2 - sigma_3)/Y_0F**2\n"
     ]
    },
    {
     "data": {
      "text/latex": [
       "$\\displaystyle \\frac{- \\sigma_{1} - \\sigma_{2} + 2 \\sigma_{3}}{Y_{0F}^{2}}$"
      ],
      "text/plain": [
       "-σ₁ - σ₂ + 2⋅σ₃\n",
       "───────────────\n",
       "         2     \n",
       "     Y_0F      "
      ]
     },
     "metadata": {},
     "output_type": "display_data"
    },
    {
     "name": "stdout",
     "output_type": "stream",
     "text": [
      "sigma_1 = Symbol('sigma_1')\n",
      "sigma_2 = Symbol('sigma_2')\n",
      "sigma_3 = Symbol('sigma_3')\n",
      "Y_0F = Symbol('Y_0F')\n",
      "e = (-sigma_1 - sigma_2 + 2*sigma_3)/Y_0F**2\n"
     ]
    },
    {
     "data": {
      "text/latex": [
       "$\\displaystyle \\frac{6 \\sigma_{4}}{Y_{0F}^{2}}$"
      ],
      "text/plain": [
       " 6⋅σ₄\n",
       "─────\n",
       "    2\n",
       "Y_0F "
      ]
     },
     "metadata": {},
     "output_type": "display_data"
    },
    {
     "name": "stdout",
     "output_type": "stream",
     "text": [
      "sigma_4 = Symbol('sigma_4')\n",
      "Y_0F = Symbol('Y_0F')\n",
      "e = 6*sigma_4/Y_0F**2\n"
     ]
    },
    {
     "data": {
      "text/latex": [
       "$\\displaystyle \\frac{6 \\sigma_{5}}{Y_{0F}^{2}}$"
      ],
      "text/plain": [
       " 6⋅σ₅\n",
       "─────\n",
       "    2\n",
       "Y_0F "
      ]
     },
     "metadata": {},
     "output_type": "display_data"
    },
    {
     "name": "stdout",
     "output_type": "stream",
     "text": [
      "sigma_5 = Symbol('sigma_5')\n",
      "Y_0F = Symbol('Y_0F')\n",
      "e = 6*sigma_5/Y_0F**2\n"
     ]
    },
    {
     "data": {
      "text/latex": [
       "$\\displaystyle \\frac{6 \\sigma_{6}}{Y_{0F}^{2}}$"
      ],
      "text/plain": [
       " 6⋅σ₆\n",
       "─────\n",
       "    2\n",
       "Y_0F "
      ]
     },
     "metadata": {},
     "output_type": "display_data"
    },
    {
     "name": "stdout",
     "output_type": "stream",
     "text": [
      "sigma_6 = Symbol('sigma_6')\n",
      "Y_0F = Symbol('Y_0F')\n",
      "e = 6*sigma_6/Y_0F**2\n"
     ]
    }
   ],
   "source": [
    "dStarMandS = []\n",
    "for i in range(6):\n",
    "    dStarMandS.append(starman_yf.diff(sigma[i]).simplify())\n",
    "    display(dStarMandS[-1])\n",
    "    print(sp.python(dStarMandS[-1]))"
   ]
  },
  {
   "cell_type": "code",
   "execution_count": 59,
   "metadata": {},
   "outputs": [
    {
     "data": {
      "text/latex": [
       "$\\displaystyle \\left[\\begin{matrix}\\frac{2 \\sigma_{1}}{Y_{0F}^{2}} - \\frac{\\sigma_{2}}{Y_{0F}^{2}} - \\frac{\\sigma_{3}}{Y_{0F}^{2}} & - \\frac{\\sigma_{1}}{Y_{0F}^{2}} + \\frac{2 \\sigma_{2}}{Y_{0F}^{2}} - \\frac{\\sigma_{3}}{Y_{0F}^{2}} & - \\frac{\\sigma_{1}}{Y_{0F}^{2}} - \\frac{\\sigma_{2}}{Y_{0F}^{2}} + \\frac{2 \\sigma_{3}}{Y_{0F}^{2}} & \\frac{3 \\sigma_{4}}{Y_{0F}^{2}} & \\frac{3 \\sigma_{5}}{Y_{0F}^{2}} & \\frac{3 \\sigma_{6}}{Y_{0F}^{2}}\\end{matrix}\\right]$"
      ],
      "text/plain": [
       "⎡ 2⋅σ₁     σ₂      σ₃       σ₁     2⋅σ₂     σ₃       σ₁      σ₂     2⋅σ₃   3⋅σ\n",
       "⎢───── - ───── - ─────  - ───── + ───── - ─────  - ───── - ───── + ─────  ────\n",
       "⎢    2       2       2        2       2       2        2       2       2      \n",
       "⎣Y_0F    Y_0F    Y_0F     Y_0F    Y_0F    Y_0F     Y_0F    Y_0F    Y_0F   Y_0F\n",
       "\n",
       "₄   3⋅σ₅   3⋅σ₆⎤\n",
       "─  ─────  ─────⎥\n",
       "2      2      2⎥\n",
       "   Y_0F   Y_0F ⎦"
      ]
     },
     "execution_count": 59,
     "metadata": {},
     "output_type": "execute_result"
    }
   ],
   "source": [
    "sigma_vec = sp.Matrix(list(sigma))\n",
    "\n",
    "kron = sp.Matrix([1,1,1,0,0,0])\n",
    "\n",
    "sp.expand(sigma_vec.T/sp.Symbol('Y_0F')**2 @ (3*sp.Identity(6) - kron @kron.T )  )"
   ]
  },
  {
   "cell_type": "code",
   "execution_count": 63,
   "metadata": {},
   "outputs": [
    {
     "data": {
      "text/latex": [
       "$\\displaystyle \\frac{- 6 \\sigma_{4}^{2} - 6 \\sigma_{5}^{2} - 6 \\sigma_{6}^{2} - \\left(\\sigma_{1} - \\sigma_{2}\\right)^{2} - \\left(\\sigma_{1} - \\sigma_{3}\\right)^{2} - \\left(\\sigma_{2} - \\sigma_{3}\\right)^{2}}{Y_{0F}^{3}}$"
      ],
      "text/plain": [
       "      2       2       2            2            2            2\n",
       "- 6⋅σ₄  - 6⋅σ₅  - 6⋅σ₆  - (σ₁ - σ₂)  - (σ₁ - σ₃)  - (σ₂ - σ₃) \n",
       "──────────────────────────────────────────────────────────────\n",
       "                                3                             \n",
       "                            Y_0F                              "
      ]
     },
     "execution_count": 63,
     "metadata": {},
     "output_type": "execute_result"
    }
   ],
   "source": [
    "sp.simplify(starman_yf.diff(sp.Symbol('Y_0F')))\n"
   ]
  },
  {
   "cell_type": "code",
   "execution_count": 64,
   "metadata": {},
   "outputs": [
    {
     "data": {
      "text/latex": [
       "$\\displaystyle \\frac{- 6 \\sigma_{4}^{2} - 6 \\sigma_{5}^{2} - 6 \\sigma_{6}^{2} - \\left(- \\sigma_{1} + \\sigma_{3}\\right)^{2} - \\left(\\sigma_{1} - \\sigma_{2}\\right)^{2} - \\left(\\sigma_{2} - \\sigma_{3}\\right)^{2}}{Y_{0F}^{3}}$"
      ],
      "text/plain": [
       "      2       2       2             2            2            2\n",
       "- 6⋅σ₄  - 6⋅σ₅  - 6⋅σ₆  - (-σ₁ + σ₃)  - (σ₁ - σ₂)  - (σ₂ - σ₃) \n",
       "───────────────────────────────────────────────────────────────\n",
       "                                 3                             \n",
       "                             Y_0F                              "
      ]
     },
     "execution_count": 64,
     "metadata": {},
     "output_type": "execute_result"
    }
   ],
   "source": [
    "-2 * vm_stress**2/sp.Symbol('Y_0F')**3"
   ]
  },
  {
   "cell_type": "code",
   "execution_count": null,
   "metadata": {},
   "outputs": [],
   "source": []
  }
 ],
 "metadata": {
  "kernelspec": {
   "display_name": "stbingo",
   "language": "python",
   "name": "python3"
  },
  "language_info": {
   "codemirror_mode": {
    "name": "ipython",
    "version": 3
   },
   "file_extension": ".py",
   "mimetype": "text/x-python",
   "name": "python",
   "nbconvert_exporter": "python",
   "pygments_lexer": "ipython3",
   "version": "3.12.3"
  }
 },
 "nbformat": 4,
 "nbformat_minor": 2
}
