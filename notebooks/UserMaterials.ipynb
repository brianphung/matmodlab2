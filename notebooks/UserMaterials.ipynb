{
 "cells": [
  {
   "cell_type": "markdown",
   "metadata": {},
   "source": [
    "# User Defined Materials\n",
    "\n",
    "## Overview\n",
    "\n",
    "Materials are implemented by subclassing the `matmodlab.core.Material` base class.  The user material is called at each frame of every step. It is provided with the material state at the start of the increment (stress, solution-dependent state variables, temperature, etc) and with the increments in temperature, deformation, and time.\n",
    "\n",
    "The implementation of a material model will be demonstrated with a standard isotropic linear elastic model.  "
   ]
  },
  {
   "cell_type": "markdown",
   "metadata": {},
   "source": [
    "<a name='contents'></a>\n",
    "## Contents\n",
    "\n",
    "1. <a href='#linelast'>Isotropic Linear Elasticity</a>\n",
    "2. <a href='#umat.std'>Model Implementation</a>\n",
    "4. <a href='#umat.compare'>Model Comparison</a>\n",
    "5. <a href='#conc'>Conclusion</a>"
   ]
  },
  {
   "cell_type": "markdown",
   "metadata": {},
   "source": [
    "<a name='linelast'></a>\n",
    "## Isotropic Linear Elasticity\n",
    "\n",
    "The mechanical response of a linear elastic material is defined by\n",
    "\n",
    "$$\n",
    "\\pmb{\\sigma} = \\mathbb{C}{:}\\pmb{\\epsilon} = 3K\\pmb{\\epsilon}^{\\rm iso} + 2G\\pmb{\\epsilon}^{\\rm dev}\n",
    "$$\n",
    "\n",
    "where $K$ is the bulk modulus and $G$ is the shear modulus.  The strain $\\pmb{\\epsilon}$ can be determined from the deformation gradient $\\pmb{F}$ as\n",
    "\n",
    "$$\n",
    "\\pmb{\\epsilon} = \\frac{1}{2\\kappa}\\left[\\left(\\pmb{F}^{\\rm T}{\\cdot}\\pmb{F}\\right)^{2\\kappa} - \\pmb{I}\\right]\n",
    "$$\n",
    "\n",
    "where $\\kappa$ is the generalized [Seth-Hill](https://en.wikipedia.org/wiki/Finite_strain_theory#Seth-Hill_family_of_generalized_strain_tensors) strain parameter.  Defined as such, several well known finite strain measures are emitted:\n",
    "\n",
    "- $\\kappa=1$: Green-Lagrange reference strain\n",
    "- $\\kappa=-1$: Alamansi spatial strain\n",
    "- $\\kappa=0$: Logarithmic, or true, strain\n",
    "\n",
    "The implementations of linear elasticity to follow will take as input Young's modulus `E`, Poisson's ratio `Nu`, and the Seth-Hill parameter `k` for changing the strain definition."
   ]
  },
  {
   "cell_type": "markdown",
   "metadata": {},
   "source": [
    "<a name='umat.std'></a>\n",
    "## Model Implementation\n",
    "\n",
    "The easiest way to implement a material model is to subclasses the `Material` class and define:\n",
    "\n",
    "- `name`: *class attribute*\n",
    "\n",
    "   Used for referencing the material model in the `MaterialPointSimulator`.\n",
    "     \n",
    "- `eval`: *instance method*\n",
    "\n",
    "   Updates the material stress, stiffness (optional), and state dependent variables.  If the stiffness is returned as `None`, Matmodlab will determine it numerically.\n",
    "   \n",
    "Other optional attributes and methods include:\n",
    "\n",
    "- `num_sdv`: *instance attribute*\n",
    "\n",
    "   The number of state dependent variables.  Default is `None`.\n",
    "   \n",
    "- `sdv_names`: *instance attribute*\n",
    "\n",
    "   List of state dependent variable names.  Default is `SDV_N` for the N$^{\\rm th}$ state dependent variable.\n",
    "\n",
    "- `sdvini`: *instance method [optional]*\n",
    "\n",
    "   Initializes solution dependent state variables (otherwise assumed to be 0).\n",
    "   \n",
    "In the example below, in addition to some standard functions imported from `Numpy`, several helper functions are imported from various locations in Matmodlab:\n",
    "\n",
    "- `matmodlab.core.mmlabpack`\n",
    "\n",
    "   - `logm`, `powm`: computes the matrix logarithm and power\n",
    "   - `asarray`: converts a symmetric tensor stored as a 3x3 matrix to an array of length 6\n",
    "   - `polar_decomp`: computes the polar decomposition of the deformation gradient $\\pmb{F}$\n",
    "   - `iso`, `dev`: computes the isotropic and deviatoric parts of a second-order symmetric tensor stored as an array of length 6\n",
    "- `matmodlab.core.mmlabpack`\n",
    "   - `VOIGT`: mulitplier for converting tensor strain components to engineering strain components\n",
    "   \n",
    "The relevant input parameters to the `update_state` method from Matmodlab are:\n",
    "\n",
    "- `F`: the deformation gradient at the end of the step\n",
    "   \n",
    "The isotropic elastic material described above is implemented as `ElasticMaterialTotal` in the file `matmodlab/materials/elastic3.py`.  The implementation can be viewed by executing the following cell."
   ]
  },
  {
   "cell_type": "code",
   "execution_count": 1,
   "metadata": {
    "collapsed": true
   },
   "outputs": [],
   "source": [
    "%pycat ../matmodlab/materials/elastic3.py"
   ]
  },
  {
   "cell_type": "code",
   "execution_count": 3,
   "metadata": {
    "collapsed": false,
    "scrolled": true
   },
   "outputs": [
    {
     "name": "stdout",
     "output_type": "stream",
     "text": [
      "Populating the interactive namespace from numpy and matplotlib\n",
      "Setting up the Matmodlab notebook environment\n"
     ]
    }
   ],
   "source": [
    "%pylab inline\n",
    "from matmodlab import *"
   ]
  },
  {
   "cell_type": "markdown",
   "metadata": {},
   "source": [
    "### Verification Test\n",
    "\n",
    "Exercising the elastic model through a path of uniaxial stress should result in the slope of axial stress vs. axial strain being equal to the input parameter `E`.\n",
    "\n",
    "**Note:** the input parameters to a standard material are given as a dictionary of `name:value` pairs for each paramter.  Parameters not specified are initialized to a value of zero."
   ]
  },
  {
   "cell_type": "code",
   "execution_count": 5,
   "metadata": {
    "collapsed": false
   },
   "outputs": [],
   "source": [
    "mps1 = MaterialPointSimulator('uelastic-std')\n",
    "mps1.material = ElasticMaterialTotal(E=10e6, Nu=.333)\n",
    "mps1.add_step('ESS', (.1, 0, 0), frames=50)\n",
    "mps1.run()\n",
    "i = where(mps1.df['E.XX'] > 0.)\n",
    "E = mps1.df['S.XX'].iloc[i] / mps1.df['E.XX'].iloc[i]\n",
    "assert allclose(E, 10e6, atol=1e-3, rtol=1e-3)"
   ]
  },
  {
   "cell_type": "markdown",
   "metadata": {},
   "source": [
    "<a name='conc'></a>\n",
    "## Conclusion\n",
    "\n",
    "A method for defining user materials was outlined in this notebook."
   ]
  }
 ],
 "metadata": {
  "anaconda-cloud": {},
  "kernelspec": {
   "display_name": "Python [default]",
   "language": "python",
   "name": "python3"
  },
  "language_info": {
   "codemirror_mode": {
    "name": "ipython",
    "version": 3
   },
   "file_extension": ".py",
   "mimetype": "text/x-python",
   "name": "python",
   "nbconvert_exporter": "python",
   "pygments_lexer": "ipython3",
   "version": "3.5.2"
  }
 },
 "nbformat": 4,
 "nbformat_minor": 0
}
