{
 "cells": [
  {
   "cell_type": "markdown",
   "metadata": {},
   "source": [
    "# Material Parameter Optimization\n",
    "\n",
    "In the following example, optimized values of Young's modulus, yield strength, and linear hardening parameters for a linear hardening Von Mises material model are determined using data from a standard uniaxial tension test. The data represents the response of Aluminum, alloy unkown.\n",
    "\n",
    "The strategy is to read read data from an excel file and use the axial strain to drive the simulation. Optimization is performed by minimizing the area between the stress-strain curve calculated and the measured stress-strain curve."
   ]
  },
  {
   "cell_type": "markdown",
   "metadata": {},
   "source": [
    "<a name='contents'></a>\n",
    "## Contents\n"
   ]
  },
  {
   "cell_type": "code",
   "execution_count": 1,
   "metadata": {
    "collapsed": false
   },
   "outputs": [
    {
     "name": "stdout",
     "output_type": "stream",
     "text": [
      "Setting up the Matmodlab notebook environment\n"
     ]
    },
    {
     "data": {
      "text/html": [
       "\n",
       "    <div class=\"bk-root\">\n",
       "        <a href=\"http://bokeh.pydata.org\" target=\"_blank\" class=\"bk-logo bk-logo-small bk-logo-notebook\"></a>\n",
       "        <span id=\"825d0544-b39c-4738-9f8c-894ac1fc1c8a\">Loading BokehJS ...</span>\n",
       "    </div>"
      ]
     },
     "metadata": {},
     "output_type": "display_data"
    },
    {
     "data": {
      "application/javascript": [
       "\n",
       "(function(global) {\n",
       "  function now() {\n",
       "    return new Date();\n",
       "  }\n",
       "\n",
       "  var force = \"1\";\n",
       "\n",
       "  if (typeof (window._bokeh_onload_callbacks) === \"undefined\" || force !== \"\") {\n",
       "    window._bokeh_onload_callbacks = [];\n",
       "    window._bokeh_is_loading = undefined;\n",
       "  }\n",
       "\n",
       "\n",
       "  \n",
       "  if (typeof (window._bokeh_timeout) === \"undefined\" || force !== \"\") {\n",
       "    window._bokeh_timeout = Date.now() + 5000;\n",
       "    window._bokeh_failed_load = false;\n",
       "  }\n",
       "\n",
       "  var NB_LOAD_WARNING = {'data': {'text/html':\n",
       "     \"<div style='background-color: #fdd'>\\n\"+\n",
       "     \"<p>\\n\"+\n",
       "     \"BokehJS does not appear to have successfully loaded. If loading BokehJS from CDN, this \\n\"+\n",
       "     \"may be due to a slow or bad network connection. Possible fixes:\\n\"+\n",
       "     \"</p>\\n\"+\n",
       "     \"<ul>\\n\"+\n",
       "     \"<li>re-rerun `output_notebook()` to attempt to load from CDN again, or</li>\\n\"+\n",
       "     \"<li>use INLINE resources instead, as so:</li>\\n\"+\n",
       "     \"</ul>\\n\"+\n",
       "     \"<code>\\n\"+\n",
       "     \"from bokeh.resources import INLINE\\n\"+\n",
       "     \"output_notebook(resources=INLINE)\\n\"+\n",
       "     \"</code>\\n\"+\n",
       "     \"</div>\"}};\n",
       "\n",
       "  function display_loaded() {\n",
       "    if (window.Bokeh !== undefined) {\n",
       "      Bokeh.$(\"#825d0544-b39c-4738-9f8c-894ac1fc1c8a\").text(\"BokehJS successfully loaded.\");\n",
       "    } else if (Date.now() < window._bokeh_timeout) {\n",
       "      setTimeout(display_loaded, 100)\n",
       "    }\n",
       "  }\n",
       "\n",
       "  function run_callbacks() {\n",
       "    window._bokeh_onload_callbacks.forEach(function(callback) { callback() });\n",
       "    delete window._bokeh_onload_callbacks\n",
       "    console.info(\"Bokeh: all callbacks have finished\");\n",
       "  }\n",
       "\n",
       "  function load_libs(js_urls, callback) {\n",
       "    window._bokeh_onload_callbacks.push(callback);\n",
       "    if (window._bokeh_is_loading > 0) {\n",
       "      console.log(\"Bokeh: BokehJS is being loaded, scheduling callback at\", now());\n",
       "      return null;\n",
       "    }\n",
       "    if (js_urls == null || js_urls.length === 0) {\n",
       "      run_callbacks();\n",
       "      return null;\n",
       "    }\n",
       "    console.log(\"Bokeh: BokehJS not loaded, scheduling load and callback at\", now());\n",
       "    window._bokeh_is_loading = js_urls.length;\n",
       "    for (var i = 0; i < js_urls.length; i++) {\n",
       "      var url = js_urls[i];\n",
       "      var s = document.createElement('script');\n",
       "      s.src = url;\n",
       "      s.async = false;\n",
       "      s.onreadystatechange = s.onload = function() {\n",
       "        window._bokeh_is_loading--;\n",
       "        if (window._bokeh_is_loading === 0) {\n",
       "          console.log(\"Bokeh: all BokehJS libraries loaded\");\n",
       "          run_callbacks()\n",
       "        }\n",
       "      };\n",
       "      s.onerror = function() {\n",
       "        console.warn(\"failed to load library \" + url);\n",
       "      };\n",
       "      console.log(\"Bokeh: injecting script tag for BokehJS library: \", url);\n",
       "      document.getElementsByTagName(\"head\")[0].appendChild(s);\n",
       "    }\n",
       "  };var element = document.getElementById(\"825d0544-b39c-4738-9f8c-894ac1fc1c8a\");\n",
       "  if (element == null) {\n",
       "    console.log(\"Bokeh: ERROR: autoload.js configured with elementid '825d0544-b39c-4738-9f8c-894ac1fc1c8a' but no matching script tag was found. \")\n",
       "    return false;\n",
       "  }\n",
       "\n",
       "  var js_urls = ['https://cdn.pydata.org/bokeh/release/bokeh-0.12.2.min.js', 'https://cdn.pydata.org/bokeh/release/bokeh-widgets-0.12.2.min.js', 'https://cdn.pydata.org/bokeh/release/bokeh-compiler-0.12.2.min.js'];\n",
       "\n",
       "  var inline_js = [\n",
       "    function(Bokeh) {\n",
       "      Bokeh.set_log_level(\"info\");\n",
       "    },\n",
       "    \n",
       "    function(Bokeh) {\n",
       "      \n",
       "      Bokeh.$(\"#825d0544-b39c-4738-9f8c-894ac1fc1c8a\").text(\"BokehJS is loading...\");\n",
       "    },\n",
       "    function(Bokeh) {\n",
       "      console.log(\"Bokeh: injecting CSS: https://cdn.pydata.org/bokeh/release/bokeh-0.12.2.min.css\");\n",
       "      Bokeh.embed.inject_css(\"https://cdn.pydata.org/bokeh/release/bokeh-0.12.2.min.css\");\n",
       "      console.log(\"Bokeh: injecting CSS: https://cdn.pydata.org/bokeh/release/bokeh-widgets-0.12.2.min.css\");\n",
       "      Bokeh.embed.inject_css(\"https://cdn.pydata.org/bokeh/release/bokeh-widgets-0.12.2.min.css\");\n",
       "    }\n",
       "  ];\n",
       "\n",
       "  function run_inline_js() {\n",
       "    \n",
       "    if ((window.Bokeh !== undefined) || (force === \"1\")) {\n",
       "      for (var i = 0; i < inline_js.length; i++) {\n",
       "        inline_js[i](window.Bokeh);\n",
       "      }if (force === \"1\") {\n",
       "        display_loaded();\n",
       "      }} else if (Date.now() < window._bokeh_timeout) {\n",
       "      setTimeout(run_inline_js, 100);\n",
       "    } else if (!window._bokeh_failed_load) {\n",
       "      console.log(\"Bokeh: BokehJS failed to load within specified timeout.\");\n",
       "      window._bokeh_failed_load = true;\n",
       "    } else if (!force) {\n",
       "      var cell = $(\"#825d0544-b39c-4738-9f8c-894ac1fc1c8a\").parents('.cell').data().cell;\n",
       "      cell.output_area.append_execute_result(NB_LOAD_WARNING)\n",
       "    }\n",
       "\n",
       "  }\n",
       "\n",
       "  if (window._bokeh_is_loading === 0) {\n",
       "    console.log(\"Bokeh: BokehJS loaded, going straight to plotting\");\n",
       "    run_inline_js();\n",
       "  } else {\n",
       "    load_libs(js_urls, function() {\n",
       "      console.log(\"Bokeh: BokehJS plotting callback run at\", now());\n",
       "      run_inline_js();\n",
       "    });\n",
       "  }\n",
       "}(this));"
      ]
     },
     "metadata": {},
     "output_type": "display_data"
    }
   ],
   "source": [
    "from bokeh.io import output_notebook\n",
    "from bokeh.plotting import *\n",
    "from matmodlab import *\n",
    "from numpy import *\n",
    "import numpy as np\n",
    "from matmodlab.optimize import Optimizer, OptimizeVariable\n",
    "from matmodlab.optimize.numerix import calculate_bounded_area\n",
    "from plotting_helpers import create_figure\n",
    "from pandas import read_excel\n",
    "output_notebook()"
   ]
  },
  {
   "cell_type": "code",
   "execution_count": 2,
   "metadata": {
    "collapsed": false
   },
   "outputs": [],
   "source": [
    "# get the experimental stress and strain\n",
    "filename = os.path.join(_dh[0], 'aldat.xls')\n",
    "assert os.path.isfile(filename)\n",
    "df = read_excel(filename, sheetname='MML')"
   ]
  },
  {
   "cell_type": "markdown",
   "metadata": {},
   "source": [
    "## Create data to use as steps"
   ]
  },
  {
   "cell_type": "code",
   "execution_count": 3,
   "metadata": {
    "collapsed": false
   },
   "outputs": [],
   "source": [
    "num_step = 30\n",
    "# Interpolate the steps\n",
    "fun = lambda t: np.interp(t, df['TIME'], df['E.XX'])\n",
    "timespace = np.linspace(df['TIME'].iloc[0], df['TIME'].iloc[-1], num_step)\n",
    "components = []\n",
    "for i in range(num_step):\n",
    "    time = timespace[i]\n",
    "    components.append([fun(time), 0., 0.])"
   ]
  },
  {
   "cell_type": "code",
   "execution_count": 4,
   "metadata": {
    "collapsed": true
   },
   "outputs": [],
   "source": [
    "def runjob(jobid, names, x):\n",
    "    \"\"\"Run a specific MaterialPointSimulator job for parameters in x\"\"\"\n",
    "    xp = dict(zip(names, x))\n",
    "    NU = 0.32  # poisson's ratio for aluminum\n",
    "    parameters = {'K': xp['E']/3.0/(1.0-2.0*NU), \n",
    "                  'G': xp['E']/2.0/(1.0+NU),\n",
    "                  'Y0': xp['Y0'], \n",
    "                  'H': xp['H'], \n",
    "                  'BETA': 0.0}\n",
    "    mps = MaterialPointSimulator(jobid)\n",
    "    mps.material = VonMisesMaterial(**parameters)\n",
    "    for (i, item) in enumerate(components[1:], start=1):\n",
    "        mps.add_step('ESS', item, increment=timespace[i])\n",
    "    mps.run()\n",
    "    return mps"
   ]
  },
  {
   "cell_type": "code",
   "execution_count": 5,
   "metadata": {
    "collapsed": true
   },
   "outputs": [],
   "source": [
    "def func(x, names, evald, job, *args):\n",
    "    \"\"\"The objective function\"\"\"\n",
    "    #mps = runjob(job, names, x)\n",
    "    try:\n",
    "        mps = runjob(job, names, x)\n",
    "        failed = not mps.ran\n",
    "    except:\n",
    "        failed = True\n",
    "    if failed:\n",
    "        return 1.0e9\n",
    "    error = calculate_bounded_area(df['E.XX'], df['S.XX'], \n",
    "                                   mps.df['E.XX'], mps.df['S.XX'])\n",
    "    return error"
   ]
  },
  {
   "cell_type": "code",
   "execution_count": 6,
   "metadata": {
    "collapsed": false
   },
   "outputs": [
    {
     "name": "stderr",
     "output_type": "stream",
     "text": [
      "optimization method does not support bounds\n",
      "optimization method does not support bounds\n",
      "optimization method does not support bounds\n"
     ]
    },
    {
     "name": "stdout",
     "output_type": "stream",
     "text": [
      "Running job 114\n",
      "Done\n"
     ]
    }
   ],
   "source": [
    "# set the variables to be optimized\n",
    "E = OptimizeVariable('E',  2.0e6, bounds=(1.0e5, 1.0e7))\n",
    "Y0= OptimizeVariable('Y0', 0.3e5, bounds=(1.0e4, 1.0e6))\n",
    "H = OptimizeVariable('H',  1.0e6, bounds=(1.0e4, 1.0e7))\n",
    "xinit = [E, Y0, H]\n",
    "\n",
    "# the optimzer object\n",
    "optimizer = Optimizer('optimize', func, xinit, method='simplex',\n",
    "                      maxiter=200, tolerance=1.e-3)\n",
    "\n",
    "# run the job\n",
    "optimizer.run()"
   ]
  },
  {
   "cell_type": "code",
   "execution_count": 7,
   "metadata": {
    "collapsed": false
   },
   "outputs": [
    {
     "data": {
      "text/html": [
       "\n",
       "\n",
       "    <div class=\"bk-root\">\n",
       "        <div class=\"plotdiv\" id=\"77603f58-812f-4b66-b546-678b11959b18\"></div>\n",
       "    </div>\n",
       "<script type=\"text/javascript\">\n",
       "  \n",
       "  (function(global) {\n",
       "    function now() {\n",
       "      return new Date();\n",
       "    }\n",
       "  \n",
       "    var force = \"\";\n",
       "  \n",
       "    if (typeof (window._bokeh_onload_callbacks) === \"undefined\" || force !== \"\") {\n",
       "      window._bokeh_onload_callbacks = [];\n",
       "      window._bokeh_is_loading = undefined;\n",
       "    }\n",
       "  \n",
       "  \n",
       "    \n",
       "    if (typeof (window._bokeh_timeout) === \"undefined\" || force !== \"\") {\n",
       "      window._bokeh_timeout = Date.now() + 0;\n",
       "      window._bokeh_failed_load = false;\n",
       "    }\n",
       "  \n",
       "    var NB_LOAD_WARNING = {'data': {'text/html':\n",
       "       \"<div style='background-color: #fdd'>\\n\"+\n",
       "       \"<p>\\n\"+\n",
       "       \"BokehJS does not appear to have successfully loaded. If loading BokehJS from CDN, this \\n\"+\n",
       "       \"may be due to a slow or bad network connection. Possible fixes:\\n\"+\n",
       "       \"</p>\\n\"+\n",
       "       \"<ul>\\n\"+\n",
       "       \"<li>re-rerun `output_notebook()` to attempt to load from CDN again, or</li>\\n\"+\n",
       "       \"<li>use INLINE resources instead, as so:</li>\\n\"+\n",
       "       \"</ul>\\n\"+\n",
       "       \"<code>\\n\"+\n",
       "       \"from bokeh.resources import INLINE\\n\"+\n",
       "       \"output_notebook(resources=INLINE)\\n\"+\n",
       "       \"</code>\\n\"+\n",
       "       \"</div>\"}};\n",
       "  \n",
       "    function display_loaded() {\n",
       "      if (window.Bokeh !== undefined) {\n",
       "        Bokeh.$(\"#77603f58-812f-4b66-b546-678b11959b18\").text(\"BokehJS successfully loaded.\");\n",
       "      } else if (Date.now() < window._bokeh_timeout) {\n",
       "        setTimeout(display_loaded, 100)\n",
       "      }\n",
       "    }\n",
       "  \n",
       "    function run_callbacks() {\n",
       "      window._bokeh_onload_callbacks.forEach(function(callback) { callback() });\n",
       "      delete window._bokeh_onload_callbacks\n",
       "      console.info(\"Bokeh: all callbacks have finished\");\n",
       "    }\n",
       "  \n",
       "    function load_libs(js_urls, callback) {\n",
       "      window._bokeh_onload_callbacks.push(callback);\n",
       "      if (window._bokeh_is_loading > 0) {\n",
       "        console.log(\"Bokeh: BokehJS is being loaded, scheduling callback at\", now());\n",
       "        return null;\n",
       "      }\n",
       "      if (js_urls == null || js_urls.length === 0) {\n",
       "        run_callbacks();\n",
       "        return null;\n",
       "      }\n",
       "      console.log(\"Bokeh: BokehJS not loaded, scheduling load and callback at\", now());\n",
       "      window._bokeh_is_loading = js_urls.length;\n",
       "      for (var i = 0; i < js_urls.length; i++) {\n",
       "        var url = js_urls[i];\n",
       "        var s = document.createElement('script');\n",
       "        s.src = url;\n",
       "        s.async = false;\n",
       "        s.onreadystatechange = s.onload = function() {\n",
       "          window._bokeh_is_loading--;\n",
       "          if (window._bokeh_is_loading === 0) {\n",
       "            console.log(\"Bokeh: all BokehJS libraries loaded\");\n",
       "            run_callbacks()\n",
       "          }\n",
       "        };\n",
       "        s.onerror = function() {\n",
       "          console.warn(\"failed to load library \" + url);\n",
       "        };\n",
       "        console.log(\"Bokeh: injecting script tag for BokehJS library: \", url);\n",
       "        document.getElementsByTagName(\"head\")[0].appendChild(s);\n",
       "      }\n",
       "    };var element = document.getElementById(\"77603f58-812f-4b66-b546-678b11959b18\");\n",
       "    if (element == null) {\n",
       "      console.log(\"Bokeh: ERROR: autoload.js configured with elementid '77603f58-812f-4b66-b546-678b11959b18' but no matching script tag was found. \")\n",
       "      return false;\n",
       "    }\n",
       "  \n",
       "    var js_urls = [];\n",
       "  \n",
       "    var inline_js = [\n",
       "      function(Bokeh) {\n",
       "        Bokeh.$(function() {\n",
       "            var docs_json = {\"8e5cc9a4-c1e4-4696-bc13-0875052c33f1\":{\"roots\":{\"references\":[{\"attributes\":{\"below\":[{\"id\":\"40770501-2bef-44d9-a374-2d5b4b11a8df\",\"type\":\"LinearAxis\"}],\"left\":[{\"id\":\"63c73b13-5d6b-4562-b42b-3570f00b2eb2\",\"type\":\"LinearAxis\"}],\"renderers\":[{\"id\":\"40770501-2bef-44d9-a374-2d5b4b11a8df\",\"type\":\"LinearAxis\"},{\"id\":\"f4c4d79f-761f-4120-a1ec-6390b21cdd33\",\"type\":\"Grid\"},{\"id\":\"63c73b13-5d6b-4562-b42b-3570f00b2eb2\",\"type\":\"LinearAxis\"},{\"id\":\"af095416-a3d5-4fef-baf4-b35454a19a55\",\"type\":\"Grid\"},{\"id\":\"ce5faff5-8e8e-42e2-b5f4-90fdc2d15aaf\",\"type\":\"BoxAnnotation\"},{\"id\":\"d920640b-c004-4ed1-955f-2def33e14ab7\",\"type\":\"Legend\"},{\"id\":\"adef3cca-d8c0-4972-8e59-9d9e97d0866f\",\"type\":\"GlyphRenderer\"},{\"id\":\"f7597f1e-8398-40aa-9940-0a970bbf7d00\",\"type\":\"GlyphRenderer\"}],\"title\":{\"id\":\"2cbbcea5-7d99-4a0e-8baf-50a92b18668d\",\"type\":\"Title\"},\"tool_events\":{\"id\":\"15fa05cb-8747-4322-983b-ef2279110659\",\"type\":\"ToolEvents\"},\"toolbar\":{\"id\":\"84db8876-2a5c-41ee-aeef-85ddc4c25642\",\"type\":\"Toolbar\"},\"x_range\":{\"id\":\"fcb52724-441b-4cea-9271-7f0032790432\",\"type\":\"DataRange1d\"},\"y_range\":{\"id\":\"f8d8d9c9-a3cc-4d91-817d-909dc459b737\",\"type\":\"DataRange1d\"}},\"id\":\"72705c99-dc98-4db3-ba65-11817ecdbffc\",\"subtype\":\"Figure\",\"type\":\"Plot\"},{\"attributes\":{\"plot\":{\"id\":\"72705c99-dc98-4db3-ba65-11817ecdbffc\",\"subtype\":\"Figure\",\"type\":\"Plot\"}},\"id\":\"c8937cbf-99e0-4e5e-810d-6ac6ed7ff457\",\"type\":\"WheelZoomTool\"},{\"attributes\":{\"plot\":null,\"text\":null},\"id\":\"2cbbcea5-7d99-4a0e-8baf-50a92b18668d\",\"type\":\"Title\"},{\"attributes\":{\"fill_alpha\":{\"value\":0.1},\"fill_color\":{\"value\":\"#1f77b4\"},\"line_alpha\":{\"value\":0.1},\"line_color\":{\"value\":\"#1f77b4\"},\"x\":{\"field\":\"x\"},\"y\":{\"field\":\"y\"}},\"id\":\"5f9d9b2f-f197-42d5-bf81-80be15b76dea\",\"type\":\"X\"},{\"attributes\":{\"bottom_units\":\"screen\",\"fill_alpha\":{\"value\":0.5},\"fill_color\":{\"value\":\"lightgrey\"},\"left_units\":\"screen\",\"level\":\"overlay\",\"line_alpha\":{\"value\":1.0},\"line_color\":{\"value\":\"black\"},\"line_dash\":[4,4],\"line_width\":{\"value\":2},\"plot\":null,\"render_mode\":\"css\",\"right_units\":\"screen\",\"top_units\":\"screen\"},\"id\":\"ce5faff5-8e8e-42e2-b5f4-90fdc2d15aaf\",\"type\":\"BoxAnnotation\"},{\"attributes\":{\"callback\":null},\"id\":\"f8d8d9c9-a3cc-4d91-817d-909dc459b737\",\"type\":\"DataRange1d\"},{\"attributes\":{\"plot\":{\"id\":\"72705c99-dc98-4db3-ba65-11817ecdbffc\",\"subtype\":\"Figure\",\"type\":\"Plot\"}},\"id\":\"453f4969-80b6-49ab-a373-d8d2d549c37e\",\"type\":\"PanTool\"},{\"attributes\":{\"fill_color\":{\"value\":\"red\"},\"line_color\":{\"value\":\"red\"},\"x\":{\"field\":\"x\"},\"y\":{\"field\":\"y\"}},\"id\":\"53a32fe4-f0fd-4093-a98a-3e8e9e3500c3\",\"type\":\"X\"},{\"attributes\":{\"dimension\":1,\"plot\":{\"id\":\"72705c99-dc98-4db3-ba65-11817ecdbffc\",\"subtype\":\"Figure\",\"type\":\"Plot\"},\"ticker\":{\"id\":\"5e5706c4-df9c-4edc-a4d7-be76731a9df2\",\"type\":\"BasicTicker\"}},\"id\":\"af095416-a3d5-4fef-baf4-b35454a19a55\",\"type\":\"Grid\"},{\"attributes\":{\"active_drag\":\"auto\",\"active_scroll\":\"auto\",\"active_tap\":\"auto\",\"tools\":[{\"id\":\"23dac865-7be1-4bda-953d-8ba74d915301\",\"type\":\"ResizeTool\"},{\"id\":\"453f4969-80b6-49ab-a373-d8d2d549c37e\",\"type\":\"PanTool\"},{\"id\":\"c8937cbf-99e0-4e5e-810d-6ac6ed7ff457\",\"type\":\"WheelZoomTool\"},{\"id\":\"acacbde8-4b31-48d2-987c-0a840ee3fc4c\",\"type\":\"BoxZoomTool\"},{\"id\":\"de404c18-babe-4de0-879f-4a85dbf1d5ff\",\"type\":\"ResetTool\"},{\"id\":\"8ec206cb-7b39-4f7d-8b05-670a6387e86b\",\"type\":\"SaveTool\"}]},\"id\":\"84db8876-2a5c-41ee-aeef-85ddc4c25642\",\"type\":\"Toolbar\"},{\"attributes\":{\"plot\":{\"id\":\"72705c99-dc98-4db3-ba65-11817ecdbffc\",\"subtype\":\"Figure\",\"type\":\"Plot\"},\"ticker\":{\"id\":\"2c166fa9-3612-49db-9467-659577087723\",\"type\":\"BasicTicker\"}},\"id\":\"f4c4d79f-761f-4120-a1ec-6390b21cdd33\",\"type\":\"Grid\"},{\"attributes\":{\"axis_label\":\"S.XX\",\"formatter\":{\"id\":\"434b604e-6917-4063-b0f6-8b638bac5a01\",\"type\":\"BasicTickFormatter\"},\"plot\":{\"id\":\"72705c99-dc98-4db3-ba65-11817ecdbffc\",\"subtype\":\"Figure\",\"type\":\"Plot\"},\"ticker\":{\"id\":\"5e5706c4-df9c-4edc-a4d7-be76731a9df2\",\"type\":\"BasicTicker\"}},\"id\":\"63c73b13-5d6b-4562-b42b-3570f00b2eb2\",\"type\":\"LinearAxis\"},{\"attributes\":{\"plot\":{\"id\":\"72705c99-dc98-4db3-ba65-11817ecdbffc\",\"subtype\":\"Figure\",\"type\":\"Plot\"}},\"id\":\"23dac865-7be1-4bda-953d-8ba74d915301\",\"type\":\"ResizeTool\"},{\"attributes\":{\"callback\":null,\"column_names\":[\"y\",\"x\"],\"data\":{\"x\":[0.0,6.29549071870436e-05,0.00014479040625211376,0.0002706780300632476,0.0004406011432811314,0.0006293712376995507,0.0008558478799217287,0.00108227324208795,0.0013212223567765859,0.0015475423827936846,0.0017738111996462695,0.0019874627978584635,0.002182222552761051,0.002370664198215895,0.00254023087988052,0.0027034902747016054,0.0028604454667544715,0.0030048218864718247,0.0031491779076950896,0.003287238218409684,0.003425279471106452,0.00356957525674218,0.0037138493385144447,0.003864374787525183,0.004014877582035158,0.004165357286265413,0.00432208321629588,0.004485051989685071,0.004647994208580436,0.004810909881634923,0.004973799017495928,0.005142924905523041,0.005305759973122902,0.005468568529780375,0.005631350584126471,0.005794106144787989,0.005950577477170122,0.006107023004889563,0.006269701613591473,0.006426097669232975,0.006582470152030106,0.006745070557408295,0.006901392732087064,0.007057690032644104,0.007220214074205931,0.007376461555682728,0.007532685068806902,0.007695131054780781,0.007857551538273905,0.008013700358669966,0.008169823477934064,0.008332166886207469,0.008488240737967202,0.008650532465719783,0.008812796978051913,0.00896879672084766,0.009131009602590294,0.00928695927572951,0.0094428841920931,0.009605021075592165,0.009760896409946722,0.009922981744310949,0.010078807088191975,0.01024084090626153,0.010396618050900263,0.010558599505644964,0.01071432672276545,0.010876257166574569,0.011031934927457342,0.011187588017047256,0.011349442289204807,0.011505045530121858,0.011666848432735806,0.011822402735127009,0.011984154300723011,0.012139659256488425,0.012301359517633129,0.012456814719128474,0.012618463708427619,0.012780085693953506,0.012941682000763746,0.013097038577713317,0.013258584994132334,0.013413891034172485,0.013569174273355316,0.01373064268856845,0.013885877191449755,0.014047294481368041,0.014202479840560944,0.014363846037549016,0.014518981846120547,0.014686502087238571,0.014705112790620093,0.014767149178683457,0.01487880533017078,0.01503385952562318,0.015219894669032513,0.015430693018288665,0.015660041193415956,0.015889335467703578,0.016124772927262183,0.016347767660650728,0.01655213666317404,0.01675027207103448,0.016929797042890316,0.017103103634330905,0.01727018983036406,0.017424875450330213,0.01757335040410188,0.01772180506288424,0.017857867759857118,0.018000096087194176,0.018142303752057314,0.018290672668184266,0.01843283901976972,0.018587345349277605,0.01874182737407507,0.018890107372783214,0.019050718975894835,0.01921130478706183,0.01936569045884554,0.019532400810077788,0.019692909294809016,0.019859564673037764,0.020013850738571634,0.020174281971300816,0.020334687469978276,0.020495067242857795,0.020649255297905407,0.020809584632446237,0.02096372376880715,0.02112400269679322,0.021278093815464052,0.02143216119372017,0.021592365064653306,0.021746383600413515,0.021900378852934346,0.02205434995981885,0.022214454192682195,0.022368377386966398,0.022528431354625254,0.02268230623184567,0.02283615526318057,0.022996136121992285,0.023149937316464204,0.02330986798804165,0.023469771349350087,0.02362350102320846,0.023777207501888362,0.023937036157466885,0.024090694455021166,0.02425047301825628,0.0244040827311523,0.024563811233502167,0.024717373259433132,0.024877051732188696,0.025030565667498617,0.02519019414198982,0.02534365958346771,0.025503238091064858,0.025662791137424933,0.025816184507410123,0.02597568763400976,0.026129033018934048,0.026282352728078974,0.026441784985415773,0.026601188365939644,0.02675443787055266,0.026913791424909544,0.02706699260183852,0.02722016728419365,0.027379450105628957,0.027532576938545224,0.02769181001022209,0.027844889023585034,0.02800407194440102,0.028157106624971902,0.02831623683353757,0.02846922332119376,0.02862830430616576,0.028781243062813846,0.028934155410392178,0.0290931654784816,0.02924603014035377,0.02940499019732873,0.029557807203293197,0.02971671814326143,0.02986948752295671,0.030028348945163794,0.030181070728266833,0.0303398822324003,0.030492559897399647,0.030651318927901332,0.030803949054504322,0.030962658660783564,0.031115240847756957,0.03127390106064563,0.03142643619927779,0.031578944629460835,0.03173753430781864,0.03188999573440757,0.032042436502627815,0.03219485446656544,0.032353343493724575,0.03251180740609256,0.03266415342154616,0.032822571534057716,0.032974867206599076,0.033133236107962635,0.03328548447858336,0.03344380376953663,0.03359600486767583,0.033748186241730226,0.03390642929341548,0.034058563437578335,0.03421675738573408,0.034368843899883615,0.03452090771660625,0.034679028547381266,0.03483104477791103,0.03498911658103495,0.03514716683417149,0.03529910891893604,0.03545711018916805,0.03560900519136637,0.035760880126797845,0.0359188050290845,0.036070633353242676,0.036228509349217196,0.03638029066233616,0.0365320485128832,0.03668985168502952,0.036841562996462955,0.036999317337651626,0.03715704679633341,0.03730868725091086],\"y\":[0.0,123.31458627672936,421.37979093592674,653.6357161936628,733.2374354081993,806.1545511543954,937.2557851982575,1121.0890065162116,1348.357559510523,1604.9685429559725,1880.373162817461,2177.1130542938777,2484.6585254494667,2787.4532858393677,3080.993612599101,3363.718068513454,3632.7761425452622,3890.782071922403,4143.922114095354,4389.258635579231,4633.443110756878,4886.861437246136,5152.381888913362,5427.100666233815,5707.474789799263,5997.794969509898,6295.6031682412995,6606.35060069108,6938.5549660336865,7282.642945574167,7630.653972654701,7990.605003868222,8363.299031832204,8743.12525835372,9130.918254418895,9521.931679482104,9916.289027491643,10316.622580453515,10720.503060122592,11124.460230091781,11530.375258492517,11937.997774022491,12346.600346563982,12759.276527770257,13176.74923656219,13595.88657613415,14014.787077994331,14436.76534232114,14860.76011061072,15292.3787976549,15731.368776564503,16169.306519350077,16607.253284524715,17048.87328984421,17492.340629330374,17937.41057066886,18382.103827267383,18825.21929357542,19273.941046893404,19726.78377641298,20179.263354769257,20631.483539443405,21088.420178002,21550.10484880446,22009.86775073625,22468.12616929044,22927.268781977535,23389.07751062616,23854.754588591826,24320.188062048135,24782.87872923356,25247.06711299901,25713.13892048739,26178.387434970195,26644.716380539965,27116.127186753598,27592.344670742317,28068.93658387489,28543.5503382063,29016.706976706155,29489.223025577838,29962.37740848158,30435.876897761256,30906.676437114635,31372.015175488083,31831.198388923654,32288.444044306543,32745.969393750423,33197.67981344476,33639.240045437284,34068.536595095495,34484.56572163716,34816.600917183656,34964.87260346806,35026.299283813016,35208.92371646154,35563.4381943591,35993.0279716642,36404.453424187035,36772.22179161986,37104.69457303828,37401.74319939467,37656.62794605348,37868.572887559814,38043.94106380002,38193.6585879308,38324.51480772062,38439.590869041844,38540.055171271335,38628.997882665884,38714.94064969429,38797.148147654756,38868.858095936754,38933.93658825658,38998.96094624203,39065.2394163074,39131.57653189937,39192.324277468404,39247.34731717853,39305.49210350024,39359.71666177588,39401.873774680505,39442.8173762537,39485.76845939135,39522.01590745895,39554.12207894147,39589.15601567763,39620.93286996162,39650.31879114362,39684.01290310606,39715.03638790088,39737.72769639726,39758.82204202928,39778.9600144205,39796.62134101592,39818.33823149336,39843.00995438702,39867.46062875091,39888.87075800018,39903.77574473418,39916.97098874283,39932.886483052025,39950.904194013165,39969.04370722436,39984.21485443807,39998.06422165156,40012.61282401522,40029.611005012106,40049.23470122667,40065.74567321409,40078.1740141523,40090.23243713424,40107.42459949832,40129.57005345401,40146.771238207155,40155.96505266354,40166.079150804464,40178.43982382237,40189.85314598855,40201.09955395472,40212.679790320886,40227.55319869085,40241.61910324189,40253.47903366905,40268.24417337024,40283.37923102769,40294.5173703251,40302.975860075065,40314.565118825674,40327.886676281225,40337.2338713517,40347.42917099421,40359.388347696455,40370.03476679217,40383.81195489315,40399.80865070392,40411.43851020763,40417.691025829095,40426.54198950104,40440.02594995975,40450.98364147587,40462.34282930766,40475.24935686626,40484.36196982107,40491.90017588186,40500.16017307242,40513.96893953282,40532.347546056524,40544.843554910396,40550.5231488286,40558.48991837226,40572.51973336704,40585.16010044593,40593.62310138812,40601.256042536406,40612.380648252525,40626.1443027676,40634.12460589717,40640.36358793273,40652.079160134854,40663.948112946455,40669.87131136939,40672.59156166993,40679.87714084155,40693.34305651751,40709.425465026696,40728.07474322233,40741.70306190144,40745.668401897456,40753.15247362387,40767.55671776712,40778.636211537916,40781.73991337599,40787.117257258236,40799.87491539496,40814.00848786167,40825.999242927945,40832.39160558222,40835.70733356099,40844.75678979235,40858.5430002824,40871.070587500304,40884.25229792305,40895.76937756115,40905.567692084835,40915.85321561798,40924.60944420707,40933.487475046204,40943.14143134486,40951.25255911355,40960.86591465911,40972.360438326854,40981.2520027519,40986.94513025139,40994.92543337634,41011.60783075598]}},\"id\":\"8bfa5fee-f5fb-4a80-936a-3bca74aafd1d\",\"type\":\"ColumnDataSource\"},{\"attributes\":{\"line_width\":{\"value\":3},\"x\":{\"field\":\"x\"},\"y\":{\"field\":\"y\"}},\"id\":\"ccad3431-4870-4543-8ef0-a45c566fb759\",\"type\":\"Line\"},{\"attributes\":{},\"id\":\"434b604e-6917-4063-b0f6-8b638bac5a01\",\"type\":\"BasicTickFormatter\"},{\"attributes\":{\"axis_label\":\"E.XX\",\"formatter\":{\"id\":\"1fab9692-913e-49bc-a98a-13b3102fbbe0\",\"type\":\"BasicTickFormatter\"},\"plot\":{\"id\":\"72705c99-dc98-4db3-ba65-11817ecdbffc\",\"subtype\":\"Figure\",\"type\":\"Plot\"},\"ticker\":{\"id\":\"2c166fa9-3612-49db-9467-659577087723\",\"type\":\"BasicTicker\"}},\"id\":\"40770501-2bef-44d9-a374-2d5b4b11a8df\",\"type\":\"LinearAxis\"},{\"attributes\":{\"line_alpha\":{\"value\":0.1},\"line_color\":{\"value\":\"#1f77b4\"},\"line_width\":{\"value\":3},\"x\":{\"field\":\"x\"},\"y\":{\"field\":\"y\"}},\"id\":\"53131f4a-4583-40c7-9a65-9a3d762f857f\",\"type\":\"Line\"},{\"attributes\":{\"overlay\":{\"id\":\"ce5faff5-8e8e-42e2-b5f4-90fdc2d15aaf\",\"type\":\"BoxAnnotation\"},\"plot\":{\"id\":\"72705c99-dc98-4db3-ba65-11817ecdbffc\",\"subtype\":\"Figure\",\"type\":\"Plot\"}},\"id\":\"acacbde8-4b31-48d2-987c-0a840ee3fc4c\",\"type\":\"BoxZoomTool\"},{\"attributes\":{\"data_source\":{\"id\":\"8bfa5fee-f5fb-4a80-936a-3bca74aafd1d\",\"type\":\"ColumnDataSource\"},\"glyph\":{\"id\":\"53a32fe4-f0fd-4093-a98a-3e8e9e3500c3\",\"type\":\"X\"},\"hover_glyph\":null,\"nonselection_glyph\":{\"id\":\"5f9d9b2f-f197-42d5-bf81-80be15b76dea\",\"type\":\"X\"},\"selection_glyph\":null},\"id\":\"adef3cca-d8c0-4972-8e59-9d9e97d0866f\",\"type\":\"GlyphRenderer\"},{\"attributes\":{},\"id\":\"5e5706c4-df9c-4edc-a4d7-be76731a9df2\",\"type\":\"BasicTicker\"},{\"attributes\":{\"callback\":null},\"id\":\"fcb52724-441b-4cea-9271-7f0032790432\",\"type\":\"DataRange1d\"},{\"attributes\":{\"plot\":{\"id\":\"72705c99-dc98-4db3-ba65-11817ecdbffc\",\"subtype\":\"Figure\",\"type\":\"Plot\"}},\"id\":\"de404c18-babe-4de0-879f-4a85dbf1d5ff\",\"type\":\"ResetTool\"},{\"attributes\":{},\"id\":\"1fab9692-913e-49bc-a98a-13b3102fbbe0\",\"type\":\"BasicTickFormatter\"},{\"attributes\":{\"data_source\":{\"id\":\"d5613f5f-a5b2-4f1b-ae40-2cde12bd0027\",\"type\":\"ColumnDataSource\"},\"glyph\":{\"id\":\"ccad3431-4870-4543-8ef0-a45c566fb759\",\"type\":\"Line\"},\"hover_glyph\":null,\"nonselection_glyph\":{\"id\":\"53131f4a-4583-40c7-9a65-9a3d762f857f\",\"type\":\"Line\"},\"selection_glyph\":null},\"id\":\"f7597f1e-8398-40aa-9940-0a970bbf7d00\",\"type\":\"GlyphRenderer\"},{\"attributes\":{\"plot\":{\"id\":\"72705c99-dc98-4db3-ba65-11817ecdbffc\",\"subtype\":\"Figure\",\"type\":\"Plot\"}},\"id\":\"8ec206cb-7b39-4f7d-8b05-670a6387e86b\",\"type\":\"SaveTool\"},{\"attributes\":{},\"id\":\"2c166fa9-3612-49db-9467-659577087723\",\"type\":\"BasicTicker\"},{\"attributes\":{\"legends\":[[\"Experimental data\",[{\"id\":\"adef3cca-d8c0-4972-8e59-9d9e97d0866f\",\"type\":\"GlyphRenderer\"}]],[\"Simulation\",[{\"id\":\"f7597f1e-8398-40aa-9940-0a970bbf7d00\",\"type\":\"GlyphRenderer\"}]]],\"plot\":{\"id\":\"72705c99-dc98-4db3-ba65-11817ecdbffc\",\"subtype\":\"Figure\",\"type\":\"Plot\"}},\"id\":\"d920640b-c004-4ed1-955f-2def33e14ab7\",\"type\":\"Legend\"},{\"attributes\":{},\"id\":\"15fa05cb-8747-4322-983b-ef2279110659\",\"type\":\"ToolEvents\"},{\"attributes\":{\"callback\":null,\"column_names\":[\"y\",\"x\"],\"data\":{\"x\":[0.0,0.0013446347732611133,0.0028903164501442686,0.00406157817989972,0.005373129031050132,0.006666573809984342,0.007954471495761116,0.00924393867624283,0.010530671668620015,0.011811674852203477,0.013102609143796733,0.014385244080110606,0.015486052922629735,0.017160719563997513,0.018354402411998434,0.019620957215446745,0.0209105723424758,0.02217580834337035,0.023447715713307546,0.02471207801715965,0.025986263177797644,0.02724762983961353,0.028513107730841206,0.029774665149352744,0.031036319026908652,0.032287761827313896,0.03354877004411539,0.03479959314400832,0.03605492697488148,0.03730868725091086],\"y\":[0.0,2996.139342201309,6440.2550044771415,9050.081418548023,11972.502571541869,14854.579449362664,17724.2961946223,20597.510116160847,23464.631670677612,26318.985962372124,29195.468927228663,32053.45911965217,34506.30114553229,38237.82342135832,39597.478944925635,39695.794905164235,39795.90091653218,39894.11450509363,39992.84595679986,40090.991724874235,40189.899989442696,40287.813221646924,40386.04558687743,40483.973626516476,40581.909153761684,40679.05204901626,40776.937457027096,40874.03224820376,40971.47718360354,41068.79997225135]}},\"id\":\"d5613f5f-a5b2-4f1b-ae40-2cde12bd0027\",\"type\":\"ColumnDataSource\"}],\"root_ids\":[\"72705c99-dc98-4db3-ba65-11817ecdbffc\"]},\"title\":\"Bokeh Application\",\"version\":\"0.12.2\"}};\n",
       "            var render_items = [{\"docid\":\"8e5cc9a4-c1e4-4696-bc13-0875052c33f1\",\"elementid\":\"77603f58-812f-4b66-b546-678b11959b18\",\"modelid\":\"72705c99-dc98-4db3-ba65-11817ecdbffc\"}];\n",
       "            \n",
       "            Bokeh.embed.embed_items(docs_json, render_items);\n",
       "        });\n",
       "      },\n",
       "      function(Bokeh) {\n",
       "      }\n",
       "    ];\n",
       "  \n",
       "    function run_inline_js() {\n",
       "      \n",
       "      if ((window.Bokeh !== undefined) || (force === \"1\")) {\n",
       "        for (var i = 0; i < inline_js.length; i++) {\n",
       "          inline_js[i](window.Bokeh);\n",
       "        }if (force === \"1\") {\n",
       "          display_loaded();\n",
       "        }} else if (Date.now() < window._bokeh_timeout) {\n",
       "        setTimeout(run_inline_js, 100);\n",
       "      } else if (!window._bokeh_failed_load) {\n",
       "        console.log(\"Bokeh: BokehJS failed to load within specified timeout.\");\n",
       "        window._bokeh_failed_load = true;\n",
       "      } else if (!force) {\n",
       "        var cell = $(\"#77603f58-812f-4b66-b546-678b11959b18\").parents('.cell').data().cell;\n",
       "        cell.output_area.append_execute_result(NB_LOAD_WARNING)\n",
       "      }\n",
       "  \n",
       "    }\n",
       "  \n",
       "    if (window._bokeh_is_loading === 0) {\n",
       "      console.log(\"Bokeh: BokehJS loaded, going straight to plotting\");\n",
       "      run_inline_js();\n",
       "    } else {\n",
       "      load_libs(js_urls, function() {\n",
       "        console.log(\"Bokeh: BokehJS plotting callback run at\", now());\n",
       "        run_inline_js();\n",
       "      });\n",
       "    }\n",
       "  }(this));\n",
       "</script>"
      ]
     },
     "metadata": {},
     "output_type": "display_data"
    }
   ],
   "source": [
    "mps = runjob('Optimized', optimizer.names, optimizer.xopt)\n",
    "plot = create_figure(bokeh=True, x_axis_label='E.XX', y_axis_label='S.XX')\n",
    "plot.scatter(df['E.XX'], df['S.XX'], marker='x', color='red', legend='Experimental data')\n",
    "plot.line(mps.df['E.XX'], mps.df['S.XX'], legend='Simulation', color='black', line_width=3)\n",
    "show(plot)"
   ]
  }
 ],
 "metadata": {
  "anaconda-cloud": {},
  "kernelspec": {
   "display_name": "Python [default]",
   "language": "python",
   "name": "python3"
  },
  "language_info": {
   "codemirror_mode": {
    "name": "ipython",
    "version": 3
   },
   "file_extension": ".py",
   "mimetype": "text/x-python",
   "name": "python",
   "nbconvert_exporter": "python",
   "pygments_lexer": "ipython3",
   "version": "3.5.2"
  }
 },
 "nbformat": 4,
 "nbformat_minor": 0
}
