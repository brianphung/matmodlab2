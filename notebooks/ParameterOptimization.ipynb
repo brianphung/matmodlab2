{
 "cells": [
  {
   "cell_type": "markdown",
   "metadata": {},
   "source": [
    "# Material Parameter Optimization\n",
    "\n",
    "In the following example, optimized values of Young's modulus, yield strength, and linear hardening parameters for a linear hardening Von Mises material model are determined using data from a standard uniaxial tension test. The data represents the response of Aluminum, alloy unkown.\n",
    "\n",
    "The strategy is to read read data from an excel file and use the axial strain to drive the simulation. Optimization is performed by minimizing the area between the stress-strain curve calculated and the measured stress-strain curve."
   ]
  },
  {
   "cell_type": "markdown",
   "metadata": {},
   "source": [
    "<a name='contents'></a>\n",
    "## Contents\n"
   ]
  },
  {
   "cell_type": "code",
   "execution_count": 1,
   "metadata": {
    "collapsed": false
   },
   "outputs": [
    {
     "name": "stdout",
     "output_type": "stream",
     "text": [
      "Setting up the Matmodlab notebook environment\n"
     ]
    },
    {
     "data": {
      "text/html": [
       "\n",
       "    <div class=\"bk-root\">\n",
       "        <a href=\"http://bokeh.pydata.org\" target=\"_blank\" class=\"bk-logo bk-logo-small bk-logo-notebook\"></a>\n",
       "        <span id=\"c7a48670-47e2-4fe2-bc14-80155d9a28e8\">Loading BokehJS ...</span>\n",
       "    </div>"
      ]
     },
     "metadata": {},
     "output_type": "display_data"
    },
    {
     "data": {
      "application/javascript": [
       "\n",
       "(function(global) {\n",
       "  function now() {\n",
       "    return new Date();\n",
       "  }\n",
       "\n",
       "  var force = true;\n",
       "\n",
       "  if (typeof (window._bokeh_onload_callbacks) === \"undefined\" || force === true) {\n",
       "    window._bokeh_onload_callbacks = [];\n",
       "    window._bokeh_is_loading = undefined;\n",
       "  }\n",
       "\n",
       "\n",
       "  \n",
       "  if (typeof (window._bokeh_timeout) === \"undefined\" || force === true) {\n",
       "    window._bokeh_timeout = Date.now() + 5000;\n",
       "    window._bokeh_failed_load = false;\n",
       "  }\n",
       "\n",
       "  var NB_LOAD_WARNING = {'data': {'text/html':\n",
       "     \"<div style='background-color: #fdd'>\\n\"+\n",
       "     \"<p>\\n\"+\n",
       "     \"BokehJS does not appear to have successfully loaded. If loading BokehJS from CDN, this \\n\"+\n",
       "     \"may be due to a slow or bad network connection. Possible fixes:\\n\"+\n",
       "     \"</p>\\n\"+\n",
       "     \"<ul>\\n\"+\n",
       "     \"<li>re-rerun `output_notebook()` to attempt to load from CDN again, or</li>\\n\"+\n",
       "     \"<li>use INLINE resources instead, as so:</li>\\n\"+\n",
       "     \"</ul>\\n\"+\n",
       "     \"<code>\\n\"+\n",
       "     \"from bokeh.resources import INLINE\\n\"+\n",
       "     \"output_notebook(resources=INLINE)\\n\"+\n",
       "     \"</code>\\n\"+\n",
       "     \"</div>\"}};\n",
       "\n",
       "  function display_loaded() {\n",
       "    if (window.Bokeh !== undefined) {\n",
       "      document.getElementById(\"c7a48670-47e2-4fe2-bc14-80155d9a28e8\").textContent = \"BokehJS successfully loaded.\";\n",
       "    } else if (Date.now() < window._bokeh_timeout) {\n",
       "      setTimeout(display_loaded, 100)\n",
       "    }\n",
       "  }\n",
       "\n",
       "  function run_callbacks() {\n",
       "    window._bokeh_onload_callbacks.forEach(function(callback) { callback() });\n",
       "    delete window._bokeh_onload_callbacks\n",
       "    console.info(\"Bokeh: all callbacks have finished\");\n",
       "  }\n",
       "\n",
       "  function load_libs(js_urls, callback) {\n",
       "    window._bokeh_onload_callbacks.push(callback);\n",
       "    if (window._bokeh_is_loading > 0) {\n",
       "      console.log(\"Bokeh: BokehJS is being loaded, scheduling callback at\", now());\n",
       "      return null;\n",
       "    }\n",
       "    if (js_urls == null || js_urls.length === 0) {\n",
       "      run_callbacks();\n",
       "      return null;\n",
       "    }\n",
       "    console.log(\"Bokeh: BokehJS not loaded, scheduling load and callback at\", now());\n",
       "    window._bokeh_is_loading = js_urls.length;\n",
       "    for (var i = 0; i < js_urls.length; i++) {\n",
       "      var url = js_urls[i];\n",
       "      var s = document.createElement('script');\n",
       "      s.src = url;\n",
       "      s.async = false;\n",
       "      s.onreadystatechange = s.onload = function() {\n",
       "        window._bokeh_is_loading--;\n",
       "        if (window._bokeh_is_loading === 0) {\n",
       "          console.log(\"Bokeh: all BokehJS libraries loaded\");\n",
       "          run_callbacks()\n",
       "        }\n",
       "      };\n",
       "      s.onerror = function() {\n",
       "        console.warn(\"failed to load library \" + url);\n",
       "      };\n",
       "      console.log(\"Bokeh: injecting script tag for BokehJS library: \", url);\n",
       "      document.getElementsByTagName(\"head\")[0].appendChild(s);\n",
       "    }\n",
       "  };var element = document.getElementById(\"c7a48670-47e2-4fe2-bc14-80155d9a28e8\");\n",
       "  if (element == null) {\n",
       "    console.log(\"Bokeh: ERROR: autoload.js configured with elementid 'c7a48670-47e2-4fe2-bc14-80155d9a28e8' but no matching script tag was found. \")\n",
       "    return false;\n",
       "  }\n",
       "\n",
       "  var js_urls = [\"https://cdn.pydata.org/bokeh/release/bokeh-0.12.4.min.js\", \"https://cdn.pydata.org/bokeh/release/bokeh-widgets-0.12.4.min.js\"];\n",
       "\n",
       "  var inline_js = [\n",
       "    function(Bokeh) {\n",
       "      Bokeh.set_log_level(\"info\");\n",
       "    },\n",
       "    \n",
       "    function(Bokeh) {\n",
       "      \n",
       "      document.getElementById(\"c7a48670-47e2-4fe2-bc14-80155d9a28e8\").textContent = \"BokehJS is loading...\";\n",
       "    },\n",
       "    function(Bokeh) {\n",
       "      console.log(\"Bokeh: injecting CSS: https://cdn.pydata.org/bokeh/release/bokeh-0.12.4.min.css\");\n",
       "      Bokeh.embed.inject_css(\"https://cdn.pydata.org/bokeh/release/bokeh-0.12.4.min.css\");\n",
       "      console.log(\"Bokeh: injecting CSS: https://cdn.pydata.org/bokeh/release/bokeh-widgets-0.12.4.min.css\");\n",
       "      Bokeh.embed.inject_css(\"https://cdn.pydata.org/bokeh/release/bokeh-widgets-0.12.4.min.css\");\n",
       "    }\n",
       "  ];\n",
       "\n",
       "  function run_inline_js() {\n",
       "    \n",
       "    if ((window.Bokeh !== undefined) || (force === true)) {\n",
       "      for (var i = 0; i < inline_js.length; i++) {\n",
       "        inline_js[i](window.Bokeh);\n",
       "      }if (force === true) {\n",
       "        display_loaded();\n",
       "      }} else if (Date.now() < window._bokeh_timeout) {\n",
       "      setTimeout(run_inline_js, 100);\n",
       "    } else if (!window._bokeh_failed_load) {\n",
       "      console.log(\"Bokeh: BokehJS failed to load within specified timeout.\");\n",
       "      window._bokeh_failed_load = true;\n",
       "    } else if (force !== true) {\n",
       "      var cell = $(document.getElementById(\"c7a48670-47e2-4fe2-bc14-80155d9a28e8\")).parents('.cell').data().cell;\n",
       "      cell.output_area.append_execute_result(NB_LOAD_WARNING)\n",
       "    }\n",
       "\n",
       "  }\n",
       "\n",
       "  if (window._bokeh_is_loading === 0) {\n",
       "    console.log(\"Bokeh: BokehJS loaded, going straight to plotting\");\n",
       "    run_inline_js();\n",
       "  } else {\n",
       "    load_libs(js_urls, function() {\n",
       "      console.log(\"Bokeh: BokehJS plotting callback run at\", now());\n",
       "      run_inline_js();\n",
       "    });\n",
       "  }\n",
       "}(this));"
      ]
     },
     "metadata": {},
     "output_type": "display_data"
    }
   ],
   "source": [
    "from bokeh.io import output_notebook\n",
    "from bokeh.plotting import *\n",
    "import sys\n",
    "import os\n",
    "from matmodlab2 import *\n",
    "from numpy import *\n",
    "import numpy as np\n",
    "from matmodlab2.optimize import Optimizer, OptimizeVariable\n",
    "from matmodlab2.optimize.numerix import calculate_bounded_area, interp_rms_error\n",
    "from plotting_helpers import create_figure\n",
    "from pandas import read_excel\n",
    "output_notebook()"
   ]
  },
  {
   "cell_type": "code",
   "execution_count": 2,
   "metadata": {
    "collapsed": false
   },
   "outputs": [],
   "source": [
    "# get the experimental stress and strain\n",
    "filename = os.path.join(_dh[0], 'aldat.xls')\n",
    "assert os.path.isfile(filename)\n",
    "df = read_excel(filename, sheetname='MML')"
   ]
  },
  {
   "cell_type": "markdown",
   "metadata": {},
   "source": [
    "## Create data to use as steps"
   ]
  },
  {
   "cell_type": "code",
   "execution_count": 3,
   "metadata": {
    "collapsed": false
   },
   "outputs": [],
   "source": [
    "num_step = 30\n",
    "# Interpolate the steps\n",
    "fun = lambda t: np.interp(t, df['TIME'], df['E.XX'])\n",
    "timespace = np.linspace(df['TIME'].iloc[0], df['TIME'].iloc[-1], num_step)\n",
    "components = []\n",
    "for i in range(num_step):\n",
    "    time = timespace[i]\n",
    "    components.append([fun(time), 0., 0.])"
   ]
  },
  {
   "cell_type": "code",
   "execution_count": 4,
   "metadata": {
    "collapsed": true
   },
   "outputs": [],
   "source": [
    "def runjob(jobid, names, x):\n",
    "    \"\"\"Run a specific MaterialPointSimulator job for parameters in x\"\"\"\n",
    "    xp = dict(zip(names, x))\n",
    "    NU = 0.32  # poisson's ratio for aluminum\n",
    "    parameters = {'K': xp['E']/3.0/(1.0-2.0*NU), \n",
    "                  'G': xp['E']/2.0/(1.0+NU),\n",
    "                  'Y0': xp['Y0'], \n",
    "                  'H': xp['H'], \n",
    "                  'BETA': 0.0}\n",
    "    mps = MaterialPointSimulator(jobid)\n",
    "    mps.material = VonMisesMaterial(**parameters)\n",
    "    for (i, item) in enumerate(components[1:], start=1):\n",
    "        mps.run_step('ESS', item, increment=timespace[i])\n",
    "    return mps"
   ]
  },
  {
   "cell_type": "code",
   "execution_count": 5,
   "metadata": {
    "collapsed": true
   },
   "outputs": [],
   "source": [
    "def func(x, names, evald, job, *args):\n",
    "    \"\"\"The objective function\"\"\"\n",
    "    \n",
    "    try:\n",
    "        mps = runjob(job, names, x)\n",
    "        failed = not mps.ran\n",
    "    except:\n",
    "        failed = True\n",
    "    if failed:\n",
    "        return 1.0e9\n",
    "    #error = calculate_bounded_area(df['E.XX'], df['S.XX'], \n",
    "    #                               mps.df['E.XX'], mps.df['S.XX'])\n",
    "    error = interp_rms_error(df['E.XX'], df['S.XX'], \n",
    "                                   mps.df['E.XX'], mps.df['S.XX'])\n",
    "    return error"
   ]
  },
  {
   "cell_type": "code",
   "execution_count": 6,
   "metadata": {
    "collapsed": false
   },
   "outputs": [
    {
     "name": "stdout",
     "output_type": "stream",
     "text": [
      "Running job 75\n",
      "Done\n"
     ]
    }
   ],
   "source": [
    "# set the variables to be optimized\n",
    "E = OptimizeVariable('E',  2.0e6)\n",
    "Y0= OptimizeVariable('Y0', 0.5e5)\n",
    "H = OptimizeVariable('H',  1.0e5)\n",
    "xinit = [E, Y0, H]\n",
    "\n",
    "# the optimzer object\n",
    "optimizer = Optimizer('optimize', func, xinit, method='simplex',\n",
    "                      maxiter=200, tolerance=1.e-2)\n",
    "\n",
    "# run the job\n",
    "optimizer.run()"
   ]
  },
  {
   "cell_type": "code",
   "execution_count": 7,
   "metadata": {
    "collapsed": false
   },
   "outputs": [
    {
     "name": "stdout",
     "output_type": "stream",
     "text": [
      "{'E': 2190878.6393605373, 'Y0': 39355.851432065654, 'H': 99568.020305288082}\n"
     ]
    },
    {
     "data": {
      "text/html": [
       "\n",
       "\n",
       "    <div class=\"bk-root\">\n",
       "        <div class=\"bk-plotdiv\" id=\"920542f6-81fa-43bb-aa9b-a8ad41427554\"></div>\n",
       "    </div>\n",
       "<script type=\"text/javascript\">\n",
       "  \n",
       "  (function(global) {\n",
       "    function now() {\n",
       "      return new Date();\n",
       "    }\n",
       "  \n",
       "    var force = false;\n",
       "  \n",
       "    if (typeof (window._bokeh_onload_callbacks) === \"undefined\" || force === true) {\n",
       "      window._bokeh_onload_callbacks = [];\n",
       "      window._bokeh_is_loading = undefined;\n",
       "    }\n",
       "  \n",
       "  \n",
       "    \n",
       "    if (typeof (window._bokeh_timeout) === \"undefined\" || force === true) {\n",
       "      window._bokeh_timeout = Date.now() + 0;\n",
       "      window._bokeh_failed_load = false;\n",
       "    }\n",
       "  \n",
       "    var NB_LOAD_WARNING = {'data': {'text/html':\n",
       "       \"<div style='background-color: #fdd'>\\n\"+\n",
       "       \"<p>\\n\"+\n",
       "       \"BokehJS does not appear to have successfully loaded. If loading BokehJS from CDN, this \\n\"+\n",
       "       \"may be due to a slow or bad network connection. Possible fixes:\\n\"+\n",
       "       \"</p>\\n\"+\n",
       "       \"<ul>\\n\"+\n",
       "       \"<li>re-rerun `output_notebook()` to attempt to load from CDN again, or</li>\\n\"+\n",
       "       \"<li>use INLINE resources instead, as so:</li>\\n\"+\n",
       "       \"</ul>\\n\"+\n",
       "       \"<code>\\n\"+\n",
       "       \"from bokeh.resources import INLINE\\n\"+\n",
       "       \"output_notebook(resources=INLINE)\\n\"+\n",
       "       \"</code>\\n\"+\n",
       "       \"</div>\"}};\n",
       "  \n",
       "    function display_loaded() {\n",
       "      if (window.Bokeh !== undefined) {\n",
       "        document.getElementById(\"920542f6-81fa-43bb-aa9b-a8ad41427554\").textContent = \"BokehJS successfully loaded.\";\n",
       "      } else if (Date.now() < window._bokeh_timeout) {\n",
       "        setTimeout(display_loaded, 100)\n",
       "      }\n",
       "    }\n",
       "  \n",
       "    function run_callbacks() {\n",
       "      window._bokeh_onload_callbacks.forEach(function(callback) { callback() });\n",
       "      delete window._bokeh_onload_callbacks\n",
       "      console.info(\"Bokeh: all callbacks have finished\");\n",
       "    }\n",
       "  \n",
       "    function load_libs(js_urls, callback) {\n",
       "      window._bokeh_onload_callbacks.push(callback);\n",
       "      if (window._bokeh_is_loading > 0) {\n",
       "        console.log(\"Bokeh: BokehJS is being loaded, scheduling callback at\", now());\n",
       "        return null;\n",
       "      }\n",
       "      if (js_urls == null || js_urls.length === 0) {\n",
       "        run_callbacks();\n",
       "        return null;\n",
       "      }\n",
       "      console.log(\"Bokeh: BokehJS not loaded, scheduling load and callback at\", now());\n",
       "      window._bokeh_is_loading = js_urls.length;\n",
       "      for (var i = 0; i < js_urls.length; i++) {\n",
       "        var url = js_urls[i];\n",
       "        var s = document.createElement('script');\n",
       "        s.src = url;\n",
       "        s.async = false;\n",
       "        s.onreadystatechange = s.onload = function() {\n",
       "          window._bokeh_is_loading--;\n",
       "          if (window._bokeh_is_loading === 0) {\n",
       "            console.log(\"Bokeh: all BokehJS libraries loaded\");\n",
       "            run_callbacks()\n",
       "          }\n",
       "        };\n",
       "        s.onerror = function() {\n",
       "          console.warn(\"failed to load library \" + url);\n",
       "        };\n",
       "        console.log(\"Bokeh: injecting script tag for BokehJS library: \", url);\n",
       "        document.getElementsByTagName(\"head\")[0].appendChild(s);\n",
       "      }\n",
       "    };var element = document.getElementById(\"920542f6-81fa-43bb-aa9b-a8ad41427554\");\n",
       "    if (element == null) {\n",
       "      console.log(\"Bokeh: ERROR: autoload.js configured with elementid '920542f6-81fa-43bb-aa9b-a8ad41427554' but no matching script tag was found. \")\n",
       "      return false;\n",
       "    }\n",
       "  \n",
       "    var js_urls = [];\n",
       "  \n",
       "    var inline_js = [\n",
       "      function(Bokeh) {\n",
       "        (function() {\n",
       "          var fn = function() {\n",
       "            var docs_json = {\"3a8df9a2-01c6-4d09-9866-441c8d499e4b\":{\"roots\":{\"references\":[{\"attributes\":{\"plot\":{\"id\":\"10da7719-4198-4230-a710-eeb0a5095d59\",\"subtype\":\"Figure\",\"type\":\"Plot\"},\"ticker\":{\"id\":\"af79469d-ea99-407f-9982-a99fc5581dcc\",\"type\":\"BasicTicker\"}},\"id\":\"f06186e2-1770-4ccd-9b61-efb096659af6\",\"type\":\"Grid\"},{\"attributes\":{\"callback\":null,\"column_names\":[\"x\",\"y\"],\"data\":{\"x\":{\"__ndarray__\":\"AAAAAAAAAAClABSYzgdWPxZZHNRurWc/hLw+l9+icD/44nJXIgJ2P2QT2MdoTns/fzdzF29KgD920WdyfO6CPxKDX9MakYU/hQ6cKbgwiD8ceB5uitWKP+HR88YCdo0/h0nG1ia3jz8yeTZllJKRPxJ9Yxh/y5I/muo5JoQXlD90A2jBlGmVP5B4Y05BtZY/TEWekK0CmD+1f5l7H06ZP0e++ZkknJo/Lfc3fM3mmz/RW9hEijKdP5RmQ/Q/fZ4/ac7VHPzHnz/G/DeCBYigPxEtUuxNLaE/GGzvlEDRoT9W/m6YynWiP5HeMs8fGqM/\",\"dtype\":\"float64\",\"shape\":[30]},\"y\":{\"__ndarray__\":\"AAAAAAAAAADWCQD73AOnQFzLaSNVvLhA5dxZYjZhwUCzOM3S7/3GQJsoc7vThsxAx9wqB9IE0UBeNy5CFsfTQJENihzbh9ZAd6lfjXxF2UDKo9x+jgjcQGB0CrwUx95AKdp1AAKR4EAJ7si5oVviQBt1VpUiPONAzTv3nzZL40DiaVfykFrjQHD0CPigaeNAGTTBUsV440D/YMmu0ofjQAyapfr9luNAx9R3NQKm40BypOL3ErXjQJwciccXxONACo1x4hzT40Bf3aHeAuLjQDUcywEG8eNAFlN9Gur/40Daanny2w7kQDUPxP7IHeRA\",\"dtype\":\"float64\",\"shape\":[30]}}},\"id\":\"0badc5ed-fd3a-4f75-a4b2-c207e41abbf0\",\"type\":\"ColumnDataSource\"},{\"attributes\":{\"axis_label\":\"E.XX\",\"formatter\":{\"id\":\"1a606680-770f-4682-8997-b019c5b2079c\",\"type\":\"BasicTickFormatter\"},\"plot\":{\"id\":\"10da7719-4198-4230-a710-eeb0a5095d59\",\"subtype\":\"Figure\",\"type\":\"Plot\"},\"ticker\":{\"id\":\"af79469d-ea99-407f-9982-a99fc5581dcc\",\"type\":\"BasicTicker\"}},\"id\":\"eefc8615-6282-41c3-85dd-8031a9af4c0a\",\"type\":\"LinearAxis\"},{\"attributes\":{},\"id\":\"af79469d-ea99-407f-9982-a99fc5581dcc\",\"type\":\"BasicTicker\"},{\"attributes\":{\"callback\":null},\"id\":\"2b42bd4f-6cd4-41c6-859a-961c32a8a2ba\",\"type\":\"DataRange1d\"},{\"attributes\":{\"line_width\":{\"value\":3},\"x\":{\"field\":\"x\"},\"y\":{\"field\":\"y\"}},\"id\":\"a662f713-a059-40d3-8b9e-c514e408e7a4\",\"type\":\"Line\"},{\"attributes\":{\"data_source\":{\"id\":\"e01db9ea-4ae5-4358-8cca-448e0602a0f2\",\"type\":\"ColumnDataSource\"},\"glyph\":{\"id\":\"cd1e1b55-e15b-47b2-98da-81b7878428f3\",\"type\":\"X\"},\"hover_glyph\":null,\"nonselection_glyph\":{\"id\":\"dbfd7fdb-4dfb-4a09-9688-47c458a1df87\",\"type\":\"X\"},\"selection_glyph\":null},\"id\":\"5b0dacd1-c0ba-46b6-9f67-5d835369cd05\",\"type\":\"GlyphRenderer\"},{\"attributes\":{\"axis_label\":\"S.XX\",\"formatter\":{\"id\":\"42344b81-6906-4a5b-a409-7da929457dce\",\"type\":\"BasicTickFormatter\"},\"plot\":{\"id\":\"10da7719-4198-4230-a710-eeb0a5095d59\",\"subtype\":\"Figure\",\"type\":\"Plot\"},\"ticker\":{\"id\":\"019906bb-a0d7-456f-9d59-5295f87427f9\",\"type\":\"BasicTicker\"}},\"id\":\"405b572d-1df1-46a4-907e-ce538b08a461\",\"type\":\"LinearAxis\"},{\"attributes\":{\"callback\":null,\"column_names\":[\"x\",\"y\"],\"data\":{\"x\":{\"__ndarray__\":\"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\",\"dtype\":\"float64\",\"shape\":[236]},\"y\":{\"__ndarray__\":\"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\",\"dtype\":\"float64\",\"shape\":[236]}}},\"id\":\"e01db9ea-4ae5-4358-8cca-448e0602a0f2\",\"type\":\"ColumnDataSource\"},{\"attributes\":{\"items\":[{\"id\":\"22dc6650-ab51-4a46-9a38-29a8e2ab8db8\",\"type\":\"LegendItem\"},{\"id\":\"9a00247f-af77-4a93-8a9e-1f6dbb8b0ffa\",\"type\":\"LegendItem\"}],\"plot\":{\"id\":\"10da7719-4198-4230-a710-eeb0a5095d59\",\"subtype\":\"Figure\",\"type\":\"Plot\"}},\"id\":\"d769de46-ed4a-452f-aa46-5cfeceb0983c\",\"type\":\"Legend\"},{\"attributes\":{\"label\":{\"value\":\"Simulation\"},\"renderers\":[{\"id\":\"4ef38775-ca3a-4e81-b73f-98d9b76dca03\",\"type\":\"GlyphRenderer\"}]},\"id\":\"9a00247f-af77-4a93-8a9e-1f6dbb8b0ffa\",\"type\":\"LegendItem\"},{\"attributes\":{\"line_alpha\":{\"value\":0.1},\"line_color\":{\"value\":\"#1f77b4\"},\"line_width\":{\"value\":3},\"x\":{\"field\":\"x\"},\"y\":{\"field\":\"y\"}},\"id\":\"d9843f90-451c-48fa-9788-7e9aa13761af\",\"type\":\"Line\"},{\"attributes\":{\"below\":[{\"id\":\"eefc8615-6282-41c3-85dd-8031a9af4c0a\",\"type\":\"LinearAxis\"}],\"left\":[{\"id\":\"405b572d-1df1-46a4-907e-ce538b08a461\",\"type\":\"LinearAxis\"}],\"renderers\":[{\"id\":\"eefc8615-6282-41c3-85dd-8031a9af4c0a\",\"type\":\"LinearAxis\"},{\"id\":\"f06186e2-1770-4ccd-9b61-efb096659af6\",\"type\":\"Grid\"},{\"id\":\"405b572d-1df1-46a4-907e-ce538b08a461\",\"type\":\"LinearAxis\"},{\"id\":\"5d315e2c-832e-43c5-b10f-5c99e0957de7\",\"type\":\"Grid\"},{\"id\":\"da6c3106-ac47-42b2-8a1d-020f898f31da\",\"type\":\"BoxAnnotation\"},{\"id\":\"d769de46-ed4a-452f-aa46-5cfeceb0983c\",\"type\":\"Legend\"},{\"id\":\"5b0dacd1-c0ba-46b6-9f67-5d835369cd05\",\"type\":\"GlyphRenderer\"},{\"id\":\"4ef38775-ca3a-4e81-b73f-98d9b76dca03\",\"type\":\"GlyphRenderer\"}],\"title\":{\"id\":\"2e5a3fd6-90e7-4366-8d2d-d8174b981164\",\"type\":\"Title\"},\"tool_events\":{\"id\":\"85b0bb75-1a68-4e08-97c5-fba4a9cda9bd\",\"type\":\"ToolEvents\"},\"toolbar\":{\"id\":\"bdceca2c-ad82-4141-885e-a16ca6a46c8b\",\"type\":\"Toolbar\"},\"x_range\":{\"id\":\"eb0742ad-c9b1-4023-a783-d841b746cd1f\",\"type\":\"DataRange1d\"},\"y_range\":{\"id\":\"2b42bd4f-6cd4-41c6-859a-961c32a8a2ba\",\"type\":\"DataRange1d\"}},\"id\":\"10da7719-4198-4230-a710-eeb0a5095d59\",\"subtype\":\"Figure\",\"type\":\"Plot\"},{\"attributes\":{\"data_source\":{\"id\":\"0badc5ed-fd3a-4f75-a4b2-c207e41abbf0\",\"type\":\"ColumnDataSource\"},\"glyph\":{\"id\":\"a662f713-a059-40d3-8b9e-c514e408e7a4\",\"type\":\"Line\"},\"hover_glyph\":null,\"nonselection_glyph\":{\"id\":\"d9843f90-451c-48fa-9788-7e9aa13761af\",\"type\":\"Line\"},\"selection_glyph\":null},\"id\":\"4ef38775-ca3a-4e81-b73f-98d9b76dca03\",\"type\":\"GlyphRenderer\"},{\"attributes\":{\"callback\":null},\"id\":\"eb0742ad-c9b1-4023-a783-d841b746cd1f\",\"type\":\"DataRange1d\"},{\"attributes\":{\"active_drag\":\"auto\",\"active_scroll\":\"auto\",\"active_tap\":\"auto\",\"tools\":[{\"id\":\"573a171f-185e-419a-82b3-a936d3e85662\",\"type\":\"ResizeTool\"},{\"id\":\"b3e95405-29ff-4cd1-9b39-4fe9567ada74\",\"type\":\"PanTool\"},{\"id\":\"12140740-c46b-46ba-8509-38c50fce7586\",\"type\":\"WheelZoomTool\"},{\"id\":\"30e623a1-17a7-43d8-9a00-47fba915c1aa\",\"type\":\"BoxZoomTool\"},{\"id\":\"fcfe0f29-239d-4a65-b6cd-b0575eccfcbb\",\"type\":\"ResetTool\"},{\"id\":\"13f419bd-e75e-4078-b3a2-ecc9662feacb\",\"type\":\"SaveTool\"}]},\"id\":\"bdceca2c-ad82-4141-885e-a16ca6a46c8b\",\"type\":\"Toolbar\"},{\"attributes\":{},\"id\":\"85b0bb75-1a68-4e08-97c5-fba4a9cda9bd\",\"type\":\"ToolEvents\"},{\"attributes\":{},\"id\":\"019906bb-a0d7-456f-9d59-5295f87427f9\",\"type\":\"BasicTicker\"},{\"attributes\":{\"fill_alpha\":{\"value\":0.1},\"fill_color\":{\"value\":\"#1f77b4\"},\"line_alpha\":{\"value\":0.1},\"line_color\":{\"value\":\"#1f77b4\"},\"x\":{\"field\":\"x\"},\"y\":{\"field\":\"y\"}},\"id\":\"dbfd7fdb-4dfb-4a09-9688-47c458a1df87\",\"type\":\"X\"},{\"attributes\":{},\"id\":\"42344b81-6906-4a5b-a409-7da929457dce\",\"type\":\"BasicTickFormatter\"},{\"attributes\":{\"bottom_units\":\"screen\",\"fill_alpha\":{\"value\":0.5},\"fill_color\":{\"value\":\"lightgrey\"},\"left_units\":\"screen\",\"level\":\"overlay\",\"line_alpha\":{\"value\":1.0},\"line_color\":{\"value\":\"black\"},\"line_dash\":[4,4],\"line_width\":{\"value\":2},\"plot\":null,\"render_mode\":\"css\",\"right_units\":\"screen\",\"top_units\":\"screen\"},\"id\":\"da6c3106-ac47-42b2-8a1d-020f898f31da\",\"type\":\"BoxAnnotation\"},{\"attributes\":{},\"id\":\"1a606680-770f-4682-8997-b019c5b2079c\",\"type\":\"BasicTickFormatter\"},{\"attributes\":{\"plot\":{\"id\":\"10da7719-4198-4230-a710-eeb0a5095d59\",\"subtype\":\"Figure\",\"type\":\"Plot\"}},\"id\":\"13f419bd-e75e-4078-b3a2-ecc9662feacb\",\"type\":\"SaveTool\"},{\"attributes\":{\"plot\":{\"id\":\"10da7719-4198-4230-a710-eeb0a5095d59\",\"subtype\":\"Figure\",\"type\":\"Plot\"}},\"id\":\"fcfe0f29-239d-4a65-b6cd-b0575eccfcbb\",\"type\":\"ResetTool\"},{\"attributes\":{\"overlay\":{\"id\":\"da6c3106-ac47-42b2-8a1d-020f898f31da\",\"type\":\"BoxAnnotation\"},\"plot\":{\"id\":\"10da7719-4198-4230-a710-eeb0a5095d59\",\"subtype\":\"Figure\",\"type\":\"Plot\"}},\"id\":\"30e623a1-17a7-43d8-9a00-47fba915c1aa\",\"type\":\"BoxZoomTool\"},{\"attributes\":{\"plot\":{\"id\":\"10da7719-4198-4230-a710-eeb0a5095d59\",\"subtype\":\"Figure\",\"type\":\"Plot\"}},\"id\":\"12140740-c46b-46ba-8509-38c50fce7586\",\"type\":\"WheelZoomTool\"},{\"attributes\":{\"plot\":{\"id\":\"10da7719-4198-4230-a710-eeb0a5095d59\",\"subtype\":\"Figure\",\"type\":\"Plot\"}},\"id\":\"b3e95405-29ff-4cd1-9b39-4fe9567ada74\",\"type\":\"PanTool\"},{\"attributes\":{\"label\":{\"value\":\"Experimental data\"},\"renderers\":[{\"id\":\"5b0dacd1-c0ba-46b6-9f67-5d835369cd05\",\"type\":\"GlyphRenderer\"}]},\"id\":\"22dc6650-ab51-4a46-9a38-29a8e2ab8db8\",\"type\":\"LegendItem\"},{\"attributes\":{\"plot\":{\"id\":\"10da7719-4198-4230-a710-eeb0a5095d59\",\"subtype\":\"Figure\",\"type\":\"Plot\"}},\"id\":\"573a171f-185e-419a-82b3-a936d3e85662\",\"type\":\"ResizeTool\"},{\"attributes\":{\"plot\":null,\"text\":\"\"},\"id\":\"2e5a3fd6-90e7-4366-8d2d-d8174b981164\",\"type\":\"Title\"},{\"attributes\":{\"dimension\":1,\"plot\":{\"id\":\"10da7719-4198-4230-a710-eeb0a5095d59\",\"subtype\":\"Figure\",\"type\":\"Plot\"},\"ticker\":{\"id\":\"019906bb-a0d7-456f-9d59-5295f87427f9\",\"type\":\"BasicTicker\"}},\"id\":\"5d315e2c-832e-43c5-b10f-5c99e0957de7\",\"type\":\"Grid\"},{\"attributes\":{\"fill_color\":{\"value\":\"red\"},\"line_color\":{\"value\":\"red\"},\"x\":{\"field\":\"x\"},\"y\":{\"field\":\"y\"}},\"id\":\"cd1e1b55-e15b-47b2-98da-81b7878428f3\",\"type\":\"X\"}],\"root_ids\":[\"10da7719-4198-4230-a710-eeb0a5095d59\"]},\"title\":\"Bokeh Application\",\"version\":\"0.12.4\"}};\n",
       "            var render_items = [{\"docid\":\"3a8df9a2-01c6-4d09-9866-441c8d499e4b\",\"elementid\":\"920542f6-81fa-43bb-aa9b-a8ad41427554\",\"modelid\":\"10da7719-4198-4230-a710-eeb0a5095d59\"}];\n",
       "            \n",
       "            Bokeh.embed.embed_items(docs_json, render_items);\n",
       "          };\n",
       "          if (document.readyState != \"loading\") fn();\n",
       "          else document.addEventListener(\"DOMContentLoaded\", fn);\n",
       "        })();\n",
       "      },\n",
       "      function(Bokeh) {\n",
       "      }\n",
       "    ];\n",
       "  \n",
       "    function run_inline_js() {\n",
       "      \n",
       "      if ((window.Bokeh !== undefined) || (force === true)) {\n",
       "        for (var i = 0; i < inline_js.length; i++) {\n",
       "          inline_js[i](window.Bokeh);\n",
       "        }if (force === true) {\n",
       "          display_loaded();\n",
       "        }} else if (Date.now() < window._bokeh_timeout) {\n",
       "        setTimeout(run_inline_js, 100);\n",
       "      } else if (!window._bokeh_failed_load) {\n",
       "        console.log(\"Bokeh: BokehJS failed to load within specified timeout.\");\n",
       "        window._bokeh_failed_load = true;\n",
       "      } else if (force !== true) {\n",
       "        var cell = $(document.getElementById(\"920542f6-81fa-43bb-aa9b-a8ad41427554\")).parents('.cell').data().cell;\n",
       "        cell.output_area.append_execute_result(NB_LOAD_WARNING)\n",
       "      }\n",
       "  \n",
       "    }\n",
       "  \n",
       "    if (window._bokeh_is_loading === 0) {\n",
       "      console.log(\"Bokeh: BokehJS loaded, going straight to plotting\");\n",
       "      run_inline_js();\n",
       "    } else {\n",
       "      load_libs(js_urls, function() {\n",
       "        console.log(\"Bokeh: BokehJS plotting callback run at\", now());\n",
       "        run_inline_js();\n",
       "      });\n",
       "    }\n",
       "  }(this));\n",
       "</script>"
      ]
     },
     "metadata": {},
     "output_type": "display_data"
    }
   ],
   "source": [
    "print(dict(zip(optimizer.names, optimizer.xopt)))\n",
    "mps = runjob('Optimized', optimizer.names, optimizer.xopt)\n",
    "plot = create_figure(bokeh=True, x_axis_label='E.XX', y_axis_label='S.XX')\n",
    "plot.scatter(df['E.XX'], df['S.XX'], marker='x', color='red', legend='Experimental data')\n",
    "plot.line(mps.df['E.XX'], mps.df['S.XX'], legend='Simulation', color='black', line_width=3)\n",
    "show(plot)"
   ]
  },
  {
   "cell_type": "code",
   "execution_count": null,
   "metadata": {
    "collapsed": true
   },
   "outputs": [],
   "source": []
  }
 ],
 "metadata": {
  "anaconda-cloud": {},
  "kernelspec": {
   "display_name": "Python 3",
   "language": "python",
   "name": "python3"
  },
  "language_info": {
   "codemirror_mode": {
    "name": "ipython",
    "version": 3
   },
   "file_extension": ".py",
   "mimetype": "text/x-python",
   "name": "python",
   "nbconvert_exporter": "python",
   "pygments_lexer": "ipython3",
   "version": "3.6.0"
  }
 },
 "nbformat": 4,
 "nbformat_minor": 0
}
